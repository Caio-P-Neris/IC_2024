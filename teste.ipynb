{
 "cells": [
  {
   "cell_type": "code",
   "execution_count": 1,
   "id": "705a5db7",
   "metadata": {},
   "outputs": [
    {
     "name": "stderr",
     "output_type": "stream",
     "text": [
      "/home/caio/Documentos/ic24_repo/.venv/lib/python3.12/site-packages/tqdm/auto.py:21: TqdmWarning: IProgress not found. Please update jupyter and ipywidgets. See https://ipywidgets.readthedocs.io/en/stable/user_install.html\n",
      "  from .autonotebook import tqdm as notebook_tqdm\n"
     ]
    }
   ],
   "source": [
    "import sys\n",
    "import os\n",
    "import numpy as np\n",
    "import pandas as pd\n",
    "import yfinance as yf\n",
    "import scipy.optimize as scpopt\n",
    "from tqdm import tqdm\n",
    "from bcb import sgs\n",
    "from sklearn.ensemble import RandomForestRegressor\n",
    "from sklearn.linear_model import LinearRegression, Ridge, Lasso\n",
    "import google.generativeai as genai\n",
    "from datetime import datetime\n",
    "#from openai import OpenAI\n",
    "import plotly"
   ]
  },
  {
   "cell_type": "code",
   "execution_count": 2,
   "id": "83ea78ab",
   "metadata": {},
   "outputs": [],
   "source": [
    "#pip install google.generativeai"
   ]
  },
  {
   "cell_type": "code",
   "execution_count": 3,
   "id": "b3f0f460",
   "metadata": {},
   "outputs": [],
   "source": [
    "#pip install plotly"
   ]
  },
  {
   "cell_type": "markdown",
   "id": "f9854216",
   "metadata": {},
   "source": [
    "Períodos do modelo"
   ]
  },
  {
   "cell_type": "code",
   "execution_count": 4,
   "id": "a8124587",
   "metadata": {},
   "outputs": [],
   "source": [
    "data_inicio = '2012-01-01'\n",
    "data_fim = '2025-07-01'\n",
    "data_backtest = \"2022-07-01\" "
   ]
  },
  {
   "cell_type": "code",
   "execution_count": 5,
   "id": "131d7381",
   "metadata": {},
   "outputs": [
    {
     "name": "stdout",
     "output_type": "stream",
     "text": [
      "Collecting git+https://github.com/rongardF/tvdatafeed.git\n",
      "  Cloning https://github.com/rongardF/tvdatafeed.git to /tmp/pip-req-build-rw5hwtjy\n",
      "  Running command git clone --filter=blob:none --quiet https://github.com/rongardF/tvdatafeed.git /tmp/pip-req-build-rw5hwtjy\n",
      "  Resolved https://github.com/rongardF/tvdatafeed.git to commit e6f6aaa7de439ac6e454d9b26d2760ded8dc4923\n",
      "  Installing build dependencies ... \u001b[?25ldone\n",
      "\u001b[?25h  Getting requirements to build wheel ... \u001b[?25ldone\n",
      "\u001b[?25h  Preparing metadata (pyproject.toml) ... \u001b[?25ldone\n",
      "\u001b[?25hRequirement already satisfied: setuptools in ./.venv/lib/python3.12/site-packages (from tvdatafeed==2.1.0) (80.9.0)\n",
      "Requirement already satisfied: pandas in ./.venv/lib/python3.12/site-packages (from tvdatafeed==2.1.0) (2.3.2)\n",
      "Requirement already satisfied: websocket-client in ./.venv/lib/python3.12/site-packages (from tvdatafeed==2.1.0) (1.8.0)\n",
      "Requirement already satisfied: requests in ./.venv/lib/python3.12/site-packages (from tvdatafeed==2.1.0) (2.32.5)\n",
      "Requirement already satisfied: numpy>=1.26.0 in ./.venv/lib/python3.12/site-packages (from pandas->tvdatafeed==2.1.0) (2.3.3)\n",
      "Requirement already satisfied: python-dateutil>=2.8.2 in ./.venv/lib/python3.12/site-packages (from pandas->tvdatafeed==2.1.0) (2.9.0.post0)\n",
      "Requirement already satisfied: pytz>=2020.1 in ./.venv/lib/python3.12/site-packages (from pandas->tvdatafeed==2.1.0) (2025.2)\n",
      "Requirement already satisfied: tzdata>=2022.7 in ./.venv/lib/python3.12/site-packages (from pandas->tvdatafeed==2.1.0) (2025.2)\n",
      "Requirement already satisfied: charset_normalizer<4,>=2 in ./.venv/lib/python3.12/site-packages (from requests->tvdatafeed==2.1.0) (3.4.3)\n",
      "Requirement already satisfied: idna<4,>=2.5 in ./.venv/lib/python3.12/site-packages (from requests->tvdatafeed==2.1.0) (3.10)\n",
      "Requirement already satisfied: urllib3<3,>=1.21.1 in ./.venv/lib/python3.12/site-packages (from requests->tvdatafeed==2.1.0) (2.5.0)\n",
      "Requirement already satisfied: certifi>=2017.4.17 in ./.venv/lib/python3.12/site-packages (from requests->tvdatafeed==2.1.0) (2025.8.3)\n",
      "Requirement already satisfied: six>=1.5 in ./.venv/lib/python3.12/site-packages (from python-dateutil>=2.8.2->pandas->tvdatafeed==2.1.0) (1.17.0)\n",
      "Note: you may need to restart the kernel to use updated packages.\n"
     ]
    }
   ],
   "source": [
    "pip install --upgrade --no-cache-dir git+https://github.com/rongardF/tvdatafeed.git"
   ]
  },
  {
   "cell_type": "code",
   "execution_count": 6,
   "id": "70a1b026",
   "metadata": {},
   "outputs": [
    {
     "name": "stderr",
     "output_type": "stream",
     "text": [
      "error while signin\n",
      "you are using nologin method, data you access may be limited\n"
     ]
    }
   ],
   "source": [
    "import os\n",
    "\n",
    "from tvDatafeed import TvDatafeed, Interval\n",
    "\n",
    "user = os.getenv(\"TV_USER\")\n",
    "pas = os.getenv(\"TV_PASS\")\n",
    "\n",
    "tv = TvDatafeed(username= \"user\", password = \"pas\")"
   ]
  },
  {
   "cell_type": "markdown",
   "id": "f3c97e0c",
   "metadata": {},
   "source": [
    "Obtenção das variáveis macroeconômicas"
   ]
  },
  {
   "cell_type": "code",
   "execution_count": 7,
   "id": "29b177ca",
   "metadata": {},
   "outputs": [
    {
     "name": "stdout",
     "output_type": "stream",
     "text": [
      "Buscando: SELIC (código 4189)...\n",
      "Buscando: IPCA (código 433)...\n",
      "Buscando: IBC-Br (código 24369)...\n",
      "Buscando: DESEMPREGO (código 24369)...\n",
      "Buscando: Investimento Direto no País (código 22886)...\n",
      "\n",
      "Dados do BCB e IBGE obtidos com sucesso (método join):\n"
     ]
    },
    {
     "data": {
      "text/html": [
       "<div>\n",
       "<style scoped>\n",
       "    .dataframe tbody tr th:only-of-type {\n",
       "        vertical-align: middle;\n",
       "    }\n",
       "\n",
       "    .dataframe tbody tr th {\n",
       "        vertical-align: top;\n",
       "    }\n",
       "\n",
       "    .dataframe thead th {\n",
       "        text-align: right;\n",
       "    }\n",
       "</style>\n",
       "<table border=\"1\" class=\"dataframe\">\n",
       "  <thead>\n",
       "    <tr style=\"text-align: right;\">\n",
       "      <th></th>\n",
       "      <th>SELIC</th>\n",
       "      <th>IPCA</th>\n",
       "      <th>IBC-Br</th>\n",
       "      <th>DESEMPREGO</th>\n",
       "      <th>Investimento Direto no País</th>\n",
       "    </tr>\n",
       "    <tr>\n",
       "      <th>Date</th>\n",
       "      <th></th>\n",
       "      <th></th>\n",
       "      <th></th>\n",
       "      <th></th>\n",
       "      <th></th>\n",
       "    </tr>\n",
       "  </thead>\n",
       "  <tbody>\n",
       "    <tr>\n",
       "      <th>2025-03-01</th>\n",
       "      <td>13.57</td>\n",
       "      <td>0.56</td>\n",
       "      <td>7.0</td>\n",
       "      <td>7.0</td>\n",
       "      <td>11636.7</td>\n",
       "    </tr>\n",
       "    <tr>\n",
       "      <th>2025-04-01</th>\n",
       "      <td>14.15</td>\n",
       "      <td>0.43</td>\n",
       "      <td>6.6</td>\n",
       "      <td>6.6</td>\n",
       "      <td>14363.2</td>\n",
       "    </tr>\n",
       "    <tr>\n",
       "      <th>2025-05-01</th>\n",
       "      <td>14.55</td>\n",
       "      <td>0.26</td>\n",
       "      <td>6.2</td>\n",
       "      <td>6.2</td>\n",
       "      <td>11546.8</td>\n",
       "    </tr>\n",
       "    <tr>\n",
       "      <th>2025-06-01</th>\n",
       "      <td>14.74</td>\n",
       "      <td>0.24</td>\n",
       "      <td>5.8</td>\n",
       "      <td>5.8</td>\n",
       "      <td>12960.0</td>\n",
       "    </tr>\n",
       "    <tr>\n",
       "      <th>2025-07-01</th>\n",
       "      <td>14.90</td>\n",
       "      <td>0.26</td>\n",
       "      <td>5.6</td>\n",
       "      <td>5.6</td>\n",
       "      <td>17633.8</td>\n",
       "    </tr>\n",
       "  </tbody>\n",
       "</table>\n",
       "</div>"
      ],
      "text/plain": [
       "            SELIC  IPCA  IBC-Br  DESEMPREGO  Investimento Direto no País\n",
       "Date                                                                    \n",
       "2025-03-01  13.57  0.56     7.0         7.0                      11636.7\n",
       "2025-04-01  14.15  0.43     6.6         6.6                      14363.2\n",
       "2025-05-01  14.55  0.26     6.2         6.2                      11546.8\n",
       "2025-06-01  14.74  0.24     5.8         5.8                      12960.0\n",
       "2025-07-01  14.90  0.26     5.6         5.6                      17633.8"
      ]
     },
     "metadata": {},
     "output_type": "display_data"
    },
    {
     "name": "stdout",
     "output_type": "stream",
     "text": [
      "\n",
      "Buscando dados de índices de mercado e commodities...\n"
     ]
    },
    {
     "name": "stderr",
     "output_type": "stream",
     "text": [
      "[*********************100%***********************]  5 of 5 completed"
     ]
    },
    {
     "name": "stdout",
     "output_type": "stream",
     "text": [
      "\n",
      "Dados de Mercado (diários) - Corrigidos e Verificados:\n"
     ]
    },
    {
     "name": "stderr",
     "output_type": "stream",
     "text": [
      "\n"
     ]
    },
    {
     "data": {
      "text/html": [
       "<div>\n",
       "<style scoped>\n",
       "    .dataframe tbody tr th:only-of-type {\n",
       "        vertical-align: middle;\n",
       "    }\n",
       "\n",
       "    .dataframe tbody tr th {\n",
       "        vertical-align: top;\n",
       "    }\n",
       "\n",
       "    .dataframe thead th {\n",
       "        text-align: right;\n",
       "    }\n",
       "</style>\n",
       "<table border=\"1\" class=\"dataframe\">\n",
       "  <thead>\n",
       "    <tr style=\"text-align: right;\">\n",
       "      <th>Ticker</th>\n",
       "      <th>VIX</th>\n",
       "      <th>PETROLEO_BRENT</th>\n",
       "      <th>DOW_JONES</th>\n",
       "      <th>COMM_AGRICOLA</th>\n",
       "      <th>CAMBIO_USDBRL</th>\n",
       "    </tr>\n",
       "    <tr>\n",
       "      <th>Date</th>\n",
       "      <th></th>\n",
       "      <th></th>\n",
       "      <th></th>\n",
       "      <th></th>\n",
       "      <th></th>\n",
       "    </tr>\n",
       "  </thead>\n",
       "  <tbody>\n",
       "    <tr>\n",
       "      <th>2025-06-24</th>\n",
       "      <td>17.48</td>\n",
       "      <td>67.139999</td>\n",
       "      <td>43089.019531</td>\n",
       "      <td>26.290001</td>\n",
       "      <td>5.4938</td>\n",
       "    </tr>\n",
       "    <tr>\n",
       "      <th>2025-06-25</th>\n",
       "      <td>16.76</td>\n",
       "      <td>67.680000</td>\n",
       "      <td>42982.429688</td>\n",
       "      <td>26.080000</td>\n",
       "      <td>5.5103</td>\n",
       "    </tr>\n",
       "    <tr>\n",
       "      <th>2025-06-26</th>\n",
       "      <td>16.59</td>\n",
       "      <td>67.730003</td>\n",
       "      <td>43386.839844</td>\n",
       "      <td>26.139999</td>\n",
       "      <td>5.5579</td>\n",
       "    </tr>\n",
       "    <tr>\n",
       "      <th>2025-06-27</th>\n",
       "      <td>16.32</td>\n",
       "      <td>67.769997</td>\n",
       "      <td>43819.269531</td>\n",
       "      <td>26.330000</td>\n",
       "      <td>5.4771</td>\n",
       "    </tr>\n",
       "    <tr>\n",
       "      <th>2025-06-30</th>\n",
       "      <td>16.73</td>\n",
       "      <td>67.610001</td>\n",
       "      <td>44094.769531</td>\n",
       "      <td>26.150000</td>\n",
       "      <td>5.4784</td>\n",
       "    </tr>\n",
       "  </tbody>\n",
       "</table>\n",
       "</div>"
      ],
      "text/plain": [
       "Ticker        VIX  PETROLEO_BRENT     DOW_JONES  COMM_AGRICOLA  CAMBIO_USDBRL\n",
       "Date                                                                         \n",
       "2025-06-24  17.48       67.139999  43089.019531      26.290001         5.4938\n",
       "2025-06-25  16.76       67.680000  42982.429688      26.080000         5.5103\n",
       "2025-06-26  16.59       67.730003  43386.839844      26.139999         5.5579\n",
       "2025-06-27  16.32       67.769997  43819.269531      26.330000         5.4771\n",
       "2025-06-30  16.73       67.610001  44094.769531      26.150000         5.4784"
      ]
     },
     "metadata": {},
     "output_type": "display_data"
    },
    {
     "name": "stdout",
     "output_type": "stream",
     "text": [
      "Índice original do 'dados_bcb':\n"
     ]
    },
    {
     "data": {
      "text/html": [
       "<div>\n",
       "<style scoped>\n",
       "    .dataframe tbody tr th:only-of-type {\n",
       "        vertical-align: middle;\n",
       "    }\n",
       "\n",
       "    .dataframe tbody tr th {\n",
       "        vertical-align: top;\n",
       "    }\n",
       "\n",
       "    .dataframe thead th {\n",
       "        text-align: right;\n",
       "    }\n",
       "</style>\n",
       "<table border=\"1\" class=\"dataframe\">\n",
       "  <thead>\n",
       "    <tr style=\"text-align: right;\">\n",
       "      <th></th>\n",
       "      <th>SELIC</th>\n",
       "      <th>IPCA</th>\n",
       "      <th>IBC-Br</th>\n",
       "      <th>DESEMPREGO</th>\n",
       "      <th>Investimento Direto no País</th>\n",
       "    </tr>\n",
       "    <tr>\n",
       "      <th>Date</th>\n",
       "      <th></th>\n",
       "      <th></th>\n",
       "      <th></th>\n",
       "      <th></th>\n",
       "      <th></th>\n",
       "    </tr>\n",
       "  </thead>\n",
       "  <tbody>\n",
       "    <tr>\n",
       "      <th>2012-01-01</th>\n",
       "      <td>10.7</td>\n",
       "      <td>0.56</td>\n",
       "      <td>NaN</td>\n",
       "      <td>NaN</td>\n",
       "      <td>10670.8</td>\n",
       "    </tr>\n",
       "    <tr>\n",
       "      <th>2012-02-01</th>\n",
       "      <td>10.4</td>\n",
       "      <td>0.45</td>\n",
       "      <td>NaN</td>\n",
       "      <td>NaN</td>\n",
       "      <td>6216.9</td>\n",
       "    </tr>\n",
       "  </tbody>\n",
       "</table>\n",
       "</div>"
      ],
      "text/plain": [
       "            SELIC  IPCA  IBC-Br  DESEMPREGO  Investimento Direto no País\n",
       "Date                                                                    \n",
       "2012-01-01   10.7  0.56     NaN         NaN                      10670.8\n",
       "2012-02-01   10.4  0.45     NaN         NaN                       6216.9"
      ]
     },
     "metadata": {},
     "output_type": "display_data"
    },
    {
     "name": "stdout",
     "output_type": "stream",
     "text": [
      "\n",
      "Índice padronizado do 'dados_bcb' (agora com fim de mês):\n"
     ]
    },
    {
     "data": {
      "text/html": [
       "<div>\n",
       "<style scoped>\n",
       "    .dataframe tbody tr th:only-of-type {\n",
       "        vertical-align: middle;\n",
       "    }\n",
       "\n",
       "    .dataframe tbody tr th {\n",
       "        vertical-align: top;\n",
       "    }\n",
       "\n",
       "    .dataframe thead th {\n",
       "        text-align: right;\n",
       "    }\n",
       "</style>\n",
       "<table border=\"1\" class=\"dataframe\">\n",
       "  <thead>\n",
       "    <tr style=\"text-align: right;\">\n",
       "      <th></th>\n",
       "      <th>SELIC</th>\n",
       "      <th>IPCA</th>\n",
       "      <th>IBC-Br</th>\n",
       "      <th>DESEMPREGO</th>\n",
       "      <th>Investimento Direto no País</th>\n",
       "    </tr>\n",
       "    <tr>\n",
       "      <th>Date</th>\n",
       "      <th></th>\n",
       "      <th></th>\n",
       "      <th></th>\n",
       "      <th></th>\n",
       "      <th></th>\n",
       "    </tr>\n",
       "  </thead>\n",
       "  <tbody>\n",
       "    <tr>\n",
       "      <th>2012-01-31</th>\n",
       "      <td>10.7</td>\n",
       "      <td>0.56</td>\n",
       "      <td>NaN</td>\n",
       "      <td>NaN</td>\n",
       "      <td>10670.8</td>\n",
       "    </tr>\n",
       "    <tr>\n",
       "      <th>2012-02-29</th>\n",
       "      <td>10.4</td>\n",
       "      <td>0.45</td>\n",
       "      <td>NaN</td>\n",
       "      <td>NaN</td>\n",
       "      <td>6216.9</td>\n",
       "    </tr>\n",
       "  </tbody>\n",
       "</table>\n",
       "</div>"
      ],
      "text/plain": [
       "            SELIC  IPCA  IBC-Br  DESEMPREGO  Investimento Direto no País\n",
       "Date                                                                    \n",
       "2012-01-31   10.7  0.56     NaN         NaN                      10670.8\n",
       "2012-02-29   10.4  0.45     NaN         NaN                       6216.9"
      ]
     },
     "metadata": {},
     "output_type": "display_data"
    },
    {
     "name": "stdout",
     "output_type": "stream",
     "text": [
      "\n",
      "--- DataFrame Final com Todos os Indicadores Macroeconômicos ---\n"
     ]
    },
    {
     "data": {
      "text/html": [
       "<div>\n",
       "<style scoped>\n",
       "    .dataframe tbody tr th:only-of-type {\n",
       "        vertical-align: middle;\n",
       "    }\n",
       "\n",
       "    .dataframe tbody tr th {\n",
       "        vertical-align: top;\n",
       "    }\n",
       "\n",
       "    .dataframe thead th {\n",
       "        text-align: right;\n",
       "    }\n",
       "</style>\n",
       "<table border=\"1\" class=\"dataframe\">\n",
       "  <thead>\n",
       "    <tr style=\"text-align: right;\">\n",
       "      <th></th>\n",
       "      <th>SELIC</th>\n",
       "      <th>IPCA</th>\n",
       "      <th>IBC-Br</th>\n",
       "      <th>DESEMPREGO</th>\n",
       "      <th>Investimento Direto no País</th>\n",
       "      <th>VIX</th>\n",
       "      <th>PETROLEO_BRENT</th>\n",
       "      <th>DOW_JONES</th>\n",
       "      <th>COMM_AGRICOLA</th>\n",
       "      <th>CAMBIO_USDBRL</th>\n",
       "    </tr>\n",
       "    <tr>\n",
       "      <th>Date</th>\n",
       "      <th></th>\n",
       "      <th></th>\n",
       "      <th></th>\n",
       "      <th></th>\n",
       "      <th></th>\n",
       "      <th></th>\n",
       "      <th></th>\n",
       "      <th></th>\n",
       "      <th></th>\n",
       "      <th></th>\n",
       "    </tr>\n",
       "  </thead>\n",
       "  <tbody>\n",
       "    <tr>\n",
       "      <th>2025-03-31</th>\n",
       "      <td>13.57</td>\n",
       "      <td>0.56</td>\n",
       "      <td>7.0</td>\n",
       "      <td>7.0</td>\n",
       "      <td>11636.7</td>\n",
       "      <td>22.280001</td>\n",
       "      <td>74.739998</td>\n",
       "      <td>42001.761719</td>\n",
       "      <td>26.340000</td>\n",
       "      <td>5.7581</td>\n",
       "    </tr>\n",
       "    <tr>\n",
       "      <th>2025-04-30</th>\n",
       "      <td>14.15</td>\n",
       "      <td>0.43</td>\n",
       "      <td>6.6</td>\n",
       "      <td>6.6</td>\n",
       "      <td>14363.2</td>\n",
       "      <td>24.700001</td>\n",
       "      <td>63.119999</td>\n",
       "      <td>40669.359375</td>\n",
       "      <td>26.809999</td>\n",
       "      <td>5.6200</td>\n",
       "    </tr>\n",
       "    <tr>\n",
       "      <th>2025-05-31</th>\n",
       "      <td>14.55</td>\n",
       "      <td>0.26</td>\n",
       "      <td>6.2</td>\n",
       "      <td>6.2</td>\n",
       "      <td>11546.8</td>\n",
       "      <td>18.570000</td>\n",
       "      <td>63.900002</td>\n",
       "      <td>42270.070312</td>\n",
       "      <td>26.700001</td>\n",
       "      <td>5.6651</td>\n",
       "    </tr>\n",
       "    <tr>\n",
       "      <th>2025-06-30</th>\n",
       "      <td>14.74</td>\n",
       "      <td>0.24</td>\n",
       "      <td>5.8</td>\n",
       "      <td>5.8</td>\n",
       "      <td>12960.0</td>\n",
       "      <td>16.730000</td>\n",
       "      <td>67.610001</td>\n",
       "      <td>44094.769531</td>\n",
       "      <td>26.150000</td>\n",
       "      <td>5.4784</td>\n",
       "    </tr>\n",
       "    <tr>\n",
       "      <th>2025-07-31</th>\n",
       "      <td>14.90</td>\n",
       "      <td>0.26</td>\n",
       "      <td>5.6</td>\n",
       "      <td>5.6</td>\n",
       "      <td>17633.8</td>\n",
       "      <td>16.730000</td>\n",
       "      <td>67.610001</td>\n",
       "      <td>44094.769531</td>\n",
       "      <td>26.150000</td>\n",
       "      <td>5.4784</td>\n",
       "    </tr>\n",
       "  </tbody>\n",
       "</table>\n",
       "</div>"
      ],
      "text/plain": [
       "            SELIC  IPCA  IBC-Br  DESEMPREGO  Investimento Direto no País  \\\n",
       "Date                                                                       \n",
       "2025-03-31  13.57  0.56     7.0         7.0                      11636.7   \n",
       "2025-04-30  14.15  0.43     6.6         6.6                      14363.2   \n",
       "2025-05-31  14.55  0.26     6.2         6.2                      11546.8   \n",
       "2025-06-30  14.74  0.24     5.8         5.8                      12960.0   \n",
       "2025-07-31  14.90  0.26     5.6         5.6                      17633.8   \n",
       "\n",
       "                  VIX  PETROLEO_BRENT     DOW_JONES  COMM_AGRICOLA  \\\n",
       "Date                                                                 \n",
       "2025-03-31  22.280001       74.739998  42001.761719      26.340000   \n",
       "2025-04-30  24.700001       63.119999  40669.359375      26.809999   \n",
       "2025-05-31  18.570000       63.900002  42270.070312      26.700001   \n",
       "2025-06-30  16.730000       67.610001  44094.769531      26.150000   \n",
       "2025-07-31  16.730000       67.610001  44094.769531      26.150000   \n",
       "\n",
       "            CAMBIO_USDBRL  \n",
       "Date                       \n",
       "2025-03-31         5.7581  \n",
       "2025-04-30         5.6200  \n",
       "2025-05-31         5.6651  \n",
       "2025-06-30         5.4784  \n",
       "2025-07-31         5.4784  "
      ]
     },
     "metadata": {},
     "output_type": "display_data"
    },
    {
     "data": {
      "text/html": [
       "<div>\n",
       "<style scoped>\n",
       "    .dataframe tbody tr th:only-of-type {\n",
       "        vertical-align: middle;\n",
       "    }\n",
       "\n",
       "    .dataframe tbody tr th {\n",
       "        vertical-align: top;\n",
       "    }\n",
       "\n",
       "    .dataframe thead th {\n",
       "        text-align: right;\n",
       "    }\n",
       "</style>\n",
       "<table border=\"1\" class=\"dataframe\">\n",
       "  <thead>\n",
       "    <tr style=\"text-align: right;\">\n",
       "      <th></th>\n",
       "      <th>SELIC</th>\n",
       "      <th>IPCA</th>\n",
       "      <th>IBC-Br</th>\n",
       "      <th>DESEMPREGO</th>\n",
       "      <th>Investimento Direto no País</th>\n",
       "      <th>VIX</th>\n",
       "      <th>PETROLEO_BRENT</th>\n",
       "      <th>DOW_JONES</th>\n",
       "      <th>COMM_AGRICOLA</th>\n",
       "      <th>CAMBIO_USDBRL</th>\n",
       "    </tr>\n",
       "    <tr>\n",
       "      <th>Date</th>\n",
       "      <th></th>\n",
       "      <th></th>\n",
       "      <th></th>\n",
       "      <th></th>\n",
       "      <th></th>\n",
       "      <th></th>\n",
       "      <th></th>\n",
       "      <th></th>\n",
       "      <th></th>\n",
       "      <th></th>\n",
       "    </tr>\n",
       "  </thead>\n",
       "  <tbody>\n",
       "    <tr>\n",
       "      <th>2012-03-31</th>\n",
       "      <td>9.82</td>\n",
       "      <td>0.21</td>\n",
       "      <td>8.0</td>\n",
       "      <td>8.0</td>\n",
       "      <td>16549.8</td>\n",
       "      <td>15.500000</td>\n",
       "      <td>122.879997</td>\n",
       "      <td>13212.040039</td>\n",
       "      <td>25.025694</td>\n",
       "      <td>1.8208</td>\n",
       "    </tr>\n",
       "    <tr>\n",
       "      <th>2012-04-30</th>\n",
       "      <td>9.35</td>\n",
       "      <td>0.64</td>\n",
       "      <td>7.8</td>\n",
       "      <td>7.8</td>\n",
       "      <td>6664.0</td>\n",
       "      <td>17.150000</td>\n",
       "      <td>119.470001</td>\n",
       "      <td>13213.629883</td>\n",
       "      <td>24.304312</td>\n",
       "      <td>1.8860</td>\n",
       "    </tr>\n",
       "    <tr>\n",
       "      <th>2012-05-31</th>\n",
       "      <td>8.87</td>\n",
       "      <td>0.36</td>\n",
       "      <td>7.7</td>\n",
       "      <td>7.7</td>\n",
       "      <td>6263.8</td>\n",
       "      <td>24.059999</td>\n",
       "      <td>101.870003</td>\n",
       "      <td>12393.450195</td>\n",
       "      <td>23.226694</td>\n",
       "      <td>2.0149</td>\n",
       "    </tr>\n",
       "    <tr>\n",
       "      <th>2012-06-30</th>\n",
       "      <td>8.39</td>\n",
       "      <td>0.08</td>\n",
       "      <td>7.6</td>\n",
       "      <td>7.6</td>\n",
       "      <td>9004.9</td>\n",
       "      <td>17.080000</td>\n",
       "      <td>97.800003</td>\n",
       "      <td>12880.089844</td>\n",
       "      <td>25.132565</td>\n",
       "      <td>2.0768</td>\n",
       "    </tr>\n",
       "    <tr>\n",
       "      <th>2012-07-31</th>\n",
       "      <td>8.07</td>\n",
       "      <td>0.43</td>\n",
       "      <td>7.5</td>\n",
       "      <td>7.5</td>\n",
       "      <td>10912.8</td>\n",
       "      <td>18.930000</td>\n",
       "      <td>104.919998</td>\n",
       "      <td>13008.679688</td>\n",
       "      <td>26.833597</td>\n",
       "      <td>2.0403</td>\n",
       "    </tr>\n",
       "  </tbody>\n",
       "</table>\n",
       "</div>"
      ],
      "text/plain": [
       "            SELIC  IPCA  IBC-Br  DESEMPREGO  Investimento Direto no País  \\\n",
       "Date                                                                       \n",
       "2012-03-31   9.82  0.21     8.0         8.0                      16549.8   \n",
       "2012-04-30   9.35  0.64     7.8         7.8                       6664.0   \n",
       "2012-05-31   8.87  0.36     7.7         7.7                       6263.8   \n",
       "2012-06-30   8.39  0.08     7.6         7.6                       9004.9   \n",
       "2012-07-31   8.07  0.43     7.5         7.5                      10912.8   \n",
       "\n",
       "                  VIX  PETROLEO_BRENT     DOW_JONES  COMM_AGRICOLA  \\\n",
       "Date                                                                 \n",
       "2012-03-31  15.500000      122.879997  13212.040039      25.025694   \n",
       "2012-04-30  17.150000      119.470001  13213.629883      24.304312   \n",
       "2012-05-31  24.059999      101.870003  12393.450195      23.226694   \n",
       "2012-06-30  17.080000       97.800003  12880.089844      25.132565   \n",
       "2012-07-31  18.930000      104.919998  13008.679688      26.833597   \n",
       "\n",
       "            CAMBIO_USDBRL  \n",
       "Date                       \n",
       "2012-03-31         1.8208  \n",
       "2012-04-30         1.8860  \n",
       "2012-05-31         2.0149  \n",
       "2012-06-30         2.0768  \n",
       "2012-07-31         2.0403  "
      ]
     },
     "metadata": {},
     "output_type": "display_data"
    }
   ],
   "source": [
    "codigos_sgs = {\n",
    "    'SELIC': 4189, # Usando a SELIC mensalizada diretamente\n",
    "    'IPCA': 433,\n",
    "    'IBC-Br': 24369,\n",
    "    'DESEMPREGO': 24369,\n",
    "    'Investimento Direto no País': 22886,\n",
    "}\n",
    "\n",
    "dados_bcb = pd.DataFrame()\n",
    "\n",
    "# Buscar e juntar cada série\n",
    "for nome_serie, codigo in codigos_sgs.items():\n",
    "    try:\n",
    "        print(f\"Buscando: {nome_serie} (código {codigo})...\")\n",
    "        serie = sgs.get({nome_serie: codigo}, start= data_inicio, end= data_fim)\n",
    "\n",
    "        # Se o DataFrame principal ainda estiver vazio, ele se torna a primeira série\n",
    "        if dados_bcb.empty:\n",
    "            dados_bcb = serie\n",
    "        # Caso contrário, juntamos (join) a nova série ao DataFrame existente\n",
    "        else:\n",
    "            dados_bcb = dados_bcb.join(serie)\n",
    "\n",
    "    except Exception as e:\n",
    "        print(f\"AVISO: Falha ao buscar a série '{nome_serie}' (código {codigo}). Erro: {e}. Pulando...\")\n",
    "\n",
    "# 3. Verificação final\n",
    "if not dados_bcb.empty:\n",
    "    print(\"\\nDados do BCB e IBGE obtidos com sucesso (método join):\")\n",
    "    display(dados_bcb.tail())\n",
    "else:\n",
    "    print(\"\\nNenhuma série do Banco Central pôde ser baixada.\")\n",
    "\n",
    "# Lista de dados de mercado\n",
    "tickers_mercado = {\n",
    "    'VIX': '^VIX',\n",
    "    'PETROLEO_BRENT': 'BZ=F',\n",
    "    'DOW_JONES': '^DJI',\n",
    "    #'IMAT': 'IMAT.SA', Não achou\n",
    "    'COMM_AGRICOLA': 'DBA', # Usando o ETF 'DBA'\n",
    "    'CAMBIO_USDBRL': 'USDBRL=X'\n",
    "}\n",
    "\n",
    "print(\"\\nBuscando dados de índices de mercado e commodities...\")\n",
    "# Mesma lógica de baixar dado diário para mensal\n",
    "dados_mercado_diario_raw = yf.download(\n",
    "    list(tickers_mercado.values()),\n",
    "    start= data_inicio, end= data_fim,\n",
    "    auto_adjust=True\n",
    ")['Close']\n",
    "\n",
    "mapa_renomear = {v: k for k, v in tickers_mercado.items()}\n",
    "\n",
    "# Usamos o método .rename() que é explícito e não depende da ordem\n",
    "dados_mercado_diario = dados_mercado_diario_raw.rename(columns=mapa_renomear)\n",
    "\n",
    "# Reordenar as colunas para a ordem certa\n",
    "dados_mercado_diario = dados_mercado_diario[list(tickers_mercado.keys())]\n",
    "\n",
    "print(\"\\nDados de Mercado (diários) - Corrigidos e Verificados:\")\n",
    "display(dados_mercado_diario.tail())\n",
    "\n",
    "# 1. Converter dados de mercado para o final do mês\n",
    "dados_mercado_mensal = dados_mercado_diario.resample('ME').last()\n",
    "\n",
    "print(\"Índice original do 'dados_bcb':\")\n",
    "display(dados_bcb.head(2))\n",
    "\n",
    "dados_bcb.index = dados_bcb.index.to_period('M').to_timestamp('M')\n",
    "\n",
    "print(\"\\nÍndice padronizado do 'dados_bcb' (agora com fim de mês):\")\n",
    "display(dados_bcb.head(2))\n",
    "\n",
    "\n",
    "#Juntando os dados\n",
    "dados_macro_combinados = dados_bcb.join(dados_mercado_mensal)\n",
    "\n",
    "\n",
    "# O ffill() ainda é útil para cobrir feriados ou dias em que um dos mercados não abriu.\n",
    "# O dropna() remove qualquer linha no início que possa ter ficado sem dados completos.\n",
    "dados_macro_combinados = dados_macro_combinados.ffill().dropna()\n",
    "\n",
    "dados_macro_combinados.index = dados_macro_combinados.index.to_period('M').to_timestamp('M')\n",
    "dados_macro_combinados.index = pd.to_datetime(dados_macro_combinados.index)\n",
    "\n",
    "print(\"\\n--- DataFrame Final com Todos os Indicadores Macroeconômicos ---\")\n",
    "display(dados_macro_combinados.tail())\n",
    "display(dados_macro_combinados.head())"
   ]
  },
  {
   "cell_type": "code",
   "execution_count": 8,
   "id": "5e7c2abf",
   "metadata": {},
   "outputs": [
    {
     "name": "stdout",
     "output_type": "stream",
     "text": [
      "Comparando os dados originais com as novas features (variações):\n"
     ]
    },
    {
     "data": {
      "text/html": [
       "<div>\n",
       "<style scoped>\n",
       "    .dataframe tbody tr th:only-of-type {\n",
       "        vertical-align: middle;\n",
       "    }\n",
       "\n",
       "    .dataframe tbody tr th {\n",
       "        vertical-align: top;\n",
       "    }\n",
       "\n",
       "    .dataframe thead th {\n",
       "        text-align: right;\n",
       "    }\n",
       "</style>\n",
       "<table border=\"1\" class=\"dataframe\">\n",
       "  <thead>\n",
       "    <tr style=\"text-align: right;\">\n",
       "      <th></th>\n",
       "      <th>SELIC</th>\n",
       "      <th>IPCA</th>\n",
       "      <th>IBC-Br</th>\n",
       "      <th>DESEMPREGO</th>\n",
       "      <th>Investimento Direto no País</th>\n",
       "      <th>VIX</th>\n",
       "      <th>PETROLEO_BRENT</th>\n",
       "      <th>DOW_JONES</th>\n",
       "      <th>COMM_AGRICOLA</th>\n",
       "      <th>CAMBIO_USDBRL</th>\n",
       "    </tr>\n",
       "    <tr>\n",
       "      <th>Date</th>\n",
       "      <th></th>\n",
       "      <th></th>\n",
       "      <th></th>\n",
       "      <th></th>\n",
       "      <th></th>\n",
       "      <th></th>\n",
       "      <th></th>\n",
       "      <th></th>\n",
       "      <th></th>\n",
       "      <th></th>\n",
       "    </tr>\n",
       "  </thead>\n",
       "  <tbody>\n",
       "    <tr>\n",
       "      <th>2012-03-31</th>\n",
       "      <td>9.82</td>\n",
       "      <td>0.21</td>\n",
       "      <td>8.0</td>\n",
       "      <td>8.0</td>\n",
       "      <td>16549.8</td>\n",
       "      <td>15.500000</td>\n",
       "      <td>122.879997</td>\n",
       "      <td>13212.040039</td>\n",
       "      <td>25.025694</td>\n",
       "      <td>1.8208</td>\n",
       "    </tr>\n",
       "    <tr>\n",
       "      <th>2012-04-30</th>\n",
       "      <td>9.35</td>\n",
       "      <td>0.64</td>\n",
       "      <td>7.8</td>\n",
       "      <td>7.8</td>\n",
       "      <td>6664.0</td>\n",
       "      <td>17.150000</td>\n",
       "      <td>119.470001</td>\n",
       "      <td>13213.629883</td>\n",
       "      <td>24.304312</td>\n",
       "      <td>1.8860</td>\n",
       "    </tr>\n",
       "    <tr>\n",
       "      <th>2012-05-31</th>\n",
       "      <td>8.87</td>\n",
       "      <td>0.36</td>\n",
       "      <td>7.7</td>\n",
       "      <td>7.7</td>\n",
       "      <td>6263.8</td>\n",
       "      <td>24.059999</td>\n",
       "      <td>101.870003</td>\n",
       "      <td>12393.450195</td>\n",
       "      <td>23.226694</td>\n",
       "      <td>2.0149</td>\n",
       "    </tr>\n",
       "  </tbody>\n",
       "</table>\n",
       "</div>"
      ],
      "text/plain": [
       "            SELIC  IPCA  IBC-Br  DESEMPREGO  Investimento Direto no País  \\\n",
       "Date                                                                       \n",
       "2012-03-31   9.82  0.21     8.0         8.0                      16549.8   \n",
       "2012-04-30   9.35  0.64     7.8         7.8                       6664.0   \n",
       "2012-05-31   8.87  0.36     7.7         7.7                       6263.8   \n",
       "\n",
       "                  VIX  PETROLEO_BRENT     DOW_JONES  COMM_AGRICOLA  \\\n",
       "Date                                                                 \n",
       "2012-03-31  15.500000      122.879997  13212.040039      25.025694   \n",
       "2012-04-30  17.150000      119.470001  13213.629883      24.304312   \n",
       "2012-05-31  24.059999      101.870003  12393.450195      23.226694   \n",
       "\n",
       "            CAMBIO_USDBRL  \n",
       "Date                       \n",
       "2012-03-31         1.8208  \n",
       "2012-04-30         1.8860  \n",
       "2012-05-31         2.0149  "
      ]
     },
     "metadata": {},
     "output_type": "display_data"
    },
    {
     "data": {
      "text/html": [
       "<div>\n",
       "<style scoped>\n",
       "    .dataframe tbody tr th:only-of-type {\n",
       "        vertical-align: middle;\n",
       "    }\n",
       "\n",
       "    .dataframe tbody tr th {\n",
       "        vertical-align: top;\n",
       "    }\n",
       "\n",
       "    .dataframe thead th {\n",
       "        text-align: right;\n",
       "    }\n",
       "</style>\n",
       "<table border=\"1\" class=\"dataframe\">\n",
       "  <thead>\n",
       "    <tr style=\"text-align: right;\">\n",
       "      <th></th>\n",
       "      <th>SELIC</th>\n",
       "      <th>IPCA</th>\n",
       "      <th>IBC-Br</th>\n",
       "      <th>DESEMPREGO</th>\n",
       "      <th>Investimento Direto no País</th>\n",
       "      <th>VIX</th>\n",
       "      <th>PETROLEO_BRENT</th>\n",
       "      <th>DOW_JONES</th>\n",
       "      <th>COMM_AGRICOLA</th>\n",
       "      <th>CAMBIO_USDBRL</th>\n",
       "    </tr>\n",
       "    <tr>\n",
       "      <th>Date</th>\n",
       "      <th></th>\n",
       "      <th></th>\n",
       "      <th></th>\n",
       "      <th></th>\n",
       "      <th></th>\n",
       "      <th></th>\n",
       "      <th></th>\n",
       "      <th></th>\n",
       "      <th></th>\n",
       "      <th></th>\n",
       "    </tr>\n",
       "  </thead>\n",
       "  <tbody>\n",
       "    <tr>\n",
       "      <th>2025-05-31</th>\n",
       "      <td>14.55</td>\n",
       "      <td>0.26</td>\n",
       "      <td>6.2</td>\n",
       "      <td>6.2</td>\n",
       "      <td>11546.8</td>\n",
       "      <td>18.57</td>\n",
       "      <td>63.900002</td>\n",
       "      <td>42270.070312</td>\n",
       "      <td>26.700001</td>\n",
       "      <td>5.6651</td>\n",
       "    </tr>\n",
       "    <tr>\n",
       "      <th>2025-06-30</th>\n",
       "      <td>14.74</td>\n",
       "      <td>0.24</td>\n",
       "      <td>5.8</td>\n",
       "      <td>5.8</td>\n",
       "      <td>12960.0</td>\n",
       "      <td>16.73</td>\n",
       "      <td>67.610001</td>\n",
       "      <td>44094.769531</td>\n",
       "      <td>26.150000</td>\n",
       "      <td>5.4784</td>\n",
       "    </tr>\n",
       "    <tr>\n",
       "      <th>2025-07-31</th>\n",
       "      <td>14.90</td>\n",
       "      <td>0.26</td>\n",
       "      <td>5.6</td>\n",
       "      <td>5.6</td>\n",
       "      <td>17633.8</td>\n",
       "      <td>16.73</td>\n",
       "      <td>67.610001</td>\n",
       "      <td>44094.769531</td>\n",
       "      <td>26.150000</td>\n",
       "      <td>5.4784</td>\n",
       "    </tr>\n",
       "  </tbody>\n",
       "</table>\n",
       "</div>"
      ],
      "text/plain": [
       "            SELIC  IPCA  IBC-Br  DESEMPREGO  Investimento Direto no País  \\\n",
       "Date                                                                       \n",
       "2025-05-31  14.55  0.26     6.2         6.2                      11546.8   \n",
       "2025-06-30  14.74  0.24     5.8         5.8                      12960.0   \n",
       "2025-07-31  14.90  0.26     5.6         5.6                      17633.8   \n",
       "\n",
       "              VIX  PETROLEO_BRENT     DOW_JONES  COMM_AGRICOLA  CAMBIO_USDBRL  \n",
       "Date                                                                           \n",
       "2025-05-31  18.57       63.900002  42270.070312      26.700001         5.6651  \n",
       "2025-06-30  16.73       67.610001  44094.769531      26.150000         5.4784  \n",
       "2025-07-31  16.73       67.610001  44094.769531      26.150000         5.4784  "
      ]
     },
     "metadata": {},
     "output_type": "display_data"
    },
    {
     "data": {
      "text/html": [
       "<div>\n",
       "<style scoped>\n",
       "    .dataframe tbody tr th:only-of-type {\n",
       "        vertical-align: middle;\n",
       "    }\n",
       "\n",
       "    .dataframe tbody tr th {\n",
       "        vertical-align: top;\n",
       "    }\n",
       "\n",
       "    .dataframe thead th {\n",
       "        text-align: right;\n",
       "    }\n",
       "</style>\n",
       "<table border=\"1\" class=\"dataframe\">\n",
       "  <thead>\n",
       "    <tr style=\"text-align: right;\">\n",
       "      <th></th>\n",
       "      <th>SELIC_diff</th>\n",
       "      <th>IPCA_diff</th>\n",
       "      <th>IBC-Br_diff</th>\n",
       "      <th>DESEMPREGO_diff</th>\n",
       "      <th>Investimento Direto no País_diff</th>\n",
       "      <th>VIX_diff</th>\n",
       "      <th>PETROLEO_BRENT_diff</th>\n",
       "      <th>DOW_JONES_diff</th>\n",
       "      <th>COMM_AGRICOLA_diff</th>\n",
       "      <th>CAMBIO_USDBRL_diff</th>\n",
       "    </tr>\n",
       "    <tr>\n",
       "      <th>Date</th>\n",
       "      <th></th>\n",
       "      <th></th>\n",
       "      <th></th>\n",
       "      <th></th>\n",
       "      <th></th>\n",
       "      <th></th>\n",
       "      <th></th>\n",
       "      <th></th>\n",
       "      <th></th>\n",
       "      <th></th>\n",
       "    </tr>\n",
       "  </thead>\n",
       "  <tbody>\n",
       "    <tr>\n",
       "      <th>2025-05-31</th>\n",
       "      <td>0.028269</td>\n",
       "      <td>-0.395349</td>\n",
       "      <td>-0.060606</td>\n",
       "      <td>-0.060606</td>\n",
       "      <td>-0.196084</td>\n",
       "      <td>-0.248178</td>\n",
       "      <td>0.012357</td>\n",
       "      <td>0.039359</td>\n",
       "      <td>-0.004103</td>\n",
       "      <td>0.008025</td>\n",
       "    </tr>\n",
       "    <tr>\n",
       "      <th>2025-06-30</th>\n",
       "      <td>0.013058</td>\n",
       "      <td>-0.076923</td>\n",
       "      <td>-0.064516</td>\n",
       "      <td>-0.064516</td>\n",
       "      <td>0.122389</td>\n",
       "      <td>-0.099085</td>\n",
       "      <td>0.058059</td>\n",
       "      <td>0.043168</td>\n",
       "      <td>-0.020599</td>\n",
       "      <td>-0.032956</td>\n",
       "    </tr>\n",
       "    <tr>\n",
       "      <th>2025-07-31</th>\n",
       "      <td>0.010855</td>\n",
       "      <td>0.083333</td>\n",
       "      <td>-0.034483</td>\n",
       "      <td>-0.034483</td>\n",
       "      <td>0.360633</td>\n",
       "      <td>0.000000</td>\n",
       "      <td>0.000000</td>\n",
       "      <td>0.000000</td>\n",
       "      <td>0.000000</td>\n",
       "      <td>0.000000</td>\n",
       "    </tr>\n",
       "  </tbody>\n",
       "</table>\n",
       "</div>"
      ],
      "text/plain": [
       "            SELIC_diff  IPCA_diff  IBC-Br_diff  DESEMPREGO_diff  \\\n",
       "Date                                                              \n",
       "2025-05-31    0.028269  -0.395349    -0.060606        -0.060606   \n",
       "2025-06-30    0.013058  -0.076923    -0.064516        -0.064516   \n",
       "2025-07-31    0.010855   0.083333    -0.034483        -0.034483   \n",
       "\n",
       "            Investimento Direto no País_diff  VIX_diff  PETROLEO_BRENT_diff  \\\n",
       "Date                                                                          \n",
       "2025-05-31                         -0.196084 -0.248178             0.012357   \n",
       "2025-06-30                          0.122389 -0.099085             0.058059   \n",
       "2025-07-31                          0.360633  0.000000             0.000000   \n",
       "\n",
       "            DOW_JONES_diff  COMM_AGRICOLA_diff  CAMBIO_USDBRL_diff  \n",
       "Date                                                                \n",
       "2025-05-31        0.039359           -0.004103            0.008025  \n",
       "2025-06-30        0.043168           -0.020599           -0.032956  \n",
       "2025-07-31        0.000000            0.000000            0.000000  "
      ]
     },
     "metadata": {},
     "output_type": "display_data"
    }
   ],
   "source": [
    "# Criando um novo DataFrame para as features aprimoradas\n",
    "dados_macro_features = pd.DataFrame(index=dados_macro_combinados.index)\n",
    "\n",
    "# Calculando a variação mensal (a diferença) para cada indicador\n",
    "for coluna in dados_macro_combinados.columns:\n",
    "    dados_macro_features[f'{coluna}_diff'] = dados_macro_combinados[coluna].pct_change()\n",
    "\n",
    "# Removendo a primeira linha que terá valores NaN (vazios)\n",
    "dados_macro_features = dados_macro_features.dropna()\n",
    "\n",
    "print(\"Comparando os dados originais com as novas features (variações):\")\n",
    "display(dados_macro_combinados.head(3))\n",
    "display(dados_macro_combinados.tail(3))\n",
    "display(dados_macro_features.tail(3))\n",
    "\n",
    "dados_macro_combinados = dados_macro_features"
   ]
  },
  {
   "cell_type": "markdown",
   "id": "b8ec5bc5",
   "metadata": {},
   "source": [
    "taxas de juros americanas e o índice de ações internacional (MSCI) \n",
    "\n",
    "VIX e retornos do Dow Jones\n",
    "\n",
    "\n",
    "\n"
   ]
  },
  {
   "cell_type": "code",
   "execution_count": 9,
   "id": "6b6fccaf",
   "metadata": {},
   "outputs": [],
   "source": [
    "ativos = ['VALE3.SA', 'PETR4.SA', 'ITUB4.SA', 'BRFS3.SA', 'ABEV3.SA', 'WEGE3.SA',  #BRFS3.SA para yahoo\n",
    "            'EGIE3.SA', 'LREN3.SA', 'BBAS3.SA', 'SLCE3.SA' ] \n",
    "\n",
    "n_ativos   = len(ativos)\n",
    "carteira = sorted(ativos)"
   ]
  },
  {
   "cell_type": "code",
   "execution_count": 10,
   "id": "24cdbb9a",
   "metadata": {},
   "outputs": [
    {
     "name": "stdout",
     "output_type": "stream",
     "text": [
      "            Taxa_Livre_Risco\n",
      "Date                        \n",
      "2012-01-01            0.0089\n",
      "2012-02-01            0.0075\n",
      "2012-03-01            0.0082\n",
      "2012-04-01            0.0071\n",
      "2012-05-01            0.0074\n",
      "...                      ...\n",
      "2025-03-01            0.0096\n",
      "2025-04-01            0.0106\n",
      "2025-05-01            0.0114\n",
      "2025-06-01            0.0110\n",
      "2025-07-01            0.0128\n",
      "\n",
      "[163 rows x 1 columns]\n",
      "2012-01-31    0.096654\n",
      "2012-02-29    0.035016\n",
      "2012-03-31   -0.028163\n",
      "2012-04-30   -0.049704\n",
      "2012-05-31   -0.133606\n",
      "                ...   \n",
      "2025-03-31    0.049379\n",
      "2025-04-30    0.025642\n",
      "2025-05-31    0.003004\n",
      "2025-06-30    0.002252\n",
      "2025-07-31   -0.055344\n",
      "Freq: ME, Length: 163, dtype: float64\n"
     ]
    }
   ],
   "source": [
    "# 1. Baixar dados base (Ibovespa e Selic)\n",
    "ibov_dados = tv.get_hist(\n",
    "    symbol='IBOV',\n",
    "    exchange='BMFBOVESPA',\n",
    "    interval=Interval.in_monthly,  # equivalente ao \"1mo\" do yfinance\n",
    "    n_bars=500                     # número máximo de candles (ajuste conforme necessário)\n",
    ")\n",
    "\n",
    "# mantém só o fechamento\n",
    "ibov_dados = ibov_dados['close']\n",
    "ibov_retornos_brutos =  np.log(ibov_dados / ibov_dados.shift(1)).dropna() #(np.log(ibov_dados) - np.log(ibov_dados.shift(1))).dropna() \n",
    "\n",
    "selic_mensal = sgs.get({'Selic': 4390}, start=data_inicio, end=data_fim)\n",
    "#selic_mensal = (selic_anual_pct / 100) / 12\n",
    "\n",
    "selic_mensal = selic_mensal / 100\n",
    "selic_mensal.rename(columns={'Selic': 'Taxa_Livre_Risco'}, inplace=True)\n",
    "print(selic_mensal)\n",
    "\n",
    "# 2. Padronizar índices para garantir alinhamento\n",
    "ibov_retornos_brutos.index = pd.to_datetime(ibov_retornos_brutos.index).to_period('M').to_timestamp('M')\n",
    "selic_mensal.index = pd.to_datetime(selic_mensal.index).to_period('M').to_timestamp('M')\n",
    "\n",
    "# 3. --- CORREÇÃO --- Calcular as métricas a partir dos RETORNOS EXCEDENTES\n",
    "\n",
    "# Para o Ibovespa\n",
    "ibov_retornos_excedentes = ibov_retornos_brutos.subtract(selic_mensal['Taxa_Livre_Risco'], axis=0).dropna()\n",
    "# ibov_retorno_excedente_medio = ibov_retornos_excedentes.mean()\n",
    "# ibov_volatilidade = ibov_retornos_excedentes.std() # Volatilidade do prêmio de risco\n",
    "# ibov_sharpe_correto = ibov_retorno_excedente_medio / ibov_volatilidade\n",
    "\n",
    "print(ibov_retornos_excedentes)"
   ]
  },
  {
   "cell_type": "code",
   "execution_count": 11,
   "id": "b2c2abd1",
   "metadata": {},
   "outputs": [],
   "source": [
    "def retornos_mensais(data_inicio, data_fim):\n",
    "\n",
    "    dados = yf.download( ativos, start= data_inicio, end=data_fim, interval=\"1mo\", auto_adjust=True)[\"Close\"]\n",
    "\n",
    "\n",
    "    dados.columns = [ticker.replace('.SA', '') for ticker in dados.columns]\n",
    "    #dadosF.columns = [ticker.replace('.SA', '') for ticker in dados.columns]\n",
    "\n",
    "\n",
    "    # Remover colunas totalmente vazias\n",
    "    dados = dados.dropna(axis=1, how='all')\n",
    "    #dadosF = dados.dropna(axis=1, how='all')\n",
    "\n",
    "    # Calcular retorno logarítmico mensal\n",
    "    retornos_absolutos = np.log(dados / dados.shift(1)).dropna() #log(dados) - log(dados.shift(1))  #(np.log(dados) - np.log(dados.shift(1))).dropna() \n",
    "    #retornos_mensaisF = np.log(dadosF / dadosF.shift(1)).dropna()\n",
    "\n",
    "\n",
    "    # Usamos o código 4189 do SGS, que é a Selic mensalizada\n",
    "    selic_mensal_pct = sgs.get({'Selic': 4390}, start=data_inicio, end=data_fim)\n",
    "\n",
    "    # Converte a taxa de % anual para decimal mensal\n",
    "    selic_mensal = (selic_mensal_pct / 100) \n",
    "    print(selic_mensal)\n",
    "    selic_mensal.rename(columns={'Selic': 'Taxa_Livre_Risco'}, inplace=True)\n",
    "    print(\"Selic baixada e convertida para taxa mensal.\")\n",
    "\n",
    "\n",
    "    # --- PASSO 3: GARANTIR O ALINHAMENTO DAS DATAS ---\n",
    "    # Padroniza ambos os índices para o fim do mês para garantir a subtração correta\n",
    "    retornos_absolutos.index = pd.to_datetime(retornos_absolutos.index).to_period('M').to_timestamp('M')\n",
    "    selic_mensal.index = pd.to_datetime(selic_mensal.index).to_period('M').to_timestamp('M')\n",
    "\n",
    "\n",
    "    # --- PASSO 4: CALCULAR OS RETORNOS EXCEDENTES ---\n",
    "    print(\"Calculando os retornos excedentes (descontando a taxa livre de risco)...\")\n",
    "    # O método .subtract com axis=0 subtrai a série da Selic de cada coluna do DataFrame de retornos\n",
    "    retornos_excedentes_mensais = retornos_absolutos.subtract(selic_mensal['Taxa_Livre_Risco'], axis=0)\n",
    "    retornos_excedentes_mensais.dropna(inplace=True) # Remove possíveis NaNs da junção\n",
    "\n",
    "    print(\"\\n--- Amostra dos Retornos Excedentes Calculados ---\")\n",
    "    display(retornos_excedentes_mensais.head())\n",
    "    \n",
    "\n",
    "    return retornos_excedentes_mensais\n",
    "    #print(\"Retornos mensais false:\")\n",
    "    #display(retornos_mensaisF.tail())\n",
    "\n",
    "    # Calcular a volatilidade (desvio padrão) mensal de cada ativo\n",
    "def volatilidade_mensal (retornos_mensais):\n",
    "    #print(\"Volatilidade (Risco Mensal) de cada ativo:\")\n",
    "    #display(volatilidade_mensal)\n",
    "    return retornos_mensais.std()\n",
    "\n",
    "\n",
    "    # Calcular a matriz de covariância mensal dos retornos dos ativos\n",
    "def matriz_covarianca_mensal(retornos_mensais):\n",
    "    return retornos_mensais.cov()\n",
    "\n",
    "    #print(\"\\nMatriz de Covariância Mensal:\")\n",
    "    #display(matriz_covarianca_mensal)"
   ]
  },
  {
   "cell_type": "code",
   "execution_count": 12,
   "id": "af284426",
   "metadata": {},
   "outputs": [],
   "source": [
    "def capitalizacao():\n",
    "\n",
    "    capitalizacoes = {}\n",
    "\n",
    "    print(\"Buscando a taxa de câmbio USD/BRL...\")\n",
    "    try:\n",
    "        taxa_usd_brl = yf.Ticker('USDBRL=X').history(period='1d')['Close'].iloc[-1]\n",
    "        print(f\"Taxa de câmbio atual: R$ {taxa_usd_brl:.2f}\")\n",
    "    except Exception as e:\n",
    "        print(f\"Não foi possível buscar a taxa de câmbio. Usando um valor padrão. Erro: {e}\")\n",
    "        taxa_usd_brl = 5.44\n",
    "\n",
    "    print(\"\\nBuscando dados de capitalização/AUM para cada ativo...\")\n",
    "\n",
    "    for ativo in tqdm(ativos, desc=\"Processando Ativos\"):\n",
    "        cap = None\n",
    "        try:\n",
    "            ticker = yf.Ticker(ativo)\n",
    "            info = ticker.info\n",
    "            cap = info.get('marketCap', info.get('totalAssets'))\n",
    "\n",
    "            # Se 'cap' foi encontrado, verificar moeda\n",
    "            if cap is not None and info.get('currency') == 'USD':\n",
    "                cap = cap * taxa_usd_brl\n",
    "                \n",
    "        except Exception as e:\n",
    "            print(f\"INFO: Não foi possível processar {ativo} via API. Verificando fallback. Erro: {e}\")\n",
    "        \n",
    "        nome_ativo = ativo.replace('.SA', '')\n",
    "        capitalizacoes[nome_ativo] = cap\n",
    "\n",
    "    # Criar um Pandas Series com os resultados\n",
    "    capitalizacoes_series = pd.Series(capitalizacoes, name=\"Capitalizacao_BRL\").sort_index()\n",
    "\n",
    "\n",
    "    # Alinhar a ordem dos ativos com a matriz de covariância\n",
    "    ordem_retornos = sorted([c.replace('.SA', '') for c in ativos if c.replace('.SA', '') in capitalizacoes_series.index])\n",
    "    capitalizacoes_series = capitalizacoes_series.reindex(ordem_retornos)\n",
    "\n",
    "    print(\"\\n--- Capitalização de Mercado / AUM (em BRL) - COMPLETO ---\")\n",
    "    display(capitalizacoes_series.map('{:,.0f}'.format))\n",
    "\n",
    "    # Calcular os Pesos de Mercado (w_mkt)\n",
    "    w_mkt = capitalizacoes_series / capitalizacoes_series.sum()\n",
    "\n",
    "    print(\"\\n--- Pesos da Carteira de Mercado (w_mkt)\")\n",
    "    display(w_mkt.map('{:.2%}'.format))\n",
    "\n",
    "    # Verificação final para garantir que a soma dos pesos é 1 (ou 100%)\n",
    "    print(f\"\\nSoma dos pesos: {w_mkt.sum():.4f}\")\n",
    "    \n",
    "    return w_mkt "
   ]
  },
  {
   "cell_type": "code",
   "execution_count": 13,
   "id": "2663296a",
   "metadata": {},
   "outputs": [],
   "source": [
    "# Calcular os retornos históricos do portfólio de mercado\n",
    "\n",
    "#delta_calculado = delta(retornos_mes ,w_mkt)\n",
    "\n",
    "#pi = (delta_calculado, w_mkt, matriz_covarianca_mes)\n",
    "\n",
    "def delta (retornos, w_mkt):\n",
    "\n",
    "    retornos_alinhados = retornos[w_mkt.index]\n",
    "    retornos_mkt = retornos_alinhados @ w_mkt\n",
    "\n",
    "    print(\"Amostra dos retornos históricos do portfólio de mercado:\")\n",
    "    #display(retornos_mkt.head())\n",
    "\n",
    "    # Calcular o prêmio de risco \n",
    "    premio_risco_mkt = retornos_mkt.mean()\n",
    "    print(f\"\\nPrêmio de Risco Mensal Médio (Numerador): {premio_risco_mkt:.4%}\")\n",
    "\n",
    "    # Calcular a variância do mercado \n",
    "    variancia_mkt = retornos_mkt.var()\n",
    "    print(f\"Variância Mensal do Mercado (Denominador): {variancia_mkt:.6f}\")\n",
    "\n",
    "\n",
    "    # Calcular o coeficiente Delta (δ)\n",
    "    delta_calculado = premio_risco_mkt / variancia_mkt\n",
    "\n",
    "    print(f\"O coeficiente de aversão ao risco (δ) calculado é: {delta_calculado:.4f}\")\n",
    "\n",
    "    return delta_calculado\n",
    "\n",
    "def pi(delta_calculado, w_mkt, matriz_cov):\n",
    "\n",
    "    pi = delta_calculado * (matriz_cov @ w_mkt) \n",
    "\n",
    "    #display(pi)\n",
    "    return pi\n",
    "\n",
    "P = np.identity(len(ativos))\n"
   ]
  },
  {
   "cell_type": "code",
   "execution_count": 14,
   "id": "1e691acb",
   "metadata": {},
   "outputs": [],
   "source": [
    "def opinioes_RF(retornos_mensais, dados_macro_historicos ):\n",
    "    # Garante que ambos os DataFrames usem a mesma convenção de data (fim do mês)\n",
    "\n",
    "    print(\"Padronizando os índices de data...\")\n",
    "    retornos_mensais.index = pd.to_datetime(retornos_mensais.index)\n",
    "    retornos_mensais.index = retornos_mensais.index.to_period('M').to_timestamp('M')\n",
    "\n",
    "    dados_macro_historicos.index = pd.to_datetime(dados_macro_historicos.index)\n",
    "    dados_macro_historicos.index = dados_macro_historicos.index.to_period('M').to_timestamp('M')\n",
    "\n",
    "\n",
    "    previsoes_q = {}\n",
    "    ativos = retornos_mensais.columns\n",
    "\n",
    "    for ativo in ativos:\n",
    "        y = retornos_mensais[ativo]\n",
    "        X = dados_macro_historicos\n",
    "\n",
    "        X_lagged = X.shift(1)\n",
    "        \n",
    "        # Junta os alvos (y) e as var. com lag (X_lagged)\n",
    "        dados_completos = pd.concat([y, X_lagged], axis=1)\n",
    "        \n",
    "        # Remove apenas as linhas que ficaram com NaN\n",
    "        dados_completos.dropna(inplace=True)\n",
    "        \n",
    "        y_final = dados_completos[ativo]\n",
    "        X_final = dados_completos[X.columns]\n",
    "\n",
    "        if X_final.empty or y_final.empty:\n",
    "            print(f\" ERRO: Após o preparo, não restaram dados para o ativo {ativo}. Pulando.\")\n",
    "            continue\n",
    "\n",
    "        print(f\"\\n--- Treinando modelo para o ativo: {ativo} ({len(X_final)} amostras) ---\")\n",
    "\n",
    "        # Treinamento do Modelo\n",
    "        modelo_rf = RandomForestRegressor(\n",
    "            n_estimators=200,       # Número de árvores \n",
    "            max_depth=7,            # <-- Limita a profundidade da árvore\n",
    "            max_features='sqrt',    # <-- Usa um subconjunto aleatório de var. macro\n",
    "            min_samples_leaf=5,     # <-- Mais amostras nas folhas finais\n",
    "            random_state=42,\n",
    "            oob_score=True\n",
    "        )\n",
    "        # ----------------------------------------------\n",
    "        \n",
    "        modelo_rf.fit(X_final, y_final)\n",
    "        print(f\"Modelo treinado. OOB Score: {modelo_rf.oob_score_:.4f}\")\n",
    "        \n",
    "        # Geração da Previsão\n",
    "        dados_macro_recentes = dados_macro_historicos.iloc[[-1]]\n",
    "        previsao_retorno = modelo_rf.predict(dados_macro_recentes)\n",
    "        previsoes_q[ativo] = previsao_retorno[0]\n",
    "\n",
    "\n",
    "    if previsoes_q:\n",
    "        q = pd.Series(previsoes_q).reindex(ativos)\n",
    "        #P = np.identity(len(ativos)) P será global\n",
    "\n",
    "        print(\"\\n\\n--- Matrizes de Visão (P e Q) Geradas ---\")\n",
    "        print(\"\\nVetor Q (Previsões de Retorno Mensal %):\")\n",
    "        #display((q * 100).map('{:.4f}%'.format))\n",
    "        #print(\"\\nMatriz P (Visões Absolutas):\")\n",
    "        #display(pd.DataFrame(P, index=q.index, columns=ativos))\n",
    "    else:\n",
    "        print(\"\\nNenhuma previsão pôde ser gerada pois os modelos não foram treinados.\")\n",
    "\n",
    "    return q"
   ]
  },
  {
   "cell_type": "code",
   "execution_count": 15,
   "id": "3fba022f",
   "metadata": {},
   "outputs": [],
   "source": [
    "def opinioes_LR(retornos_mensais, dados_macro_historicos):\n",
    "    \"\"\"\n",
    "    Gera o vetor de visões (Q) usando um modelo de Regressão Linear para cada ativo.\n",
    "    \"\"\"\n",
    "    # Padronização de datas\n",
    "    retornos_mensais.index = pd.to_datetime(retornos_mensais.index).to_period('M').to_timestamp('M')\n",
    "    dados_macro_historicos.index = pd.to_datetime(dados_macro_historicos.index).to_period('M').to_timestamp('M')\n",
    "\n",
    "    previsoes_q = {}\n",
    "    ativos = retornos_mensais.columns\n",
    "\n",
    "    for ativo in ativos:\n",
    "\n",
    "        y = retornos_mensais[ativo]\n",
    "        X = dados_macro_historicos\n",
    "        X_lagged = X.shift(1)\n",
    "        dados_completos = pd.concat([y, X_lagged], axis=1).dropna()\n",
    "        y_final = dados_completos[ativo]\n",
    "        X_final = dados_completos[X.columns]\n",
    "\n",
    "        if X_final.empty or y_final.empty:\n",
    "            print(f\"ERRO: Não há dados suficientes para o ativo {ativo}. Pulando.\")\n",
    "            continue\n",
    "\n",
    "        modelo_lr = LinearRegression() \n",
    "\n",
    "        # Treinamento do Modelo\n",
    "        modelo_lr.fit(X_final, y_final)\n",
    "        \n",
    "        # Avaliação com R-quadrado (R²)\n",
    "        score_r2 = modelo_lr.score(X_final, y_final)\n",
    "        print(f\"Modelo para {ativo} treinado. R² (ajuste de treino): {score_r2:.4f}\")\n",
    "        \n",
    "        # Geração da Previsão\n",
    "        dados_macro_recentes = dados_macro_historicos.iloc[[-1]]\n",
    "        previsao_retorno = modelo_lr.predict(dados_macro_recentes)\n",
    "        previsoes_q[ativo] = previsao_retorno[0]\n",
    "\n",
    "    if not previsoes_q:\n",
    "        print(\"\\nNenhuma previsão pôde ser gerada.\")\n",
    "        return None\n",
    "\n",
    "    q = pd.Series(previsoes_q).reindex(ativos)\n",
    "\n",
    "    print(\"\\n--- Vetor Q (Regressão Linear) Gerado ---\")\n",
    "    #display((q * 100).map('{:.4f}%'.format))\n",
    "    \n",
    "    return q"
   ]
  },
  {
   "cell_type": "code",
   "execution_count": 16,
   "id": "b661e65c",
   "metadata": {},
   "outputs": [],
   "source": [
    "def opinioes_HIBRIDO(retornos_mensais, dados_macro_historicos):\n",
    "    \"\"\"\n",
    "    Gera o vetor de visões (Q) usando um modelo HÍBRIDO:\n",
    "    1. Random Forest é usado para selecionar as features mais importantes.\n",
    "    2. Regressão Ridge é usada para fazer a previsão final com as features selecionadas.\n",
    "    \"\"\"\n",
    "    # Padronização de datas\n",
    "    retornos_mensais.index = pd.to_datetime(retornos_mensais.index).to_period('M').to_timestamp('M')\n",
    "    dados_macro_historicos.index = pd.to_datetime(dados_macro_historicos.index).to_period('M').to_timestamp('M')\n",
    "\n",
    "    # Hiperparâmetro: Quantas features selecionar? \n",
    "    N_FEATURES_PARA_SELECIONAR = 2\n",
    "\n",
    "    previsoes_q = {}\n",
    "    ativos = retornos_mensais.columns\n",
    "\n",
    "    print(f\"--- Gerando Visões com Modelo HÍBRIDO (RF para Seleção, Ridge para Previsão) ---\")\n",
    "    print(f\"Selecionando as {N_FEATURES_PARA_SELECIONAR} features mais importantes para cada ativo.\")\n",
    "\n",
    "    for ativo in ativos:\n",
    "        y = retornos_mensais[ativo]\n",
    "        X = dados_macro_historicos\n",
    "        X_lagged = X.shift(1)\n",
    "        dados_completos = pd.concat([y, X_lagged], axis=1).dropna()\n",
    "        y_final = dados_completos[ativo]\n",
    "        X_final = dados_completos[X.columns]\n",
    "\n",
    "        if len(X_final) < 1:\n",
    "            print(f\"ERRO: Não há dados suficientes para o ativo {ativo}. Pulando.\")\n",
    "            continue\n",
    "\n",
    "        # RF para escolher ar variáveis macro\n",
    "        \n",
    "        seletor_rf = RandomForestRegressor(\n",
    "            n_estimators=200, max_depth=7, max_features='sqrt',\n",
    "            min_samples_leaf=5, random_state=42\n",
    "        )\n",
    "        seletor_rf.fit(X_final, y_final)\n",
    "\n",
    "        # Pega a importância de cada variável e seleciona as N melhores\n",
    "        importancia_features = pd.Series(seletor_rf.feature_importances_, index=X_final.columns)\n",
    "        melhores_features = importancia_features.nlargest(N_FEATURES_PARA_SELECIONAR).index.tolist()\n",
    "        \n",
    "        print(f\"\\nAtivo: {ativo} | Melhores Features: {melhores_features}\")\n",
    "\n",
    "        # Regressão só com as selecionadas\n",
    "        X_final_selecionado = X_final[melhores_features]\n",
    "        dados_macro_recentes_selecionado = dados_macro_historicos.iloc[[-1]][melhores_features]\n",
    "\n",
    "        modelo_final = Ridge(alpha=1.0)\n",
    "        modelo_final.fit(X_final_selecionado, y_final)\n",
    "        \n",
    "        score_r2 = modelo_final.score(X_final_selecionado, y_final)\n",
    "        print(f\"Modelo Ridge treinado com features selecionadas. R²: {score_r2:.4f}\")\n",
    "\n",
    "        # Faz a previsão final \n",
    "        previsao_retorno = modelo_final.predict(dados_macro_recentes_selecionado)\n",
    "        previsoes_q[ativo] = previsao_retorno[0]\n",
    "\n",
    "    if not previsoes_q:\n",
    "        print(\"\\nNenhuma previsão pôde ser gerada.\")\n",
    "        return None\n",
    "\n",
    "    q = pd.Series(previsoes_q).reindex(ativos)\n",
    "\n",
    "    print(\"\\n--- Vetor Q (Modelo Híbrido) Gerado ---\")\n",
    "    #display((q * 100).map('{:.4f}%'.format))\n",
    "    \n",
    "    return q"
   ]
  },
  {
   "cell_type": "code",
   "execution_count": 17,
   "id": "deed2b33",
   "metadata": {},
   "outputs": [],
   "source": [
    "def coletar_e_imputar_fundamentos(ativos_lista, index_para_df):\n",
    "    \"\"\"\n",
    "    Coleta dados fundamentalistas, preenche valores faltantes com a mediana\n",
    "    e exibe um relatório detalhado de imputação em formato de tabela.\n",
    "    \"\"\"\n",
    "    # ... (código para coletar os dados e criar df_fund_bruto) ...\n",
    "    todos_fatores = []\n",
    "    ativos_processados = []\n",
    "\n",
    "    print(\"Coletando dados fundamentalistas brutos para todos os ativos...\")\n",
    "    for ativo in ativos_lista:\n",
    "        try:\n",
    "            ticker_sa = ativo if '.SA' in ativo else ativo + '.SA'\n",
    "            ticker_info = yf.Ticker(ticker_sa).info\n",
    "            \n",
    "            fatores = {\n",
    "                'P_L': ticker_info.get('trailingPE'),\n",
    "                'ROE': ticker_info.get('returnOnEquity'),\n",
    "                'P_VP': ticker_info.get('priceToBook'),\n",
    "                'Div_PL': ticker_info.get('debtToEquity')\n",
    "            }\n",
    "            todos_fatores.append(fatores)\n",
    "            ativos_processados.append(ativo)\n",
    "        except Exception:\n",
    "            print(f\"AVISO: Falha completa ao buscar dados para {ativo}.\")\n",
    "            todos_fatores.append({'P_L': None, 'ROE': None, 'P_VP': None, 'Div_PL': None})\n",
    "            ativos_processados.append(ativo)\n",
    "    \n",
    "    df_fund_bruto = pd.DataFrame(todos_fatores, index=ativos_processados).replace({None: np.nan})\n",
    "    medianas = df_fund_bruto.median()\n",
    "    \n",
    "    # --- A MUDANÇA ESTÁ AQUI: CONSTRUIR UM DATAFRAME DE RELATÓRIO ---\n",
    "    print(\"\\n--- Relatório de Processamento de Fatores ---\")\n",
    "    \n",
    "    # Lista para guardar os dados do relatório\n",
    "    relatorio_data = []\n",
    "    \n",
    "    for ativo in df_fund_bruto.index:\n",
    "        for fator in df_fund_bruto.columns:\n",
    "            valor_bruto = df_fund_bruto.loc[ativo, fator]\n",
    "            \n",
    "            if pd.isna(valor_bruto):\n",
    "                status = \"Faltante -> IMPUTADO\"\n",
    "                valor_final = medianas.get(fator, 0)\n",
    "            else:\n",
    "                status = \"Encontrado\"\n",
    "                valor_final = valor_bruto\n",
    "            \n",
    "            relatorio_data.append({\n",
    "                'Ativo': ativo,\n",
    "                'Fator': fator,\n",
    "                'Status': status,\n",
    "                'Valor Final': valor_final\n",
    "            })\n",
    "\n",
    "    # Cria o DataFrame do relatório a partir da lista\n",
    "    df_relatorio = pd.DataFrame(relatorio_data)\n",
    "    \n",
    "    # Usa o display (que já está configurado para mostrar tudo)\n",
    "    #display(df_relatorio)\n",
    "    # -----------------------------------------------------------------\n",
    "\n",
    "    # O resto da função continua o mesmo\n",
    "    df_fund_imputado = df_fund_bruto.fillna(medianas)\n",
    "    df_fund_imputado.fillna(0, inplace=True)\n",
    "    \n",
    "    return df_fund_imputado\n",
    "\n",
    "\n",
    "def opinioes_RF_com_fundamentos(retornos_historicos, dados_macro_historicos):\n",
    "    \n",
    "    # --- CORREÇÃO 1: Usar as variáveis recebidas como parâmetro ---\n",
    "    print(\"Padronizando os índices de data...\")\n",
    "    retornos_historicos.index = pd.to_datetime(retornos_historicos.index).to_period('M').to_timestamp('M')\n",
    "    dados_macro_historicos.index = pd.to_datetime(dados_macro_historicos.index).to_period('M').to_timestamp('M')\n",
    "    # -----------------------------------------------------------\n",
    "\n",
    "\n",
    "    # --- ETAPA NOVA: Obter features fundamentalistas já limpas e imputadas ---\n",
    "    # Coleta os dados de todos os ativos de uma vez\n",
    "    df_fund_completo = coletar_e_imputar_fundamentos(retornos_historicos.columns, dados_macro_historicos.index)\n",
    "    # -------------------------------------------------------------------\n",
    "\n",
    "    previsoes_q = {}\n",
    "    ativos = retornos_historicos.columns\n",
    "\n",
    "    for ativo in ativos:\n",
    "        # Pega as colunas de fatores fundamentalistas relevantes para este ativo\n",
    "        fatores_fund_ativo = [col for col in df_fund_completo.columns if col.startswith(ativo)]\n",
    "        df_fatores_fund_ativo = df_fund_completo[fatores_fund_ativo]\n",
    "        \n",
    "        # Combina features macro com as fundamentalistas deste ativo\n",
    "        X_completo = pd.concat([dados_macro_historicos, df_fatores_fund_ativo], axis=1)\n",
    "        \n",
    "        # --- CORREÇÃO 2: Garantir que Treino e Previsão usem as mesmas features ---\n",
    "        \n",
    "        # Primeiro, define-se o dado para prever (a última linha do conjunto completo de features)\n",
    "        dados_para_prever = X_completo.iloc[[-1]]\n",
    "        \n",
    "        # Agora, prepara-se os dados de TREINO (com lag)\n",
    "        y = retornos_historicos[ativo]\n",
    "        X_lagged = X_completo.shift(1)\n",
    "        dados_completos = pd.concat([y, X_lagged], axis=1).dropna()\n",
    "        \n",
    "        y_final = dados_completos[ativo]\n",
    "        X_final = dados_completos[X_completo.columns] # Features de treino\n",
    "\n",
    "        if X_final.empty or y_final.empty:\n",
    "            print(f\"ERRO: Após o preparo, não restaram dados para o ativo {ativo}. Pulando.\")\n",
    "            continue\n",
    "\n",
    "        print(f\"\\n--- Treinando modelo para o ativo: {ativo} ({len(X_final)} amostras) ---\")\n",
    "        \n",
    "        # Treinamento do Modelo\n",
    "        modelo_rf = RandomForestRegressor(n_estimators=200, max_depth=7, max_features='sqrt',\n",
    "                                           min_samples_leaf=5, random_state=42, oob_score=True)\n",
    "        modelo_rf.fit(X_final, y_final)\n",
    "        print(f\"Modelo treinado. OOB Score: {modelo_rf.oob_score_:.4f}\")\n",
    "        \n",
    "        # Geração da Previsão (usando 'dados_para_prever', que tem o formato correto)\n",
    "        previsao_retorno = modelo_rf.predict(dados_para_prever)\n",
    "        previsoes_q[ativo] = previsao_retorno[0]\n",
    "        # ----------------------------------------------------\n",
    "\n",
    "    if not previsoes_q:\n",
    "        print(\"\\nNenhuma previsão pôde ser gerada.\")\n",
    "        return None\n",
    "\n",
    "    q = pd.Series(previsoes_q).reindex(ativos)\n",
    "    #print(\"\\n--- Vetor Q (RF com Fundamentos) Gerado ---\")\n",
    "    #display((q * 100).map('{:.4f}%'.format))\n",
    "    \n",
    "    return q"
   ]
  },
  {
   "cell_type": "code",
   "execution_count": 18,
   "id": "d3542a91",
   "metadata": {},
   "outputs": [],
   "source": [
    "def opinioes_RF_fundamentalista(retornos_mensais):\n",
    "    \"\"\"\n",
    "    Gera o vetor de visões (Q) usando um modelo Random Forest para cada ativo,\n",
    "    baseado em features FUNDAMENTALISTAS e de MOMENTUM (corrigido).\n",
    "    \"\"\"\n",
    "    print(\"--- Gerando Visões com Modelo Fundamentalista/Momentum ---\")\n",
    "\n",
    "    ativos_lista = retornos_mensais.columns.tolist()\n",
    "\n",
    "    # --- ETAPA 1: Obter features fundamentalistas ---\n",
    "    # (Esta parte permanece a mesma)\n",
    "    df_fundamentos = coletar_e_imputar_fundamentos(ativos_lista, retornos_mensais.index)\n",
    "    \n",
    "    # --- ETAPA 2: Criar Features de Momentum (Versão Corrigida) ---\n",
    "    print(\"\\nCalculando features de Momentum específicas para cada ativo...\")\n",
    "    df_momentum = pd.DataFrame(index=retornos_mensais.index)\n",
    "    \n",
    "    # Itera sobre as janelas de tempo desejadas\n",
    "    for n in [3, 6, 12]:\n",
    "        # Calcula o retorno acumulado para TODOS os ativos de uma vez\n",
    "        retornos_acumulados = retornos_mensais.rolling(n).sum()\n",
    "        \n",
    "        # Renomeia as colunas para incluir o sufixo do momentum (ex: 'ABEV3' -> 'ABEV3_mom_3m')\n",
    "        retornos_acumulados_renomeado = retornos_acumulados.add_suffix(f'_mom_{n}m')\n",
    "        \n",
    "        # Junta as novas colunas de momentum ao nosso DataFrame principal de momentum\n",
    "        df_momentum = pd.concat([df_momentum, retornos_acumulados_renomeado], axis=1)\n",
    "    \n",
    "    print(\"Features de Momentum criadas com sucesso.\")\n",
    "    # -----------------------------------------------------------------\n",
    "    \n",
    "    # --- ETAPA 3: Loop de Treinamento e Previsão ---\n",
    "    previsoes_q = {}\n",
    "\n",
    "    for ativo in ativos_lista:\n",
    "        print(f\"\\n--- Processando ativo: {ativo} ---\")\n",
    "        \n",
    "        # Pega as features fundamentalistas deste ativo\n",
    "        # (agora o df_fundamentos tem ativos no índice)\n",
    "        features_fund_ativo = df_fundamentos.loc[ativo].to_dict()\n",
    "        df_fund_ativo = pd.DataFrame([features_fund_ativo], index=retornos_mensais.index)\n",
    "        \n",
    "        # Seleciona as colunas de momentum relevantes para este ativo\n",
    "        colunas_mom_ativo = [col for col in df_momentum.columns if col.startswith(ativo)]\n",
    "        df_mom_ativo = df_momentum[colunas_mom_ativo]\n",
    "        \n",
    "        # Combina as features para criar o X deste ativo\n",
    "        X = pd.concat([df_fund_ativo, df_mom_ativo], axis=1)\n",
    "        y = retornos_mensais[ativo]\n",
    "        \n",
    "        # Preparação dos dados de treino (com lag)\n",
    "        X_lagged = X.shift(1)\n",
    "        dados_completos = pd.concat([y, X_lagged], axis=1).dropna()\n",
    "        \n",
    "        y_final = dados_completos[ativo]\n",
    "        X_final = dados_completos[X.columns]\n",
    "\n",
    "        if X_final.empty or y_final.empty:\n",
    "            print(f\"ERRO: Não há dados suficientes para o ativo {ativo}. Pulando.\")\n",
    "            previsoes_q[ativo] = 0 # Adiciona 0 como previsão neutra para não quebrar o código\n",
    "            continue\n",
    "\n",
    "        print(f\"Treinando modelo para {ativo} ({len(X_final)} amostras)...\")\n",
    "\n",
    "        # Treinamento do Modelo Random Forest\n",
    "        modelo_rf = RandomForestRegressor(\n",
    "            n_estimators=200, max_depth=7, max_features='sqrt',\n",
    "            min_samples_leaf=5, random_state=42, oob_score=True\n",
    "        )\n",
    "        modelo_rf.fit(X_final, y_final)\n",
    "        print(f\"Modelo treinado. OOB Score: {modelo_rf.oob_score_:.4f}\")\n",
    "        \n",
    "        # Geração da Previsão\n",
    "        dados_para_prever = X.iloc[[-1]]\n",
    "        previsao_retorno = modelo_rf.predict(dados_para_prever)\n",
    "        previsoes_q[ativo] = previsao_retorno[0]\n",
    "\n",
    "    q = pd.Series(previsoes_q).reindex(ativos_lista)\n",
    "    print(\"\\n--- Vetor Q (Modelo Fundamentalista) Gerado ---\")\n",
    "    #display((q * 100).map('{:.4f}%'.format))\n",
    "    \n",
    "    return q"
   ]
  },
  {
   "cell_type": "code",
   "execution_count": 19,
   "id": "3bbd1993",
   "metadata": {},
   "outputs": [],
   "source": [
    "def obter_distribuicao_de_visoes_RF(retornos_historicos, dados_macro_historicos):\n",
    "    \"\"\"\n",
    "    Treina um modelo Random Forest para cada ativo e retorna um dicionário\n",
    "    com a DISTRIBUIÇÃO das previsões de cada árvore individual da floresta.\n",
    "    \"\"\"\n",
    "    distribuicao_visoes = {}\n",
    "    ativos = retornos_historicos.columns\n",
    "\n",
    "    # Loop para treinar um modelo para cada ativo\n",
    "    for ativo in ativos:\n",
    "        # (Aqui entra todo o seu código de preparação de X_final e y_final)\n",
    "        # ...\n",
    "        y = retornos_historicos[ativo]\n",
    "        X = dados_macro_historicos\n",
    "        X_lagged = X.shift(1)\n",
    "        dados_completos = pd.concat([y, X_lagged], axis=1).dropna()\n",
    "        y_final = dados_completos[ativo]\n",
    "        X_final = dados_completos[X.columns]\n",
    "        \n",
    "        if X_final.empty:\n",
    "            print(f\"AVISO: Sem dados para treinar {ativo}. A visão será neutra (0).\")\n",
    "            distribuicao_visoes[ativo] = np.array([0.0]) # Visão neutra\n",
    "            continue\n",
    "\n",
    "        # Treinamento do Modelo Random Forest\n",
    "        modelo_rf = RandomForestRegressor(n_estimators=200, max_depth=7, max_features='sqrt',\n",
    "                                           min_samples_leaf=5, random_state=42)\n",
    "        modelo_rf.fit(X_final, y_final)\n",
    "        \n",
    "        # Geração da Previsão\n",
    "        dados_para_prever = X.iloc[[-1]]\n",
    "        \n",
    "        # --- A MÁGICA ESTÁ AQUI ---\n",
    "        # Pega a previsão de cada árvore individualmente\n",
    "        previsoes_arvores = [tree.predict(dados_para_prever) for tree in modelo_rf.estimators_]\n",
    "        \n",
    "        # Achata a lista de arrays para uma lista simples de números\n",
    "        distribuicao_visoes[ativo] = np.array(previsoes_arvores).flatten()\n",
    "        # -------------------------\n",
    "\n",
    "    return distribuicao_visoes"
   ]
  },
  {
   "cell_type": "code",
   "execution_count": 20,
   "id": "583cf8f4",
   "metadata": {},
   "outputs": [],
   "source": [
    "#pip install google-genai"
   ]
  },
  {
   "cell_type": "code",
   "execution_count": 21,
   "id": "d3ff5fa8",
   "metadata": {},
   "outputs": [],
   "source": [
    "#pip install openai"
   ]
  },
  {
   "cell_type": "code",
   "execution_count": 22,
   "id": "eb35de8d",
   "metadata": {},
   "outputs": [],
   "source": [
    "# import os\n",
    "# from openai import OpenAI\n",
    "\n",
    "# # To authenticate with the model you will need to generate a personal access token (PAT) in your GitHub settings. \n",
    "# # Create your PAT token by following instructions here: https://docs.github.com/en/authentication/keeping-your-account-and-data-secure/managing-your-personal-access-tokens\n",
    "# client = OpenAI(\n",
    "#     base_url=\"https://models.github.ai/inference\",\n",
    "#     api_key=os.environ[\"GITHUB_TOKEN\"],\n",
    "# )\n",
    "\n",
    "# response = client.chat.completions.create(\n",
    "#     messages=[\n",
    "#         {\n",
    "#             \"role\": \"system\",\n",
    "#             \"content\": \"\",\n",
    "#         },\n",
    "#         {\n",
    "#             \"role\": \"user\",\n",
    "#             \"content\": \"What is the capital of France?\",\n",
    "#         }\n",
    "#     ],\n",
    "#     model=\"openai/gpt-4o\",\n",
    "#     temperature=1,\n",
    "#     max_tokens=4096,\n",
    "#     top_p=1\n",
    "# )\n",
    "\n",
    "# print(response.choices[0].message.content)\n"
   ]
  },
  {
   "cell_type": "code",
   "execution_count": 23,
   "id": "cd3abddc",
   "metadata": {},
   "outputs": [],
   "source": [
    "def opinioes_LLM(retornos_mensais, dados_macro_historicos):\n",
    "    \"\"\"\n",
    "    Gera a matriz Q de visões (n x 1) usando a API de Modelos do GitHub.\n",
    "    \"\"\"\n",
    "    \n",
    "    # Os prompts não mudam. A tarefa para a IA é a mesma.\n",
    "    system_prompt = \"\"\"\n",
    "    You are a quantitative financial analyst AI. Your task is to predict an asset's return based on historical data.\n",
    "    Analyze the provided data and estimate the average monthly return for the next month.\n",
    "    \n",
    "    Output Format:\n",
    "    Return a single float value that represents the predicted average monthly return for the stock, without any additional commentary or explanation. For example: 0.015 or -0.005.\n",
    "    \"\"\"\n",
    "\n",
    "    user_prompt_template = \"\"\"\n",
    "    Please provide the prediction for the following asset:\n",
    "    - Ticker: {ticker}\n",
    "    - Monthly Returns Time-Series:\n",
    "    {retornos_mensais_str}\n",
    "\n",
    "    - Macroeconomics Data Time-Series:\n",
    "    {dados_macro_historicos_str}\n",
    "    \"\"\"\n",
    "\n",
    "    client = None\n",
    "    try:\n",
    "        # Carregue seu TOKEN DO GITHUB do seu arquivo\n",
    "        with open('../acessos.txt', 'r') as f:\n",
    "            # Assumindo que o arquivo agora contém o seu GitHub PAT\n",
    "            github_token = f.readline().strip()\n",
    "            #print(github_token)\n",
    "        \n",
    "        # 1. (GRANDE MUDANÇA) Inicializar o cliente OpenAI com os dados do GitHub\n",
    "        #client = OpenAI(\n",
    "        #     base_url=\"https://models.github.ai/inference\",\n",
    "        #     api_key=github_token,\n",
    "        # )\n",
    "        print(\"Cliente OpenAI configurado para usar o endpoint do GitHub com sucesso.\")\n",
    "\n",
    "    except Exception as e:\n",
    "        print(f\"Ocorreu um erro ao configurar o cliente: {e}\")\n",
    "\n",
    "    if client is None:\n",
    "        print(\"Cliente não inicializado. Retornando matriz de zeros.\")\n",
    "        return np.zeros((n_ativos, 1))\n",
    "\n",
    "    views = []\n",
    "    print(f\"\\nIniciando geração de visões para {n_ativos} ativos com a API do GitHub...\")\n",
    "\n",
    "    global ativos\n",
    "    ativos = [ticker.replace('.SA', '') for ticker in ativos]\n",
    "\n",
    "    for ticker in ativos:\n",
    "        print(f\"Processando ativo: {ticker}...\")\n",
    "        try:\n",
    "            # Esta parte da lógica não muda nada\n",
    "            stock_returns = retornos_mensais[ticker]\n",
    "            returns_str = stock_returns.to_string()\n",
    "            macro_str = dados_macro_historicos.to_string()\n",
    "\n",
    "            user_prompt = user_prompt_template.format(\n",
    "                ticker=ticker,\n",
    "                retornos_mensais_str=returns_str,\n",
    "                dados_macro_historicos_str=macro_str\n",
    "            )\n",
    "            \n",
    "            messages = [\n",
    "                {\"role\": \"system\", \"content\": system_prompt},\n",
    "                {\"role\": \"user\", \"content\": user_prompt}\n",
    "            ]\n",
    "            \n",
    "            # 2. (PEQUENA MUDANÇA) Chamar a API usando o nome de modelo específico do GitHub\n",
    "            response = client.chat.completions.create(\n",
    "                model=\"openai/gpt-4o\",  # Use o nome exato da documentação\n",
    "                messages=messages,\n",
    "                temperature=0.2 # Recomendo uma temperatura baixa para maior consistência\n",
    "            )\n",
    "            \n",
    "            # Esta parte não muda, a estrutura da resposta é a mesma\n",
    "            predicted_return_str = response.choices[0].message.content.strip()\n",
    "            predicted_return_float = float(predicted_return_str)\n",
    "            \n",
    "            views.append(predicted_return_float)\n",
    "            print(f\"  -> Visão para {ticker}: {predicted_return_float:.4f}\")\n",
    "\n",
    "        except Exception as e:\n",
    "            print(f\"  -> ERRO: Ocorreu um problema ao processar {ticker}: {e}. Usando 0.0 como padrão.\")\n",
    "            views.append(0.0)\n",
    "\n",
    "    q_matrix = np.array(views).reshape(-1, 1)\n",
    "    return q_matrix"
   ]
  },
  {
   "cell_type": "code",
   "execution_count": 24,
   "id": "62eeac1b",
   "metadata": {},
   "outputs": [],
   "source": [
    "def black_litterman(pi, q, matriz_covarianca_mensal, dados_macro_historicos ):\n",
    "    # T é o número de observações no histórico disponível NESTE PONTO do backtest\n",
    "    T = len(dados_macro_historicos)\n",
    "    print(T)\n",
    "\n",
    "    tau =  1.0 / T\n",
    "\n",
    "    omega = np.zeros((n_ativos, n_ativos))\n",
    "\n",
    "    num_opinioes = n_ativos # Mudar se fizer tbm com visões relativas \n",
    "\n",
    "    for i in range(num_opinioes):\n",
    "        for j in range(num_opinioes):\n",
    "            if i == j:\n",
    "\n",
    "                omega[i][j] = np.dot( tau * np.dot(P[i], matriz_covarianca_mensal), P[i].T) #variância das visões do investidor multiplicada pelo escalar tau \n",
    "\n",
    "    if not isinstance(matriz_covarianca_mensal, np.ndarray):\n",
    "        matriz_covarianca_mensal = np.array(matriz_covarianca_mensal)\n",
    "\n",
    "\n",
    "    qpt = np.dot(matriz_covarianca_mensal, P.T)\n",
    "\n",
    "    pi = np.array(pi).reshape(-1, 1)          # (n, 1)\n",
    "    q = np.array(q).reshape(-1, 1)\n",
    "\n",
    "    retornos = np.array(pi) + np.array(tau * np.dot (qpt,\n",
    "                        np.dot(np.linalg.inv(np.array(np.dot(P, qpt)) + np.array(omega)),\n",
    "                        np.array(q)-np.array(np.dot(P,pi)))))\n",
    "\n",
    "    retornos = retornos.flatten().tolist()\n",
    "\n",
    "    print(\"Retornos previstos pelo modelo: \")\n",
    "    # resultado\n",
    "\n",
    "    print(n_ativos)\n",
    "    for i in range(n_ativos):\n",
    "        print(ativos[i] +': %.2f' %(retornos[i]*100)+'%')\n",
    "    \n",
    "    return retornos"
   ]
  },
  {
   "cell_type": "code",
   "execution_count": 25,
   "id": "324eb92f",
   "metadata": {},
   "outputs": [
    {
     "name": "stdout",
     "output_type": "stream",
     "text": [
      "Buscando a taxa de câmbio USD/BRL...\n",
      "Taxa de câmbio atual: R$ 5.33\n",
      "\n",
      "Buscando dados de capitalização/AUM para cada ativo...\n"
     ]
    },
    {
     "name": "stderr",
     "output_type": "stream",
     "text": [
      "Processando Ativos: 100%|██████████| 10/10 [00:06<00:00,  1.65it/s]"
     ]
    },
    {
     "name": "stdout",
     "output_type": "stream",
     "text": [
      "\n",
      "--- Capitalização de Mercado / AUM (em BRL) - COMPLETO ---\n"
     ]
    },
    {
     "name": "stderr",
     "output_type": "stream",
     "text": [
      "\n"
     ]
    },
    {
     "data": {
      "text/plain": [
       "ABEV3    185,080,430,592\n",
       "BBAS3    123,187,060,736\n",
       "BRFS3     28,579,856,384\n",
       "EGIE3     32,881,887,232\n",
       "ITUB4    387,382,444,032\n",
       "LREN3     14,575,734,784\n",
       "PETR4    414,956,126,208\n",
       "SLCE3      7,032,841,216\n",
       "VALE3    250,107,740,160\n",
       "WEGE3    152,723,341,312\n",
       "Name: Capitalizacao_BRL, dtype: object"
      ]
     },
     "metadata": {},
     "output_type": "display_data"
    },
    {
     "name": "stdout",
     "output_type": "stream",
     "text": [
      "\n",
      "--- Pesos da Carteira de Mercado (w_mkt)\n"
     ]
    },
    {
     "data": {
      "text/plain": [
       "ABEV3    11.59%\n",
       "BBAS3     7.72%\n",
       "BRFS3     1.79%\n",
       "EGIE3     2.06%\n",
       "ITUB4    24.26%\n",
       "LREN3     0.91%\n",
       "PETR4    25.99%\n",
       "SLCE3     0.44%\n",
       "VALE3    15.67%\n",
       "WEGE3     9.57%\n",
       "Name: Capitalizacao_BRL, dtype: object"
      ]
     },
     "metadata": {},
     "output_type": "display_data"
    },
    {
     "name": "stdout",
     "output_type": "stream",
     "text": [
      "\n",
      "Soma dos pesos: 1.0000\n"
     ]
    },
    {
     "name": "stderr",
     "output_type": "stream",
     "text": [
      "[*********************100%***********************]  10 of 10 completed\n"
     ]
    },
    {
     "name": "stdout",
     "output_type": "stream",
     "text": [
      "             Selic\n",
      "Date              \n",
      "2012-01-01  0.0089\n",
      "2012-02-01  0.0075\n",
      "2012-03-01  0.0082\n",
      "2012-04-01  0.0071\n",
      "2012-05-01  0.0074\n",
      "...            ...\n",
      "2025-03-01  0.0096\n",
      "2025-04-01  0.0106\n",
      "2025-05-01  0.0114\n",
      "2025-06-01  0.0110\n",
      "2025-07-01  0.0128\n",
      "\n",
      "[163 rows x 1 columns]\n",
      "Selic baixada e convertida para taxa mensal.\n",
      "Calculando os retornos excedentes (descontando a taxa livre de risco)...\n",
      "\n",
      "--- Amostra dos Retornos Excedentes Calculados ---\n"
     ]
    },
    {
     "data": {
      "text/html": [
       "<div>\n",
       "<style scoped>\n",
       "    .dataframe tbody tr th:only-of-type {\n",
       "        vertical-align: middle;\n",
       "    }\n",
       "\n",
       "    .dataframe tbody tr th {\n",
       "        vertical-align: top;\n",
       "    }\n",
       "\n",
       "    .dataframe thead th {\n",
       "        text-align: right;\n",
       "    }\n",
       "</style>\n",
       "<table border=\"1\" class=\"dataframe\">\n",
       "  <thead>\n",
       "    <tr style=\"text-align: right;\">\n",
       "      <th></th>\n",
       "      <th>ABEV3</th>\n",
       "      <th>BBAS3</th>\n",
       "      <th>BRFS3</th>\n",
       "      <th>EGIE3</th>\n",
       "      <th>ITUB4</th>\n",
       "      <th>LREN3</th>\n",
       "      <th>PETR4</th>\n",
       "      <th>SLCE3</th>\n",
       "      <th>VALE3</th>\n",
       "      <th>WEGE3</th>\n",
       "    </tr>\n",
       "    <tr>\n",
       "      <th>Date</th>\n",
       "      <th></th>\n",
       "      <th></th>\n",
       "      <th></th>\n",
       "      <th></th>\n",
       "      <th></th>\n",
       "      <th></th>\n",
       "      <th></th>\n",
       "      <th></th>\n",
       "      <th></th>\n",
       "      <th></th>\n",
       "    </tr>\n",
       "  </thead>\n",
       "  <tbody>\n",
       "    <tr>\n",
       "      <th>2012-02-29</th>\n",
       "      <td>0.103766</td>\n",
       "      <td>0.009277</td>\n",
       "      <td>0.029384</td>\n",
       "      <td>-0.006182</td>\n",
       "      <td>0.039580</td>\n",
       "      <td>0.095179</td>\n",
       "      <td>-0.009946</td>\n",
       "      <td>-0.013770</td>\n",
       "      <td>-0.033564</td>\n",
       "      <td>-0.027199</td>\n",
       "    </tr>\n",
       "    <tr>\n",
       "      <th>2012-03-31</th>\n",
       "      <td>0.071949</td>\n",
       "      <td>-0.066032</td>\n",
       "      <td>-0.005418</td>\n",
       "      <td>0.066002</td>\n",
       "      <td>-0.060010</td>\n",
       "      <td>-0.050055</td>\n",
       "      <td>-0.048491</td>\n",
       "      <td>0.195383</td>\n",
       "      <td>-0.023237</td>\n",
       "      <td>0.035146</td>\n",
       "    </tr>\n",
       "    <tr>\n",
       "      <th>2012-04-30</th>\n",
       "      <td>0.074665</td>\n",
       "      <td>-0.092048</td>\n",
       "      <td>-0.039566</td>\n",
       "      <td>-0.003135</td>\n",
       "      <td>-0.147457</td>\n",
       "      <td>-0.027663</td>\n",
       "      <td>-0.094337</td>\n",
       "      <td>-0.041019</td>\n",
       "      <td>-0.014118</td>\n",
       "      <td>0.013242</td>\n",
       "    </tr>\n",
       "    <tr>\n",
       "      <th>2012-05-31</th>\n",
       "      <td>-0.081588</td>\n",
       "      <td>-0.172067</td>\n",
       "      <td>-0.111964</td>\n",
       "      <td>0.022745</td>\n",
       "      <td>-0.030580</td>\n",
       "      <td>-0.035618</td>\n",
       "      <td>-0.114380</td>\n",
       "      <td>0.023950</td>\n",
       "      <td>-0.107659</td>\n",
       "      <td>0.024845</td>\n",
       "    </tr>\n",
       "    <tr>\n",
       "      <th>2012-06-30</th>\n",
       "      <td>0.002666</td>\n",
       "      <td>-0.027341</td>\n",
       "      <td>-0.038776</td>\n",
       "      <td>0.098512</td>\n",
       "      <td>-0.040979</td>\n",
       "      <td>-0.037844</td>\n",
       "      <td>-0.043199</td>\n",
       "      <td>0.055752</td>\n",
       "      <td>0.058986</td>\n",
       "      <td>-0.071451</td>\n",
       "    </tr>\n",
       "  </tbody>\n",
       "</table>\n",
       "</div>"
      ],
      "text/plain": [
       "               ABEV3     BBAS3     BRFS3     EGIE3     ITUB4     LREN3  \\\n",
       "Date                                                                     \n",
       "2012-02-29  0.103766  0.009277  0.029384 -0.006182  0.039580  0.095179   \n",
       "2012-03-31  0.071949 -0.066032 -0.005418  0.066002 -0.060010 -0.050055   \n",
       "2012-04-30  0.074665 -0.092048 -0.039566 -0.003135 -0.147457 -0.027663   \n",
       "2012-05-31 -0.081588 -0.172067 -0.111964  0.022745 -0.030580 -0.035618   \n",
       "2012-06-30  0.002666 -0.027341 -0.038776  0.098512 -0.040979 -0.037844   \n",
       "\n",
       "               PETR4     SLCE3     VALE3     WEGE3  \n",
       "Date                                                \n",
       "2012-02-29 -0.009946 -0.013770 -0.033564 -0.027199  \n",
       "2012-03-31 -0.048491  0.195383 -0.023237  0.035146  \n",
       "2012-04-30 -0.094337 -0.041019 -0.014118  0.013242  \n",
       "2012-05-31 -0.114380  0.023950 -0.107659  0.024845  \n",
       "2012-06-30 -0.043199  0.055752  0.058986 -0.071451  "
      ]
     },
     "metadata": {},
     "output_type": "display_data"
    }
   ],
   "source": [
    "w_mkt = capitalizacao()\n",
    "\n",
    "retornos_mes = retornos_mensais(data_inicio, data_fim )\n",
    "retornos_mes.index = pd.to_datetime(retornos_mes.index).to_period('M').to_timestamp('M')\n",
    "\n",
    "volatilidade_mes = volatilidade_mensal(retornos_mes)\n",
    "matriz_covarianca_mes = matriz_covarianca_mensal(retornos_mes)\n",
    "\n"
   ]
  },
  {
   "cell_type": "code",
   "execution_count": 26,
   "id": "55f4ca00",
   "metadata": {},
   "outputs": [],
   "source": [
    "def volatilidade(peso, cov_matrix):\n",
    "    \"\"\"Calcula a volatilidade da carteira.\"\"\"\n",
    "    return np.sqrt(np.dot(peso.T, np.dot(cov_matrix, peso)))\n",
    "\n",
    "def retorno_esperado(peso, retornos_modelo):\n",
    "    \"\"\"Calcula o retorno esperado da carteira.\"\"\"\n",
    "    return np.dot(retornos_modelo, peso)\n",
    "\n",
    "def neg_ratio(peso, retornos_modelo, cov_matrix):\n",
    "    \"\"\"\n",
    "    Calcula o negativo do Sharpe Ratio.\n",
    "    Esta é a nossa função objetivo para a minimização.\n",
    "    \"\"\"\n",
    "    vol = volatilidade(peso, cov_matrix)\n",
    "    if vol == 0:\n",
    "        return np.inf  # Retorna infinito se a volatilidade for zero para evitar divisão por zero\n",
    "\n",
    "    ret = retorno_esperado(peso, retornos_modelo)\n",
    "    sharpe = ret / vol\n",
    "    return -sharpe\n",
    "\n",
    "\n",
    "limites   = tuple((0.05,1) for x in range(n_ativos))    \n",
    "\n",
    "restricao = (\n",
    "    {'type': 'eq', 'fun': lambda x: np.sum(x) - 1},             \n",
    "    )     \n",
    "\n",
    "# Chute inicial: uma carteira com pesos iguais para todos os ativos\n",
    "chute_inicial = w_mkt\n",
    "\n",
    "def otimizacao(retornos_modelo, matriz_covarianca_mes):\n",
    "    max_ratio = scpopt.minimize(neg_ratio,\n",
    "                            x0=chute_inicial,\n",
    "                            args=(retornos_modelo, matriz_covarianca_mes),  \n",
    "                            method='SLSQP',\n",
    "                            bounds=limites,\n",
    "                            constraints=restricao\n",
    "                           )\n",
    "    \n",
    "    vetor_otimizados = []\n",
    "\n",
    "    if max_ratio.success:\n",
    "        print(f\"Otimização bem-sucedida: {max_ratio.message}\")\n",
    "\n",
    "        pesos_otimizados = max_ratio.x\n",
    "\n",
    "        retorno_otimizado = retorno_esperado(pesos_otimizados, retornos_modelo)\n",
    "        vetor_otimizados.append(retorno_otimizado)\n",
    "\n",
    "        volatilidade_otimizada = volatilidade(pesos_otimizados,  matriz_covarianca_mes)\n",
    "        vetor_otimizados.append(volatilidade_otimizada)\n",
    "\n",
    "        sharpe_otimizado = retorno_otimizado / volatilidade_otimizada\n",
    "        vetor_otimizados.append(sharpe_otimizado)\n",
    "\n",
    "        print(f\"\\nRetorno Esperado da Carteira Otimizada: {retorno_otimizado*100:.2f}% (mensal)\")\n",
    "        print(f\"Volatilidade da Carteira Otimizada: {volatilidade_otimizada*100:.2f}% (mensal)\")\n",
    "        print(f\"Índice Sharpe Otimizado: {sharpe_otimizado:.4f}\")\n",
    "\n",
    "        print(\"\\nPesos da Carteira Otimizada:\")\n",
    "        pesos_df = pd.DataFrame({'Ativo': ativos, 'Peso (%)': pesos_otimizados * 100})\n",
    "        pesos_df.set_index('Ativo', inplace=True)\n",
    "        display(pesos_df)\n",
    "\n",
    "    else:\n",
    "        print(f\"A otimização falhou: {max_ratio.message}\")\n",
    "    \n",
    "    return vetor_otimizados\n",
    "\n",
    "def otimizar_pesos(retornos_modelo, matriz_cov):\n",
    "    \"\"\"\n",
    "    Executa a otimização e retorna APENAS o vetor de pesos da carteira.\n",
    "    Ideal para ser usada dentro de um loop de backtest.\n",
    "    \"\"\"\n",
    "    n_ativos = len(retornos_modelo)\n",
    "    limites = tuple((0.05, 1) for _ in range(n_ativos)) \n",
    "    restricao = ({'type': 'eq', 'fun': lambda x: np.sum(x) - 1})\n",
    "    chute_inicial = w_mkt  #n_ativos * [1. / n_ativos] \n",
    "\n",
    "    max_ratio = scpopt.minimize(neg_ratio,\n",
    "                                x0=chute_inicial,\n",
    "                                args=(retornos_modelo, matriz_cov),\n",
    "                                method='SLSQP',\n",
    "                                bounds=limites,\n",
    "                                constraints=restricao)\n",
    "    \n",
    "    if max_ratio.success:\n",
    "        return max_ratio.x  # <-- RETORNA APENAS OS PESOS\n",
    "    else:\n",
    "        return None\n"
   ]
  },
  {
   "cell_type": "code",
   "execution_count": 27,
   "id": "2b2a875c",
   "metadata": {},
   "outputs": [],
   "source": [
    "def obter_pesos_resampled(retornos_historicos, n_simulacoes=100):\n",
    "    \"\"\"\n",
    "    Versão garantida que retorna um dicionário.\n",
    "    \"\"\"\n",
    "    n_ativos = retornos_historicos.shape[1]\n",
    "    lista_pesos_otimos = []\n",
    "    \n",
    "    # (O código do loop de simulação continua o mesmo)\n",
    "    for _ in range(n_simulacoes):\n",
    "        retornos_simulados = retornos_historicos.sample(n=len(retornos_historicos), replace=True)\n",
    "        mu_simulado = retornos_simulados.mean()\n",
    "        sigma_simulado = retornos_simulados.cov()\n",
    "        chute_inicial = w_mkt\n",
    "        limites = tuple((0.05, 1.0) for _ in range(n_ativos))\n",
    "        restricao = ({'type': 'eq', 'fun': lambda x: np.sum(x) - 1})\n",
    "        res = scpopt.minimize(neg_ratio, x0=chute_inicial, args=(mu_simulado, sigma_simulado),\n",
    "                              method='SLSQP', bounds=limites, constraints=restricao)\n",
    "        if res.success:\n",
    "            lista_pesos_otimos.append(res.x)\n",
    "\n",
    "    if not lista_pesos_otimos:\n",
    "        return None\n",
    "\n",
    "    pesos_resampled = np.mean(lista_pesos_otimos, axis=0)\n",
    "    pesos_resampled /= pesos_resampled.sum()\n",
    "    \n",
    "    # Calculando as métricas para retornar no dicionário\n",
    "    retornos_esperados_para_analise = retornos_historicos.mean()\n",
    "    matriz_cov_para_analise = retornos_historicos.cov()\n",
    "    \n",
    "    # Monta o dicionário\n",
    "    resultados = {\n",
    "        \"pesos\": pesos_resampled,\n",
    "        \"retornos_bl\": retornos_esperados_para_analise, # Reutilizando a chave para consistência\n",
    "        \"matriz_cov\": matriz_cov_para_analise\n",
    "    }\n",
    "    \n",
    "    print(\"Dentro da função, prestes a retornar um dicionário.\")\n",
    "    return resultados\n",
    "\n",
    "# # --- TESTANDO A FUNÇÃO ---\n",
    "# print(\"Chamando a função corrigida...\")\n",
    "# # Supondo que 'retornos_mes' é o seu DataFrame histórico completo\n",
    "# resultados_teste = obter_pesos_resampled_CORRIGIDA(retornos_mes)\n",
    "\n",
    "# if resultados_teste is not None:\n",
    "#     print(f\"\\nTipo do objeto retornado: {type(resultados_teste)}\")\n",
    "    \n",
    "#     # Agora, o teste final: tentar acessar a chave 'pesos'\n",
    "#     try:\n",
    "#         pesos_teste = resultados_teste['pesos']\n",
    "#         print(f\"\\n✅ SUCESSO! A chave 'pesos' foi acessada.\")\n",
    "#         print(\"Vetor de pesos extraído:\")\n",
    "#         print(pesos_teste)\n",
    "#     except (TypeError, KeyError) as e:\n",
    "#         print(f\"\\n❌ FALHA! Ainda não foi possível acessar a chave 'pesos'. Erro: {e}\")\n",
    "# else:\n",
    "#     print(\"\\nA função retornou None (falhou).\")"
   ]
  },
  {
   "cell_type": "code",
   "execution_count": 28,
   "id": "391ab24f",
   "metadata": {},
   "outputs": [],
   "source": [
    "def obter_pesos_otimizados(retornos_historicos, dados_macro_historicos, ml):\n",
    "\n",
    "    matriz_covarianca_mes = matriz_covarianca_mensal(retornos_historicos)\n",
    "\n",
    "    delta_calculado = delta(retornos_historicos , w_mkt)\n",
    "\n",
    "    vetor_pi = pi(delta_calculado, w_mkt, matriz_covarianca_mes)\n",
    "\n",
    "    #retornos_reais_do_mes = dados_completos.loc[data, retornos_mes.columns]\n",
    "    \n",
    "    #if ml == -1: \n",
    "        #resultados = obter_pesos_resampled(retornos_historicos)\n",
    "    if ml == -2:\n",
    "        matriz_cov = retornos_historicos.cov()\n",
    "        # O input de retorno é a média histórica\n",
    "        retornos_esperados = retornos_historicos.mean()\n",
    "        \n",
    "        # Otimiza usando a média histórica como 'retornos_bl'\n",
    "        pesos_otimizados = otimizar_pesos(retornos_esperados, matriz_cov)\n",
    "        \n",
    "        if pesos_otimizados is not None:\n",
    "            # Retorna o dicionário no mesmo formato das outras estratégias\n",
    "            resultados = {\n",
    "                \"pesos\": pesos_otimizados,\n",
    "                \"retornos_bl\": retornos_esperados, # Guardamos a média histórica aqui\n",
    "                \"matriz_cov\": matriz_cov\n",
    "            }\n",
    "            return resultados\n",
    "        else:\n",
    "            return None\n",
    "\n",
    "    #retorno_realizado = np.dot(pesos_otimizados, retornos_reais_do_mes) não precisa pq esses modelos não prevem retornos\n",
    "\n",
    "\n",
    "    if ml == 6:\n",
    "        print(\"\\n--- INICIANDO MÉTODO DE BOOTSTRAP DAS VISÕES DE ML ---\")\n",
    "        \n",
    "        # 1. Obtenha a distribuição das visões uma única vez\n",
    "        # Usaremos o modelo Híbrido como exemplo para gerar a distribuição\n",
    "        dist_visoes = obter_distribuicao_de_visoes_RF(retornos_historicos, dados_macro_historicos)\n",
    "        if dist_visoes is None:\n",
    "            return None\n",
    "\n",
    "        # 2. Defina o número de simulações\n",
    "        n_simulacoes = 100\n",
    "        lista_de_pesos_otimizados = []\n",
    "        lista_de_q_simulados = [] # Para calcular o q médio no final\n",
    "\n",
    "        print(f\"Iniciando {n_simulacoes} simulações de bootstrap...\")\n",
    "        for _ in range(n_simulacoes):\n",
    "            # a. Crie um vetor q simulado\n",
    "            q_simulado = {}\n",
    "            for ativo, distribuicao in dist_visoes.items():\n",
    "                q_simulado[ativo] = np.random.choice(distribuicao)\n",
    "            q_vetor_simulado = pd.Series(q_simulado).reindex(retornos_historicos.columns)\n",
    "            lista_de_q_simulados.append(q_vetor_simulado)\n",
    "\n",
    "            # b. Rode o Black-Litterman e a otimização com este q simulado\n",
    "            retornos_bl_simulado = black_litterman(vetor_pi, q_vetor_simulado, matriz_covarianca_mes, dados_macro_historicos)\n",
    "            pesos_simulados = otimizar_pesos(retornos_bl_simulado, matriz_covarianca_mes)\n",
    "            \n",
    "            if pesos_simulados is not None:\n",
    "                lista_de_pesos_otimizados.append(pesos_simulados)\n",
    "\n",
    "        # 3. Calcule a carteira final\n",
    "        if not lista_de_pesos_otimizados:\n",
    "            print(\"Nenhuma otimização foi bem-sucedida durante a simulação.\")\n",
    "            return None\n",
    "        \n",
    "        # Pega a média dos pesos de todas as simulações\n",
    "        pesos_otimizados = np.mean(lista_de_pesos_otimizados, axis=0)\n",
    "        pesos_otimizados /= pesos_otimizados.sum() # Normaliza para garantir soma 1\n",
    "\n",
    "        # Para consistência do relatório, calculamos um 'retornos_bl' final\n",
    "        # usando a média de todos os 'q' simulados\n",
    "        q_medio = pd.concat(lista_de_q_simulados, axis=1).mean(axis=1)\n",
    "        retornos_bl = black_litterman(vetor_pi, q_medio, matriz_covarianca_mes, dados_macro_historicos)\n",
    "\n",
    "        # Retorna o dicionário no formato esperado\n",
    "        resultados = {\n",
    "            \"pesos\": pesos_otimizados,\n",
    "            \"retornos_bl\": retornos_bl,\n",
    "            \"matriz_cov\": matriz_covarianca_mes\n",
    "        }\n",
    "        return resultados\n",
    "\n",
    "    # --- Lógica Padrão (Otimização Única para ml = 1 a 6) ---\n",
    "    else:\n",
    "\n",
    "        if ml == 1:\n",
    "            q = opinioes_RF(retornos_historicos, dados_macro_historicos)\n",
    "        elif ml == 2:\n",
    "            q = opinioes_LR(retornos_historicos, dados_macro_historicos)\n",
    "        elif ml == 3:\n",
    "            q = opinioes_HIBRIDO(retornos_historicos, dados_macro_historicos)\n",
    "\n",
    "        elif ml == 4:\n",
    "            q = opinioes_RF_com_fundamentos(retornos_historicos, dados_macro_historicos)\n",
    "        elif ml == 5: \n",
    "            q = opinioes_RF_fundamentalista(retornos_historicos)\n",
    "\n",
    "        elif ml == 7:\n",
    "            q = opinioes_LLM(retornos_historicos, dados_macro_historicos) \n",
    "\n",
    "        retornos_bl = black_litterman(vetor_pi, q, matriz_covarianca_mes, dados_macro_historicos )\n",
    "\n",
    "        pesos_otimizados = otimizar_pesos(retornos_bl, matriz_covarianca_mes)\n",
    "\n",
    "        if pesos_otimizados is not None:\n",
    "\n",
    "            resultados = {\n",
    "                \"pesos\": pesos_otimizados,\n",
    "                \"retornos_bl\": retornos_bl,\n",
    "                \"matriz_cov\": matriz_covarianca_mes\n",
    "            }\n",
    "            return resultados\n",
    "        else:\n",
    "            # Se a otimização falhar, retorne None\n",
    "            return None"
   ]
  },
  {
   "cell_type": "markdown",
   "id": "b305bc19",
   "metadata": {},
   "source": [
    "Comparativo dos retornos esperados"
   ]
  },
  {
   "cell_type": "code",
   "execution_count": 29,
   "id": "68c50fc5",
   "metadata": {},
   "outputs": [],
   "source": [
    "# # Célula de análise e benchmark (versão final e correta)\n",
    "\n",
    "# def comparativo_ibov(resultados, pesos_otimizados, retornos_bl, matriz_cov ):\n",
    "\n",
    "#     if resultados is not None:\n",
    "\n",
    "\n",
    "#         # Para sua Carteira\n",
    "#         # O 'retornos_bl' já é um vetor de retornos excedentes (se você seguiu a correção anterior)\n",
    "#         # Se não, precisa subtrair a selic média aqui também. Vamos assumir que ele já é excedente.\n",
    "#         retorno_carteira_excedente = retorno_esperado(pesos_otimizados, retornos_bl)\n",
    "#         volat_carteira = volatilidade(pesos_otimizados, matriz_cov)\n",
    "#         sharpe_carteira_correto = retorno_carteira_excedente / volat_carteira\n",
    "\n",
    "#         # 4. Montar e exibir a tabela\n",
    "#         benchmark_df = pd.DataFrame({\n",
    "#             'Métrica': ['Retorno Excedente Mensal (%)', 'Volatilidade Mensal (%)', 'Índice Sharpe'],\n",
    "#             'Carteira Otimizada BL': [retorno_carteira_excedente * 100, volat_carteira * 100, sharpe_carteira_correto],\n",
    "#             'Benchmark Ibovespa': [ibov_retorno_excedente_medio * 100, ibov_volatilidade * 100, ibov_sharpe_correto]\n",
    "#         })\n",
    "\n",
    "#         benchmark_df.set_index('Métrica', inplace=True)\n",
    "\n",
    "#         # 4. Exibir a tabela formatada\n",
    "#         print(\"\\n--- Tabela de Benchmark Comparativa (Formatada) ---\")\n",
    "#         display(benchmark_df.style.format({\n",
    "#             'Carteira Otimizada BL': '{:.4f}',\n",
    "#             'Benchmark Ibovespa': '{:.4f}'\n",
    "#         }).set_caption(\"Comparativo de Desempenho Ex-Ante\")\n",
    "#         .background_gradient(cmap='viridis', subset=['Carteira Otimizada BL', 'Benchmark Ibovespa']))\n",
    "\n",
    "#         #return ibov_retornos_excedentes\n",
    "#         #return resultados_ibov"
   ]
  },
  {
   "cell_type": "markdown",
   "id": "8ed1b7f1",
   "metadata": {},
   "source": [
    "Backtesting"
   ]
  },
  {
   "cell_type": "code",
   "execution_count": 30,
   "id": "93aa87e0",
   "metadata": {},
   "outputs": [],
   "source": [
    "from contextlib import redirect_stdout, redirect_stderr\n",
    "# Unir todos os seus dados em um único lugar para facilitar o fatiamento\n",
    "\n",
    "def backtesting(retornos_mes, ml):\n",
    "\n",
    "    dados_completos = retornos_mes.join(dados_macro_combinados)\n",
    "\n",
    "    # Definir o período de backtest\n",
    "    datas_backtest = dados_completos.index[dados_completos.index >= data_backtest]\n",
    "\n",
    "    # Lista para guardar os resultados\n",
    "    retornos_da_estrategia = []\n",
    "    datas_dos_retornos = []\n",
    "\n",
    "    for data in tqdm(datas_backtest, desc=\"Executando Backtest\",  disable=True):\n",
    "        # 1. Fatiar os dados: tudo o que aconteceu ATÉ a data atual\n",
    "        data_treino = dados_completos.loc[:data].iloc[:-1] # Pega tudo ATÉ o mês anterior\n",
    "        if data_treino.empty: continue\n",
    "        \n",
    "        retornos_treino = data_treino[retornos_mes.columns]\n",
    "        macro_treino = data_treino[dados_macro_combinados.columns]\n",
    "        \n",
    "        # 2. Rodar a estratégia para obter os pesos para o próx mês\n",
    "        with open(os.devnull, 'w') as fnull:\n",
    "            with redirect_stdout(fnull), redirect_stderr(fnull):\n",
    "                if (ml == -1):\n",
    "                    resultados_otimizacao = obter_pesos_resampled(retornos_treino)\n",
    "                else:\n",
    "                    resultados_otimizacao = obter_pesos_otimizados(retornos_treino, macro_treino, ml) \n",
    "        \n",
    "        # Verifica se a otimização funcionou e retornou o dicionário\n",
    "        if resultados_otimizacao is None:\n",
    "            print(f\"Não foi possível otimizar para a data {data}. Pulando.\")\n",
    "            continue\n",
    "            \n",
    "        pesos = resultados_otimizacao['pesos']\n",
    "            \n",
    "        #Calcular o retorno realizado no mês seguinte\n",
    "        # Pegamos os retornos que realmente aconteceram na data 'data'\n",
    "        retornos_reais_do_mes = dados_completos.loc[data, retornos_mes.columns]\n",
    "        retorno_realizado_portfolio = np.dot(pesos, retornos_reais_do_mes)\n",
    "        \n",
    "        # Guardar resultado\n",
    "        retornos_da_estrategia.append(retorno_realizado_portfolio)\n",
    "        datas_dos_retornos.append(data)\n",
    "\n",
    "    # Criar a série de retornos da sua estratégia\n",
    "    estrategia_retornos_realizados = pd.Series(retornos_da_estrategia, index=datas_dos_retornos)\n",
    "\n",
    "    return estrategia_retornos_realizados"
   ]
  },
  {
   "cell_type": "markdown",
   "id": "04c796ef",
   "metadata": {},
   "source": [
    "Comparação real com a ibov"
   ]
  },
  {
   "cell_type": "code",
   "execution_count": 31,
   "id": "2f0b32e4",
   "metadata": {},
   "outputs": [],
   "source": [
    "# Análise da sua estratégia\n",
    "def analise( estrategia_retornos_realizados, i):\n",
    "    media_log_retornos_estrategia = estrategia_retornos_realizados.mean()\n",
    "\n",
    "    estrategia_retorno_medio = np.exp(media_log_retornos_estrategia) - 1 \n",
    "\n",
    "    estrategia_volatilidade = estrategia_retornos_realizados.std()\n",
    "    estrategia_sharpe = estrategia_retorno_medio / estrategia_volatilidade\n",
    "\n",
    "    print(\"\\nPadronizando o índice do Ibovespa para fim de mês para o benchmark...\")\n",
    "    # Garante que o índice do Ibovespa também use o fim do mês, como o da sua estratégia\n",
    "    ibov_retornos_excedentes.index = pd.to_datetime(ibov_retornos_excedentes.index).to_period('M').to_timestamp('M')\n",
    "    print(\"Índice do Ibovespa padronizado. \")\n",
    "\n",
    "    # Fatiar os retornos do IBOV para o mesmo período do backtest\n",
    "    ibov_retornos_backtest = ibov_retornos_excedentes.loc[estrategia_retornos_realizados.index]\n",
    "    media_log_retorno_medio_backtest = ibov_retornos_backtest.mean()\n",
    "\n",
    "    ibov_retorno_medio_backtest = np.exp(media_log_retorno_medio_backtest) - 1\n",
    "    \n",
    "    ibov_volatilidade_backtest = ibov_retornos_backtest.std()\n",
    "    ibov_sharpe_backtest = ibov_retorno_medio_backtest / ibov_volatilidade_backtest\n",
    "\n",
    "    print(f\"Média dos Log-Retornos:       {media_log_retornos_estrategia:.8f}\")\n",
    "    print(f\"Média Geométrica (Composta): {estrategia_retorno_medio:.8f}\")\n",
    "    print(f\"Diferença Absoluta:          {abs(media_log_retornos_estrategia - estrategia_retorno_medio):.8f}\")\n",
    "\n",
    "    metodo = \"\"\n",
    "    if (i == 1):\n",
    "        metodo = \"RF\"\n",
    "    elif (i == 2):\n",
    "        metodo = \"LR\"\n",
    "    elif (i == 3):\n",
    "        metodo = \"Hibrido\"\n",
    "    elif (i == 4):\n",
    "        metodo = \"RF com macro e análise fundamentalista\"\n",
    "    elif(i == 5):\n",
    "        metodo = \"RF apenas com análise fundamentalista\"\n",
    "    elif (i == 7):\n",
    "        metodo = \"LLM\"\n",
    "    elif (i == 6):\n",
    "        metodo = \"RF + Resampled Effiency\"\n",
    "    elif (i == -1):\n",
    "        metodo = \"Resampled Effiency\"\n",
    "    \n",
    "    coluna_nome = f'Sua Estratégia BL {metodo}'\n",
    "\n",
    "    # Tabela de comparação final\n",
    "    benchmark_final_df = pd.DataFrame({\n",
    "        'Métrica': ['Retorno Realizado Mensal', 'Volatilidade Mensal', 'Índice Sharpe'],\n",
    "        coluna_nome : [\n",
    "            estrategia_retorno_medio.item() * 100, \n",
    "            estrategia_volatilidade.item() * 100, \n",
    "            estrategia_sharpe.item()\n",
    "        ],\n",
    "        'Benchmark Ibovespa': [\n",
    "            ibov_retorno_medio_backtest.item() * 100, \n",
    "            ibov_volatilidade_backtest.item() * 100, \n",
    "            ibov_sharpe_backtest.item()\n",
    "        ]\n",
    "    })\n",
    "    benchmark_final_df.set_index('Métrica', inplace=True)\n",
    "\n",
    "    # --- Exibição Estilizada Simples ---\n",
    "    print(\"\\n--- Tabela de Benchmark Final (Backtest Realizado) ---\")\n",
    "\n",
    "    display(benchmark_final_df.style.format({\n",
    "            # Formata ambas as colunas com 4 casas decimais para consistência\n",
    "            coluna_nome : '{:.4f}',\n",
    "            'Benchmark Ibovespa': '{:.4f}'\n",
    "        }).set_caption(\"<b>Comparativo de Desempenho Realizado (Backtest)</b>\") # Legenda corrigida\n",
    "        .background_gradient(cmap='viridis', subset=[coluna_nome , 'Benchmark Ibovespa']))\n"
   ]
  },
  {
   "cell_type": "markdown",
   "id": "e8ba625d",
   "metadata": {},
   "source": [
    "Código Principal"
   ]
  },
  {
   "cell_type": "code",
   "execution_count": 32,
   "id": "cf874eae",
   "metadata": {},
   "outputs": [
    {
     "name": "stderr",
     "output_type": "stream",
     "text": [
      "[*********************100%***********************]  10 of 10 completed\n"
     ]
    },
    {
     "name": "stdout",
     "output_type": "stream",
     "text": [
      "             Selic\n",
      "Date              \n",
      "2012-01-01  0.0089\n",
      "2012-02-01  0.0075\n",
      "2012-03-01  0.0082\n",
      "2012-04-01  0.0071\n",
      "2012-05-01  0.0074\n",
      "...            ...\n",
      "2025-03-01  0.0096\n",
      "2025-04-01  0.0106\n",
      "2025-05-01  0.0114\n",
      "2025-06-01  0.0110\n",
      "2025-07-01  0.0128\n",
      "\n",
      "[163 rows x 1 columns]\n",
      "Selic baixada e convertida para taxa mensal.\n",
      "Calculando os retornos excedentes (descontando a taxa livre de risco)...\n",
      "\n",
      "--- Amostra dos Retornos Excedentes Calculados ---\n"
     ]
    },
    {
     "data": {
      "text/html": [
       "<div>\n",
       "<style scoped>\n",
       "    .dataframe tbody tr th:only-of-type {\n",
       "        vertical-align: middle;\n",
       "    }\n",
       "\n",
       "    .dataframe tbody tr th {\n",
       "        vertical-align: top;\n",
       "    }\n",
       "\n",
       "    .dataframe thead th {\n",
       "        text-align: right;\n",
       "    }\n",
       "</style>\n",
       "<table border=\"1\" class=\"dataframe\">\n",
       "  <thead>\n",
       "    <tr style=\"text-align: right;\">\n",
       "      <th></th>\n",
       "      <th>ABEV3</th>\n",
       "      <th>BBAS3</th>\n",
       "      <th>BRFS3</th>\n",
       "      <th>EGIE3</th>\n",
       "      <th>ITUB4</th>\n",
       "      <th>LREN3</th>\n",
       "      <th>PETR4</th>\n",
       "      <th>SLCE3</th>\n",
       "      <th>VALE3</th>\n",
       "      <th>WEGE3</th>\n",
       "    </tr>\n",
       "    <tr>\n",
       "      <th>Date</th>\n",
       "      <th></th>\n",
       "      <th></th>\n",
       "      <th></th>\n",
       "      <th></th>\n",
       "      <th></th>\n",
       "      <th></th>\n",
       "      <th></th>\n",
       "      <th></th>\n",
       "      <th></th>\n",
       "      <th></th>\n",
       "    </tr>\n",
       "  </thead>\n",
       "  <tbody>\n",
       "    <tr>\n",
       "      <th>2012-02-29</th>\n",
       "      <td>0.103766</td>\n",
       "      <td>0.009277</td>\n",
       "      <td>0.029384</td>\n",
       "      <td>-0.006182</td>\n",
       "      <td>0.039580</td>\n",
       "      <td>0.095179</td>\n",
       "      <td>-0.009946</td>\n",
       "      <td>-0.013770</td>\n",
       "      <td>-0.033564</td>\n",
       "      <td>-0.027199</td>\n",
       "    </tr>\n",
       "    <tr>\n",
       "      <th>2012-03-31</th>\n",
       "      <td>0.071949</td>\n",
       "      <td>-0.066032</td>\n",
       "      <td>-0.005418</td>\n",
       "      <td>0.066002</td>\n",
       "      <td>-0.060010</td>\n",
       "      <td>-0.050055</td>\n",
       "      <td>-0.048491</td>\n",
       "      <td>0.195383</td>\n",
       "      <td>-0.023237</td>\n",
       "      <td>0.035146</td>\n",
       "    </tr>\n",
       "    <tr>\n",
       "      <th>2012-04-30</th>\n",
       "      <td>0.074665</td>\n",
       "      <td>-0.092048</td>\n",
       "      <td>-0.039566</td>\n",
       "      <td>-0.003135</td>\n",
       "      <td>-0.147457</td>\n",
       "      <td>-0.027663</td>\n",
       "      <td>-0.094337</td>\n",
       "      <td>-0.041019</td>\n",
       "      <td>-0.014118</td>\n",
       "      <td>0.013242</td>\n",
       "    </tr>\n",
       "    <tr>\n",
       "      <th>2012-05-31</th>\n",
       "      <td>-0.081588</td>\n",
       "      <td>-0.172067</td>\n",
       "      <td>-0.111964</td>\n",
       "      <td>0.022745</td>\n",
       "      <td>-0.030580</td>\n",
       "      <td>-0.035618</td>\n",
       "      <td>-0.114380</td>\n",
       "      <td>0.023950</td>\n",
       "      <td>-0.107659</td>\n",
       "      <td>0.024845</td>\n",
       "    </tr>\n",
       "    <tr>\n",
       "      <th>2012-06-30</th>\n",
       "      <td>0.002666</td>\n",
       "      <td>-0.027341</td>\n",
       "      <td>-0.038776</td>\n",
       "      <td>0.098512</td>\n",
       "      <td>-0.040979</td>\n",
       "      <td>-0.037844</td>\n",
       "      <td>-0.043199</td>\n",
       "      <td>0.055752</td>\n",
       "      <td>0.058986</td>\n",
       "      <td>-0.071451</td>\n",
       "    </tr>\n",
       "  </tbody>\n",
       "</table>\n",
       "</div>"
      ],
      "text/plain": [
       "               ABEV3     BBAS3     BRFS3     EGIE3     ITUB4     LREN3  \\\n",
       "Date                                                                     \n",
       "2012-02-29  0.103766  0.009277  0.029384 -0.006182  0.039580  0.095179   \n",
       "2012-03-31  0.071949 -0.066032 -0.005418  0.066002 -0.060010 -0.050055   \n",
       "2012-04-30  0.074665 -0.092048 -0.039566 -0.003135 -0.147457 -0.027663   \n",
       "2012-05-31 -0.081588 -0.172067 -0.111964  0.022745 -0.030580 -0.035618   \n",
       "2012-06-30  0.002666 -0.027341 -0.038776  0.098512 -0.040979 -0.037844   \n",
       "\n",
       "               PETR4     SLCE3     VALE3     WEGE3  \n",
       "Date                                                \n",
       "2012-02-29 -0.009946 -0.013770 -0.033564 -0.027199  \n",
       "2012-03-31 -0.048491  0.195383 -0.023237  0.035146  \n",
       "2012-04-30 -0.094337 -0.041019 -0.014118  0.013242  \n",
       "2012-05-31 -0.114380  0.023950 -0.107659  0.024845  \n",
       "2012-06-30 -0.043199  0.055752  0.058986 -0.071451  "
      ]
     },
     "metadata": {},
     "output_type": "display_data"
    },
    {
     "name": "stdout",
     "output_type": "stream",
     "text": [
      "Amostra dos retornos históricos do portfólio de mercado:\n",
      "\n",
      "Prêmio de Risco Mensal Médio (Numerador): 0.1773%\n",
      "Variância Mensal do Mercado (Denominador): 0.005078\n",
      "O coeficiente de aversão ao risco (δ) calculado é: 0.3491\n",
      "Padronizando os índices de data...\n",
      "\n",
      "--- Treinando modelo para o ativo: ABEV3 (158 amostras) ---\n",
      "Modelo treinado. OOB Score: 0.0161\n",
      "\n",
      "--- Treinando modelo para o ativo: BBAS3 (158 amostras) ---\n",
      "Modelo treinado. OOB Score: -0.0088\n",
      "\n",
      "--- Treinando modelo para o ativo: BRFS3 (158 amostras) ---\n",
      "Modelo treinado. OOB Score: -0.0749\n",
      "\n",
      "--- Treinando modelo para o ativo: EGIE3 (158 amostras) ---\n",
      "Modelo treinado. OOB Score: -0.0540\n",
      "\n",
      "--- Treinando modelo para o ativo: ITUB4 (158 amostras) ---\n",
      "Modelo treinado. OOB Score: -0.0345\n",
      "\n",
      "--- Treinando modelo para o ativo: LREN3 (158 amostras) ---\n",
      "Modelo treinado. OOB Score: -0.0921\n",
      "\n",
      "--- Treinando modelo para o ativo: PETR4 (158 amostras) ---\n",
      "Modelo treinado. OOB Score: 0.0435\n",
      "\n",
      "--- Treinando modelo para o ativo: SLCE3 (158 amostras) ---\n",
      "Modelo treinado. OOB Score: -0.0483\n",
      "\n",
      "--- Treinando modelo para o ativo: VALE3 (158 amostras) ---\n",
      "Modelo treinado. OOB Score: -0.0712\n",
      "\n",
      "--- Treinando modelo para o ativo: WEGE3 (158 amostras) ---\n",
      "Modelo treinado. OOB Score: -0.0112\n",
      "\n",
      "\n",
      "--- Matrizes de Visão (P e Q) Geradas ---\n",
      "\n",
      "Vetor Q (Previsões de Retorno Mensal %):\n",
      "160\n",
      "Retornos previstos pelo modelo: \n",
      "10\n",
      "VALE3.SA: 0.07%\n",
      "PETR4.SA: 0.24%\n",
      "ITUB4.SA: 0.15%\n",
      "BRFS3.SA: 0.07%\n",
      "ABEV3.SA: 0.18%\n",
      "WEGE3.SA: 0.15%\n",
      "EGIE3.SA: 0.30%\n",
      "LREN3.SA: 0.01%\n",
      "BBAS3.SA: 0.12%\n",
      "SLCE3.SA: 0.08%\n",
      "\n",
      "Pesos dos ativos após otimização\n",
      "VALE3.SA: 6.88%\n",
      "PETR4.SA: 5.00%\n",
      "ITUB4.SA: 5.00%\n",
      "BRFS3.SA: 5.00%\n",
      "ABEV3.SA: 22.44%\n",
      "WEGE3.SA: 5.00%\n",
      "EGIE3.SA: 24.99%\n",
      "LREN3.SA: 5.00%\n",
      "BBAS3.SA: 8.92%\n",
      "SLCE3.SA: 11.78%\n",
      "Resultados da otimização extraídos com sucesso.\n",
      "\n",
      "Padronizando o índice do Ibovespa para fim de mês para o benchmark...\n",
      "Índice do Ibovespa padronizado. \n",
      "Média dos Log-Retornos:       0.00321442\n",
      "Média Geométrica (Composta): 0.00321960\n",
      "Diferença Absoluta:          0.00000517\n",
      "\n",
      "--- Tabela de Benchmark Final (Backtest Realizado) ---\n"
     ]
    },
    {
     "data": {
      "text/html": [
       "<style type=\"text/css\">\n",
       "#T_507f7_row0_col0 {\n",
       "  background-color: #481769;\n",
       "  color: #f1f1f1;\n",
       "}\n",
       "#T_507f7_row0_col1, #T_507f7_row2_col0 {\n",
       "  background-color: #440154;\n",
       "  color: #f1f1f1;\n",
       "}\n",
       "#T_507f7_row1_col0, #T_507f7_row1_col1 {\n",
       "  background-color: #fde725;\n",
       "  color: #000000;\n",
       "}\n",
       "#T_507f7_row2_col1 {\n",
       "  background-color: #440256;\n",
       "  color: #f1f1f1;\n",
       "}\n",
       "</style>\n",
       "<table id=\"T_507f7\">\n",
       "  <caption><b>Comparativo de Desempenho Realizado (Backtest)</b></caption>\n",
       "  <thead>\n",
       "    <tr>\n",
       "      <th class=\"blank level0\" >&nbsp;</th>\n",
       "      <th id=\"T_507f7_level0_col0\" class=\"col_heading level0 col0\" >Sua Estratégia BL RF</th>\n",
       "      <th id=\"T_507f7_level0_col1\" class=\"col_heading level0 col1\" >Benchmark Ibovespa</th>\n",
       "    </tr>\n",
       "    <tr>\n",
       "      <th class=\"index_name level0\" >Métrica</th>\n",
       "      <th class=\"blank col0\" >&nbsp;</th>\n",
       "      <th class=\"blank col1\" >&nbsp;</th>\n",
       "    </tr>\n",
       "  </thead>\n",
       "  <tbody>\n",
       "    <tr>\n",
       "      <th id=\"T_507f7_level0_row0\" class=\"row_heading level0 row0\" >Retorno Realizado Mensal</th>\n",
       "      <td id=\"T_507f7_row0_col0\" class=\"data row0 col0\" >0.3220</td>\n",
       "      <td id=\"T_507f7_row0_col1\" class=\"data row0 col1\" >-0.0301</td>\n",
       "    </tr>\n",
       "    <tr>\n",
       "      <th id=\"T_507f7_level0_row1\" class=\"row_heading level0 row1\" >Volatilidade Mensal</th>\n",
       "      <td id=\"T_507f7_row1_col0\" class=\"data row1 col0\" >4.0910</td>\n",
       "      <td id=\"T_507f7_row1_col1\" class=\"data row1 col1\" >4.3586</td>\n",
       "    </tr>\n",
       "    <tr>\n",
       "      <th id=\"T_507f7_level0_row2\" class=\"row_heading level0 row2\" >Índice Sharpe</th>\n",
       "      <td id=\"T_507f7_row2_col0\" class=\"data row2 col0\" >0.0787</td>\n",
       "      <td id=\"T_507f7_row2_col1\" class=\"data row2 col1\" >-0.0069</td>\n",
       "    </tr>\n",
       "  </tbody>\n",
       "</table>\n"
      ],
      "text/plain": [
       "<pandas.io.formats.style.Styler at 0x76909eff9be0>"
      ]
     },
     "metadata": {},
     "output_type": "display_data"
    },
    {
     "name": "stdout",
     "output_type": "stream",
     "text": [
      "\n",
      "==================================================\n",
      "--- Conteúdo Final do Dicionário 'resultados_backtest' ---\n",
      "Número de estratégias bem-sucedidas: 1\n",
      "Estratégias encontradas: [1]\n",
      "==================================================\n",
      "\n",
      "Amostra dos retornos históricos do portfólio de mercado:\n",
      "\n",
      "Prêmio de Risco Mensal Médio (Numerador): 0.1773%\n",
      "Variância Mensal do Mercado (Denominador): 0.005078\n",
      "O coeficiente de aversão ao risco (δ) calculado é: 0.3491\n",
      "Modelo para ABEV3 treinado. R² (ajuste de treino): 0.0791\n",
      "Modelo para BBAS3 treinado. R² (ajuste de treino): 0.0965\n",
      "Modelo para BRFS3 treinado. R² (ajuste de treino): 0.0465\n",
      "Modelo para EGIE3 treinado. R² (ajuste de treino): 0.0690\n",
      "Modelo para ITUB4 treinado. R² (ajuste de treino): 0.0651\n",
      "Modelo para LREN3 treinado. R² (ajuste de treino): 0.0908\n",
      "Modelo para PETR4 treinado. R² (ajuste de treino): 0.1289\n",
      "Modelo para SLCE3 treinado. R² (ajuste de treino): 0.0492\n",
      "Modelo para VALE3 treinado. R² (ajuste de treino): 0.0319\n",
      "Modelo para WEGE3 treinado. R² (ajuste de treino): 0.1383\n",
      "\n",
      "--- Vetor Q (Regressão Linear) Gerado ---\n",
      "160\n",
      "Retornos previstos pelo modelo: \n",
      "10\n",
      "VALE3.SA: 0.07%\n",
      "PETR4.SA: 0.25%\n",
      "ITUB4.SA: 0.15%\n",
      "BRFS3.SA: 0.08%\n",
      "ABEV3.SA: 0.18%\n",
      "WEGE3.SA: 0.17%\n",
      "EGIE3.SA: 0.30%\n",
      "LREN3.SA: 0.01%\n",
      "BBAS3.SA: 0.13%\n",
      "SLCE3.SA: 0.09%\n",
      "\n",
      "Pesos dos ativos após otimização\n",
      "VALE3.SA: 6.16%\n",
      "PETR4.SA: 5.07%\n",
      "ITUB4.SA: 5.00%\n",
      "BRFS3.SA: 5.00%\n",
      "ABEV3.SA: 19.89%\n",
      "WEGE3.SA: 5.00%\n",
      "EGIE3.SA: 23.19%\n",
      "LREN3.SA: 5.00%\n",
      "BBAS3.SA: 11.89%\n",
      "SLCE3.SA: 13.80%\n",
      "Resultados da otimização extraídos com sucesso.\n",
      "\n",
      "Padronizando o índice do Ibovespa para fim de mês para o benchmark...\n",
      "Índice do Ibovespa padronizado. \n",
      "Média dos Log-Retornos:       0.00221751\n",
      "Média Geométrica (Composta): 0.00221997\n",
      "Diferença Absoluta:          0.00000246\n",
      "\n",
      "--- Tabela de Benchmark Final (Backtest Realizado) ---\n"
     ]
    },
    {
     "data": {
      "text/html": [
       "<style type=\"text/css\">\n",
       "#T_bb4e5_row0_col0 {\n",
       "  background-color: #471063;\n",
       "  color: #f1f1f1;\n",
       "}\n",
       "#T_bb4e5_row0_col1, #T_bb4e5_row2_col0 {\n",
       "  background-color: #440154;\n",
       "  color: #f1f1f1;\n",
       "}\n",
       "#T_bb4e5_row1_col0, #T_bb4e5_row1_col1 {\n",
       "  background-color: #fde725;\n",
       "  color: #000000;\n",
       "}\n",
       "#T_bb4e5_row2_col1 {\n",
       "  background-color: #440256;\n",
       "  color: #f1f1f1;\n",
       "}\n",
       "</style>\n",
       "<table id=\"T_bb4e5\">\n",
       "  <caption><b>Comparativo de Desempenho Realizado (Backtest)</b></caption>\n",
       "  <thead>\n",
       "    <tr>\n",
       "      <th class=\"blank level0\" >&nbsp;</th>\n",
       "      <th id=\"T_bb4e5_level0_col0\" class=\"col_heading level0 col0\" >Sua Estratégia BL LR</th>\n",
       "      <th id=\"T_bb4e5_level0_col1\" class=\"col_heading level0 col1\" >Benchmark Ibovespa</th>\n",
       "    </tr>\n",
       "    <tr>\n",
       "      <th class=\"index_name level0\" >Métrica</th>\n",
       "      <th class=\"blank col0\" >&nbsp;</th>\n",
       "      <th class=\"blank col1\" >&nbsp;</th>\n",
       "    </tr>\n",
       "  </thead>\n",
       "  <tbody>\n",
       "    <tr>\n",
       "      <th id=\"T_bb4e5_level0_row0\" class=\"row_heading level0 row0\" >Retorno Realizado Mensal</th>\n",
       "      <td id=\"T_bb4e5_row0_col0\" class=\"data row0 col0\" >0.2220</td>\n",
       "      <td id=\"T_bb4e5_row0_col1\" class=\"data row0 col1\" >-0.0301</td>\n",
       "    </tr>\n",
       "    <tr>\n",
       "      <th id=\"T_bb4e5_level0_row1\" class=\"row_heading level0 row1\" >Volatilidade Mensal</th>\n",
       "      <td id=\"T_bb4e5_row1_col0\" class=\"data row1 col0\" >4.1212</td>\n",
       "      <td id=\"T_bb4e5_row1_col1\" class=\"data row1 col1\" >4.3586</td>\n",
       "    </tr>\n",
       "    <tr>\n",
       "      <th id=\"T_bb4e5_level0_row2\" class=\"row_heading level0 row2\" >Índice Sharpe</th>\n",
       "      <td id=\"T_bb4e5_row2_col0\" class=\"data row2 col0\" >0.0539</td>\n",
       "      <td id=\"T_bb4e5_row2_col1\" class=\"data row2 col1\" >-0.0069</td>\n",
       "    </tr>\n",
       "  </tbody>\n",
       "</table>\n"
      ],
      "text/plain": [
       "<pandas.io.formats.style.Styler at 0x7690a0d9d4c0>"
      ]
     },
     "metadata": {},
     "output_type": "display_data"
    },
    {
     "name": "stdout",
     "output_type": "stream",
     "text": [
      "\n",
      "==================================================\n",
      "--- Conteúdo Final do Dicionário 'resultados_backtest' ---\n",
      "Número de estratégias bem-sucedidas: 2\n",
      "Estratégias encontradas: [1, 2]\n",
      "==================================================\n",
      "\n",
      "Amostra dos retornos históricos do portfólio de mercado:\n",
      "\n",
      "Prêmio de Risco Mensal Médio (Numerador): 0.1773%\n",
      "Variância Mensal do Mercado (Denominador): 0.005078\n",
      "O coeficiente de aversão ao risco (δ) calculado é: 0.3491\n",
      "--- Gerando Visões com Modelo HÍBRIDO (RF para Seleção, Ridge para Previsão) ---\n",
      "Selecionando as 2 features mais importantes para cada ativo.\n",
      "\n",
      "Ativo: ABEV3 | Melhores Features: ['Investimento Direto no País_diff', 'DOW_JONES_diff']\n",
      "Modelo Ridge treinado com features selecionadas. R²: 0.0407\n",
      "\n",
      "Ativo: BBAS3 | Melhores Features: ['PETROLEO_BRENT_diff', 'CAMBIO_USDBRL_diff']\n",
      "Modelo Ridge treinado com features selecionadas. R²: 0.0111\n",
      "\n",
      "Ativo: BRFS3 | Melhores Features: ['PETROLEO_BRENT_diff', 'CAMBIO_USDBRL_diff']\n",
      "Modelo Ridge treinado com features selecionadas. R²: 0.0099\n",
      "\n",
      "Ativo: EGIE3 | Melhores Features: ['DOW_JONES_diff', 'PETROLEO_BRENT_diff']\n",
      "Modelo Ridge treinado com features selecionadas. R²: 0.0079\n",
      "\n",
      "Ativo: ITUB4 | Melhores Features: ['PETROLEO_BRENT_diff', 'CAMBIO_USDBRL_diff']\n",
      "Modelo Ridge treinado com features selecionadas. R²: 0.0025\n",
      "\n",
      "Ativo: LREN3 | Melhores Features: ['VIX_diff', 'DOW_JONES_diff']\n",
      "Modelo Ridge treinado com features selecionadas. R²: 0.0202\n",
      "\n",
      "Ativo: PETR4 | Melhores Features: ['PETROLEO_BRENT_diff', 'CAMBIO_USDBRL_diff']\n",
      "Modelo Ridge treinado com features selecionadas. R²: 0.0087\n",
      "\n",
      "Ativo: SLCE3 | Melhores Features: ['CAMBIO_USDBRL_diff', 'DOW_JONES_diff']\n",
      "Modelo Ridge treinado com features selecionadas. R²: 0.0102\n",
      "\n",
      "Ativo: VALE3 | Melhores Features: ['PETROLEO_BRENT_diff', 'DOW_JONES_diff']\n",
      "Modelo Ridge treinado com features selecionadas. R²: 0.0107\n",
      "\n",
      "Ativo: WEGE3 | Melhores Features: ['Investimento Direto no País_diff', 'SELIC_diff']\n",
      "Modelo Ridge treinado com features selecionadas. R²: 0.0747\n",
      "\n",
      "--- Vetor Q (Modelo Híbrido) Gerado ---\n",
      "160\n",
      "Retornos previstos pelo modelo: \n",
      "10\n",
      "VALE3.SA: 0.07%\n",
      "PETR4.SA: 0.24%\n",
      "ITUB4.SA: 0.13%\n",
      "BRFS3.SA: 0.07%\n",
      "ABEV3.SA: 0.17%\n",
      "WEGE3.SA: 0.16%\n",
      "EGIE3.SA: 0.29%\n",
      "LREN3.SA: 0.02%\n",
      "BBAS3.SA: 0.13%\n",
      "SLCE3.SA: 0.08%\n",
      "\n",
      "Pesos dos ativos após otimização\n",
      "VALE3.SA: 6.98%\n",
      "PETR4.SA: 5.01%\n",
      "ITUB4.SA: 5.00%\n",
      "BRFS3.SA: 5.00%\n",
      "ABEV3.SA: 18.69%\n",
      "WEGE3.SA: 5.00%\n",
      "EGIE3.SA: 22.76%\n",
      "LREN3.SA: 5.00%\n",
      "BBAS3.SA: 14.01%\n",
      "SLCE3.SA: 12.56%\n",
      "Resultados da otimização extraídos com sucesso.\n",
      "\n",
      "Padronizando o índice do Ibovespa para fim de mês para o benchmark...\n",
      "Índice do Ibovespa padronizado. \n",
      "Média dos Log-Retornos:       0.00460701\n",
      "Média Geométrica (Composta): 0.00461764\n",
      "Diferença Absoluta:          0.00001063\n",
      "\n",
      "--- Tabela de Benchmark Final (Backtest Realizado) ---\n"
     ]
    },
    {
     "data": {
      "text/html": [
       "<style type=\"text/css\">\n",
       "#T_16ec6_row0_col0 {\n",
       "  background-color: #482071;\n",
       "  color: #f1f1f1;\n",
       "}\n",
       "#T_16ec6_row0_col1, #T_16ec6_row2_col0 {\n",
       "  background-color: #440154;\n",
       "  color: #f1f1f1;\n",
       "}\n",
       "#T_16ec6_row1_col0, #T_16ec6_row1_col1 {\n",
       "  background-color: #fde725;\n",
       "  color: #000000;\n",
       "}\n",
       "#T_16ec6_row2_col1 {\n",
       "  background-color: #440256;\n",
       "  color: #f1f1f1;\n",
       "}\n",
       "</style>\n",
       "<table id=\"T_16ec6\">\n",
       "  <caption><b>Comparativo de Desempenho Realizado (Backtest)</b></caption>\n",
       "  <thead>\n",
       "    <tr>\n",
       "      <th class=\"blank level0\" >&nbsp;</th>\n",
       "      <th id=\"T_16ec6_level0_col0\" class=\"col_heading level0 col0\" >Sua Estratégia BL Hibrido</th>\n",
       "      <th id=\"T_16ec6_level0_col1\" class=\"col_heading level0 col1\" >Benchmark Ibovespa</th>\n",
       "    </tr>\n",
       "    <tr>\n",
       "      <th class=\"index_name level0\" >Métrica</th>\n",
       "      <th class=\"blank col0\" >&nbsp;</th>\n",
       "      <th class=\"blank col1\" >&nbsp;</th>\n",
       "    </tr>\n",
       "  </thead>\n",
       "  <tbody>\n",
       "    <tr>\n",
       "      <th id=\"T_16ec6_level0_row0\" class=\"row_heading level0 row0\" >Retorno Realizado Mensal</th>\n",
       "      <td id=\"T_16ec6_row0_col0\" class=\"data row0 col0\" >0.4618</td>\n",
       "      <td id=\"T_16ec6_row0_col1\" class=\"data row0 col1\" >-0.0301</td>\n",
       "    </tr>\n",
       "    <tr>\n",
       "      <th id=\"T_16ec6_level0_row1\" class=\"row_heading level0 row1\" >Volatilidade Mensal</th>\n",
       "      <td id=\"T_16ec6_row1_col0\" class=\"data row1 col0\" >4.0325</td>\n",
       "      <td id=\"T_16ec6_row1_col1\" class=\"data row1 col1\" >4.3586</td>\n",
       "    </tr>\n",
       "    <tr>\n",
       "      <th id=\"T_16ec6_level0_row2\" class=\"row_heading level0 row2\" >Índice Sharpe</th>\n",
       "      <td id=\"T_16ec6_row2_col0\" class=\"data row2 col0\" >0.1145</td>\n",
       "      <td id=\"T_16ec6_row2_col1\" class=\"data row2 col1\" >-0.0069</td>\n",
       "    </tr>\n",
       "  </tbody>\n",
       "</table>\n"
      ],
      "text/plain": [
       "<pandas.io.formats.style.Styler at 0x769072787b00>"
      ]
     },
     "metadata": {},
     "output_type": "display_data"
    },
    {
     "name": "stdout",
     "output_type": "stream",
     "text": [
      "\n",
      "==================================================\n",
      "--- Conteúdo Final do Dicionário 'resultados_backtest' ---\n",
      "Número de estratégias bem-sucedidas: 3\n",
      "Estratégias encontradas: [1, 2, 3]\n",
      "==================================================\n",
      "\n"
     ]
    }
   ],
   "source": [
    "retornos_mes = retornos_mensais(data_inicio, data_fim )\n",
    "retornos_mes.index = pd.to_datetime(retornos_mes.index).to_period('M').to_timestamp('M')\n",
    "\n",
    "volatilidade_mes = volatilidade_mensal(retornos_mes)\n",
    "matriz_covarianca_mes = matriz_covarianca_mensal(retornos_mes)\n",
    "\n",
    "resultados_backtest = {}\n",
    "metodos_a_testar = {\n",
    "    -2: \"Markowitz Clássico\",\n",
    "    -1: \"Eficiência Reamostrada\",\n",
    "     1: \"BL com RF\",\n",
    "     2: \"BL com LR\",\n",
    "     3: \"BL Híbrido\"\n",
    "     # Adicione outros métodos que queira testar\n",
    "}\n",
    "\n",
    "#tirei llm para teste, muito demorado\n",
    "for i in range(1, 4): # i = 1 : Só RF, i = 2 : Só LR, i = 3 : RF + LR,  i = 4 : RF + fundamentalista com macro , i = 5 : RF e fundamentalista, i = 6 : LLM (Chatgpt)\n",
    "\n",
    "    resultados = obter_pesos_otimizados(retornos_mes, dados_macro_combinados, i)\n",
    "\n",
    "    if resultados is not None:\n",
    "        \n",
    "        pesos_otimizados = resultados[\"pesos\"]\n",
    "        print(\"\\nPesos dos ativos após otimização\")\n",
    "        for j in range(n_ativos):\n",
    "            print(ativos[j] +': %.2f' %(pesos_otimizados[j]*100)+'%')\n",
    "\n",
    "        retornos_bl = resultados[\"retornos_bl\"]\n",
    "        matriz_cov = resultados[\"matriz_cov\"]\n",
    "        print(\"Resultados da otimização extraídos com sucesso.\")\n",
    "\n",
    "        #resultados_ibov = comparativo_ibov(resultados, pesos_otimizados, retornos_bl, matriz_cov)\n",
    "        retornos_estrategia = backtesting(retornos_mes, i)\n",
    "\n",
    "        resultados_backtest[i] = retornos_estrategia\n",
    "        \n",
    "        analise( retornos_estrategia, i)\n",
    "\n",
    "        # --- BLOCO DE DEPURAÇÃO ---\n",
    "        print(\"\\n\" + \"=\"*50)\n",
    "        print(\"--- Conteúdo Final do Dicionário 'resultados_backtest' ---\")\n",
    "        print(f\"Número de estratégias bem-sucedidas: {len(resultados_backtest)}\")\n",
    "        print(\"Estratégias encontradas:\", list(resultados_backtest.keys()))\n",
    "        print(\"=\"*50 + \"\\n\")\n",
    "        # -------------------------\n",
    "                \n",
    "\n",
    "    else:\n",
    "        print(\"Otimização falhou. Não é possível prosseguir com a análise.\")"
   ]
  },
  {
   "cell_type": "code",
   "execution_count": 33,
   "id": "fec88d96",
   "metadata": {},
   "outputs": [],
   "source": [
    "# def resampled_efficiency():\n",
    "\n",
    "#     i = -1 # Código para resampled\n",
    "#     resultados =  obter_pesos_resampled(retornos_mes)\n",
    "#     print(resultados)\n",
    "#     #print(\"\\nPesos dos ativos após otimização\")\n",
    "#     #for j in range(n_ativos):\n",
    "#        #print(ativos[j] +': %.2f' %(pesos_otimizados[j]*100)+'%')\n",
    "\n",
    "#     pesos_otimizados = resultados[\"pesos\"]\n",
    "#     retornos = resultados[\"retornos_resamp\"] # Deixar bl só para não mudar a função anterior\n",
    "#     matriz = resultados[\"matriz_cov\"]\n",
    "#     print(\"Resultados da otimização extraídos com sucesso.\")\n",
    "\n",
    "#     resultados_ibov = comparativo_ibov(resultados, pesos_otimizados, retornos, matriz)\n",
    "#     retornos_estrategia = backtesting(retornos_mes, i)\n",
    "\n",
    "#     analise(resultados_ibov , retornos_estrategia, i)\n",
    "\n",
    "# resampled_efficiency()\n"
   ]
  },
  {
   "cell_type": "code",
   "execution_count": 34,
   "id": "fb2f3f6b",
   "metadata": {},
   "outputs": [
    {
     "name": "stdout",
     "output_type": "stream",
     "text": [
      "--- Iniciando Análise Completa da Estratégia Resampled Efficiency ---\n",
      "\n",
      "Calculando as métricas esperadas (Ex-Ante)...\n",
      "Dentro da função, prestes a retornar um dicionário.\n",
      "Métricas esperadas calculadas com sucesso.\n",
      "\n",
      "Iniciando o backtest da estratégia Resampled...\n",
      "Backtest concluído.\n"
     ]
    },
    {
     "data": {
      "text/html": [
       "<style type=\"text/css\">\n",
       "</style>\n",
       "<table id=\"T_90314\">\n",
       "  <caption><b>Análise Completa: Resampled Efficiency</b></caption>\n",
       "  <thead>\n",
       "    <tr>\n",
       "      <th class=\"blank level0\" >&nbsp;</th>\n",
       "      <th id=\"T_90314_level0_col0\" class=\"col_heading level0 col0\" >Promessa (Ex-Ante)</th>\n",
       "      <th id=\"T_90314_level0_col1\" class=\"col_heading level0 col1\" >Realidade (Backtest)</th>\n",
       "    </tr>\n",
       "    <tr>\n",
       "      <th class=\"index_name level0\" >Métrica</th>\n",
       "      <th class=\"blank col0\" >&nbsp;</th>\n",
       "      <th class=\"blank col1\" >&nbsp;</th>\n",
       "    </tr>\n",
       "  </thead>\n",
       "  <tbody>\n",
       "    <tr>\n",
       "      <th id=\"T_90314_level0_row0\" class=\"row_heading level0 row0\" >Retorno Mensal (%)</th>\n",
       "      <td id=\"T_90314_row0_col0\" class=\"data row0 col0\" >0.4476</td>\n",
       "      <td id=\"T_90314_row0_col1\" class=\"data row0 col1\" >-0.1232</td>\n",
       "    </tr>\n",
       "    <tr>\n",
       "      <th id=\"T_90314_level0_row1\" class=\"row_heading level0 row1\" >Volatilidade Mensal (%)</th>\n",
       "      <td id=\"T_90314_row1_col0\" class=\"data row1 col0\" >5.1493</td>\n",
       "      <td id=\"T_90314_row1_col1\" class=\"data row1 col1\" >4.4496</td>\n",
       "    </tr>\n",
       "    <tr>\n",
       "      <th id=\"T_90314_level0_row2\" class=\"row_heading level0 row2\" >Índice Sharpe</th>\n",
       "      <td id=\"T_90314_row2_col0\" class=\"data row2 col0\" >0.0869</td>\n",
       "      <td id=\"T_90314_row2_col1\" class=\"data row2 col1\" >-0.0277</td>\n",
       "    </tr>\n",
       "  </tbody>\n",
       "</table>\n"
      ],
      "text/plain": [
       "<pandas.io.formats.style.Styler at 0x7690a0d65130>"
      ]
     },
     "metadata": {},
     "output_type": "display_data"
    }
   ],
   "source": [
    "def analisar_estrategia_resampled():\n",
    "    \"\"\"\n",
    "    Função completa para analisar a estratégia de Eficiência Reamostrada.\n",
    "    Ela calcula as métricas esperadas (ex-ante) e roda o backtest\n",
    "    para obter as métricas realizadas (ex-post).\n",
    "    \"\"\"\n",
    "    print(\"--- Iniciando Análise Completa da Estratégia Resampled Efficiency ---\")\n",
    "\n",
    "    # Supondo que 'retornos_mes' é seu DataFrame com o histórico completo (2012-2024)\n",
    "    # e está disponível no escopo do seu notebook.\n",
    "    retornos_historicos = retornos_mes\n",
    "\n",
    "    # --- 1. ANÁLISE EX-ANTE (A \"PROMESSA\" DO MODELO) ---\n",
    "\n",
    "    print(\"\\nCalculando as métricas esperadas (Ex-Ante)...\")\n",
    "    \n",
    "    # a. Calcule os inputs para a análise\n",
    "    # A \"melhor estimativa\" de retorno é a média histórica\n",
    "    retornos_esperados_para_analise = retornos_historicos.mean()\n",
    "    matriz_cov_para_analise = retornos_historicos.cov()\n",
    "\n",
    "    # b. Obtenha os pesos da estratégia Resampled usando o histórico completo\n",
    "    resultados_resampled = obter_pesos_resampled(retornos_historicos)\n",
    "    pesos_otimizados_resampled = resultados_resampled[\"pesos\"]\n",
    "    \n",
    "    #print(pesos_otimizados_resampled)\n",
    "    \n",
    "    if resultados_resampled is None:\n",
    "        print(\"Falha ao obter os pesos da estratégia Resampled. Análise abortada.\")\n",
    "        return\n",
    "\n",
    "    # c. Calcule as métricas esperadas da carteira\n",
    "    # Multiplicamos os pesos (resultado da estratégia) pelos retornos esperados (média histórica)\n",
    "    retorno_carteira_esperado = retorno_esperado(pesos_otimizados_resampled, retornos_esperados_para_analise)\n",
    "    volat_carteira_esperada = volatilidade(pesos_otimizados_resampled, matriz_cov_para_analise)\n",
    "    sharpe_carteira_esperado = retorno_carteira_esperado / volat_carteira_esperada\n",
    "\n",
    "    print(\"Métricas esperadas calculadas com sucesso.\")\n",
    "\n",
    "\n",
    "    # --- 2. ANÁLISE EX-POST (O BACKTEST) ---\n",
    "    \n",
    "    print(\"\\nIniciando o backtest da estratégia Resampled...\")\n",
    "    # Usamos o código -1 para o Resampled, como você sugeriu\n",
    "    retornos_estrategia_realizados = backtesting(retornos_historicos, -1) \n",
    "\n",
    "    resultados_backtest[-1] = retornos_estrategia_realizados \n",
    "    \n",
    "    # Métricas realizadas a partir do resultado do backtest\n",
    "    retorno_realizado_medio = retornos_estrategia_realizados.mean()\n",
    "    volat_realizada = retornos_estrategia_realizados.std()\n",
    "    sharpe_realizado = retorno_realizado_medio / volat_realizada\n",
    "    print(\"Backtest concluído.\")\n",
    "\n",
    "    # --- 3. EXIBIÇÃO DOS RESULTADOS ---\n",
    "\n",
    "    # Tabela comparativa final\n",
    "    # (Adicionando o Ibovespa para um benchmark completo)\n",
    "    # ibov_retornos_backtest = ibov_retornos.loc[retornos_estrategia_realizados.index]\n",
    "    # ibov_retorno_medio = ibov_retornos_backtest.mean().item()\n",
    "    # ibov_volatilidade = ibov_retornos_backtest.std().item()\n",
    "    # ibov_sharpe = ibov_retorno_medio / ibov_volatilidade\n",
    "\n",
    "    tabela_final = pd.DataFrame({\n",
    "        'Métrica': ['Retorno Mensal (%)', 'Volatilidade Mensal (%)', 'Índice Sharpe'],\n",
    "        'Promessa (Ex-Ante)': [retorno_carteira_esperado * 100, volat_carteira_esperada * 100, sharpe_carteira_esperado],\n",
    "        'Realidade (Backtest)': [retorno_realizado_medio * 100, volat_realizada * 100, sharpe_realizado]\n",
    "        #'Benchmark Ibovespa': [ibov_retorno_medio * 100, ibov_volatilidade * 100, ibov_sharpe]\n",
    "    })\n",
    "    tabela_final.set_index('Métrica', inplace=True)\n",
    "    \n",
    "    display(tabela_final.style.format('{:.4f}').set_caption(\"<b>Análise Completa: Resampled Efficiency</b>\"))\n",
    "\n",
    "# --- Para executar a sua análise ---\n",
    "# Lembre-se de ter as funções auxiliares (retorno_esperado, volatilidade, etc.) definidas\n",
    "# e a variável 'retornos_mes' carregada.\n",
    "analisar_estrategia_resampled()"
   ]
  },
  {
   "cell_type": "code",
   "execution_count": 35,
   "id": "b6df4e00",
   "metadata": {},
   "outputs": [
    {
     "name": "stdout",
     "output_type": "stream",
     "text": [
      "--- Iniciando Análise Completa da Estratégia Markowitz Clássico ---\n",
      "\n",
      "Calculando as métricas esperadas (Ex-Ante)...\n",
      "Amostra dos retornos históricos do portfólio de mercado:\n",
      "\n",
      "Prêmio de Risco Mensal Médio (Numerador): 0.1773%\n",
      "Variância Mensal do Mercado (Denominador): 0.005078\n",
      "O coeficiente de aversão ao risco (δ) calculado é: 0.3491\n",
      "Métricas esperadas calculadas com sucesso.\n",
      "\n",
      "Iniciando o backtest da estratégia Markowitz...\n"
     ]
    },
    {
     "data": {
      "text/html": [
       "<style type=\"text/css\">\n",
       "</style>\n",
       "<table id=\"T_1d638\">\n",
       "  <caption><b>Análise Completa: Modelo Markowitz</b></caption>\n",
       "  <thead>\n",
       "    <tr>\n",
       "      <th class=\"blank level0\" >&nbsp;</th>\n",
       "      <th id=\"T_1d638_level0_col0\" class=\"col_heading level0 col0\" >Promessa (Ex-Ante)</th>\n",
       "      <th id=\"T_1d638_level0_col1\" class=\"col_heading level0 col1\" >Realidade (Backtest)</th>\n",
       "    </tr>\n",
       "    <tr>\n",
       "      <th class=\"index_name level0\" >Métrica</th>\n",
       "      <th class=\"blank col0\" >&nbsp;</th>\n",
       "      <th class=\"blank col1\" >&nbsp;</th>\n",
       "    </tr>\n",
       "  </thead>\n",
       "  <tbody>\n",
       "    <tr>\n",
       "      <th id=\"T_1d638_level0_row0\" class=\"row_heading level0 row0\" >Retorno Mensal (%)</th>\n",
       "      <td id=\"T_1d638_row0_col0\" class=\"data row0 col0\" >0.5646</td>\n",
       "      <td id=\"T_1d638_row0_col1\" class=\"data row0 col1\" >-0.0241</td>\n",
       "    </tr>\n",
       "    <tr>\n",
       "      <th id=\"T_1d638_level0_row1\" class=\"row_heading level0 row1\" >Volatilidade Mensal (%)</th>\n",
       "      <td id=\"T_1d638_row1_col0\" class=\"data row1 col0\" >5.4716</td>\n",
       "      <td id=\"T_1d638_row1_col1\" class=\"data row1 col1\" >4.9053</td>\n",
       "    </tr>\n",
       "    <tr>\n",
       "      <th id=\"T_1d638_level0_row2\" class=\"row_heading level0 row2\" >Índice Sharpe</th>\n",
       "      <td id=\"T_1d638_row2_col0\" class=\"data row2 col0\" >0.1032</td>\n",
       "      <td id=\"T_1d638_row2_col1\" class=\"data row2 col1\" >-0.0049</td>\n",
       "    </tr>\n",
       "  </tbody>\n",
       "</table>\n"
      ],
      "text/plain": [
       "<pandas.io.formats.style.Styler at 0x7690726a4b00>"
      ]
     },
     "metadata": {},
     "output_type": "display_data"
    }
   ],
   "source": [
    "def analisar_estrategia_markowitz():\n",
    "    \"\"\"\n",
    "    Função completa para analisar a estratégia de Markowitz Clássico.\n",
    "    Calcula as métricas esperadas (ex-ante) e roda o backtest (ex-post).\n",
    "    \"\"\"\n",
    "    print(\"--- Iniciando Análise Completa da Estratégia Markowitz Clássico ---\")\n",
    "\n",
    "    # Supondo que 'retornos_mes' é o DataFrame com o histórico completo\n",
    "    retornos_historicos = retornos_mes\n",
    "\n",
    "    # --- 1. ANÁLISE EX-ANTE (A \"PROMESSA\" DO MODELO) ---\n",
    "    print(\"\\nCalculando as métricas esperadas (Ex-Ante)...\")\n",
    "    \n",
    "    # Inputs para a análise: média e covariância de todo o período\n",
    "    retornos_esperados_para_analise = retornos_historicos.mean()\n",
    "    matriz_cov_para_analise = retornos_historicos.cov()\n",
    "\n",
    "    # Obter os pesos da estratégia Markowitz usando o histórico completo\n",
    "    pesos_otimizados_markowitz = obter_pesos_otimizados(retornos_historicos, dados_macro_combinados, -2 )['pesos']\n",
    "    \n",
    "    if pesos_otimizados_markowitz is None:\n",
    "        print(\"Falha ao obter os pesos da estratégia Markowitz. Análise abortada.\")\n",
    "        return\n",
    "\n",
    "    # Calcular as métricas esperadas da carteira\n",
    "    retorno_carteira_esperado = retorno_esperado(pesos_otimizados_markowitz, retornos_esperados_para_analise)\n",
    "    volat_carteira_esperada = volatilidade(pesos_otimizados_markowitz, matriz_cov_para_analise)\n",
    "    sharpe_carteira_esperado = retorno_carteira_esperado / volat_carteira_esperada\n",
    "\n",
    "    print(\"Métricas esperadas calculadas com sucesso.\")\n",
    "\n",
    "    # --- 2. ANÁLISE EX-POST (O BACKTEST) ---\n",
    "    print(\"\\nIniciando o backtest da estratégia Markowitz...\")\n",
    "    # Usamos o código -2 para Markowitz\n",
    "    retornos_estrategia_realizados = backtesting(retornos_historicos, -2)\n",
    "\n",
    "\n",
    "    resultados_backtest[-2] = retornos_estrategia_realizados \n",
    "\n",
    "    retorno_realizado_medio = retornos_estrategia_realizados.mean()\n",
    "    volat_realizada = retornos_estrategia_realizados.std()\n",
    "    sharpe_realizado = retorno_realizado_medio / volat_realizada\n",
    "    \n",
    "    tabela_final = pd.DataFrame({\n",
    "        'Métrica': ['Retorno Mensal (%)', 'Volatilidade Mensal (%)', 'Índice Sharpe'],\n",
    "        'Promessa (Ex-Ante)': [retorno_carteira_esperado * 100, volat_carteira_esperada * 100, sharpe_carteira_esperado],\n",
    "        'Realidade (Backtest)': [retorno_realizado_medio * 100, volat_realizada * 100, sharpe_realizado]\n",
    "        #'Benchmark Ibovespa': [ibov_retorno_medio * 100, ibov_volatilidade * 100, ibov_sharpe]\n",
    "    })\n",
    "    tabela_final.set_index('Métrica', inplace=True)\n",
    "    \n",
    "    display(tabela_final.style.format('{:.4f}').set_caption(\"<b>Análise Completa: Modelo Markowitz</b>\"))\n",
    "\n",
    "\n",
    "analisar_estrategia_markowitz()"
   ]
  },
  {
   "cell_type": "code",
   "execution_count": 36,
   "id": "af298c71",
   "metadata": {},
   "outputs": [],
   "source": [
    "#pip install nbformat"
   ]
  },
  {
   "cell_type": "code",
   "execution_count": 37,
   "id": "76249bde",
   "metadata": {},
   "outputs": [
    {
     "name": "stdout",
     "output_type": "stream",
     "text": [
      "\n",
      "Gerando gráfico de retorno acumulado...\n"
     ]
    },
    {
     "data": {
      "application/vnd.plotly.v1+json": {
       "config": {
        "plotlyServerURL": "https://plot.ly"
       },
       "data": [
        {
         "mode": "lines",
         "name": "1",
         "type": "scatter",
         "x": [
          "2022-07-31T00:00:00",
          "2022-08-31T00:00:00",
          "2022-09-30T00:00:00",
          "2022-10-31T00:00:00",
          "2022-11-30T00:00:00",
          "2022-12-31T00:00:00",
          "2023-01-31T00:00:00",
          "2023-02-28T00:00:00",
          "2023-03-31T00:00:00",
          "2023-04-30T00:00:00",
          "2023-05-31T00:00:00",
          "2023-06-30T00:00:00",
          "2023-07-31T00:00:00",
          "2023-08-31T00:00:00",
          "2023-09-30T00:00:00",
          "2023-10-31T00:00:00",
          "2023-11-30T00:00:00",
          "2023-12-31T00:00:00",
          "2024-01-31T00:00:00",
          "2024-02-29T00:00:00",
          "2024-03-31T00:00:00",
          "2024-04-30T00:00:00",
          "2024-05-31T00:00:00",
          "2024-06-30T00:00:00",
          "2024-07-31T00:00:00",
          "2024-08-31T00:00:00",
          "2024-09-30T00:00:00",
          "2024-10-31T00:00:00",
          "2024-11-30T00:00:00",
          "2024-12-31T00:00:00",
          "2025-01-31T00:00:00",
          "2025-02-28T00:00:00",
          "2025-03-31T00:00:00",
          "2025-04-30T00:00:00",
          "2025-05-31T00:00:00",
          "2025-06-30T00:00:00"
         ],
         "y": {
          "bdata": "y4GAkyl48D/7fPj9PIrwP76L4ismRfE/S5yYsjzJ8T8Rpu6YyNDwPxxYt8E2QvA/ItW/iWvU8D89Nita5envP1u8Yw7r3O4/FSGLzCUp7z/Iw++vHIfwPyQdD8IaUvE/UAno7rsO8j80QJeso+/wP0PkoS4wKPE/OzcJAdvF8D84D5LCpl3yPwhB5opsL/M/BEpb/vSq8j/6LgX0sdfyP1+4/ymSZPI/F/fttRWQ8j+YUugKmxDyPzpxGURkb/I/URZRQJ/38j/gFZ0UjyL0PzMNSnVPqvM/THrzoclH8z9MY426PXbyP+LbnW5CU/E/x1i++hgx8j9sA05wVBTxP7X0WtbI7PE/YJIdxa+48T9X2o8vOYzxP63aw33ucfE/",
          "dtype": "f8"
         }
        },
        {
         "mode": "lines",
         "name": "2",
         "type": "scatter",
         "x": [
          "2022-07-31T00:00:00",
          "2022-08-31T00:00:00",
          "2022-09-30T00:00:00",
          "2022-10-31T00:00:00",
          "2022-11-30T00:00:00",
          "2022-12-31T00:00:00",
          "2023-01-31T00:00:00",
          "2023-02-28T00:00:00",
          "2023-03-31T00:00:00",
          "2023-04-30T00:00:00",
          "2023-05-31T00:00:00",
          "2023-06-30T00:00:00",
          "2023-07-31T00:00:00",
          "2023-08-31T00:00:00",
          "2023-09-30T00:00:00",
          "2023-10-31T00:00:00",
          "2023-11-30T00:00:00",
          "2023-12-31T00:00:00",
          "2024-01-31T00:00:00",
          "2024-02-29T00:00:00",
          "2024-03-31T00:00:00",
          "2024-04-30T00:00:00",
          "2024-05-31T00:00:00",
          "2024-06-30T00:00:00",
          "2024-07-31T00:00:00",
          "2024-08-31T00:00:00",
          "2024-09-30T00:00:00",
          "2024-10-31T00:00:00",
          "2024-11-30T00:00:00",
          "2024-12-31T00:00:00",
          "2025-01-31T00:00:00",
          "2025-02-28T00:00:00",
          "2025-03-31T00:00:00",
          "2025-04-30T00:00:00",
          "2025-05-31T00:00:00",
          "2025-06-30T00:00:00"
         ],
         "y": {
          "bdata": "c/4yD7II8T+tEX8P3brxP+VsRecNIfI/3ydjRtBr8j/OZsgWlpXxP0Rk+ozeH/E/vq53WMnK8T/BuAqlFevwP+GRJNvsJfA/tzsYhmlR8D+Ty319Nv3wP9BoJ2+lBPI/Zif7N2Sn8j+BmUylh33xP+EvCMmSsvE/Dvnde6xb8T9xBvVnOubyPy5BmycKqfM/wZZioZTi8j9uq83qoxnzP5o4wAQ7vfI/Rq6B8kWP8j+2uzXFxenxP+GtzO6NS/I/MHwNs5Wh8j+5mbxkJqTzP1qBB2lrUfM/IdC+hWnf8j/pnI98JA/yP6y0P1J9//A/X8Ax7aL28T8/jxTw9vvwP2jDwZMz3vE/H72Cq8ZM8T9fAwc3NunwP0p+RecT0/A/",
          "dtype": "f8"
         }
        },
        {
         "mode": "lines",
         "name": "3",
         "type": "scatter",
         "x": [
          "2022-07-31T00:00:00",
          "2022-08-31T00:00:00",
          "2022-09-30T00:00:00",
          "2022-10-31T00:00:00",
          "2022-11-30T00:00:00",
          "2022-12-31T00:00:00",
          "2023-01-31T00:00:00",
          "2023-02-28T00:00:00",
          "2023-03-31T00:00:00",
          "2023-04-30T00:00:00",
          "2023-05-31T00:00:00",
          "2023-06-30T00:00:00",
          "2023-07-31T00:00:00",
          "2023-08-31T00:00:00",
          "2023-09-30T00:00:00",
          "2023-10-31T00:00:00",
          "2023-11-30T00:00:00",
          "2023-12-31T00:00:00",
          "2024-01-31T00:00:00",
          "2024-02-29T00:00:00",
          "2024-03-31T00:00:00",
          "2024-04-30T00:00:00",
          "2024-05-31T00:00:00",
          "2024-06-30T00:00:00",
          "2024-07-31T00:00:00",
          "2024-08-31T00:00:00",
          "2024-09-30T00:00:00",
          "2024-10-31T00:00:00",
          "2024-11-30T00:00:00",
          "2024-12-31T00:00:00",
          "2025-01-31T00:00:00",
          "2025-02-28T00:00:00",
          "2025-03-31T00:00:00",
          "2025-04-30T00:00:00",
          "2025-05-31T00:00:00",
          "2025-06-30T00:00:00"
         ],
         "y": {
          "bdata": "CRkXKiLR8D8V31m2FjXxP3tQIIA03vE/3DFUsyA18j/PIGz/43LxP1tNIQR95fA/KGD/kAyQ8T8mdAcmCK3wP5YocU7nCvA/501CxvcI8D8xhG2UpNbwP5DpD9Mu5vE/8ssAzxWD8j+fLYUwcmLxP6Bw9dI2wPE/szUQ5M5i8T8EnW9owwrzP4FAlPKH6/M/fgQ1bkth8z9GMYJAParzP4yaowoqQfM/ZIICtUd+8z/EexVyStXyP/D5KBskQ/M/IaaFXvDG8z9NlQbHT9/0PwOC+F0bmPQ/PNkv6VIV9D+Etj/FPmvzPxxCMYGEMvI/KUbQUew58z+6Q8BVSyTyP/Um5s5w2fI/LRCa/Lqh8j/YHjVQ0HTyP0xDLDPbWvI/",
          "dtype": "f8"
         }
        },
        {
         "mode": "lines",
         "name": "-1",
         "type": "scatter",
         "x": [
          "2022-07-31T00:00:00",
          "2022-08-31T00:00:00",
          "2022-09-30T00:00:00",
          "2022-10-31T00:00:00",
          "2022-11-30T00:00:00",
          "2022-12-31T00:00:00",
          "2023-01-31T00:00:00",
          "2023-02-28T00:00:00",
          "2023-03-31T00:00:00",
          "2023-04-30T00:00:00",
          "2023-05-31T00:00:00",
          "2023-06-30T00:00:00",
          "2023-07-31T00:00:00",
          "2023-08-31T00:00:00",
          "2023-09-30T00:00:00",
          "2023-10-31T00:00:00",
          "2023-11-30T00:00:00",
          "2023-12-31T00:00:00",
          "2024-01-31T00:00:00",
          "2024-02-29T00:00:00",
          "2024-03-31T00:00:00",
          "2024-04-30T00:00:00",
          "2024-05-31T00:00:00",
          "2024-06-30T00:00:00",
          "2024-07-31T00:00:00",
          "2024-08-31T00:00:00",
          "2024-09-30T00:00:00",
          "2024-10-31T00:00:00",
          "2024-11-30T00:00:00",
          "2024-12-31T00:00:00",
          "2025-01-31T00:00:00",
          "2025-02-28T00:00:00",
          "2025-03-31T00:00:00",
          "2025-04-30T00:00:00",
          "2025-05-31T00:00:00",
          "2025-06-30T00:00:00"
         ],
         "y": {
          "bdata": "3tUwYwWu8D/uJPviNvvwP/pmR7ocHfE/6Z3afdd58j+FWNEtIGnxPxu29SxY8vA/RlKQ3eVt8T8ZHr+gJbTwP8dIxU1TM/A/EuPLvbII8D9dcxoLVdTuP4PzvDedP/A/3TSwA9v78D8ZWmwupffuP3Zl043a3u4/H3araTQd7T+EMYJT/S/vP5itR3PWJPA/4wqrl/dC7j+iaOdY95LvPwV+HSULre8/T86wGf2k7z8JQYuBWDPuPz4V16Wsi+8/Pq7CS43F8D9KXExulbnxP0R2GjFmpvE/Bf3nD0c98T+Inl5zDafwP+ZT1fPN5O8/VrCwhhVu8D+CxPnE2GbuP2xCRubUe+4/Hq3ty8UZ7z9yedERHsztP/2xCepekO0/",
          "dtype": "f8"
         }
        },
        {
         "mode": "lines",
         "name": "-2",
         "type": "scatter",
         "x": [
          "2022-07-31T00:00:00",
          "2022-08-31T00:00:00",
          "2022-09-30T00:00:00",
          "2022-10-31T00:00:00",
          "2022-11-30T00:00:00",
          "2022-12-31T00:00:00",
          "2023-01-31T00:00:00",
          "2023-02-28T00:00:00",
          "2023-03-31T00:00:00",
          "2023-04-30T00:00:00",
          "2023-05-31T00:00:00",
          "2023-06-30T00:00:00",
          "2023-07-31T00:00:00",
          "2023-08-31T00:00:00",
          "2023-09-30T00:00:00",
          "2023-10-31T00:00:00",
          "2023-11-30T00:00:00",
          "2023-12-31T00:00:00",
          "2024-01-31T00:00:00",
          "2024-02-29T00:00:00",
          "2024-03-31T00:00:00",
          "2024-04-30T00:00:00",
          "2024-05-31T00:00:00",
          "2024-06-30T00:00:00",
          "2024-07-31T00:00:00",
          "2024-08-31T00:00:00",
          "2024-09-30T00:00:00",
          "2024-10-31T00:00:00",
          "2024-11-30T00:00:00",
          "2024-12-31T00:00:00",
          "2025-01-31T00:00:00",
          "2025-02-28T00:00:00",
          "2025-03-31T00:00:00",
          "2025-04-30T00:00:00",
          "2025-05-31T00:00:00",
          "2025-06-30T00:00:00"
         ],
         "y": {
          "bdata": "VtLD9V668D9eb1Bi/RTxP8WmawtgRvE/VFPpwkX88j8VkatRYtHxP4AxR0G9UvE/hPyth8m98T8tvk128xbxP15KVFFRwfA/f0nb5Tup8D/7zjFuSADwPxtNcjo1rvA/KXUOxWlt8T/qYWiWyqjvP8yZyiEOhe8/YBOjHMeA7T8J3fz6UIDvP73nktXzXPA/MIUQpBNK7j/FwkcQservP7rJwr1wJ/A/6aDQM3ct8D+3MUbIwcruP8QA4Ng9U/A/1U6SRAC58T+cRwn1Hc/yP1/8c7DWtvI/XPi5gwhh8j+jVL1eO9PxP7g7yAqVE/E/daV8emGe8T/AWHOvSPPvP99AQeI6he8/nN91/moB8D+RDHDWfI/uP4+85tBfae4/",
          "dtype": "f8"
         }
        },
        {
         "mode": "lines",
         "name": "Ibovespa",
         "type": "scatter",
         "x": [
          "2022-07-31T00:00:00",
          "2022-08-31T00:00:00",
          "2022-09-30T00:00:00",
          "2022-10-31T00:00:00",
          "2022-11-30T00:00:00",
          "2022-12-31T00:00:00",
          "2023-01-31T00:00:00",
          "2023-02-28T00:00:00",
          "2023-03-31T00:00:00",
          "2023-04-30T00:00:00",
          "2023-05-31T00:00:00",
          "2023-06-30T00:00:00",
          "2023-07-31T00:00:00",
          "2023-08-31T00:00:00",
          "2023-09-30T00:00:00",
          "2023-10-31T00:00:00",
          "2023-11-30T00:00:00",
          "2023-12-31T00:00:00",
          "2024-01-31T00:00:00",
          "2024-02-29T00:00:00",
          "2024-03-31T00:00:00",
          "2024-04-30T00:00:00",
          "2024-05-31T00:00:00",
          "2024-06-30T00:00:00",
          "2024-07-31T00:00:00",
          "2024-08-31T00:00:00",
          "2024-09-30T00:00:00",
          "2024-10-31T00:00:00",
          "2024-11-30T00:00:00",
          "2024-12-31T00:00:00",
          "2025-01-31T00:00:00",
          "2025-02-28T00:00:00",
          "2025-03-31T00:00:00",
          "2025-04-30T00:00:00",
          "2025-05-31T00:00:00",
          "2025-06-30T00:00:00"
         ],
         "y": {
          "bdata": "swSJ3ZaR8D9V9yaFo13xPxB+6LjhQvE/egsTB24A8j9MMtGCMELxP7LmsQpLo/A/oL6voa4A8T89lq6/TwvvP4TjgdTsw+0/ZmJfpSY67j9EfCQEcv/uP+Z8FMFBq/A/bUmEXLYG8T9fch3LEePvPyqdjZfAze8/kppCZcaJ7j/tyF9Cse7wP8QbF+5hq/E/QrSO1keh8D/NBXHMQqnwPx9zm96JZ/A/JvxfHgr07z8ayfpYv7PuP/RmvnU36e4/AQT799mM7z+FVIo/PaPwP6wml/yD9O8/LTh1ld0k7z8vXRgUQ+ntP9ojSey5Uuw/BmMmXOph7T+lUBNM103sPw3d9Luis+0/WMAYTZt27j+qy0iVCY7uPwZN/lann+4/",
          "dtype": "f8"
         }
        }
       ],
       "layout": {
        "legend": {
         "title": {
          "text": "Estratégia"
         }
        },
        "template": {
         "data": {
          "bar": [
           {
            "error_x": {
             "color": "#2a3f5f"
            },
            "error_y": {
             "color": "#2a3f5f"
            },
            "marker": {
             "line": {
              "color": "#E5ECF6",
              "width": 0.5
             },
             "pattern": {
              "fillmode": "overlay",
              "size": 10,
              "solidity": 0.2
             }
            },
            "type": "bar"
           }
          ],
          "barpolar": [
           {
            "marker": {
             "line": {
              "color": "#E5ECF6",
              "width": 0.5
             },
             "pattern": {
              "fillmode": "overlay",
              "size": 10,
              "solidity": 0.2
             }
            },
            "type": "barpolar"
           }
          ],
          "carpet": [
           {
            "aaxis": {
             "endlinecolor": "#2a3f5f",
             "gridcolor": "white",
             "linecolor": "white",
             "minorgridcolor": "white",
             "startlinecolor": "#2a3f5f"
            },
            "baxis": {
             "endlinecolor": "#2a3f5f",
             "gridcolor": "white",
             "linecolor": "white",
             "minorgridcolor": "white",
             "startlinecolor": "#2a3f5f"
            },
            "type": "carpet"
           }
          ],
          "choropleth": [
           {
            "colorbar": {
             "outlinewidth": 0,
             "ticks": ""
            },
            "type": "choropleth"
           }
          ],
          "contour": [
           {
            "colorbar": {
             "outlinewidth": 0,
             "ticks": ""
            },
            "colorscale": [
             [
              0,
              "#0d0887"
             ],
             [
              0.1111111111111111,
              "#46039f"
             ],
             [
              0.2222222222222222,
              "#7201a8"
             ],
             [
              0.3333333333333333,
              "#9c179e"
             ],
             [
              0.4444444444444444,
              "#bd3786"
             ],
             [
              0.5555555555555556,
              "#d8576b"
             ],
             [
              0.6666666666666666,
              "#ed7953"
             ],
             [
              0.7777777777777778,
              "#fb9f3a"
             ],
             [
              0.8888888888888888,
              "#fdca26"
             ],
             [
              1,
              "#f0f921"
             ]
            ],
            "type": "contour"
           }
          ],
          "contourcarpet": [
           {
            "colorbar": {
             "outlinewidth": 0,
             "ticks": ""
            },
            "type": "contourcarpet"
           }
          ],
          "heatmap": [
           {
            "colorbar": {
             "outlinewidth": 0,
             "ticks": ""
            },
            "colorscale": [
             [
              0,
              "#0d0887"
             ],
             [
              0.1111111111111111,
              "#46039f"
             ],
             [
              0.2222222222222222,
              "#7201a8"
             ],
             [
              0.3333333333333333,
              "#9c179e"
             ],
             [
              0.4444444444444444,
              "#bd3786"
             ],
             [
              0.5555555555555556,
              "#d8576b"
             ],
             [
              0.6666666666666666,
              "#ed7953"
             ],
             [
              0.7777777777777778,
              "#fb9f3a"
             ],
             [
              0.8888888888888888,
              "#fdca26"
             ],
             [
              1,
              "#f0f921"
             ]
            ],
            "type": "heatmap"
           }
          ],
          "histogram": [
           {
            "marker": {
             "pattern": {
              "fillmode": "overlay",
              "size": 10,
              "solidity": 0.2
             }
            },
            "type": "histogram"
           }
          ],
          "histogram2d": [
           {
            "colorbar": {
             "outlinewidth": 0,
             "ticks": ""
            },
            "colorscale": [
             [
              0,
              "#0d0887"
             ],
             [
              0.1111111111111111,
              "#46039f"
             ],
             [
              0.2222222222222222,
              "#7201a8"
             ],
             [
              0.3333333333333333,
              "#9c179e"
             ],
             [
              0.4444444444444444,
              "#bd3786"
             ],
             [
              0.5555555555555556,
              "#d8576b"
             ],
             [
              0.6666666666666666,
              "#ed7953"
             ],
             [
              0.7777777777777778,
              "#fb9f3a"
             ],
             [
              0.8888888888888888,
              "#fdca26"
             ],
             [
              1,
              "#f0f921"
             ]
            ],
            "type": "histogram2d"
           }
          ],
          "histogram2dcontour": [
           {
            "colorbar": {
             "outlinewidth": 0,
             "ticks": ""
            },
            "colorscale": [
             [
              0,
              "#0d0887"
             ],
             [
              0.1111111111111111,
              "#46039f"
             ],
             [
              0.2222222222222222,
              "#7201a8"
             ],
             [
              0.3333333333333333,
              "#9c179e"
             ],
             [
              0.4444444444444444,
              "#bd3786"
             ],
             [
              0.5555555555555556,
              "#d8576b"
             ],
             [
              0.6666666666666666,
              "#ed7953"
             ],
             [
              0.7777777777777778,
              "#fb9f3a"
             ],
             [
              0.8888888888888888,
              "#fdca26"
             ],
             [
              1,
              "#f0f921"
             ]
            ],
            "type": "histogram2dcontour"
           }
          ],
          "mesh3d": [
           {
            "colorbar": {
             "outlinewidth": 0,
             "ticks": ""
            },
            "type": "mesh3d"
           }
          ],
          "parcoords": [
           {
            "line": {
             "colorbar": {
              "outlinewidth": 0,
              "ticks": ""
             }
            },
            "type": "parcoords"
           }
          ],
          "pie": [
           {
            "automargin": true,
            "type": "pie"
           }
          ],
          "scatter": [
           {
            "fillpattern": {
             "fillmode": "overlay",
             "size": 10,
             "solidity": 0.2
            },
            "type": "scatter"
           }
          ],
          "scatter3d": [
           {
            "line": {
             "colorbar": {
              "outlinewidth": 0,
              "ticks": ""
             }
            },
            "marker": {
             "colorbar": {
              "outlinewidth": 0,
              "ticks": ""
             }
            },
            "type": "scatter3d"
           }
          ],
          "scattercarpet": [
           {
            "marker": {
             "colorbar": {
              "outlinewidth": 0,
              "ticks": ""
             }
            },
            "type": "scattercarpet"
           }
          ],
          "scattergeo": [
           {
            "marker": {
             "colorbar": {
              "outlinewidth": 0,
              "ticks": ""
             }
            },
            "type": "scattergeo"
           }
          ],
          "scattergl": [
           {
            "marker": {
             "colorbar": {
              "outlinewidth": 0,
              "ticks": ""
             }
            },
            "type": "scattergl"
           }
          ],
          "scattermap": [
           {
            "marker": {
             "colorbar": {
              "outlinewidth": 0,
              "ticks": ""
             }
            },
            "type": "scattermap"
           }
          ],
          "scattermapbox": [
           {
            "marker": {
             "colorbar": {
              "outlinewidth": 0,
              "ticks": ""
             }
            },
            "type": "scattermapbox"
           }
          ],
          "scatterpolar": [
           {
            "marker": {
             "colorbar": {
              "outlinewidth": 0,
              "ticks": ""
             }
            },
            "type": "scatterpolar"
           }
          ],
          "scatterpolargl": [
           {
            "marker": {
             "colorbar": {
              "outlinewidth": 0,
              "ticks": ""
             }
            },
            "type": "scatterpolargl"
           }
          ],
          "scatterternary": [
           {
            "marker": {
             "colorbar": {
              "outlinewidth": 0,
              "ticks": ""
             }
            },
            "type": "scatterternary"
           }
          ],
          "surface": [
           {
            "colorbar": {
             "outlinewidth": 0,
             "ticks": ""
            },
            "colorscale": [
             [
              0,
              "#0d0887"
             ],
             [
              0.1111111111111111,
              "#46039f"
             ],
             [
              0.2222222222222222,
              "#7201a8"
             ],
             [
              0.3333333333333333,
              "#9c179e"
             ],
             [
              0.4444444444444444,
              "#bd3786"
             ],
             [
              0.5555555555555556,
              "#d8576b"
             ],
             [
              0.6666666666666666,
              "#ed7953"
             ],
             [
              0.7777777777777778,
              "#fb9f3a"
             ],
             [
              0.8888888888888888,
              "#fdca26"
             ],
             [
              1,
              "#f0f921"
             ]
            ],
            "type": "surface"
           }
          ],
          "table": [
           {
            "cells": {
             "fill": {
              "color": "#EBF0F8"
             },
             "line": {
              "color": "white"
             }
            },
            "header": {
             "fill": {
              "color": "#C8D4E3"
             },
             "line": {
              "color": "white"
             }
            },
            "type": "table"
           }
          ]
         },
         "layout": {
          "annotationdefaults": {
           "arrowcolor": "#2a3f5f",
           "arrowhead": 0,
           "arrowwidth": 1
          },
          "autotypenumbers": "strict",
          "coloraxis": {
           "colorbar": {
            "outlinewidth": 0,
            "ticks": ""
           }
          },
          "colorscale": {
           "diverging": [
            [
             0,
             "#8e0152"
            ],
            [
             0.1,
             "#c51b7d"
            ],
            [
             0.2,
             "#de77ae"
            ],
            [
             0.3,
             "#f1b6da"
            ],
            [
             0.4,
             "#fde0ef"
            ],
            [
             0.5,
             "#f7f7f7"
            ],
            [
             0.6,
             "#e6f5d0"
            ],
            [
             0.7,
             "#b8e186"
            ],
            [
             0.8,
             "#7fbc41"
            ],
            [
             0.9,
             "#4d9221"
            ],
            [
             1,
             "#276419"
            ]
           ],
           "sequential": [
            [
             0,
             "#0d0887"
            ],
            [
             0.1111111111111111,
             "#46039f"
            ],
            [
             0.2222222222222222,
             "#7201a8"
            ],
            [
             0.3333333333333333,
             "#9c179e"
            ],
            [
             0.4444444444444444,
             "#bd3786"
            ],
            [
             0.5555555555555556,
             "#d8576b"
            ],
            [
             0.6666666666666666,
             "#ed7953"
            ],
            [
             0.7777777777777778,
             "#fb9f3a"
            ],
            [
             0.8888888888888888,
             "#fdca26"
            ],
            [
             1,
             "#f0f921"
            ]
           ],
           "sequentialminus": [
            [
             0,
             "#0d0887"
            ],
            [
             0.1111111111111111,
             "#46039f"
            ],
            [
             0.2222222222222222,
             "#7201a8"
            ],
            [
             0.3333333333333333,
             "#9c179e"
            ],
            [
             0.4444444444444444,
             "#bd3786"
            ],
            [
             0.5555555555555556,
             "#d8576b"
            ],
            [
             0.6666666666666666,
             "#ed7953"
            ],
            [
             0.7777777777777778,
             "#fb9f3a"
            ],
            [
             0.8888888888888888,
             "#fdca26"
            ],
            [
             1,
             "#f0f921"
            ]
           ]
          },
          "colorway": [
           "#636efa",
           "#EF553B",
           "#00cc96",
           "#ab63fa",
           "#FFA15A",
           "#19d3f3",
           "#FF6692",
           "#B6E880",
           "#FF97FF",
           "#FECB52"
          ],
          "font": {
           "color": "#2a3f5f"
          },
          "geo": {
           "bgcolor": "white",
           "lakecolor": "white",
           "landcolor": "#E5ECF6",
           "showlakes": true,
           "showland": true,
           "subunitcolor": "white"
          },
          "hoverlabel": {
           "align": "left"
          },
          "hovermode": "closest",
          "mapbox": {
           "style": "light"
          },
          "paper_bgcolor": "white",
          "plot_bgcolor": "#E5ECF6",
          "polar": {
           "angularaxis": {
            "gridcolor": "white",
            "linecolor": "white",
            "ticks": ""
           },
           "bgcolor": "#E5ECF6",
           "radialaxis": {
            "gridcolor": "white",
            "linecolor": "white",
            "ticks": ""
           }
          },
          "scene": {
           "xaxis": {
            "backgroundcolor": "#E5ECF6",
            "gridcolor": "white",
            "gridwidth": 2,
            "linecolor": "white",
            "showbackground": true,
            "ticks": "",
            "zerolinecolor": "white"
           },
           "yaxis": {
            "backgroundcolor": "#E5ECF6",
            "gridcolor": "white",
            "gridwidth": 2,
            "linecolor": "white",
            "showbackground": true,
            "ticks": "",
            "zerolinecolor": "white"
           },
           "zaxis": {
            "backgroundcolor": "#E5ECF6",
            "gridcolor": "white",
            "gridwidth": 2,
            "linecolor": "white",
            "showbackground": true,
            "ticks": "",
            "zerolinecolor": "white"
           }
          },
          "shapedefaults": {
           "line": {
            "color": "#2a3f5f"
           }
          },
          "ternary": {
           "aaxis": {
            "gridcolor": "white",
            "linecolor": "white",
            "ticks": ""
           },
           "baxis": {
            "gridcolor": "white",
            "linecolor": "white",
            "ticks": ""
           },
           "bgcolor": "#E5ECF6",
           "caxis": {
            "gridcolor": "white",
            "linecolor": "white",
            "ticks": ""
           }
          },
          "title": {
           "x": 0.05
          },
          "xaxis": {
           "automargin": true,
           "gridcolor": "white",
           "linecolor": "white",
           "ticks": "",
           "title": {
            "standoff": 15
           },
           "zerolinecolor": "white",
           "zerolinewidth": 2
          },
          "yaxis": {
           "automargin": true,
           "gridcolor": "white",
           "linecolor": "white",
           "ticks": "",
           "title": {
            "standoff": 15
           },
           "zerolinecolor": "white",
           "zerolinewidth": 2
          }
         }
        },
        "title": {
         "text": "<b>Prêmio de risco acumulado: Comparativo de Estratégias</b>"
        },
        "xaxis": {
         "title": {
          "text": "Data"
         }
        },
        "yaxis": {
         "title": {
          "text": "Prêmio de risco acumulado"
         }
        }
       }
      }
     },
     "metadata": {},
     "output_type": "display_data"
    }
   ],
   "source": [
    "# --- 3. ANÁLISE DE DESEMPENHO AO LONGO DO TEMPO ---\n",
    "\n",
    "# Converte o dicionário de resultados em um único DataFrame\n",
    "df_retornos = pd.DataFrame(resultados_backtest)\n",
    "\n",
    "# Fatia o benchmark para o mesmo período dos resultados do backtest\n",
    "# (Usamos o índice do primeiro resultado como referência)\n",
    "primeira_estrategia = list(resultados_backtest.keys())[0]\n",
    "indice_backtest = resultados_backtest[primeira_estrategia].index\n",
    "ibov_retornos_backtest = ibov_retornos_excedentes.loc[indice_backtest]\n",
    "\n",
    "# Adiciona o Ibovespa ao DataFrame para comparação completa\n",
    "df_retornos['Ibovespa'] = ibov_retornos_backtest\n",
    "\n",
    "# Agora o 'df_retornos' está exatamente no formato que você precisa\n",
    "# para a análise de curva de patrimônio.\n",
    "\n",
    "# --- Gráfico de Retorno Acumulado (Curva de Patrimônio) ---\n",
    "print(\"\\nGerando gráfico de retorno acumulado...\")\n",
    "\n",
    "# Calcula o crescimento de R$ 1,00 (retorno acumulado)\n",
    "# Lembre-se que estes são retornos EXCEDENTES. Para o patrimônio real, \n",
    "# teríamos que somar a Selic de volta, mas para comparar as estratégias, isso é o ideal.\n",
    "df_acumulado = (1 + df_retornos).cumprod()\n",
    "\n",
    "# Plotando com Plotly\n",
    "import plotly.graph_objects as go\n",
    "fig = go.Figure()\n",
    "for col in df_acumulado.columns:\n",
    "    fig.add_trace(go.Scatter(x=df_acumulado.index, y=df_acumulado[col], mode='lines', name=col))\n",
    "\n",
    "fig.update_layout(title_text='<b>Prêmio de risco acumulado: Comparativo de Estratégias</b>',\n",
    "                  yaxis_title='Prêmio de risco acumulado',\n",
    "                  xaxis_title='Data',\n",
    "                  legend_title='Estratégia')\n",
    "fig.show()"
   ]
  },
  {
   "cell_type": "code",
   "execution_count": 38,
   "id": "68524b8b",
   "metadata": {},
   "outputs": [
    {
     "name": "stdout",
     "output_type": "stream",
     "text": [
      "Requirement already satisfied: kaleido in ./.venv/lib/python3.12/site-packages (1.1.0)\n",
      "Requirement already satisfied: choreographer>=1.0.10 in ./.venv/lib/python3.12/site-packages (from kaleido) (1.1.1)\n",
      "Requirement already satisfied: logistro>=1.0.8 in ./.venv/lib/python3.12/site-packages (from kaleido) (1.1.0)\n",
      "Requirement already satisfied: orjson>=3.10.15 in ./.venv/lib/python3.12/site-packages (from kaleido) (3.11.3)\n",
      "Requirement already satisfied: packaging in ./.venv/lib/python3.12/site-packages (from kaleido) (25.0)\n",
      "Requirement already satisfied: pytest-timeout>=2.4.0 in ./.venv/lib/python3.12/site-packages (from kaleido) (2.4.0)\n",
      "Requirement already satisfied: simplejson>=3.19.3 in ./.venv/lib/python3.12/site-packages (from choreographer>=1.0.10->kaleido) (3.20.2)\n",
      "Requirement already satisfied: pytest>=7.0.0 in ./.venv/lib/python3.12/site-packages (from pytest-timeout>=2.4.0->kaleido) (8.4.2)\n",
      "Requirement already satisfied: iniconfig>=1 in ./.venv/lib/python3.12/site-packages (from pytest>=7.0.0->pytest-timeout>=2.4.0->kaleido) (2.1.0)\n",
      "Requirement already satisfied: pluggy<2,>=1.5 in ./.venv/lib/python3.12/site-packages (from pytest>=7.0.0->pytest-timeout>=2.4.0->kaleido) (1.6.0)\n",
      "Requirement already satisfied: pygments>=2.7.2 in ./.venv/lib/python3.12/site-packages (from pytest>=7.0.0->pytest-timeout>=2.4.0->kaleido) (2.19.2)\n",
      "Note: you may need to restart the kernel to use updated packages.\n"
     ]
    }
   ],
   "source": [
    "pip install kaleido\n"
   ]
  },
  {
   "cell_type": "code",
   "execution_count": 44,
   "id": "564f1843",
   "metadata": {},
   "outputs": [
    {
     "name": "stdout",
     "output_type": "stream",
     "text": [
      "\n",
      "--- Gráfico 1: Curva de Patrimônio Real (Baseado nos Retornos Brutos) ---\n"
     ]
    },
    {
     "data": {
      "application/vnd.plotly.v1+json": {
       "config": {
        "plotlyServerURL": "https://plot.ly"
       },
       "data": [
        {
         "mode": "lines",
         "name": "1",
         "type": "scatter",
         "x": [
          "2022-07-31T00:00:00",
          "2022-08-31T00:00:00",
          "2022-09-30T00:00:00",
          "2022-10-31T00:00:00",
          "2022-11-30T00:00:00",
          "2022-12-31T00:00:00",
          "2023-01-31T00:00:00",
          "2023-02-28T00:00:00",
          "2023-03-31T00:00:00",
          "2023-04-30T00:00:00",
          "2023-05-31T00:00:00",
          "2023-06-30T00:00:00",
          "2023-07-31T00:00:00",
          "2023-08-31T00:00:00",
          "2023-09-30T00:00:00",
          "2023-10-31T00:00:00",
          "2023-11-30T00:00:00",
          "2023-12-31T00:00:00",
          "2024-01-31T00:00:00",
          "2024-02-29T00:00:00",
          "2024-03-31T00:00:00",
          "2024-04-30T00:00:00",
          "2024-05-31T00:00:00",
          "2024-06-30T00:00:00",
          "2024-07-31T00:00:00",
          "2024-08-31T00:00:00",
          "2024-09-30T00:00:00",
          "2024-10-31T00:00:00",
          "2024-11-30T00:00:00",
          "2024-12-31T00:00:00",
          "2025-01-31T00:00:00",
          "2025-02-28T00:00:00",
          "2025-03-31T00:00:00",
          "2025-04-30T00:00:00",
          "2025-05-31T00:00:00",
          "2025-06-30T00:00:00"
         ],
         "y": {
          "bdata": "R+Oy6Fmi8D/SgQ0+bubwP+eISzS00/E/+9XGyJmK8j9I/hLqArjxPwgsYkaWVPE/tSuU8R4i8j8LV2kyDFzxP61FHEO7/fA/kDolTLdP8T8jrcgO1o7yPxvIv9CYpfM/0lqqNmCx9D/+0QvGxaTzP52gGBIkF/Q/ZRTdW23X8z858xamj+j1P2zbdpu2FPc/ZP8vqqmu9j9x63ObeRP3P6YNDVmEt/Y/1BKTyAQh9z8swJCCU7P2P9Nq40JYWPc/Qy16RT47+D8wV29eHe/5P6DKR48AjPk/1qYbrdVI+T/4s6xBK2n4Py5jR8qKIvc/3k/RU5aG+D9rMtME1ET3P6Zf8PDopPg/K2F9Riig+D8cIy4lPar4P9ZhTmy9yvg/",
          "dtype": "f8"
         }
        },
        {
         "mode": "lines",
         "name": "2",
         "type": "scatter",
         "x": [
          "2022-07-31T00:00:00",
          "2022-08-31T00:00:00",
          "2022-09-30T00:00:00",
          "2022-10-31T00:00:00",
          "2022-11-30T00:00:00",
          "2022-12-31T00:00:00",
          "2023-01-31T00:00:00",
          "2023-02-28T00:00:00",
          "2023-03-31T00:00:00",
          "2023-04-30T00:00:00",
          "2023-05-31T00:00:00",
          "2023-06-30T00:00:00",
          "2023-07-31T00:00:00",
          "2023-08-31T00:00:00",
          "2023-09-30T00:00:00",
          "2023-10-31T00:00:00",
          "2023-11-30T00:00:00",
          "2023-12-31T00:00:00",
          "2024-01-31T00:00:00",
          "2024-02-29T00:00:00",
          "2024-03-31T00:00:00",
          "2024-04-30T00:00:00",
          "2024-05-31T00:00:00",
          "2024-06-30T00:00:00",
          "2024-07-31T00:00:00",
          "2024-08-31T00:00:00",
          "2024-09-30T00:00:00",
          "2024-10-31T00:00:00",
          "2024-11-30T00:00:00",
          "2024-12-31T00:00:00",
          "2025-01-31T00:00:00",
          "2025-02-28T00:00:00",
          "2025-03-31T00:00:00",
          "2025-04-30T00:00:00",
          "2025-05-31T00:00:00",
          "2025-06-30T00:00:00"
         ],
         "y": {
          "bdata": "719lZOIy8T+9yXEwShryPxI3k0o3tPI/5o45gS8y8z/hj+BJEoXyP2KcciIxPvI//lHPDJQo8z/SMa+m0WTyP6Td976OxfE/zUKe1EUf8j+OEg0eBxLzP+I7Ir/4bfQ/Aa/aVXVe9T8RhlUMm0f0P2OTApV3t/Q/BvG9C8eG9D+hL3qhsYn2P1cOYnZcpfc/Z/n+G2Px9j+LVXq/Q2P3PzegThnOI/c/hang7sYf9z9uLyFJtYL2P71UCnAcK/c/shSByAfO9z9/fVreaU35P5o5W38/Gfk/1BkPfOHA+D/yadePxuH3Pxk9SF9ks/Y/bljqiiY4+D9BzL7GjyP3Pzn8Y7+lkPg/UuddCGAL+D95MQ+EKsf3P6hLm8EA6/c/",
          "dtype": "f8"
         }
        },
        {
         "mode": "lines",
         "name": "3",
         "type": "scatter",
         "x": [
          "2022-07-31T00:00:00",
          "2022-08-31T00:00:00",
          "2022-09-30T00:00:00",
          "2022-10-31T00:00:00",
          "2022-11-30T00:00:00",
          "2022-12-31T00:00:00",
          "2023-01-31T00:00:00",
          "2023-02-28T00:00:00",
          "2023-03-31T00:00:00",
          "2023-04-30T00:00:00",
          "2023-05-31T00:00:00",
          "2023-06-30T00:00:00",
          "2023-07-31T00:00:00",
          "2023-08-31T00:00:00",
          "2023-09-30T00:00:00",
          "2023-10-31T00:00:00",
          "2023-11-30T00:00:00",
          "2023-12-31T00:00:00",
          "2024-01-31T00:00:00",
          "2024-02-29T00:00:00",
          "2024-03-31T00:00:00",
          "2024-04-30T00:00:00",
          "2024-05-31T00:00:00",
          "2024-06-30T00:00:00",
          "2024-07-31T00:00:00",
          "2024-08-31T00:00:00",
          "2024-09-30T00:00:00",
          "2024-10-31T00:00:00",
          "2024-11-30T00:00:00",
          "2024-12-31T00:00:00",
          "2025-01-31T00:00:00",
          "2025-02-28T00:00:00",
          "2025-03-31T00:00:00",
          "2025-04-30T00:00:00",
          "2025-05-31T00:00:00",
          "2025-06-30T00:00:00"
         ],
         "y": {
          "bdata": "hXpJf1L78D+N9U3nHpPxP5Iuitf8b/I/o9F4ENP58j96p8fC8GDyPydvdKqyAPI/Bs+zIAvq8j9Vem5UGiLyPwmfHGceqPE/0CDzy5LP8T+jmXbbF+fyP7HcXTyzS/Q/C1brUDQ19T9KvUb6bCj0Px2lxHA1x/Q/X7jZnBCP9D8MmAqAz7T2P6SFs26Q9Pc/5N8IgM+J9z+1LPvpnBL4P4acm9Yixfc/MSCnDL5G+D/QJ3rh3qf3PyY6EQCxYfg/1GR6EFFB+T+MascDmd/6P943bIm1vfo/vn+VM45T+j9LLr5A2an5Pyfa4iSoSfg/VVfrywTo+T8kslITlrP4P7ha4zHw5vk/xntG2qvg+T/ROKvNzu35PwgQYERbEvo/",
          "dtype": "f8"
         }
        },
        {
         "mode": "lines",
         "name": "-1",
         "type": "scatter",
         "x": [
          "2022-07-31T00:00:00",
          "2022-08-31T00:00:00",
          "2022-09-30T00:00:00",
          "2022-10-31T00:00:00",
          "2022-11-30T00:00:00",
          "2022-12-31T00:00:00",
          "2023-01-31T00:00:00",
          "2023-02-28T00:00:00",
          "2023-03-31T00:00:00",
          "2023-04-30T00:00:00",
          "2023-05-31T00:00:00",
          "2023-06-30T00:00:00",
          "2023-07-31T00:00:00",
          "2023-08-31T00:00:00",
          "2023-09-30T00:00:00",
          "2023-10-31T00:00:00",
          "2023-11-30T00:00:00",
          "2023-12-31T00:00:00",
          "2024-01-31T00:00:00",
          "2024-02-29T00:00:00",
          "2024-03-31T00:00:00",
          "2024-04-30T00:00:00",
          "2024-05-31T00:00:00",
          "2024-06-30T00:00:00",
          "2024-07-31T00:00:00",
          "2024-08-31T00:00:00",
          "2024-09-30T00:00:00",
          "2024-10-31T00:00:00",
          "2024-11-30T00:00:00",
          "2024-12-31T00:00:00",
          "2025-01-31T00:00:00",
          "2025-02-28T00:00:00",
          "2025-03-31T00:00:00",
          "2025-04-30T00:00:00",
          "2025-05-31T00:00:00",
          "2025-06-30T00:00:00"
         ],
         "y": {
          "bdata": "WjdjuDXY8D8CAglmnljxP4JaSm/CqvE/2xYDZ+VA8z+vfedC+lbyP7IbGP5wDvI/6zB+a9vF8j8aCck5ACryP95vGF1S1PE/ZPigembP8T/fuL42X1LxPwIGgr6scfI/N1YVt9958z/zTxliU/rxP63ZIGaTGPI/n0HPWVI/8T/CrAP1YaLyP/t8PgAldfM/gxRdWd9s8j/9+gKoL1/zP6LtAcZYmPM/1ynkaQLA8z976w2WRQPzP1h/2tp+AvQ/biBPF4R19T/7rdYgi932P5J3Ogb39fY/VgCWt+Cj9j/G0QSdYAz2P5d2FWCvUfU/Ns/i0Scu9j9MuRbolL30Px983K/e/vQ/RdsM/p+k9T83UXCnmPv0P+axL3icDPU/",
          "dtype": "f8"
         }
        },
        {
         "mode": "lines",
         "name": "-2",
         "type": "scatter",
         "x": [
          "2022-07-31T00:00:00",
          "2022-08-31T00:00:00",
          "2022-09-30T00:00:00",
          "2022-10-31T00:00:00",
          "2022-11-30T00:00:00",
          "2022-12-31T00:00:00",
          "2023-01-31T00:00:00",
          "2023-02-28T00:00:00",
          "2023-03-31T00:00:00",
          "2023-04-30T00:00:00",
          "2023-05-31T00:00:00",
          "2023-06-30T00:00:00",
          "2023-07-31T00:00:00",
          "2023-08-31T00:00:00",
          "2023-09-30T00:00:00",
          "2023-10-31T00:00:00",
          "2023-11-30T00:00:00",
          "2023-12-31T00:00:00",
          "2024-01-31T00:00:00",
          "2024-02-29T00:00:00",
          "2024-03-31T00:00:00",
          "2024-04-30T00:00:00",
          "2024-05-31T00:00:00",
          "2024-06-30T00:00:00",
          "2024-07-31T00:00:00",
          "2024-08-31T00:00:00",
          "2024-09-30T00:00:00",
          "2024-10-31T00:00:00",
          "2024-11-30T00:00:00",
          "2024-12-31T00:00:00",
          "2025-01-31T00:00:00",
          "2025-02-28T00:00:00",
          "2025-03-31T00:00:00",
          "2025-04-30T00:00:00",
          "2025-05-31T00:00:00",
          "2025-06-30T00:00:00"
         ],
         "y": {
          "bdata": "0jP2So/k8D+Qy9cuq3LxPyiNisbn1PE/vioyVnrH8z+BhhKUvcPyP90ZLTIrdPI/GBzGHx0b8z/RtRmccZTyP0ZIoF7+bvI/fyUMg+l/8j+9u3X0W/nxP63i1sD27fI/2SJ4Is368z8MezfOMGDyP4wX60sUefI/M9J/08p58T+n+CRe9NHyP44jeWMvuPM/1Q1OS0Jx8j8euSz5sZTzP0wSai3E+/M/CqNeDMAw9D+w/WWt7mHzPybb3dqVtPQ/vP68UpKq9j8lVU+wv0D4PxHOxdaYVfg/FG3hU/Uf+D8rwQ+wnZb3P+HoCEQp0fY/aLFWa53F9z9Iy/mjLsr1P67VRVuttPU/n+RkxxJG9j9hzmcksIT1P5Or8HlypvU/",
          "dtype": "f8"
         }
        },
        {
         "mode": "lines",
         "name": "Ibovespa",
         "type": "scatter",
         "x": [
          "2022-07-31T00:00:00",
          "2022-08-31T00:00:00",
          "2022-09-30T00:00:00",
          "2022-10-31T00:00:00",
          "2022-11-30T00:00:00",
          "2022-12-31T00:00:00",
          "2023-01-31T00:00:00",
          "2023-02-28T00:00:00",
          "2023-03-31T00:00:00",
          "2023-04-30T00:00:00",
          "2023-05-31T00:00:00",
          "2023-06-30T00:00:00",
          "2023-07-31T00:00:00",
          "2023-08-31T00:00:00",
          "2023-09-30T00:00:00",
          "2023-10-31T00:00:00",
          "2023-11-30T00:00:00",
          "2023-12-31T00:00:00",
          "2024-01-31T00:00:00",
          "2024-02-29T00:00:00",
          "2024-03-31T00:00:00",
          "2024-04-30T00:00:00",
          "2024-05-31T00:00:00",
          "2024-06-30T00:00:00",
          "2024-07-31T00:00:00",
          "2024-08-31T00:00:00",
          "2024-09-30T00:00:00",
          "2024-10-31T00:00:00",
          "2024-11-30T00:00:00",
          "2024-12-31T00:00:00",
          "2025-01-31T00:00:00",
          "2025-02-28T00:00:00",
          "2025-03-31T00:00:00",
          "2025-04-30T00:00:00",
          "2025-05-31T00:00:00",
          "2025-06-30T00:00:00"
         ],
         "y": {
          "bdata": "L2a7Mse78D8L6Ogx+rvxP7xicfI60fE/lgsur2jD8j9AVSVOHS7yP3ScnP7buvE/fUdonjZR8j/6I1PiBeTwP+qkINR8ZPA/HjETjjTM8D8Te23MAWrxP5IhEzhB6vI/WHZLf9iF8z+C4KEAAIHyP0kXXyCUovI/BFiG/3MU8j9bYMtROTf0P52DxuGPRvU/UMGfnvs69D/tikFwH270P3OveXDxSPQ/HRkxGbzv8z9YCvLjQVLzP4ICJVb7mvM/ovVGvXAw9D8LZ1elAXj1P3nHWLEfzPQ/Edl0Sn529D++5WBhg9DzP3kVTE1h8vI/5baI/MfY8z9GfZNGmlDzP3+jUV87dPQ/m/eFnwAy9T/rEV5EKYD1P1VntmEayfU/",
          "dtype": "f8"
         }
        }
       ],
       "layout": {
        "legend": {
         "title": {
          "text": "Estratégia"
         }
        },
        "template": {
         "data": {
          "bar": [
           {
            "error_x": {
             "color": "#2a3f5f"
            },
            "error_y": {
             "color": "#2a3f5f"
            },
            "marker": {
             "line": {
              "color": "#E5ECF6",
              "width": 0.5
             },
             "pattern": {
              "fillmode": "overlay",
              "size": 10,
              "solidity": 0.2
             }
            },
            "type": "bar"
           }
          ],
          "barpolar": [
           {
            "marker": {
             "line": {
              "color": "#E5ECF6",
              "width": 0.5
             },
             "pattern": {
              "fillmode": "overlay",
              "size": 10,
              "solidity": 0.2
             }
            },
            "type": "barpolar"
           }
          ],
          "carpet": [
           {
            "aaxis": {
             "endlinecolor": "#2a3f5f",
             "gridcolor": "white",
             "linecolor": "white",
             "minorgridcolor": "white",
             "startlinecolor": "#2a3f5f"
            },
            "baxis": {
             "endlinecolor": "#2a3f5f",
             "gridcolor": "white",
             "linecolor": "white",
             "minorgridcolor": "white",
             "startlinecolor": "#2a3f5f"
            },
            "type": "carpet"
           }
          ],
          "choropleth": [
           {
            "colorbar": {
             "outlinewidth": 0,
             "ticks": ""
            },
            "type": "choropleth"
           }
          ],
          "contour": [
           {
            "colorbar": {
             "outlinewidth": 0,
             "ticks": ""
            },
            "colorscale": [
             [
              0,
              "#0d0887"
             ],
             [
              0.1111111111111111,
              "#46039f"
             ],
             [
              0.2222222222222222,
              "#7201a8"
             ],
             [
              0.3333333333333333,
              "#9c179e"
             ],
             [
              0.4444444444444444,
              "#bd3786"
             ],
             [
              0.5555555555555556,
              "#d8576b"
             ],
             [
              0.6666666666666666,
              "#ed7953"
             ],
             [
              0.7777777777777778,
              "#fb9f3a"
             ],
             [
              0.8888888888888888,
              "#fdca26"
             ],
             [
              1,
              "#f0f921"
             ]
            ],
            "type": "contour"
           }
          ],
          "contourcarpet": [
           {
            "colorbar": {
             "outlinewidth": 0,
             "ticks": ""
            },
            "type": "contourcarpet"
           }
          ],
          "heatmap": [
           {
            "colorbar": {
             "outlinewidth": 0,
             "ticks": ""
            },
            "colorscale": [
             [
              0,
              "#0d0887"
             ],
             [
              0.1111111111111111,
              "#46039f"
             ],
             [
              0.2222222222222222,
              "#7201a8"
             ],
             [
              0.3333333333333333,
              "#9c179e"
             ],
             [
              0.4444444444444444,
              "#bd3786"
             ],
             [
              0.5555555555555556,
              "#d8576b"
             ],
             [
              0.6666666666666666,
              "#ed7953"
             ],
             [
              0.7777777777777778,
              "#fb9f3a"
             ],
             [
              0.8888888888888888,
              "#fdca26"
             ],
             [
              1,
              "#f0f921"
             ]
            ],
            "type": "heatmap"
           }
          ],
          "histogram": [
           {
            "marker": {
             "pattern": {
              "fillmode": "overlay",
              "size": 10,
              "solidity": 0.2
             }
            },
            "type": "histogram"
           }
          ],
          "histogram2d": [
           {
            "colorbar": {
             "outlinewidth": 0,
             "ticks": ""
            },
            "colorscale": [
             [
              0,
              "#0d0887"
             ],
             [
              0.1111111111111111,
              "#46039f"
             ],
             [
              0.2222222222222222,
              "#7201a8"
             ],
             [
              0.3333333333333333,
              "#9c179e"
             ],
             [
              0.4444444444444444,
              "#bd3786"
             ],
             [
              0.5555555555555556,
              "#d8576b"
             ],
             [
              0.6666666666666666,
              "#ed7953"
             ],
             [
              0.7777777777777778,
              "#fb9f3a"
             ],
             [
              0.8888888888888888,
              "#fdca26"
             ],
             [
              1,
              "#f0f921"
             ]
            ],
            "type": "histogram2d"
           }
          ],
          "histogram2dcontour": [
           {
            "colorbar": {
             "outlinewidth": 0,
             "ticks": ""
            },
            "colorscale": [
             [
              0,
              "#0d0887"
             ],
             [
              0.1111111111111111,
              "#46039f"
             ],
             [
              0.2222222222222222,
              "#7201a8"
             ],
             [
              0.3333333333333333,
              "#9c179e"
             ],
             [
              0.4444444444444444,
              "#bd3786"
             ],
             [
              0.5555555555555556,
              "#d8576b"
             ],
             [
              0.6666666666666666,
              "#ed7953"
             ],
             [
              0.7777777777777778,
              "#fb9f3a"
             ],
             [
              0.8888888888888888,
              "#fdca26"
             ],
             [
              1,
              "#f0f921"
             ]
            ],
            "type": "histogram2dcontour"
           }
          ],
          "mesh3d": [
           {
            "colorbar": {
             "outlinewidth": 0,
             "ticks": ""
            },
            "type": "mesh3d"
           }
          ],
          "parcoords": [
           {
            "line": {
             "colorbar": {
              "outlinewidth": 0,
              "ticks": ""
             }
            },
            "type": "parcoords"
           }
          ],
          "pie": [
           {
            "automargin": true,
            "type": "pie"
           }
          ],
          "scatter": [
           {
            "fillpattern": {
             "fillmode": "overlay",
             "size": 10,
             "solidity": 0.2
            },
            "type": "scatter"
           }
          ],
          "scatter3d": [
           {
            "line": {
             "colorbar": {
              "outlinewidth": 0,
              "ticks": ""
             }
            },
            "marker": {
             "colorbar": {
              "outlinewidth": 0,
              "ticks": ""
             }
            },
            "type": "scatter3d"
           }
          ],
          "scattercarpet": [
           {
            "marker": {
             "colorbar": {
              "outlinewidth": 0,
              "ticks": ""
             }
            },
            "type": "scattercarpet"
           }
          ],
          "scattergeo": [
           {
            "marker": {
             "colorbar": {
              "outlinewidth": 0,
              "ticks": ""
             }
            },
            "type": "scattergeo"
           }
          ],
          "scattergl": [
           {
            "marker": {
             "colorbar": {
              "outlinewidth": 0,
              "ticks": ""
             }
            },
            "type": "scattergl"
           }
          ],
          "scattermap": [
           {
            "marker": {
             "colorbar": {
              "outlinewidth": 0,
              "ticks": ""
             }
            },
            "type": "scattermap"
           }
          ],
          "scattermapbox": [
           {
            "marker": {
             "colorbar": {
              "outlinewidth": 0,
              "ticks": ""
             }
            },
            "type": "scattermapbox"
           }
          ],
          "scatterpolar": [
           {
            "marker": {
             "colorbar": {
              "outlinewidth": 0,
              "ticks": ""
             }
            },
            "type": "scatterpolar"
           }
          ],
          "scatterpolargl": [
           {
            "marker": {
             "colorbar": {
              "outlinewidth": 0,
              "ticks": ""
             }
            },
            "type": "scatterpolargl"
           }
          ],
          "scatterternary": [
           {
            "marker": {
             "colorbar": {
              "outlinewidth": 0,
              "ticks": ""
             }
            },
            "type": "scatterternary"
           }
          ],
          "surface": [
           {
            "colorbar": {
             "outlinewidth": 0,
             "ticks": ""
            },
            "colorscale": [
             [
              0,
              "#0d0887"
             ],
             [
              0.1111111111111111,
              "#46039f"
             ],
             [
              0.2222222222222222,
              "#7201a8"
             ],
             [
              0.3333333333333333,
              "#9c179e"
             ],
             [
              0.4444444444444444,
              "#bd3786"
             ],
             [
              0.5555555555555556,
              "#d8576b"
             ],
             [
              0.6666666666666666,
              "#ed7953"
             ],
             [
              0.7777777777777778,
              "#fb9f3a"
             ],
             [
              0.8888888888888888,
              "#fdca26"
             ],
             [
              1,
              "#f0f921"
             ]
            ],
            "type": "surface"
           }
          ],
          "table": [
           {
            "cells": {
             "fill": {
              "color": "#EBF0F8"
             },
             "line": {
              "color": "white"
             }
            },
            "header": {
             "fill": {
              "color": "#C8D4E3"
             },
             "line": {
              "color": "white"
             }
            },
            "type": "table"
           }
          ]
         },
         "layout": {
          "annotationdefaults": {
           "arrowcolor": "#2a3f5f",
           "arrowhead": 0,
           "arrowwidth": 1
          },
          "autotypenumbers": "strict",
          "coloraxis": {
           "colorbar": {
            "outlinewidth": 0,
            "ticks": ""
           }
          },
          "colorscale": {
           "diverging": [
            [
             0,
             "#8e0152"
            ],
            [
             0.1,
             "#c51b7d"
            ],
            [
             0.2,
             "#de77ae"
            ],
            [
             0.3,
             "#f1b6da"
            ],
            [
             0.4,
             "#fde0ef"
            ],
            [
             0.5,
             "#f7f7f7"
            ],
            [
             0.6,
             "#e6f5d0"
            ],
            [
             0.7,
             "#b8e186"
            ],
            [
             0.8,
             "#7fbc41"
            ],
            [
             0.9,
             "#4d9221"
            ],
            [
             1,
             "#276419"
            ]
           ],
           "sequential": [
            [
             0,
             "#0d0887"
            ],
            [
             0.1111111111111111,
             "#46039f"
            ],
            [
             0.2222222222222222,
             "#7201a8"
            ],
            [
             0.3333333333333333,
             "#9c179e"
            ],
            [
             0.4444444444444444,
             "#bd3786"
            ],
            [
             0.5555555555555556,
             "#d8576b"
            ],
            [
             0.6666666666666666,
             "#ed7953"
            ],
            [
             0.7777777777777778,
             "#fb9f3a"
            ],
            [
             0.8888888888888888,
             "#fdca26"
            ],
            [
             1,
             "#f0f921"
            ]
           ],
           "sequentialminus": [
            [
             0,
             "#0d0887"
            ],
            [
             0.1111111111111111,
             "#46039f"
            ],
            [
             0.2222222222222222,
             "#7201a8"
            ],
            [
             0.3333333333333333,
             "#9c179e"
            ],
            [
             0.4444444444444444,
             "#bd3786"
            ],
            [
             0.5555555555555556,
             "#d8576b"
            ],
            [
             0.6666666666666666,
             "#ed7953"
            ],
            [
             0.7777777777777778,
             "#fb9f3a"
            ],
            [
             0.8888888888888888,
             "#fdca26"
            ],
            [
             1,
             "#f0f921"
            ]
           ]
          },
          "colorway": [
           "#636efa",
           "#EF553B",
           "#00cc96",
           "#ab63fa",
           "#FFA15A",
           "#19d3f3",
           "#FF6692",
           "#B6E880",
           "#FF97FF",
           "#FECB52"
          ],
          "font": {
           "color": "#2a3f5f"
          },
          "geo": {
           "bgcolor": "white",
           "lakecolor": "white",
           "landcolor": "#E5ECF6",
           "showlakes": true,
           "showland": true,
           "subunitcolor": "white"
          },
          "hoverlabel": {
           "align": "left"
          },
          "hovermode": "closest",
          "mapbox": {
           "style": "light"
          },
          "paper_bgcolor": "white",
          "plot_bgcolor": "#E5ECF6",
          "polar": {
           "angularaxis": {
            "gridcolor": "white",
            "linecolor": "white",
            "ticks": ""
           },
           "bgcolor": "#E5ECF6",
           "radialaxis": {
            "gridcolor": "white",
            "linecolor": "white",
            "ticks": ""
           }
          },
          "scene": {
           "xaxis": {
            "backgroundcolor": "#E5ECF6",
            "gridcolor": "white",
            "gridwidth": 2,
            "linecolor": "white",
            "showbackground": true,
            "ticks": "",
            "zerolinecolor": "white"
           },
           "yaxis": {
            "backgroundcolor": "#E5ECF6",
            "gridcolor": "white",
            "gridwidth": 2,
            "linecolor": "white",
            "showbackground": true,
            "ticks": "",
            "zerolinecolor": "white"
           },
           "zaxis": {
            "backgroundcolor": "#E5ECF6",
            "gridcolor": "white",
            "gridwidth": 2,
            "linecolor": "white",
            "showbackground": true,
            "ticks": "",
            "zerolinecolor": "white"
           }
          },
          "shapedefaults": {
           "line": {
            "color": "#2a3f5f"
           }
          },
          "ternary": {
           "aaxis": {
            "gridcolor": "white",
            "linecolor": "white",
            "ticks": ""
           },
           "baxis": {
            "gridcolor": "white",
            "linecolor": "white",
            "ticks": ""
           },
           "bgcolor": "#E5ECF6",
           "caxis": {
            "gridcolor": "white",
            "linecolor": "white",
            "ticks": ""
           }
          },
          "title": {
           "x": 0.05
          },
          "xaxis": {
           "automargin": true,
           "gridcolor": "white",
           "linecolor": "white",
           "ticks": "",
           "title": {
            "standoff": 15
           },
           "zerolinecolor": "white",
           "zerolinewidth": 2
          },
          "yaxis": {
           "automargin": true,
           "gridcolor": "white",
           "linecolor": "white",
           "ticks": "",
           "title": {
            "standoff": 15
           },
           "zerolinecolor": "white",
           "zerolinewidth": 2
          }
         }
        },
        "title": {
         "text": "<b>Crescimento de R$ 1,00 (Patrimônio Real)</b>"
        },
        "xaxis": {
         "tickangle": 0,
         "tickformat": "%b %Y"
        },
        "yaxis": {
         "title": {
          "text": "Patrimônio Acumulado (R$)"
         }
        }
       }
      }
     },
     "metadata": {},
     "output_type": "display_data"
    },
    {
     "data": {
      "image/png": "[encoded data removed]",
      "text/plain": [
       "<IPython.core.display.Image object>"
      ]
     },
     "metadata": {},
     "output_type": "display_data"
    }
   ],
   "source": [
    "# Supondo que 'df_retornos' (com os retornos excedentes das estratégias),\n",
    "# 'selic_mensal', 'ibov_retornos_brutos' (brutos) e 'indice_backtest' já existem.\n",
    "\n",
    "import plotly.io as pio\n",
    "from IPython.display import Image, display\n",
    "\n",
    "# Fatia a Selic para o período do backtest\n",
    "selic_fatiada = selic_mensal.loc[indice_backtest]\n",
    "\n",
    "# Adiciona a Selic de volta aos retornos excedentes para obter os retornos brutos das estratégias\n",
    "df_retornos_brutos = df_retornos.add(selic_fatiada['Taxa_Livre_Risco'], axis=0)\n",
    "\n",
    "# Fatia os retornos brutos do Ibovespa para o mesmo período\n",
    "ibov_retornos_brutos_fatiado = ibov_retornos_brutos.loc[indice_backtest]\n",
    "\n",
    "\n",
    "# --- A CORREÇÃO ESTÁ AQUI ---\n",
    "# Adicionamos a série de retornos do Ibovespa como uma nova coluna\n",
    "# ao DataFrame que será usado para o gráfico.\n",
    "df_retornos_brutos['Ibovespa'] = ibov_retornos_brutos_fatiado\n",
    "# ---------------------------\n",
    "\n",
    "\n",
    "print(\"\\n--- Gráfico 1: Curva de Patrimônio Real (Baseado nos Retornos Brutos) ---\")\n",
    "df_acumulado_bruto = (1 + df_retornos_brutos).cumprod()\n",
    "\n",
    "# ✅ Força o índice a ser datetime\n",
    "df_acumulado_bruto = (1 + df_retornos_brutos).cumprod()\n",
    "\n",
    "# Converte o índice para datetime (caso ainda não seja)\n",
    "df_acumulado_bruto.index = pd.to_datetime(df_acumulado_bruto.index)\n",
    "\n",
    "# Cria lista de datas explícitas\n",
    "datas = df_acumulado_bruto.index.tolist()\n",
    "\n",
    "fig_bruto = go.Figure()\n",
    "for col in df_acumulado_bruto.columns:\n",
    "    fig_bruto.add_trace(\n",
    "        go.Scatter(\n",
    "            x=datas,  # usa lista explícita de datas\n",
    "            y=df_acumulado_bruto[col],\n",
    "            mode='lines',\n",
    "            name=col\n",
    "        )\n",
    "    )\n",
    "\n",
    "fig_bruto.update_layout(\n",
    "    title_text='<b>Crescimento de R$ 1,00 (Patrimônio Real)</b>',\n",
    "    yaxis_title='Patrimônio Acumulado (R$)',\n",
    "    legend_title='Estratégia',\n",
    "    xaxis=dict(\n",
    "        tickformat=\"%b %Y\",  # exibe mês abreviado + ano\n",
    "        tickangle=0\n",
    "    )\n",
    ")\n",
    "\n",
    "# Gráfico interativo\n",
    "fig_bruto.show()\n",
    "\n",
    "# Salva o PNG\n",
    "png_path = \"grafico_patrimonio_real.png\"\n",
    "pio.write_image(fig_bruto, png_path, width=1200, height=800)\n",
    "\n",
    "# Exibe o PNG no notebook\n",
    "display(Image(filename=png_path))\n"
   ]
  },
  {
   "cell_type": "code",
   "execution_count": 40,
   "id": "41a47fdd",
   "metadata": {},
   "outputs": [
    {
     "name": "stdout",
     "output_type": "stream",
     "text": [
      "\n",
      "--- Gráfico de Índice Sharpe Móvel (Janela de 12 Meses) ---\n"
     ]
    },
    {
     "data": {
      "application/vnd.plotly.v1+json": {
       "config": {
        "plotlyServerURL": "https://plot.ly"
       },
       "data": [
        {
         "mode": "lines",
         "name": "1",
         "type": "scatter",
         "x": [
          "2023-06-30T00:00:00",
          "2023-07-31T00:00:00",
          "2023-08-31T00:00:00",
          "2023-09-30T00:00:00",
          "2023-10-31T00:00:00",
          "2023-11-30T00:00:00",
          "2023-12-31T00:00:00",
          "2024-01-31T00:00:00",
          "2024-02-29T00:00:00",
          "2024-03-31T00:00:00",
          "2024-04-30T00:00:00",
          "2024-05-31T00:00:00",
          "2024-06-30T00:00:00",
          "2024-07-31T00:00:00",
          "2024-08-31T00:00:00",
          "2024-09-30T00:00:00",
          "2024-10-31T00:00:00",
          "2024-11-30T00:00:00",
          "2024-12-31T00:00:00",
          "2025-01-31T00:00:00",
          "2025-02-28T00:00:00",
          "2025-03-31T00:00:00",
          "2025-04-30T00:00:00",
          "2025-05-31T00:00:00",
          "2025-06-30T00:00:00"
         ],
         "y": {
          "bdata": "wVi6Eckg5D9v54PSLavmP1TzUDrqXMw/+A2asnZlnT8Y8CZV1hHUvwl7TJ3BEuM/x/oKyBwg8T+GOYHZuvblP6U4SPv9KfI/inSjMkVt8z/VAfx462HzPxGkDVq2DOU/ixsr67Of3z/CjFvKNjDaP0BN8cV48/U/NEOaJATe8D+lXPpuOknxP7lnw3ZH9rg/QjlVAp6K6b9k6vvlasjBv/sJ8kQi8OO/U3ZiexKwub8sxdr1cUbOvxkig40/FsC/WxhWiUOW078=",
          "dtype": "f8"
         }
        },
        {
         "mode": "lines",
         "name": "2",
         "type": "scatter",
         "x": [
          "2023-06-30T00:00:00",
          "2023-07-31T00:00:00",
          "2023-08-31T00:00:00",
          "2023-09-30T00:00:00",
          "2023-10-31T00:00:00",
          "2023-11-30T00:00:00",
          "2023-12-31T00:00:00",
          "2024-01-31T00:00:00",
          "2024-02-29T00:00:00",
          "2024-03-31T00:00:00",
          "2024-04-30T00:00:00",
          "2024-05-31T00:00:00",
          "2024-06-30T00:00:00",
          "2024-07-31T00:00:00",
          "2024-08-31T00:00:00",
          "2024-09-30T00:00:00",
          "2024-10-31T00:00:00",
          "2024-11-30T00:00:00",
          "2024-12-31T00:00:00",
          "2025-01-31T00:00:00",
          "2025-02-28T00:00:00",
          "2025-03-31T00:00:00",
          "2025-04-30T00:00:00",
          "2025-05-31T00:00:00",
          "2025-06-30T00:00:00"
         ],
         "y": {
          "bdata": "JG9JquJc7D90oQx5pWPnPy6PM6sdCpi/YGPllnetuL/mIXeBNZrVvxFmb5hLZuA/qMzSE7J27T9RVh9zvorbP0nLZ6iD/Oo/P89YTH0Y8T/OCu14RIztPxMJGI88e9o/lpaAGFbtxT98Ps2dlgusP7f4EjAaSe4/xjrthg/s5j+AFPf1S9nlP08qf/IuBNe/Mjj/oCDC879CvdtSV4XVv1zIwNeMtOm/N9p6r15N0L9kQrq/ZnnZvx9TYAJUgtS/NMSkYTFB4L8=",
          "dtype": "f8"
         }
        },
        {
         "mode": "lines",
         "name": "3",
         "type": "scatter",
         "x": [
          "2023-06-30T00:00:00",
          "2023-07-31T00:00:00",
          "2023-08-31T00:00:00",
          "2023-09-30T00:00:00",
          "2023-10-31T00:00:00",
          "2023-11-30T00:00:00",
          "2023-12-31T00:00:00",
          "2024-01-31T00:00:00",
          "2024-02-29T00:00:00",
          "2024-03-31T00:00:00",
          "2024-04-30T00:00:00",
          "2024-05-31T00:00:00",
          "2024-06-30T00:00:00",
          "2024-07-31T00:00:00",
          "2024-08-31T00:00:00",
          "2024-09-30T00:00:00",
          "2024-10-31T00:00:00",
          "2024-11-30T00:00:00",
          "2024-12-31T00:00:00",
          "2025-01-31T00:00:00",
          "2025-02-28T00:00:00",
          "2025-03-31T00:00:00",
          "2025-04-30T00:00:00",
          "2025-05-31T00:00:00",
          "2025-06-30T00:00:00"
         ],
         "y": {
          "bdata": "9owVn9Z16z86fo2Xx2voPzkUas6tkME/KhktyWQkmT+p15JBg8rOv+un6jvF1uI/8NIg8+3i8D9CCAdRP+TkP7+2Wb5R2fE/3VR6SXxA9D8uZvuhNbv1P69jGNLRT+k/BZ0wJAI74j/pO97jNr3gPz900l0LRfc/CK6Myyyt8j/yWgKHmwLyP7StdtO4VM0/skXgIxNA57+NePdaVHNkvxKfs8E9Y+C/Ri9hGIletL82C4hNeGHPv+C5W8DDDLS/tfG4hhwk0r8=",
          "dtype": "f8"
         }
        },
        {
         "mode": "lines",
         "name": "-1",
         "type": "scatter",
         "x": [
          "2023-06-30T00:00:00",
          "2023-07-31T00:00:00",
          "2023-08-31T00:00:00",
          "2023-09-30T00:00:00",
          "2023-10-31T00:00:00",
          "2023-11-30T00:00:00",
          "2023-12-31T00:00:00",
          "2024-01-31T00:00:00",
          "2024-02-29T00:00:00",
          "2024-03-31T00:00:00",
          "2024-04-30T00:00:00",
          "2024-05-31T00:00:00",
          "2024-06-30T00:00:00",
          "2024-07-31T00:00:00",
          "2024-08-31T00:00:00",
          "2024-09-30T00:00:00",
          "2024-10-31T00:00:00",
          "2024-11-30T00:00:00",
          "2024-12-31T00:00:00",
          "2025-01-31T00:00:00",
          "2025-02-28T00:00:00",
          "2025-03-31T00:00:00",
          "2025-04-30T00:00:00",
          "2025-05-31T00:00:00",
          "2025-06-30T00:00:00"
         ],
         "y": {
          "bdata": "+EgtjtPjxT/kAQ1ZIyDIP0WioYH+t9y/q06M489t4L/60X00WOn3v1N8rhHcVOK/gXWNjb67yb+fbKmyR5TmvwXEOY7Ts8y/Ra4KCTyApb/all+tCpCDP8FCKa1v0J2/tIj+8IJBtb9Vyk9cVuyRP5ZrYfwU1ew/H6YM4yaZ7D+i1voKV//yPyCJ+Xn6jOA/kQu5EckTi79JTubT4G/lPwqFyN0Sx8a/P5QDT805x78bgngy2FGlv/p1GeE+B5K/YEmhUAlR2L8=",
          "dtype": "f8"
         }
        },
        {
         "mode": "lines",
         "name": "-2",
         "type": "scatter",
         "x": [
          "2023-06-30T00:00:00",
          "2023-07-31T00:00:00",
          "2023-08-31T00:00:00",
          "2023-09-30T00:00:00",
          "2023-10-31T00:00:00",
          "2023-11-30T00:00:00",
          "2023-12-31T00:00:00",
          "2024-01-31T00:00:00",
          "2024-02-29T00:00:00",
          "2024-03-31T00:00:00",
          "2024-04-30T00:00:00",
          "2024-05-31T00:00:00",
          "2024-06-30T00:00:00",
          "2024-07-31T00:00:00",
          "2024-08-31T00:00:00",
          "2024-09-30T00:00:00",
          "2024-10-31T00:00:00",
          "2024-11-30T00:00:00",
          "2024-12-31T00:00:00",
          "2025-01-31T00:00:00",
          "2025-02-28T00:00:00",
          "2025-03-31T00:00:00",
          "2025-04-30T00:00:00",
          "2025-05-31T00:00:00",
          "2025-06-30T00:00:00"
         ],
         "y": {
          "bdata": "R4nR1JGQ1T/+OYgE/EvVPyliDTNlZdW/t8/lzEcN279BMVCyo+75v+tsFeOGi+W/dF+WJTWE0L9EV0p2X1HpvxruXNUOj9G/ano/VzQMu7/Pgbj2W3KxvwnfojVf8Ly/snBELicck7+Vq1KzoKrGPyCnxNuWEvA/baTwz0UD8D+jw4wLucb1P/+PfUhowuk/i7bldQur1D9NxZ1LkN/wPz2jFt+rubY/ckPIq9poq796oFM1p/yYP4J5aHhZDKU/KuaHoX/y1b8=",
          "dtype": "f8"
         }
        },
        {
         "mode": "lines",
         "name": "Ibovespa",
         "type": "scatter",
         "x": [
          "2023-06-30T00:00:00",
          "2023-07-31T00:00:00",
          "2023-08-31T00:00:00",
          "2023-09-30T00:00:00",
          "2023-10-31T00:00:00",
          "2023-11-30T00:00:00",
          "2023-12-31T00:00:00",
          "2024-01-31T00:00:00",
          "2024-02-29T00:00:00",
          "2024-03-31T00:00:00",
          "2024-04-30T00:00:00",
          "2024-05-31T00:00:00",
          "2024-06-30T00:00:00",
          "2024-07-31T00:00:00",
          "2024-08-31T00:00:00",
          "2024-09-30T00:00:00",
          "2024-10-31T00:00:00",
          "2024-11-30T00:00:00",
          "2024-12-31T00:00:00",
          "2025-01-31T00:00:00",
          "2025-02-28T00:00:00",
          "2025-03-31T00:00:00",
          "2025-04-30T00:00:00",
          "2025-05-31T00:00:00",
          "2025-06-30T00:00:00"
         ],
         "y": {
          "bdata": "QWMPQ5Pk1D/8ez8FAjLPP58taI+S4tu/YOxA2wqR2r/LIeMT8Eruv1SfxOuW4n2/eOxXbp9Q2T8+/g8FnbiKvy936huQBt4/02uIvGwf5D8RxyjV7NnYP8JOBB0/BKA/3vNih+kj2L+c+IUzzHLYv82eu0c2ZNU/ifXD2LuNuj8OBhXB16TIP7VFfTAGQu6/f86oxeGR/b9Lw9CR77Dvv/y5+SqSsvS/uhtjhqd15b+/wYNqOSrSv8w9xXVWe5g/45V263fKhb8=",
          "dtype": "f8"
         }
        }
       ],
       "layout": {
        "legend": {
         "title": {
          "text": "Estratégia"
         }
        },
        "shapes": [
         {
          "line": {
           "color": "grey",
           "dash": "dash",
           "width": 1
          },
          "type": "line",
          "x0": 0,
          "x1": 1,
          "xref": "x domain",
          "y0": 0,
          "y1": 0,
          "yref": "y"
         }
        ],
        "template": {
         "data": {
          "bar": [
           {
            "error_x": {
             "color": "#2a3f5f"
            },
            "error_y": {
             "color": "#2a3f5f"
            },
            "marker": {
             "line": {
              "color": "#E5ECF6",
              "width": 0.5
             },
             "pattern": {
              "fillmode": "overlay",
              "size": 10,
              "solidity": 0.2
             }
            },
            "type": "bar"
           }
          ],
          "barpolar": [
           {
            "marker": {
             "line": {
              "color": "#E5ECF6",
              "width": 0.5
             },
             "pattern": {
              "fillmode": "overlay",
              "size": 10,
              "solidity": 0.2
             }
            },
            "type": "barpolar"
           }
          ],
          "carpet": [
           {
            "aaxis": {
             "endlinecolor": "#2a3f5f",
             "gridcolor": "white",
             "linecolor": "white",
             "minorgridcolor": "white",
             "startlinecolor": "#2a3f5f"
            },
            "baxis": {
             "endlinecolor": "#2a3f5f",
             "gridcolor": "white",
             "linecolor": "white",
             "minorgridcolor": "white",
             "startlinecolor": "#2a3f5f"
            },
            "type": "carpet"
           }
          ],
          "choropleth": [
           {
            "colorbar": {
             "outlinewidth": 0,
             "ticks": ""
            },
            "type": "choropleth"
           }
          ],
          "contour": [
           {
            "colorbar": {
             "outlinewidth": 0,
             "ticks": ""
            },
            "colorscale": [
             [
              0,
              "#0d0887"
             ],
             [
              0.1111111111111111,
              "#46039f"
             ],
             [
              0.2222222222222222,
              "#7201a8"
             ],
             [
              0.3333333333333333,
              "#9c179e"
             ],
             [
              0.4444444444444444,
              "#bd3786"
             ],
             [
              0.5555555555555556,
              "#d8576b"
             ],
             [
              0.6666666666666666,
              "#ed7953"
             ],
             [
              0.7777777777777778,
              "#fb9f3a"
             ],
             [
              0.8888888888888888,
              "#fdca26"
             ],
             [
              1,
              "#f0f921"
             ]
            ],
            "type": "contour"
           }
          ],
          "contourcarpet": [
           {
            "colorbar": {
             "outlinewidth": 0,
             "ticks": ""
            },
            "type": "contourcarpet"
           }
          ],
          "heatmap": [
           {
            "colorbar": {
             "outlinewidth": 0,
             "ticks": ""
            },
            "colorscale": [
             [
              0,
              "#0d0887"
             ],
             [
              0.1111111111111111,
              "#46039f"
             ],
             [
              0.2222222222222222,
              "#7201a8"
             ],
             [
              0.3333333333333333,
              "#9c179e"
             ],
             [
              0.4444444444444444,
              "#bd3786"
             ],
             [
              0.5555555555555556,
              "#d8576b"
             ],
             [
              0.6666666666666666,
              "#ed7953"
             ],
             [
              0.7777777777777778,
              "#fb9f3a"
             ],
             [
              0.8888888888888888,
              "#fdca26"
             ],
             [
              1,
              "#f0f921"
             ]
            ],
            "type": "heatmap"
           }
          ],
          "histogram": [
           {
            "marker": {
             "pattern": {
              "fillmode": "overlay",
              "size": 10,
              "solidity": 0.2
             }
            },
            "type": "histogram"
           }
          ],
          "histogram2d": [
           {
            "colorbar": {
             "outlinewidth": 0,
             "ticks": ""
            },
            "colorscale": [
             [
              0,
              "#0d0887"
             ],
             [
              0.1111111111111111,
              "#46039f"
             ],
             [
              0.2222222222222222,
              "#7201a8"
             ],
             [
              0.3333333333333333,
              "#9c179e"
             ],
             [
              0.4444444444444444,
              "#bd3786"
             ],
             [
              0.5555555555555556,
              "#d8576b"
             ],
             [
              0.6666666666666666,
              "#ed7953"
             ],
             [
              0.7777777777777778,
              "#fb9f3a"
             ],
             [
              0.8888888888888888,
              "#fdca26"
             ],
             [
              1,
              "#f0f921"
             ]
            ],
            "type": "histogram2d"
           }
          ],
          "histogram2dcontour": [
           {
            "colorbar": {
             "outlinewidth": 0,
             "ticks": ""
            },
            "colorscale": [
             [
              0,
              "#0d0887"
             ],
             [
              0.1111111111111111,
              "#46039f"
             ],
             [
              0.2222222222222222,
              "#7201a8"
             ],
             [
              0.3333333333333333,
              "#9c179e"
             ],
             [
              0.4444444444444444,
              "#bd3786"
             ],
             [
              0.5555555555555556,
              "#d8576b"
             ],
             [
              0.6666666666666666,
              "#ed7953"
             ],
             [
              0.7777777777777778,
              "#fb9f3a"
             ],
             [
              0.8888888888888888,
              "#fdca26"
             ],
             [
              1,
              "#f0f921"
             ]
            ],
            "type": "histogram2dcontour"
           }
          ],
          "mesh3d": [
           {
            "colorbar": {
             "outlinewidth": 0,
             "ticks": ""
            },
            "type": "mesh3d"
           }
          ],
          "parcoords": [
           {
            "line": {
             "colorbar": {
              "outlinewidth": 0,
              "ticks": ""
             }
            },
            "type": "parcoords"
           }
          ],
          "pie": [
           {
            "automargin": true,
            "type": "pie"
           }
          ],
          "scatter": [
           {
            "fillpattern": {
             "fillmode": "overlay",
             "size": 10,
             "solidity": 0.2
            },
            "type": "scatter"
           }
          ],
          "scatter3d": [
           {
            "line": {
             "colorbar": {
              "outlinewidth": 0,
              "ticks": ""
             }
            },
            "marker": {
             "colorbar": {
              "outlinewidth": 0,
              "ticks": ""
             }
            },
            "type": "scatter3d"
           }
          ],
          "scattercarpet": [
           {
            "marker": {
             "colorbar": {
              "outlinewidth": 0,
              "ticks": ""
             }
            },
            "type": "scattercarpet"
           }
          ],
          "scattergeo": [
           {
            "marker": {
             "colorbar": {
              "outlinewidth": 0,
              "ticks": ""
             }
            },
            "type": "scattergeo"
           }
          ],
          "scattergl": [
           {
            "marker": {
             "colorbar": {
              "outlinewidth": 0,
              "ticks": ""
             }
            },
            "type": "scattergl"
           }
          ],
          "scattermap": [
           {
            "marker": {
             "colorbar": {
              "outlinewidth": 0,
              "ticks": ""
             }
            },
            "type": "scattermap"
           }
          ],
          "scattermapbox": [
           {
            "marker": {
             "colorbar": {
              "outlinewidth": 0,
              "ticks": ""
             }
            },
            "type": "scattermapbox"
           }
          ],
          "scatterpolar": [
           {
            "marker": {
             "colorbar": {
              "outlinewidth": 0,
              "ticks": ""
             }
            },
            "type": "scatterpolar"
           }
          ],
          "scatterpolargl": [
           {
            "marker": {
             "colorbar": {
              "outlinewidth": 0,
              "ticks": ""
             }
            },
            "type": "scatterpolargl"
           }
          ],
          "scatterternary": [
           {
            "marker": {
             "colorbar": {
              "outlinewidth": 0,
              "ticks": ""
             }
            },
            "type": "scatterternary"
           }
          ],
          "surface": [
           {
            "colorbar": {
             "outlinewidth": 0,
             "ticks": ""
            },
            "colorscale": [
             [
              0,
              "#0d0887"
             ],
             [
              0.1111111111111111,
              "#46039f"
             ],
             [
              0.2222222222222222,
              "#7201a8"
             ],
             [
              0.3333333333333333,
              "#9c179e"
             ],
             [
              0.4444444444444444,
              "#bd3786"
             ],
             [
              0.5555555555555556,
              "#d8576b"
             ],
             [
              0.6666666666666666,
              "#ed7953"
             ],
             [
              0.7777777777777778,
              "#fb9f3a"
             ],
             [
              0.8888888888888888,
              "#fdca26"
             ],
             [
              1,
              "#f0f921"
             ]
            ],
            "type": "surface"
           }
          ],
          "table": [
           {
            "cells": {
             "fill": {
              "color": "#EBF0F8"
             },
             "line": {
              "color": "white"
             }
            },
            "header": {
             "fill": {
              "color": "#C8D4E3"
             },
             "line": {
              "color": "white"
             }
            },
            "type": "table"
           }
          ]
         },
         "layout": {
          "annotationdefaults": {
           "arrowcolor": "#2a3f5f",
           "arrowhead": 0,
           "arrowwidth": 1
          },
          "autotypenumbers": "strict",
          "coloraxis": {
           "colorbar": {
            "outlinewidth": 0,
            "ticks": ""
           }
          },
          "colorscale": {
           "diverging": [
            [
             0,
             "#8e0152"
            ],
            [
             0.1,
             "#c51b7d"
            ],
            [
             0.2,
             "#de77ae"
            ],
            [
             0.3,
             "#f1b6da"
            ],
            [
             0.4,
             "#fde0ef"
            ],
            [
             0.5,
             "#f7f7f7"
            ],
            [
             0.6,
             "#e6f5d0"
            ],
            [
             0.7,
             "#b8e186"
            ],
            [
             0.8,
             "#7fbc41"
            ],
            [
             0.9,
             "#4d9221"
            ],
            [
             1,
             "#276419"
            ]
           ],
           "sequential": [
            [
             0,
             "#0d0887"
            ],
            [
             0.1111111111111111,
             "#46039f"
            ],
            [
             0.2222222222222222,
             "#7201a8"
            ],
            [
             0.3333333333333333,
             "#9c179e"
            ],
            [
             0.4444444444444444,
             "#bd3786"
            ],
            [
             0.5555555555555556,
             "#d8576b"
            ],
            [
             0.6666666666666666,
             "#ed7953"
            ],
            [
             0.7777777777777778,
             "#fb9f3a"
            ],
            [
             0.8888888888888888,
             "#fdca26"
            ],
            [
             1,
             "#f0f921"
            ]
           ],
           "sequentialminus": [
            [
             0,
             "#0d0887"
            ],
            [
             0.1111111111111111,
             "#46039f"
            ],
            [
             0.2222222222222222,
             "#7201a8"
            ],
            [
             0.3333333333333333,
             "#9c179e"
            ],
            [
             0.4444444444444444,
             "#bd3786"
            ],
            [
             0.5555555555555556,
             "#d8576b"
            ],
            [
             0.6666666666666666,
             "#ed7953"
            ],
            [
             0.7777777777777778,
             "#fb9f3a"
            ],
            [
             0.8888888888888888,
             "#fdca26"
            ],
            [
             1,
             "#f0f921"
            ]
           ]
          },
          "colorway": [
           "#636efa",
           "#EF553B",
           "#00cc96",
           "#ab63fa",
           "#FFA15A",
           "#19d3f3",
           "#FF6692",
           "#B6E880",
           "#FF97FF",
           "#FECB52"
          ],
          "font": {
           "color": "#2a3f5f"
          },
          "geo": {
           "bgcolor": "white",
           "lakecolor": "white",
           "landcolor": "#E5ECF6",
           "showlakes": true,
           "showland": true,
           "subunitcolor": "white"
          },
          "hoverlabel": {
           "align": "left"
          },
          "hovermode": "closest",
          "mapbox": {
           "style": "light"
          },
          "paper_bgcolor": "white",
          "plot_bgcolor": "#E5ECF6",
          "polar": {
           "angularaxis": {
            "gridcolor": "white",
            "linecolor": "white",
            "ticks": ""
           },
           "bgcolor": "#E5ECF6",
           "radialaxis": {
            "gridcolor": "white",
            "linecolor": "white",
            "ticks": ""
           }
          },
          "scene": {
           "xaxis": {
            "backgroundcolor": "#E5ECF6",
            "gridcolor": "white",
            "gridwidth": 2,
            "linecolor": "white",
            "showbackground": true,
            "ticks": "",
            "zerolinecolor": "white"
           },
           "yaxis": {
            "backgroundcolor": "#E5ECF6",
            "gridcolor": "white",
            "gridwidth": 2,
            "linecolor": "white",
            "showbackground": true,
            "ticks": "",
            "zerolinecolor": "white"
           },
           "zaxis": {
            "backgroundcolor": "#E5ECF6",
            "gridcolor": "white",
            "gridwidth": 2,
            "linecolor": "white",
            "showbackground": true,
            "ticks": "",
            "zerolinecolor": "white"
           }
          },
          "shapedefaults": {
           "line": {
            "color": "#2a3f5f"
           }
          },
          "ternary": {
           "aaxis": {
            "gridcolor": "white",
            "linecolor": "white",
            "ticks": ""
           },
           "baxis": {
            "gridcolor": "white",
            "linecolor": "white",
            "ticks": ""
           },
           "bgcolor": "#E5ECF6",
           "caxis": {
            "gridcolor": "white",
            "linecolor": "white",
            "ticks": ""
           }
          },
          "title": {
           "x": 0.05
          },
          "xaxis": {
           "automargin": true,
           "gridcolor": "white",
           "linecolor": "white",
           "ticks": "",
           "title": {
            "standoff": 15
           },
           "zerolinecolor": "white",
           "zerolinewidth": 2
          },
          "yaxis": {
           "automargin": true,
           "gridcolor": "white",
           "linecolor": "white",
           "ticks": "",
           "title": {
            "standoff": 15
           },
           "zerolinecolor": "white",
           "zerolinewidth": 2
          }
         }
        },
        "title": {
         "text": "<b>Índice Sharpe Móvel Anualizado (Janela de 12 Meses)</b>"
        },
        "xaxis": {
         "title": {
          "text": "Data"
         }
        },
        "yaxis": {
         "title": {
          "text": "Índice Sharpe Anualizado"
         }
        }
       }
      }
     },
     "metadata": {},
     "output_type": "display_data"
    }
   ],
   "source": [
    "# --- 1. CÁLCULO DO SHARPE MÓVEL ---\n",
    "\n",
    "# Define a janela de cálculo. 12 meses (1 ano) é um padrão comum.\n",
    "janela_movel = 12\n",
    "\n",
    "# Calcula a média móvel dos retornos\n",
    "retornos_moveis = df_retornos.rolling(window=janela_movel).mean()\n",
    "\n",
    "# Calcula o desvio padrão móvel (volatilidade) dos retornos\n",
    "volatilidade_movel = df_retornos.rolling(window=janela_movel).std()\n",
    "\n",
    "# Calcula o Sharpe Ratio Móvel e o anualiza para melhor interpretação\n",
    "# (Multiplicamos pela raiz quadrada de 12 para anualizar)\n",
    "sharpe_movel_anualizado = (retornos_moveis * 12) / (volatilidade_movel * np.sqrt(12))\n",
    "\n",
    "\n",
    "# Remove os NaNs iniciais (os 11 primeiros meses não têm dados suficientes)\n",
    "sharpe_movel_anualizado = sharpe_movel_anualizado.dropna()\n",
    "\n",
    "\n",
    "# --- 2. PLOTAGEM DO GRÁFICO ---\n",
    "\n",
    "print(\"\\n--- Gráfico de Índice Sharpe Móvel (Janela de 12 Meses) ---\")\n",
    "\n",
    "fig = go.Figure()\n",
    "\n",
    "# Adiciona uma linha para cada estratégia no DataFrame\n",
    "for estrategia in sharpe_movel_anualizado.columns:\n",
    "    fig.add_trace(go.Scatter(\n",
    "        x=sharpe_movel_anualizado.index,    # Eixo X = Datas\n",
    "        y=sharpe_movel_anualizado[estrategia], # Eixo Y = Valores do Sharpe\n",
    "        mode='lines',\n",
    "        name=estrategia\n",
    "    ))\n",
    "\n",
    "# Adiciona uma linha horizontal em y=0 para referência\n",
    "fig.add_hline(y=0, line_width=1, line_dash=\"dash\", line_color=\"grey\")\n",
    "\n",
    "fig.update_layout(\n",
    "    title_text=\"<b>Índice Sharpe Móvel Anualizado (Janela de 12 Meses)</b>\",\n",
    "    yaxis_title=\"Índice Sharpe Anualizado\",\n",
    "    xaxis_title=\"Data\",\n",
    "    legend_title=\"Estratégia\"\n",
    ")\n",
    "\n",
    "fig.show()"
   ]
  },
  {
   "cell_type": "code",
   "execution_count": 41,
   "id": "9263f250",
   "metadata": {},
   "outputs": [
    {
     "name": "stdout",
     "output_type": "stream",
     "text": [
      "Collecting statsmodels\n",
      "  Downloading statsmodels-0.14.5-cp312-cp312-manylinux2014_x86_64.manylinux_2_17_x86_64.manylinux_2_28_x86_64.whl.metadata (9.5 kB)\n",
      "Requirement already satisfied: numpy<3,>=1.22.3 in ./.venv/lib/python3.12/site-packages (from statsmodels) (2.3.3)\n",
      "Requirement already satisfied: scipy!=1.9.2,>=1.8 in ./.venv/lib/python3.12/site-packages (from statsmodels) (1.16.2)\n",
      "Requirement already satisfied: pandas!=2.1.0,>=1.4 in ./.venv/lib/python3.12/site-packages (from statsmodels) (2.3.2)\n",
      "Collecting patsy>=0.5.6 (from statsmodels)\n",
      "  Using cached patsy-1.0.1-py2.py3-none-any.whl.metadata (3.3 kB)\n",
      "Requirement already satisfied: packaging>=21.3 in ./.venv/lib/python3.12/site-packages (from statsmodels) (25.0)\n",
      "Requirement already satisfied: python-dateutil>=2.8.2 in ./.venv/lib/python3.12/site-packages (from pandas!=2.1.0,>=1.4->statsmodels) (2.9.0.post0)\n",
      "Requirement already satisfied: pytz>=2020.1 in ./.venv/lib/python3.12/site-packages (from pandas!=2.1.0,>=1.4->statsmodels) (2025.2)\n",
      "Requirement already satisfied: tzdata>=2022.7 in ./.venv/lib/python3.12/site-packages (from pandas!=2.1.0,>=1.4->statsmodels) (2025.2)\n",
      "Requirement already satisfied: six>=1.5 in ./.venv/lib/python3.12/site-packages (from python-dateutil>=2.8.2->pandas!=2.1.0,>=1.4->statsmodels) (1.17.0)\n",
      "Downloading statsmodels-0.14.5-cp312-cp312-manylinux2014_x86_64.manylinux_2_17_x86_64.manylinux_2_28_x86_64.whl (10.4 MB)\n",
      "\u001b[2K   \u001b[90m━━━━━━━━━━━━━━━━━━━━━━━━━━━━━━━━━━━━━━━━\u001b[0m \u001b[32m10.4/10.4 MB\u001b[0m \u001b[31m13.2 MB/s\u001b[0m eta \u001b[36m0:00:00\u001b[0m00:01\u001b[0m0:01\u001b[0m\n",
      "\u001b[?25hUsing cached patsy-1.0.1-py2.py3-none-any.whl (232 kB)\n",
      "Installing collected packages: patsy, statsmodels\n",
      "Successfully installed patsy-1.0.1 statsmodels-0.14.5\n",
      "Note: you may need to restart the kernel to use updated packages.\n"
     ]
    }
   ],
   "source": [
    "pip install statsmodels\n"
   ]
  },
  {
   "cell_type": "code",
   "execution_count": 45,
   "id": "2aa0c89f",
   "metadata": {},
   "outputs": [
    {
     "name": "stdout",
     "output_type": "stream",
     "text": [
      "\n",
      "==================================================\n",
      "--- Conteúdo Final do Dicionário 'resultados_backtest' ---\n",
      "Número de estratégias bem-sucedidas: 5\n",
      "Estratégias encontradas: [1, 2, 3, -1, -2]\n",
      "==================================================\n",
      "\n",
      "\n",
      "--- Análise de Regressão para a Estratégia: BL com RF ---\n",
      "                            OLS Regression Results                            \n",
      "==============================================================================\n",
      "Dep. Variable:                      y   R-squared:                       0.782\n",
      "Model:                            OLS   Adj. R-squared:                  0.776\n",
      "Method:                 Least Squares   F-statistic:                     122.1\n",
      "Date:                Sat, 04 Oct 2025   Prob (F-statistic):           8.51e-13\n",
      "Time:                        15:46:49   Log-Likelihood:                 91.931\n",
      "No. Observations:                  36   AIC:                            -179.9\n",
      "Df Residuals:                      34   BIC:                            -176.7\n",
      "Df Model:                           1                                         \n",
      "Covariance Type:            nonrobust                                         \n",
      "==============================================================================\n",
      "                 coef    std err          t      P>|t|      [0.025      0.975]\n",
      "------------------------------------------------------------------------------\n",
      "const          0.0035      0.003      1.073      0.291      -0.003       0.010\n",
      "0              0.8301      0.075     11.050      0.000       0.677       0.983\n",
      "==============================================================================\n",
      "Omnibus:                        0.190   Durbin-Watson:                   2.504\n",
      "Prob(Omnibus):                  0.910   Jarque-Bera (JB):                0.008\n",
      "Skew:                           0.031   Prob(JB):                        0.996\n",
      "Kurtosis:                       2.965   Cond. No.                         23.3\n",
      "==============================================================================\n",
      "\n",
      "Notes:\n",
      "[1] Standard Errors assume that the covariance matrix of the errors is correctly specified.\n",
      "\n",
      "Alfa Mensal (habilidade do gestor): 0.3465%\n",
      "Beta (exposição ao mercado): 0.8301\n",
      "0.2907563106064171\n",
      "-> O Alfa não é estatisticamente significante (p >= 0.05), indicando que o desempenho pode ser atribuído ao acaso. ❌\n",
      "\n",
      "--- Análise de Regressão para a Estratégia: BL com LR ---\n",
      "                            OLS Regression Results                            \n",
      "==============================================================================\n",
      "Dep. Variable:                      y   R-squared:                       0.820\n",
      "Model:                            OLS   Adj. R-squared:                  0.815\n",
      "Method:                 Least Squares   F-statistic:                     154.8\n",
      "Date:                Sat, 04 Oct 2025   Prob (F-statistic):           3.28e-14\n",
      "Time:                        15:46:49   Log-Likelihood:                 95.090\n",
      "No. Observations:                  36   AIC:                            -186.2\n",
      "Df Residuals:                      34   BIC:                            -183.0\n",
      "Df Model:                           1                                         \n",
      "Covariance Type:            nonrobust                                         \n",
      "==============================================================================\n",
      "                 coef    std err          t      P>|t|      [0.025      0.975]\n",
      "------------------------------------------------------------------------------\n",
      "const          0.0025      0.003      0.837      0.408      -0.004       0.008\n",
      "0              0.8562      0.069     12.442      0.000       0.716       0.996\n",
      "==============================================================================\n",
      "Omnibus:                        7.520   Durbin-Watson:                   1.978\n",
      "Prob(Omnibus):                  0.023   Jarque-Bera (JB):                6.285\n",
      "Skew:                          -0.783   Prob(JB):                       0.0432\n",
      "Kurtosis:                       4.319   Cond. No.                         23.3\n",
      "==============================================================================\n",
      "\n",
      "Notes:\n",
      "[1] Standard Errors assume that the covariance matrix of the errors is correctly specified.\n",
      "\n",
      "Alfa Mensal (habilidade do gestor): 0.2476%\n",
      "Beta (exposição ao mercado): 0.8562\n",
      "0.40835925994720856\n",
      "-> O Alfa não é estatisticamente significante (p >= 0.05), indicando que o desempenho pode ser atribuído ao acaso. ❌\n",
      "\n",
      "--- Análise de Regressão para a Estratégia: BL Híbrido ---\n",
      "                            OLS Regression Results                            \n",
      "==============================================================================\n",
      "Dep. Variable:                      y   R-squared:                       0.808\n",
      "Model:                            OLS   Adj. R-squared:                  0.802\n",
      "Method:                 Least Squares   F-statistic:                     143.0\n",
      "Date:                Sat, 04 Oct 2025   Prob (F-statistic):           9.90e-14\n",
      "Time:                        15:46:49   Log-Likelihood:                 94.711\n",
      "No. Observations:                  36   AIC:                            -185.4\n",
      "Df Residuals:                      34   BIC:                            -182.3\n",
      "Df Model:                           1                                         \n",
      "Covariance Type:            nonrobust                                         \n",
      "==============================================================================\n",
      "                 coef    std err          t      P>|t|      [0.025      0.975]\n",
      "------------------------------------------------------------------------------\n",
      "const          0.0049      0.003      1.625      0.113      -0.001       0.011\n",
      "0              0.8316      0.070     11.959      0.000       0.690       0.973\n",
      "==============================================================================\n",
      "Omnibus:                        0.409   Durbin-Watson:                   2.415\n",
      "Prob(Omnibus):                  0.815   Jarque-Bera (JB):                0.550\n",
      "Skew:                           0.004   Prob(JB):                        0.760\n",
      "Kurtosis:                       2.395   Cond. No.                         23.3\n",
      "==============================================================================\n",
      "\n",
      "Notes:\n",
      "[1] Standard Errors assume that the covariance matrix of the errors is correctly specified.\n",
      "\n",
      "Alfa Mensal (habilidade do gestor): 0.4858%\n",
      "Beta (exposição ao mercado): 0.8316\n",
      "0.11329973213005615\n",
      "-> O Alfa não é estatisticamente significante (p >= 0.05), indicando que o desempenho pode ser atribuído ao acaso. ❌\n",
      "\n",
      "--- Análise de Regressão para a Estratégia: Eficiência Reamostrada ---\n",
      "                            OLS Regression Results                            \n",
      "==============================================================================\n",
      "Dep. Variable:                      y   R-squared:                       0.648\n",
      "Model:                            OLS   Adj. R-squared:                  0.638\n",
      "Method:                 Least Squares   F-statistic:                     62.67\n",
      "Date:                Sat, 04 Oct 2025   Prob (F-statistic):           3.21e-09\n",
      "Time:                        15:46:49   Log-Likelihood:                 80.279\n",
      "No. Observations:                  36   AIC:                            -156.6\n",
      "Df Residuals:                      34   BIC:                            -153.4\n",
      "Df Model:                           1                                         \n",
      "Covariance Type:            nonrobust                                         \n",
      "==============================================================================\n",
      "                 coef    std err          t      P>|t|      [0.025      0.975]\n",
      "------------------------------------------------------------------------------\n",
      "const         -0.0010      0.004     -0.220      0.827      -0.010       0.008\n",
      "0              0.8220      0.104      7.916      0.000       0.611       1.033\n",
      "==============================================================================\n",
      "Omnibus:                        0.249   Durbin-Watson:                   1.596\n",
      "Prob(Omnibus):                  0.883   Jarque-Bera (JB):                0.441\n",
      "Skew:                          -0.111   Prob(JB):                        0.802\n",
      "Kurtosis:                       2.505   Cond. No.                         23.3\n",
      "==============================================================================\n",
      "\n",
      "Notes:\n",
      "[1] Standard Errors assume that the covariance matrix of the errors is correctly specified.\n",
      "\n",
      "Alfa Mensal (habilidade do gestor): -0.0984%\n",
      "Beta (exposição ao mercado): 0.8220\n",
      "0.8268312002609125\n",
      "-> O Alfa não é estatisticamente significante (p >= 0.05), indicando que o desempenho pode ser atribuído ao acaso. ❌\n",
      "\n",
      "--- Análise de Regressão para a Estratégia: Markowitz Clássico ---\n",
      "                            OLS Regression Results                            \n",
      "==============================================================================\n",
      "Dep. Variable:                      y   R-squared:                       0.547\n",
      "Model:                            OLS   Adj. R-squared:                  0.534\n",
      "Method:                 Least Squares   F-statistic:                     41.12\n",
      "Date:                Sat, 04 Oct 2025   Prob (F-statistic):           2.52e-07\n",
      "Time:                        15:46:49   Log-Likelihood:                 72.229\n",
      "No. Observations:                  36   AIC:                            -140.5\n",
      "Df Residuals:                      34   BIC:                            -137.3\n",
      "Df Model:                           1                                         \n",
      "Covariance Type:            nonrobust                                         \n",
      "==============================================================================\n",
      "                 coef    std err          t      P>|t|      [0.025      0.975]\n",
      "------------------------------------------------------------------------------\n",
      "const       1.016e-05      0.006      0.002      0.999      -0.011       0.011\n",
      "0              0.8327      0.130      6.412      0.000       0.569       1.097\n",
      "==============================================================================\n",
      "Omnibus:                        0.074   Durbin-Watson:                   1.486\n",
      "Prob(Omnibus):                  0.964   Jarque-Bera (JB):                0.247\n",
      "Skew:                           0.083   Prob(JB):                        0.884\n",
      "Kurtosis:                       2.630   Cond. No.                         23.3\n",
      "==============================================================================\n",
      "\n",
      "Notes:\n",
      "[1] Standard Errors assume that the covariance matrix of the errors is correctly specified.\n",
      "\n",
      "Alfa Mensal (habilidade do gestor): 0.0010%\n",
      "Beta (exposição ao mercado): 0.8327\n",
      "0.9985574395252796\n",
      "-> O Alfa não é estatisticamente significante (p >= 0.05), indicando que o desempenho pode ser atribuído ao acaso. ❌\n"
     ]
    }
   ],
   "source": [
    "import statsmodels.api as sm\n",
    "\n",
    "# Supondo que 'resultados_backtest' e 'ibov_retornos_excedentes' já existem\n",
    "# e que 'metodos_a_testar' é o dicionário com os nomes das estratégias\n",
    "\n",
    "# É melhor iterar pelas chaves do dicionário de resultados,\n",
    "# para garantir que só analisamos as estratégias que rodaram com sucesso.\n",
    "# --- BLOCO DE DEPURAÇÃO ---\n",
    "print(\"\\n\" + \"=\"*50)\n",
    "print(\"--- Conteúdo Final do Dicionário 'resultados_backtest' ---\")\n",
    "print(f\"Número de estratégias bem-sucedidas: {len(resultados_backtest)}\")\n",
    "print(\"Estratégias encontradas:\", list(resultados_backtest.keys()))\n",
    "print(\"=\"*50 + \"\\n\")\n",
    "# -------------------------\n",
    "for i in resultados_backtest.keys():\n",
    "    print(f\"\\n--- Análise de Regressão para a Estratégia: {metodos_a_testar.get(i, i)} ---\")\n",
    "    \n",
    "    y = resultados_backtest[i]\n",
    "    \n",
    "    # --- A CORREÇÃO ESTÁ AQUI ---\n",
    "    # Alinhamos o X (Ibovespa) para ter exatamente o mesmo índice (datas) que o y (estratégia)\n",
    "    X = ibov_retornos_excedentes.loc[y.index]\n",
    "    # ---------------------------\n",
    "\n",
    "    # Adiciona a constante (para o alfa) ao X já alinhado\n",
    "    X = sm.add_constant(X)\n",
    "    \n",
    "    # Agora a regressão funcionará, pois os índices de y e X são idênticos\n",
    "    modelo = sm.OLS(y, X).fit()\n",
    "\n",
    "    print(modelo.summary()) # Exibe a tabela completa da regressão\n",
    "\n",
    "    # Extrai os parâmetros\n",
    "    alfa_mensal = modelo.params['const']\n",
    "    beta = modelo.params.get(X.columns[1], modelo.params.iloc[1])\n",
    "\n",
    "    \n",
    "    print(f\"\\nAlfa Mensal (habilidade do gestor): {alfa_mensal*100:.4f}%\")\n",
    "    print(f\"Beta (exposição ao mercado): {beta:.4f}\")\n",
    "    \n",
    "    # Interpretação do Alfa\n",
    "    p_valor_alfa = modelo.pvalues['const']\n",
    "    print(p_valor_alfa)\n",
    "    if p_valor_alfa < 0.05:\n",
    "        print(\"-> O Alfa é estatisticamente significante (p < 0.05), indicando que a estratégia gerou um retorno que não é explicado pelo mercado. ✅\")\n",
    "    else:\n",
    "        print(\"-> O Alfa não é estatisticamente significante (p >= 0.05), indicando que o desempenho pode ser atribuído ao acaso. ❌\")"
   ]
  }
 ],
 "metadata": {
  "kernelspec": {
   "display_name": ".venv (3.12.3)",
   "language": "python",
   "name": "python3"
  },
  "language_info": {
   "codemirror_mode": {
    "name": "ipython",
    "version": 3
   },
   "file_extension": ".py",
   "mimetype": "text/x-python",
   "name": "python",
   "nbconvert_exporter": "python",
   "pygments_lexer": "ipython3",
   "version": "3.12.3"
  }
 },
 "nbformat": 4,
 "nbformat_minor": 5
}
