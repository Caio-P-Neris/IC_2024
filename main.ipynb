{
 "cells": [
  {
   "cell_type": "code",
   "execution_count": 1,
   "id": "94289b0f",
   "metadata": {},
   "outputs": [
    {
     "name": "stdout",
     "output_type": "stream",
     "text": [
      "Requirement already satisfied: numpy in ./.venv/lib/python3.12/site-packages (2.3.3)\n",
      "Requirement already satisfied: yfinance in ./.venv/lib/python3.12/site-packages (0.2.66)\n",
      "Requirement already satisfied: scipy in ./.venv/lib/python3.12/site-packages (1.16.2)\n",
      "Requirement already satisfied: tqdm in ./.venv/lib/python3.12/site-packages (4.67.1)\n",
      "Requirement already satisfied: python-bcb in ./.venv/lib/python3.12/site-packages (0.3.3)\n",
      "Requirement already satisfied: google-generativeai in ./.venv/lib/python3.12/site-packages (0.8.5)\n",
      "Requirement already satisfied: scikit-learn in ./.venv/lib/python3.12/site-packages (1.7.2)\n",
      "Requirement already satisfied: jinja2 in ./.venv/lib/python3.12/site-packages (3.1.6)\n",
      "Requirement already satisfied: matplotlib in ./.venv/lib/python3.12/site-packages (3.10.6)\n",
      "Requirement already satisfied: plotly in ./.venv/lib/python3.12/site-packages (6.3.0)\n",
      "Requirement already satisfied: nbformat in ./.venv/lib/python3.12/site-packages (5.10.4)\n",
      "Requirement already satisfied: pandas>=1.3.0 in ./.venv/lib/python3.12/site-packages (from yfinance) (2.3.2)\n",
      "Requirement already satisfied: requests>=2.31 in ./.venv/lib/python3.12/site-packages (from yfinance) (2.32.5)\n",
      "Requirement already satisfied: multitasking>=0.0.7 in ./.venv/lib/python3.12/site-packages (from yfinance) (0.0.12)\n",
      "Requirement already satisfied: platformdirs>=2.0.0 in ./.venv/lib/python3.12/site-packages (from yfinance) (4.4.0)\n",
      "Requirement already satisfied: pytz>=2022.5 in ./.venv/lib/python3.12/site-packages (from yfinance) (2025.2)\n",
      "Requirement already satisfied: frozendict>=2.3.4 in ./.venv/lib/python3.12/site-packages (from yfinance) (2.4.6)\n",
      "Requirement already satisfied: peewee>=3.16.2 in ./.venv/lib/python3.12/site-packages (from yfinance) (3.18.2)\n",
      "Requirement already satisfied: beautifulsoup4>=4.11.1 in ./.venv/lib/python3.12/site-packages (from yfinance) (4.13.5)\n",
      "Requirement already satisfied: curl_cffi>=0.7 in ./.venv/lib/python3.12/site-packages (from yfinance) (0.13.0)\n",
      "Requirement already satisfied: protobuf>=3.19.0 in ./.venv/lib/python3.12/site-packages (from yfinance) (5.29.5)\n",
      "Requirement already satisfied: websockets>=13.0 in ./.venv/lib/python3.12/site-packages (from yfinance) (15.0.1)\n",
      "Requirement already satisfied: httpx>=0.24.0 in ./.venv/lib/python3.12/site-packages (from python-bcb) (0.28.1)\n",
      "Requirement already satisfied: lxml>=4.9.2 in ./.venv/lib/python3.12/site-packages (from python-bcb) (6.0.2)\n",
      "Requirement already satisfied: google-ai-generativelanguage==0.6.15 in ./.venv/lib/python3.12/site-packages (from google-generativeai) (0.6.15)\n",
      "Requirement already satisfied: google-api-core in ./.venv/lib/python3.12/site-packages (from google-generativeai) (2.25.1)\n",
      "Requirement already satisfied: google-api-python-client in ./.venv/lib/python3.12/site-packages (from google-generativeai) (2.182.0)\n",
      "Requirement already satisfied: google-auth>=2.15.0 in ./.venv/lib/python3.12/site-packages (from google-generativeai) (2.40.3)\n",
      "Requirement already satisfied: pydantic in ./.venv/lib/python3.12/site-packages (from google-generativeai) (2.11.9)\n",
      "Requirement already satisfied: typing-extensions in ./.venv/lib/python3.12/site-packages (from google-generativeai) (4.15.0)\n",
      "Requirement already satisfied: proto-plus<2.0.0dev,>=1.22.3 in ./.venv/lib/python3.12/site-packages (from google-ai-generativelanguage==0.6.15->google-generativeai) (1.26.1)\n",
      "Requirement already satisfied: joblib>=1.2.0 in ./.venv/lib/python3.12/site-packages (from scikit-learn) (1.5.2)\n",
      "Requirement already satisfied: threadpoolctl>=3.1.0 in ./.venv/lib/python3.12/site-packages (from scikit-learn) (3.6.0)\n",
      "Requirement already satisfied: MarkupSafe>=2.0 in ./.venv/lib/python3.12/site-packages (from jinja2) (3.0.2)\n",
      "Requirement already satisfied: contourpy>=1.0.1 in ./.venv/lib/python3.12/site-packages (from matplotlib) (1.3.3)\n",
      "Requirement already satisfied: cycler>=0.10 in ./.venv/lib/python3.12/site-packages (from matplotlib) (0.12.1)\n",
      "Requirement already satisfied: fonttools>=4.22.0 in ./.venv/lib/python3.12/site-packages (from matplotlib) (4.60.0)\n",
      "Requirement already satisfied: kiwisolver>=1.3.1 in ./.venv/lib/python3.12/site-packages (from matplotlib) (1.4.9)\n",
      "Requirement already satisfied: packaging>=20.0 in ./.venv/lib/python3.12/site-packages (from matplotlib) (25.0)\n",
      "Requirement already satisfied: pillow>=8 in ./.venv/lib/python3.12/site-packages (from matplotlib) (11.3.0)\n",
      "Requirement already satisfied: pyparsing>=2.3.1 in ./.venv/lib/python3.12/site-packages (from matplotlib) (3.2.5)\n",
      "Requirement already satisfied: python-dateutil>=2.7 in ./.venv/lib/python3.12/site-packages (from matplotlib) (2.9.0.post0)\n",
      "Requirement already satisfied: narwhals>=1.15.1 in ./.venv/lib/python3.12/site-packages (from plotly) (2.5.0)\n",
      "Requirement already satisfied: fastjsonschema>=2.15 in ./.venv/lib/python3.12/site-packages (from nbformat) (2.21.2)\n",
      "Requirement already satisfied: jsonschema>=2.6 in ./.venv/lib/python3.12/site-packages (from nbformat) (4.25.1)\n",
      "Requirement already satisfied: jupyter-core!=5.0.*,>=4.12 in ./.venv/lib/python3.12/site-packages (from nbformat) (5.8.1)\n",
      "Requirement already satisfied: traitlets>=5.1 in ./.venv/lib/python3.12/site-packages (from nbformat) (5.14.3)\n",
      "Requirement already satisfied: soupsieve>1.2 in ./.venv/lib/python3.12/site-packages (from beautifulsoup4>=4.11.1->yfinance) (2.8)\n",
      "Requirement already satisfied: cffi>=1.12.0 in ./.venv/lib/python3.12/site-packages (from curl_cffi>=0.7->yfinance) (2.0.0)\n",
      "Requirement already satisfied: certifi>=2024.2.2 in ./.venv/lib/python3.12/site-packages (from curl_cffi>=0.7->yfinance) (2025.8.3)\n",
      "Requirement already satisfied: googleapis-common-protos<2.0.0,>=1.56.2 in ./.venv/lib/python3.12/site-packages (from google-api-core->google-generativeai) (1.70.0)\n",
      "Requirement already satisfied: cachetools<6.0,>=2.0.0 in ./.venv/lib/python3.12/site-packages (from google-auth>=2.15.0->google-generativeai) (5.5.2)\n",
      "Requirement already satisfied: pyasn1-modules>=0.2.1 in ./.venv/lib/python3.12/site-packages (from google-auth>=2.15.0->google-generativeai) (0.4.2)\n",
      "Requirement already satisfied: rsa<5,>=3.1.4 in ./.venv/lib/python3.12/site-packages (from google-auth>=2.15.0->google-generativeai) (4.9.1)\n",
      "Requirement already satisfied: anyio in ./.venv/lib/python3.12/site-packages (from httpx>=0.24.0->python-bcb) (4.11.0)\n",
      "Requirement already satisfied: httpcore==1.* in ./.venv/lib/python3.12/site-packages (from httpx>=0.24.0->python-bcb) (1.0.9)\n",
      "Requirement already satisfied: idna in ./.venv/lib/python3.12/site-packages (from httpx>=0.24.0->python-bcb) (3.10)\n",
      "Requirement already satisfied: h11>=0.16 in ./.venv/lib/python3.12/site-packages (from httpcore==1.*->httpx>=0.24.0->python-bcb) (0.16.0)\n",
      "Requirement already satisfied: attrs>=22.2.0 in ./.venv/lib/python3.12/site-packages (from jsonschema>=2.6->nbformat) (25.3.0)\n",
      "Requirement already satisfied: jsonschema-specifications>=2023.03.6 in ./.venv/lib/python3.12/site-packages (from jsonschema>=2.6->nbformat) (2025.9.1)\n",
      "Requirement already satisfied: referencing>=0.28.4 in ./.venv/lib/python3.12/site-packages (from jsonschema>=2.6->nbformat) (0.36.2)\n",
      "Requirement already satisfied: rpds-py>=0.7.1 in ./.venv/lib/python3.12/site-packages (from jsonschema>=2.6->nbformat) (0.27.1)\n",
      "Requirement already satisfied: tzdata>=2022.7 in ./.venv/lib/python3.12/site-packages (from pandas>=1.3.0->yfinance) (2025.2)\n",
      "Requirement already satisfied: six>=1.5 in ./.venv/lib/python3.12/site-packages (from python-dateutil>=2.7->matplotlib) (1.17.0)\n",
      "Requirement already satisfied: charset_normalizer<4,>=2 in ./.venv/lib/python3.12/site-packages (from requests>=2.31->yfinance) (3.4.3)\n",
      "Requirement already satisfied: urllib3<3,>=1.21.1 in ./.venv/lib/python3.12/site-packages (from requests>=2.31->yfinance) (2.5.0)\n",
      "Requirement already satisfied: httplib2<1.0.0,>=0.19.0 in ./.venv/lib/python3.12/site-packages (from google-api-python-client->google-generativeai) (0.31.0)\n",
      "Requirement already satisfied: google-auth-httplib2<1.0.0,>=0.2.0 in ./.venv/lib/python3.12/site-packages (from google-api-python-client->google-generativeai) (0.2.0)\n",
      "Requirement already satisfied: uritemplate<5,>=3.0.1 in ./.venv/lib/python3.12/site-packages (from google-api-python-client->google-generativeai) (4.2.0)\n",
      "Requirement already satisfied: annotated-types>=0.6.0 in ./.venv/lib/python3.12/site-packages (from pydantic->google-generativeai) (0.7.0)\n",
      "Requirement already satisfied: pydantic-core==2.33.2 in ./.venv/lib/python3.12/site-packages (from pydantic->google-generativeai) (2.33.2)\n",
      "Requirement already satisfied: typing-inspection>=0.4.0 in ./.venv/lib/python3.12/site-packages (from pydantic->google-generativeai) (0.4.1)\n",
      "Requirement already satisfied: pycparser in ./.venv/lib/python3.12/site-packages (from cffi>=1.12.0->curl_cffi>=0.7->yfinance) (2.23)\n",
      "Requirement already satisfied: grpcio<2.0.0,>=1.33.2 in ./.venv/lib/python3.12/site-packages (from google-api-core[grpc]!=2.0.*,!=2.1.*,!=2.10.*,!=2.2.*,!=2.3.*,!=2.4.*,!=2.5.*,!=2.6.*,!=2.7.*,!=2.8.*,!=2.9.*,<3.0.0dev,>=1.34.1->google-ai-generativelanguage==0.6.15->google-generativeai) (1.75.0)\n",
      "Requirement already satisfied: grpcio-status<2.0.0,>=1.33.2 in ./.venv/lib/python3.12/site-packages (from google-api-core[grpc]!=2.0.*,!=2.1.*,!=2.10.*,!=2.2.*,!=2.3.*,!=2.4.*,!=2.5.*,!=2.6.*,!=2.7.*,!=2.8.*,!=2.9.*,<3.0.0dev,>=1.34.1->google-ai-generativelanguage==0.6.15->google-generativeai) (1.71.2)\n",
      "Requirement already satisfied: pyasn1<0.7.0,>=0.6.1 in ./.venv/lib/python3.12/site-packages (from pyasn1-modules>=0.2.1->google-auth>=2.15.0->google-generativeai) (0.6.1)\n",
      "Requirement already satisfied: sniffio>=1.1 in ./.venv/lib/python3.12/site-packages (from anyio->httpx>=0.24.0->python-bcb) (1.3.1)\n",
      "Note: you may need to restart the kernel to use updated packages.\n"
     ]
    }
   ],
   "source": [
    "pip install numpy yfinance scipy tqdm python-bcb google-generativeai scikit-learn jinja2 matplotlib plotly nbformat"
   ]
  },
  {
   "cell_type": "code",
   "execution_count": 2,
   "id": "705a5db7",
   "metadata": {},
   "outputs": [
    {
     "name": "stderr",
     "output_type": "stream",
     "text": [
      "/home/caio/Documentos/ic24_repo/.venv/lib/python3.12/site-packages/tqdm/auto.py:21: TqdmWarning: IProgress not found. Please update jupyter and ipywidgets. See https://ipywidgets.readthedocs.io/en/stable/user_install.html\n",
      "  from .autonotebook import tqdm as notebook_tqdm\n"
     ]
    }
   ],
   "source": [
    "import sys\n",
    "import os\n",
    "import numpy as np\n",
    "import pandas as pd\n",
    "import yfinance as yf\n",
    "import scipy.optimize as scpopt\n",
    "from tqdm import tqdm\n",
    "from bcb import sgs\n",
    "from sklearn.ensemble import RandomForestRegressor\n",
    "from sklearn.linear_model import LinearRegression, Ridge, Lasso\n",
    "import google.generativeai as genai\n",
    "from datetime import datetime\n",
    "import matplotlib.pyplot as plt\n",
    "#from openai import OpenAI\n",
    "import plotly"
   ]
  },
  {
   "cell_type": "code",
   "execution_count": 3,
   "id": "83ea78ab",
   "metadata": {},
   "outputs": [],
   "source": [
    "#pip install google.generativeai"
   ]
  },
  {
   "cell_type": "code",
   "execution_count": 4,
   "id": "b3f0f460",
   "metadata": {},
   "outputs": [],
   "source": [
    "#pip install plotly"
   ]
  },
  {
   "cell_type": "markdown",
   "id": "f9854216",
   "metadata": {},
   "source": [
    "Períodos do modelo"
   ]
  },
  {
   "cell_type": "code",
   "execution_count": 5,
   "id": "a8124587",
   "metadata": {},
   "outputs": [],
   "source": [
    "data_inicio = '2012-01-01'\n",
    "data_fim = '2025-07-01'\n",
    "data_backtest = \"2022-07-01\" "
   ]
  },
  {
   "cell_type": "markdown",
   "id": "6a84f0c2",
   "metadata": {},
   "source": [
    "TradingView"
   ]
  },
  {
   "cell_type": "code",
   "execution_count": 6,
   "id": "2b95c0bf",
   "metadata": {},
   "outputs": [
    {
     "name": "stdout",
     "output_type": "stream",
     "text": [
      "Collecting git+https://github.com/rongardF/tvdatafeed.git\n",
      "  Cloning https://github.com/rongardF/tvdatafeed.git to /tmp/pip-req-build-09k16lgw\n",
      "  Running command git clone --filter=blob:none --quiet https://github.com/rongardF/tvdatafeed.git /tmp/pip-req-build-09k16lgw\n",
      "  Resolved https://github.com/rongardF/tvdatafeed.git to commit e6f6aaa7de439ac6e454d9b26d2760ded8dc4923\n",
      "  Installing build dependencies ... \u001b[?25ldone\n",
      "\u001b[?25h  Getting requirements to build wheel ... \u001b[?25ldone\n",
      "\u001b[?25h  Preparing metadata (pyproject.toml) ... \u001b[?25ldone\n",
      "\u001b[?25hRequirement already satisfied: setuptools in ./.venv/lib/python3.12/site-packages (from tvdatafeed==2.1.0) (80.9.0)\n",
      "Requirement already satisfied: pandas in ./.venv/lib/python3.12/site-packages (from tvdatafeed==2.1.0) (2.3.2)\n",
      "Requirement already satisfied: websocket-client in ./.venv/lib/python3.12/site-packages (from tvdatafeed==2.1.0) (1.8.0)\n",
      "Requirement already satisfied: requests in ./.venv/lib/python3.12/site-packages (from tvdatafeed==2.1.0) (2.32.5)\n",
      "Requirement already satisfied: numpy>=1.26.0 in ./.venv/lib/python3.12/site-packages (from pandas->tvdatafeed==2.1.0) (2.3.3)\n",
      "Requirement already satisfied: python-dateutil>=2.8.2 in ./.venv/lib/python3.12/site-packages (from pandas->tvdatafeed==2.1.0) (2.9.0.post0)\n",
      "Requirement already satisfied: pytz>=2020.1 in ./.venv/lib/python3.12/site-packages (from pandas->tvdatafeed==2.1.0) (2025.2)\n",
      "Requirement already satisfied: tzdata>=2022.7 in ./.venv/lib/python3.12/site-packages (from pandas->tvdatafeed==2.1.0) (2025.2)\n",
      "Requirement already satisfied: charset_normalizer<4,>=2 in ./.venv/lib/python3.12/site-packages (from requests->tvdatafeed==2.1.0) (3.4.3)\n",
      "Requirement already satisfied: idna<4,>=2.5 in ./.venv/lib/python3.12/site-packages (from requests->tvdatafeed==2.1.0) (3.10)\n",
      "Requirement already satisfied: urllib3<3,>=1.21.1 in ./.venv/lib/python3.12/site-packages (from requests->tvdatafeed==2.1.0) (2.5.0)\n",
      "Requirement already satisfied: certifi>=2017.4.17 in ./.venv/lib/python3.12/site-packages (from requests->tvdatafeed==2.1.0) (2025.8.3)\n",
      "Requirement already satisfied: six>=1.5 in ./.venv/lib/python3.12/site-packages (from python-dateutil>=2.8.2->pandas->tvdatafeed==2.1.0) (1.17.0)\n",
      "Note: you may need to restart the kernel to use updated packages.\n"
     ]
    }
   ],
   "source": [
    "pip install --upgrade --no-cache-dir git+https://github.com/rongardF/tvdatafeed.git"
   ]
  },
  {
   "cell_type": "code",
   "execution_count": 7,
   "id": "64e69b0e",
   "metadata": {},
   "outputs": [
    {
     "name": "stderr",
     "output_type": "stream",
     "text": [
      "error while signin\n",
      "you are using nologin method, data you access may be limited\n"
     ]
    }
   ],
   "source": [
    "import os\n",
    "\n",
    "from tvDatafeed import TvDatafeed, Interval\n",
    "\n",
    "user = os.getenv(\"TV_USER\")\n",
    "pas = os.getenv(\"TV_PASS\")\n",
    "\n",
    "tv = TvDatafeed(username= \"user\", password = \"pas\")"
   ]
  },
  {
   "cell_type": "markdown",
   "id": "f3c97e0c",
   "metadata": {},
   "source": [
    "Obtenção das variáveis macroeconômicas"
   ]
  },
  {
   "cell_type": "code",
   "execution_count": 8,
   "id": "29b177ca",
   "metadata": {},
   "outputs": [
    {
     "name": "stdout",
     "output_type": "stream",
     "text": [
      "Buscando: SELIC (código 4189)...\n",
      "Buscando: IPCA (código 433)...\n",
      "Buscando: IBC-Br (código 24369)...\n",
      "Buscando: DESEMPREGO (código 24369)...\n",
      "Buscando: Investimento Direto no País (código 22886)...\n",
      "\n",
      "Dados do BCB e IBGE obtidos com sucesso (método join):\n"
     ]
    },
    {
     "data": {
      "text/html": [
       "<div>\n",
       "<style scoped>\n",
       "    .dataframe tbody tr th:only-of-type {\n",
       "        vertical-align: middle;\n",
       "    }\n",
       "\n",
       "    .dataframe tbody tr th {\n",
       "        vertical-align: top;\n",
       "    }\n",
       "\n",
       "    .dataframe thead th {\n",
       "        text-align: right;\n",
       "    }\n",
       "</style>\n",
       "<table border=\"1\" class=\"dataframe\">\n",
       "  <thead>\n",
       "    <tr style=\"text-align: right;\">\n",
       "      <th></th>\n",
       "      <th>SELIC</th>\n",
       "      <th>IPCA</th>\n",
       "      <th>IBC-Br</th>\n",
       "      <th>DESEMPREGO</th>\n",
       "      <th>Investimento Direto no País</th>\n",
       "    </tr>\n",
       "    <tr>\n",
       "      <th>Date</th>\n",
       "      <th></th>\n",
       "      <th></th>\n",
       "      <th></th>\n",
       "      <th></th>\n",
       "      <th></th>\n",
       "    </tr>\n",
       "  </thead>\n",
       "  <tbody>\n",
       "    <tr>\n",
       "      <th>2025-03-01</th>\n",
       "      <td>13.57</td>\n",
       "      <td>0.56</td>\n",
       "      <td>7.0</td>\n",
       "      <td>7.0</td>\n",
       "      <td>11636.7</td>\n",
       "    </tr>\n",
       "    <tr>\n",
       "      <th>2025-04-01</th>\n",
       "      <td>14.15</td>\n",
       "      <td>0.43</td>\n",
       "      <td>6.6</td>\n",
       "      <td>6.6</td>\n",
       "      <td>14363.2</td>\n",
       "    </tr>\n",
       "    <tr>\n",
       "      <th>2025-05-01</th>\n",
       "      <td>14.55</td>\n",
       "      <td>0.26</td>\n",
       "      <td>6.2</td>\n",
       "      <td>6.2</td>\n",
       "      <td>11546.8</td>\n",
       "    </tr>\n",
       "    <tr>\n",
       "      <th>2025-06-01</th>\n",
       "      <td>14.74</td>\n",
       "      <td>0.24</td>\n",
       "      <td>5.8</td>\n",
       "      <td>5.8</td>\n",
       "      <td>12960.0</td>\n",
       "    </tr>\n",
       "    <tr>\n",
       "      <th>2025-07-01</th>\n",
       "      <td>14.90</td>\n",
       "      <td>0.26</td>\n",
       "      <td>5.6</td>\n",
       "      <td>5.6</td>\n",
       "      <td>17633.8</td>\n",
       "    </tr>\n",
       "  </tbody>\n",
       "</table>\n",
       "</div>"
      ],
      "text/plain": [
       "            SELIC  IPCA  IBC-Br  DESEMPREGO  Investimento Direto no País\n",
       "Date                                                                    \n",
       "2025-03-01  13.57  0.56     7.0         7.0                      11636.7\n",
       "2025-04-01  14.15  0.43     6.6         6.6                      14363.2\n",
       "2025-05-01  14.55  0.26     6.2         6.2                      11546.8\n",
       "2025-06-01  14.74  0.24     5.8         5.8                      12960.0\n",
       "2025-07-01  14.90  0.26     5.6         5.6                      17633.8"
      ]
     },
     "metadata": {},
     "output_type": "display_data"
    },
    {
     "name": "stdout",
     "output_type": "stream",
     "text": [
      "\n",
      "Buscando dados de índices de mercado e commodities...\n"
     ]
    },
    {
     "name": "stderr",
     "output_type": "stream",
     "text": [
      "[*********************100%***********************]  5 of 5 completed"
     ]
    },
    {
     "name": "stdout",
     "output_type": "stream",
     "text": [
      "\n",
      "Dados de Mercado (diários) - Corrigidos e Verificados:\n"
     ]
    },
    {
     "name": "stderr",
     "output_type": "stream",
     "text": [
      "\n"
     ]
    },
    {
     "data": {
      "text/html": [
       "<div>\n",
       "<style scoped>\n",
       "    .dataframe tbody tr th:only-of-type {\n",
       "        vertical-align: middle;\n",
       "    }\n",
       "\n",
       "    .dataframe tbody tr th {\n",
       "        vertical-align: top;\n",
       "    }\n",
       "\n",
       "    .dataframe thead th {\n",
       "        text-align: right;\n",
       "    }\n",
       "</style>\n",
       "<table border=\"1\" class=\"dataframe\">\n",
       "  <thead>\n",
       "    <tr style=\"text-align: right;\">\n",
       "      <th>Ticker</th>\n",
       "      <th>VIX</th>\n",
       "      <th>PETROLEO_BRENT</th>\n",
       "      <th>DOW_JONES</th>\n",
       "      <th>COMM_AGRICOLA</th>\n",
       "      <th>CAMBIO_USDBRL</th>\n",
       "    </tr>\n",
       "    <tr>\n",
       "      <th>Date</th>\n",
       "      <th></th>\n",
       "      <th></th>\n",
       "      <th></th>\n",
       "      <th></th>\n",
       "      <th></th>\n",
       "    </tr>\n",
       "  </thead>\n",
       "  <tbody>\n",
       "    <tr>\n",
       "      <th>2025-06-24</th>\n",
       "      <td>17.48</td>\n",
       "      <td>67.139999</td>\n",
       "      <td>43089.019531</td>\n",
       "      <td>26.290001</td>\n",
       "      <td>5.4938</td>\n",
       "    </tr>\n",
       "    <tr>\n",
       "      <th>2025-06-25</th>\n",
       "      <td>16.76</td>\n",
       "      <td>67.680000</td>\n",
       "      <td>42982.429688</td>\n",
       "      <td>26.080000</td>\n",
       "      <td>5.5103</td>\n",
       "    </tr>\n",
       "    <tr>\n",
       "      <th>2025-06-26</th>\n",
       "      <td>16.59</td>\n",
       "      <td>67.730003</td>\n",
       "      <td>43386.839844</td>\n",
       "      <td>26.139999</td>\n",
       "      <td>5.5579</td>\n",
       "    </tr>\n",
       "    <tr>\n",
       "      <th>2025-06-27</th>\n",
       "      <td>16.32</td>\n",
       "      <td>67.769997</td>\n",
       "      <td>43819.269531</td>\n",
       "      <td>26.330000</td>\n",
       "      <td>5.4771</td>\n",
       "    </tr>\n",
       "    <tr>\n",
       "      <th>2025-06-30</th>\n",
       "      <td>16.73</td>\n",
       "      <td>67.610001</td>\n",
       "      <td>44094.769531</td>\n",
       "      <td>26.150000</td>\n",
       "      <td>5.4784</td>\n",
       "    </tr>\n",
       "  </tbody>\n",
       "</table>\n",
       "</div>"
      ],
      "text/plain": [
       "Ticker        VIX  PETROLEO_BRENT     DOW_JONES  COMM_AGRICOLA  CAMBIO_USDBRL\n",
       "Date                                                                         \n",
       "2025-06-24  17.48       67.139999  43089.019531      26.290001         5.4938\n",
       "2025-06-25  16.76       67.680000  42982.429688      26.080000         5.5103\n",
       "2025-06-26  16.59       67.730003  43386.839844      26.139999         5.5579\n",
       "2025-06-27  16.32       67.769997  43819.269531      26.330000         5.4771\n",
       "2025-06-30  16.73       67.610001  44094.769531      26.150000         5.4784"
      ]
     },
     "metadata": {},
     "output_type": "display_data"
    },
    {
     "name": "stdout",
     "output_type": "stream",
     "text": [
      "Índice original do 'dados_bcb':\n"
     ]
    },
    {
     "data": {
      "text/html": [
       "<div>\n",
       "<style scoped>\n",
       "    .dataframe tbody tr th:only-of-type {\n",
       "        vertical-align: middle;\n",
       "    }\n",
       "\n",
       "    .dataframe tbody tr th {\n",
       "        vertical-align: top;\n",
       "    }\n",
       "\n",
       "    .dataframe thead th {\n",
       "        text-align: right;\n",
       "    }\n",
       "</style>\n",
       "<table border=\"1\" class=\"dataframe\">\n",
       "  <thead>\n",
       "    <tr style=\"text-align: right;\">\n",
       "      <th></th>\n",
       "      <th>SELIC</th>\n",
       "      <th>IPCA</th>\n",
       "      <th>IBC-Br</th>\n",
       "      <th>DESEMPREGO</th>\n",
       "      <th>Investimento Direto no País</th>\n",
       "    </tr>\n",
       "    <tr>\n",
       "      <th>Date</th>\n",
       "      <th></th>\n",
       "      <th></th>\n",
       "      <th></th>\n",
       "      <th></th>\n",
       "      <th></th>\n",
       "    </tr>\n",
       "  </thead>\n",
       "  <tbody>\n",
       "    <tr>\n",
       "      <th>2012-01-01</th>\n",
       "      <td>10.7</td>\n",
       "      <td>0.56</td>\n",
       "      <td>NaN</td>\n",
       "      <td>NaN</td>\n",
       "      <td>10670.8</td>\n",
       "    </tr>\n",
       "    <tr>\n",
       "      <th>2012-02-01</th>\n",
       "      <td>10.4</td>\n",
       "      <td>0.45</td>\n",
       "      <td>NaN</td>\n",
       "      <td>NaN</td>\n",
       "      <td>6216.9</td>\n",
       "    </tr>\n",
       "  </tbody>\n",
       "</table>\n",
       "</div>"
      ],
      "text/plain": [
       "            SELIC  IPCA  IBC-Br  DESEMPREGO  Investimento Direto no País\n",
       "Date                                                                    \n",
       "2012-01-01   10.7  0.56     NaN         NaN                      10670.8\n",
       "2012-02-01   10.4  0.45     NaN         NaN                       6216.9"
      ]
     },
     "metadata": {},
     "output_type": "display_data"
    },
    {
     "name": "stdout",
     "output_type": "stream",
     "text": [
      "\n",
      "Índice padronizado do 'dados_bcb' (agora com fim de mês):\n"
     ]
    },
    {
     "data": {
      "text/html": [
       "<div>\n",
       "<style scoped>\n",
       "    .dataframe tbody tr th:only-of-type {\n",
       "        vertical-align: middle;\n",
       "    }\n",
       "\n",
       "    .dataframe tbody tr th {\n",
       "        vertical-align: top;\n",
       "    }\n",
       "\n",
       "    .dataframe thead th {\n",
       "        text-align: right;\n",
       "    }\n",
       "</style>\n",
       "<table border=\"1\" class=\"dataframe\">\n",
       "  <thead>\n",
       "    <tr style=\"text-align: right;\">\n",
       "      <th></th>\n",
       "      <th>SELIC</th>\n",
       "      <th>IPCA</th>\n",
       "      <th>IBC-Br</th>\n",
       "      <th>DESEMPREGO</th>\n",
       "      <th>Investimento Direto no País</th>\n",
       "    </tr>\n",
       "    <tr>\n",
       "      <th>Date</th>\n",
       "      <th></th>\n",
       "      <th></th>\n",
       "      <th></th>\n",
       "      <th></th>\n",
       "      <th></th>\n",
       "    </tr>\n",
       "  </thead>\n",
       "  <tbody>\n",
       "    <tr>\n",
       "      <th>2012-01-31</th>\n",
       "      <td>10.7</td>\n",
       "      <td>0.56</td>\n",
       "      <td>NaN</td>\n",
       "      <td>NaN</td>\n",
       "      <td>10670.8</td>\n",
       "    </tr>\n",
       "    <tr>\n",
       "      <th>2012-02-29</th>\n",
       "      <td>10.4</td>\n",
       "      <td>0.45</td>\n",
       "      <td>NaN</td>\n",
       "      <td>NaN</td>\n",
       "      <td>6216.9</td>\n",
       "    </tr>\n",
       "  </tbody>\n",
       "</table>\n",
       "</div>"
      ],
      "text/plain": [
       "            SELIC  IPCA  IBC-Br  DESEMPREGO  Investimento Direto no País\n",
       "Date                                                                    \n",
       "2012-01-31   10.7  0.56     NaN         NaN                      10670.8\n",
       "2012-02-29   10.4  0.45     NaN         NaN                       6216.9"
      ]
     },
     "metadata": {},
     "output_type": "display_data"
    },
    {
     "name": "stdout",
     "output_type": "stream",
     "text": [
      "\n",
      "--- DataFrame Final com Todos os Indicadores Macroeconômicos ---\n"
     ]
    },
    {
     "data": {
      "text/html": [
       "<div>\n",
       "<style scoped>\n",
       "    .dataframe tbody tr th:only-of-type {\n",
       "        vertical-align: middle;\n",
       "    }\n",
       "\n",
       "    .dataframe tbody tr th {\n",
       "        vertical-align: top;\n",
       "    }\n",
       "\n",
       "    .dataframe thead th {\n",
       "        text-align: right;\n",
       "    }\n",
       "</style>\n",
       "<table border=\"1\" class=\"dataframe\">\n",
       "  <thead>\n",
       "    <tr style=\"text-align: right;\">\n",
       "      <th></th>\n",
       "      <th>SELIC</th>\n",
       "      <th>IPCA</th>\n",
       "      <th>IBC-Br</th>\n",
       "      <th>DESEMPREGO</th>\n",
       "      <th>Investimento Direto no País</th>\n",
       "      <th>VIX</th>\n",
       "      <th>PETROLEO_BRENT</th>\n",
       "      <th>DOW_JONES</th>\n",
       "      <th>COMM_AGRICOLA</th>\n",
       "      <th>CAMBIO_USDBRL</th>\n",
       "    </tr>\n",
       "    <tr>\n",
       "      <th>Date</th>\n",
       "      <th></th>\n",
       "      <th></th>\n",
       "      <th></th>\n",
       "      <th></th>\n",
       "      <th></th>\n",
       "      <th></th>\n",
       "      <th></th>\n",
       "      <th></th>\n",
       "      <th></th>\n",
       "      <th></th>\n",
       "    </tr>\n",
       "  </thead>\n",
       "  <tbody>\n",
       "    <tr>\n",
       "      <th>2025-03-31</th>\n",
       "      <td>13.57</td>\n",
       "      <td>0.56</td>\n",
       "      <td>7.0</td>\n",
       "      <td>7.0</td>\n",
       "      <td>11636.7</td>\n",
       "      <td>22.280001</td>\n",
       "      <td>74.739998</td>\n",
       "      <td>42001.761719</td>\n",
       "      <td>26.340000</td>\n",
       "      <td>5.7581</td>\n",
       "    </tr>\n",
       "    <tr>\n",
       "      <th>2025-04-30</th>\n",
       "      <td>14.15</td>\n",
       "      <td>0.43</td>\n",
       "      <td>6.6</td>\n",
       "      <td>6.6</td>\n",
       "      <td>14363.2</td>\n",
       "      <td>24.700001</td>\n",
       "      <td>63.119999</td>\n",
       "      <td>40669.359375</td>\n",
       "      <td>26.809999</td>\n",
       "      <td>5.6200</td>\n",
       "    </tr>\n",
       "    <tr>\n",
       "      <th>2025-05-31</th>\n",
       "      <td>14.55</td>\n",
       "      <td>0.26</td>\n",
       "      <td>6.2</td>\n",
       "      <td>6.2</td>\n",
       "      <td>11546.8</td>\n",
       "      <td>18.570000</td>\n",
       "      <td>63.900002</td>\n",
       "      <td>42270.070312</td>\n",
       "      <td>26.700001</td>\n",
       "      <td>5.6651</td>\n",
       "    </tr>\n",
       "    <tr>\n",
       "      <th>2025-06-30</th>\n",
       "      <td>14.74</td>\n",
       "      <td>0.24</td>\n",
       "      <td>5.8</td>\n",
       "      <td>5.8</td>\n",
       "      <td>12960.0</td>\n",
       "      <td>16.730000</td>\n",
       "      <td>67.610001</td>\n",
       "      <td>44094.769531</td>\n",
       "      <td>26.150000</td>\n",
       "      <td>5.4784</td>\n",
       "    </tr>\n",
       "    <tr>\n",
       "      <th>2025-07-31</th>\n",
       "      <td>14.90</td>\n",
       "      <td>0.26</td>\n",
       "      <td>5.6</td>\n",
       "      <td>5.6</td>\n",
       "      <td>17633.8</td>\n",
       "      <td>16.730000</td>\n",
       "      <td>67.610001</td>\n",
       "      <td>44094.769531</td>\n",
       "      <td>26.150000</td>\n",
       "      <td>5.4784</td>\n",
       "    </tr>\n",
       "  </tbody>\n",
       "</table>\n",
       "</div>"
      ],
      "text/plain": [
       "            SELIC  IPCA  IBC-Br  DESEMPREGO  Investimento Direto no País  \\\n",
       "Date                                                                       \n",
       "2025-03-31  13.57  0.56     7.0         7.0                      11636.7   \n",
       "2025-04-30  14.15  0.43     6.6         6.6                      14363.2   \n",
       "2025-05-31  14.55  0.26     6.2         6.2                      11546.8   \n",
       "2025-06-30  14.74  0.24     5.8         5.8                      12960.0   \n",
       "2025-07-31  14.90  0.26     5.6         5.6                      17633.8   \n",
       "\n",
       "                  VIX  PETROLEO_BRENT     DOW_JONES  COMM_AGRICOLA  \\\n",
       "Date                                                                 \n",
       "2025-03-31  22.280001       74.739998  42001.761719      26.340000   \n",
       "2025-04-30  24.700001       63.119999  40669.359375      26.809999   \n",
       "2025-05-31  18.570000       63.900002  42270.070312      26.700001   \n",
       "2025-06-30  16.730000       67.610001  44094.769531      26.150000   \n",
       "2025-07-31  16.730000       67.610001  44094.769531      26.150000   \n",
       "\n",
       "            CAMBIO_USDBRL  \n",
       "Date                       \n",
       "2025-03-31         5.7581  \n",
       "2025-04-30         5.6200  \n",
       "2025-05-31         5.6651  \n",
       "2025-06-30         5.4784  \n",
       "2025-07-31         5.4784  "
      ]
     },
     "metadata": {},
     "output_type": "display_data"
    },
    {
     "data": {
      "text/html": [
       "<div>\n",
       "<style scoped>\n",
       "    .dataframe tbody tr th:only-of-type {\n",
       "        vertical-align: middle;\n",
       "    }\n",
       "\n",
       "    .dataframe tbody tr th {\n",
       "        vertical-align: top;\n",
       "    }\n",
       "\n",
       "    .dataframe thead th {\n",
       "        text-align: right;\n",
       "    }\n",
       "</style>\n",
       "<table border=\"1\" class=\"dataframe\">\n",
       "  <thead>\n",
       "    <tr style=\"text-align: right;\">\n",
       "      <th></th>\n",
       "      <th>SELIC</th>\n",
       "      <th>IPCA</th>\n",
       "      <th>IBC-Br</th>\n",
       "      <th>DESEMPREGO</th>\n",
       "      <th>Investimento Direto no País</th>\n",
       "      <th>VIX</th>\n",
       "      <th>PETROLEO_BRENT</th>\n",
       "      <th>DOW_JONES</th>\n",
       "      <th>COMM_AGRICOLA</th>\n",
       "      <th>CAMBIO_USDBRL</th>\n",
       "    </tr>\n",
       "    <tr>\n",
       "      <th>Date</th>\n",
       "      <th></th>\n",
       "      <th></th>\n",
       "      <th></th>\n",
       "      <th></th>\n",
       "      <th></th>\n",
       "      <th></th>\n",
       "      <th></th>\n",
       "      <th></th>\n",
       "      <th></th>\n",
       "      <th></th>\n",
       "    </tr>\n",
       "  </thead>\n",
       "  <tbody>\n",
       "    <tr>\n",
       "      <th>2012-03-31</th>\n",
       "      <td>9.82</td>\n",
       "      <td>0.21</td>\n",
       "      <td>8.0</td>\n",
       "      <td>8.0</td>\n",
       "      <td>16549.8</td>\n",
       "      <td>15.500000</td>\n",
       "      <td>122.879997</td>\n",
       "      <td>13212.040039</td>\n",
       "      <td>25.025694</td>\n",
       "      <td>1.8208</td>\n",
       "    </tr>\n",
       "    <tr>\n",
       "      <th>2012-04-30</th>\n",
       "      <td>9.35</td>\n",
       "      <td>0.64</td>\n",
       "      <td>7.8</td>\n",
       "      <td>7.8</td>\n",
       "      <td>6664.0</td>\n",
       "      <td>17.150000</td>\n",
       "      <td>119.470001</td>\n",
       "      <td>13213.629883</td>\n",
       "      <td>24.304312</td>\n",
       "      <td>1.8860</td>\n",
       "    </tr>\n",
       "    <tr>\n",
       "      <th>2012-05-31</th>\n",
       "      <td>8.87</td>\n",
       "      <td>0.36</td>\n",
       "      <td>7.7</td>\n",
       "      <td>7.7</td>\n",
       "      <td>6263.8</td>\n",
       "      <td>24.059999</td>\n",
       "      <td>101.870003</td>\n",
       "      <td>12393.450195</td>\n",
       "      <td>23.226692</td>\n",
       "      <td>2.0149</td>\n",
       "    </tr>\n",
       "    <tr>\n",
       "      <th>2012-06-30</th>\n",
       "      <td>8.39</td>\n",
       "      <td>0.08</td>\n",
       "      <td>7.6</td>\n",
       "      <td>7.6</td>\n",
       "      <td>9004.9</td>\n",
       "      <td>17.080000</td>\n",
       "      <td>97.800003</td>\n",
       "      <td>12880.089844</td>\n",
       "      <td>25.132563</td>\n",
       "      <td>2.0768</td>\n",
       "    </tr>\n",
       "    <tr>\n",
       "      <th>2012-07-31</th>\n",
       "      <td>8.07</td>\n",
       "      <td>0.43</td>\n",
       "      <td>7.5</td>\n",
       "      <td>7.5</td>\n",
       "      <td>10912.8</td>\n",
       "      <td>18.930000</td>\n",
       "      <td>104.919998</td>\n",
       "      <td>13008.679688</td>\n",
       "      <td>26.833597</td>\n",
       "      <td>2.0403</td>\n",
       "    </tr>\n",
       "  </tbody>\n",
       "</table>\n",
       "</div>"
      ],
      "text/plain": [
       "            SELIC  IPCA  IBC-Br  DESEMPREGO  Investimento Direto no País  \\\n",
       "Date                                                                       \n",
       "2012-03-31   9.82  0.21     8.0         8.0                      16549.8   \n",
       "2012-04-30   9.35  0.64     7.8         7.8                       6664.0   \n",
       "2012-05-31   8.87  0.36     7.7         7.7                       6263.8   \n",
       "2012-06-30   8.39  0.08     7.6         7.6                       9004.9   \n",
       "2012-07-31   8.07  0.43     7.5         7.5                      10912.8   \n",
       "\n",
       "                  VIX  PETROLEO_BRENT     DOW_JONES  COMM_AGRICOLA  \\\n",
       "Date                                                                 \n",
       "2012-03-31  15.500000      122.879997  13212.040039      25.025694   \n",
       "2012-04-30  17.150000      119.470001  13213.629883      24.304312   \n",
       "2012-05-31  24.059999      101.870003  12393.450195      23.226692   \n",
       "2012-06-30  17.080000       97.800003  12880.089844      25.132563   \n",
       "2012-07-31  18.930000      104.919998  13008.679688      26.833597   \n",
       "\n",
       "            CAMBIO_USDBRL  \n",
       "Date                       \n",
       "2012-03-31         1.8208  \n",
       "2012-04-30         1.8860  \n",
       "2012-05-31         2.0149  \n",
       "2012-06-30         2.0768  \n",
       "2012-07-31         2.0403  "
      ]
     },
     "metadata": {},
     "output_type": "display_data"
    }
   ],
   "source": [
    "codigos_sgs = {\n",
    "    'SELIC': 4189, # Usando a SELIC mensalizada diretamente\n",
    "    'IPCA': 433,\n",
    "    'IBC-Br': 24369,\n",
    "    'DESEMPREGO': 24369,\n",
    "    'Investimento Direto no País': 22886,\n",
    "}\n",
    "\n",
    "dados_bcb = pd.DataFrame()\n",
    "\n",
    "# Buscar e juntar cada série\n",
    "for nome_serie, codigo in codigos_sgs.items():\n",
    "    try:\n",
    "        print(f\"Buscando: {nome_serie} (código {codigo})...\")\n",
    "        serie = sgs.get({nome_serie: codigo}, start= data_inicio, end= data_fim)\n",
    "\n",
    "        # Se o DataFrame principal ainda estiver vazio, ele se torna a primeira série\n",
    "        if dados_bcb.empty:\n",
    "            dados_bcb = serie\n",
    "        # Caso contrário, juntamos (join) a nova série ao DataFrame existente\n",
    "        else:\n",
    "            dados_bcb = dados_bcb.join(serie)\n",
    "\n",
    "    except Exception as e:\n",
    "        print(f\"AVISO: Falha ao buscar a série '{nome_serie}' (código {codigo}). Erro: {e}. Pulando...\")\n",
    "\n",
    "# 3. Verificação final\n",
    "if not dados_bcb.empty:\n",
    "    print(\"\\nDados do BCB e IBGE obtidos com sucesso (método join):\")\n",
    "    display(dados_bcb.tail())\n",
    "else:\n",
    "    print(\"\\nNenhuma série do Banco Central pôde ser baixada.\")\n",
    "\n",
    "# Lista de dados de mercado\n",
    "tickers_mercado = {\n",
    "    'VIX': '^VIX',\n",
    "    'PETROLEO_BRENT': 'BZ=F',\n",
    "    'DOW_JONES': '^DJI',\n",
    "    'COMM_AGRICOLA': 'DBA', # Usando o ETF 'DBA'\n",
    "    'CAMBIO_USDBRL': 'USDBRL=X'\n",
    "}\n",
    "\n",
    "print(\"\\nBuscando dados de índices de mercado e commodities...\")\n",
    "# Mesma lógica de baixar dado diário para mensal\n",
    "dados_mercado_diario_raw = yf.download(\n",
    "    list(tickers_mercado.values()),\n",
    "    start= data_inicio, end= data_fim,\n",
    "    auto_adjust=True\n",
    ")['Close']\n",
    "\n",
    "mapa_renomear = {v: k for k, v in tickers_mercado.items()}\n",
    "\n",
    "# Usamos o método .rename() que é explícito e não depende da ordem\n",
    "dados_mercado_diario = dados_mercado_diario_raw.rename(columns=mapa_renomear)\n",
    "\n",
    "# Reordenar as colunas para a ordem certa\n",
    "dados_mercado_diario = dados_mercado_diario[list(tickers_mercado.keys())]\n",
    "\n",
    "print(\"\\nDados de Mercado (diários) - Corrigidos e Verificados:\")\n",
    "display(dados_mercado_diario.tail())\n",
    "\n",
    "# 1. Converter dados de mercado para o final do mês\n",
    "dados_mercado_mensal = dados_mercado_diario.resample('ME').last()\n",
    "\n",
    "print(\"Índice original do 'dados_bcb':\")\n",
    "display(dados_bcb.head(2))\n",
    "\n",
    "dados_bcb.index = dados_bcb.index.to_period('M').to_timestamp('M')\n",
    "\n",
    "print(\"\\nÍndice padronizado do 'dados_bcb' (agora com fim de mês):\")\n",
    "display(dados_bcb.head(2))\n",
    "\n",
    "\n",
    "#Juntando os dados\n",
    "dados_macro_combinados = dados_bcb.join(dados_mercado_mensal)\n",
    "\n",
    "\n",
    "# O ffill() ainda é útil para cobrir feriados ou dias em que um dos mercados não abriu.\n",
    "# O dropna() remove qualquer linha no início que possa ter ficado sem dados completos.\n",
    "dados_macro_combinados = dados_macro_combinados.ffill().dropna()\n",
    "\n",
    "dados_macro_combinados.index = dados_macro_combinados.index.to_period('M').to_timestamp('M')\n",
    "dados_macro_combinados.index = pd.to_datetime(dados_macro_combinados.index)\n",
    "\n",
    "print(\"\\n--- DataFrame Final com Todos os Indicadores Macroeconômicos ---\")\n",
    "display(dados_macro_combinados.tail())\n",
    "display(dados_macro_combinados.head())"
   ]
  },
  {
   "cell_type": "code",
   "execution_count": 9,
   "id": "5e7c2abf",
   "metadata": {},
   "outputs": [
    {
     "name": "stdout",
     "output_type": "stream",
     "text": [
      "Comparando os dados originais com as novas features (variações):\n"
     ]
    },
    {
     "data": {
      "text/html": [
       "<div>\n",
       "<style scoped>\n",
       "    .dataframe tbody tr th:only-of-type {\n",
       "        vertical-align: middle;\n",
       "    }\n",
       "\n",
       "    .dataframe tbody tr th {\n",
       "        vertical-align: top;\n",
       "    }\n",
       "\n",
       "    .dataframe thead th {\n",
       "        text-align: right;\n",
       "    }\n",
       "</style>\n",
       "<table border=\"1\" class=\"dataframe\">\n",
       "  <thead>\n",
       "    <tr style=\"text-align: right;\">\n",
       "      <th></th>\n",
       "      <th>SELIC</th>\n",
       "      <th>IPCA</th>\n",
       "      <th>IBC-Br</th>\n",
       "      <th>DESEMPREGO</th>\n",
       "      <th>Investimento Direto no País</th>\n",
       "      <th>VIX</th>\n",
       "      <th>PETROLEO_BRENT</th>\n",
       "      <th>DOW_JONES</th>\n",
       "      <th>COMM_AGRICOLA</th>\n",
       "      <th>CAMBIO_USDBRL</th>\n",
       "    </tr>\n",
       "    <tr>\n",
       "      <th>Date</th>\n",
       "      <th></th>\n",
       "      <th></th>\n",
       "      <th></th>\n",
       "      <th></th>\n",
       "      <th></th>\n",
       "      <th></th>\n",
       "      <th></th>\n",
       "      <th></th>\n",
       "      <th></th>\n",
       "      <th></th>\n",
       "    </tr>\n",
       "  </thead>\n",
       "  <tbody>\n",
       "    <tr>\n",
       "      <th>2012-03-31</th>\n",
       "      <td>9.82</td>\n",
       "      <td>0.21</td>\n",
       "      <td>8.0</td>\n",
       "      <td>8.0</td>\n",
       "      <td>16549.8</td>\n",
       "      <td>15.500000</td>\n",
       "      <td>122.879997</td>\n",
       "      <td>13212.040039</td>\n",
       "      <td>25.025694</td>\n",
       "      <td>1.8208</td>\n",
       "    </tr>\n",
       "    <tr>\n",
       "      <th>2012-04-30</th>\n",
       "      <td>9.35</td>\n",
       "      <td>0.64</td>\n",
       "      <td>7.8</td>\n",
       "      <td>7.8</td>\n",
       "      <td>6664.0</td>\n",
       "      <td>17.150000</td>\n",
       "      <td>119.470001</td>\n",
       "      <td>13213.629883</td>\n",
       "      <td>24.304312</td>\n",
       "      <td>1.8860</td>\n",
       "    </tr>\n",
       "    <tr>\n",
       "      <th>2012-05-31</th>\n",
       "      <td>8.87</td>\n",
       "      <td>0.36</td>\n",
       "      <td>7.7</td>\n",
       "      <td>7.7</td>\n",
       "      <td>6263.8</td>\n",
       "      <td>24.059999</td>\n",
       "      <td>101.870003</td>\n",
       "      <td>12393.450195</td>\n",
       "      <td>23.226692</td>\n",
       "      <td>2.0149</td>\n",
       "    </tr>\n",
       "  </tbody>\n",
       "</table>\n",
       "</div>"
      ],
      "text/plain": [
       "            SELIC  IPCA  IBC-Br  DESEMPREGO  Investimento Direto no País  \\\n",
       "Date                                                                       \n",
       "2012-03-31   9.82  0.21     8.0         8.0                      16549.8   \n",
       "2012-04-30   9.35  0.64     7.8         7.8                       6664.0   \n",
       "2012-05-31   8.87  0.36     7.7         7.7                       6263.8   \n",
       "\n",
       "                  VIX  PETROLEO_BRENT     DOW_JONES  COMM_AGRICOLA  \\\n",
       "Date                                                                 \n",
       "2012-03-31  15.500000      122.879997  13212.040039      25.025694   \n",
       "2012-04-30  17.150000      119.470001  13213.629883      24.304312   \n",
       "2012-05-31  24.059999      101.870003  12393.450195      23.226692   \n",
       "\n",
       "            CAMBIO_USDBRL  \n",
       "Date                       \n",
       "2012-03-31         1.8208  \n",
       "2012-04-30         1.8860  \n",
       "2012-05-31         2.0149  "
      ]
     },
     "metadata": {},
     "output_type": "display_data"
    },
    {
     "data": {
      "text/html": [
       "<div>\n",
       "<style scoped>\n",
       "    .dataframe tbody tr th:only-of-type {\n",
       "        vertical-align: middle;\n",
       "    }\n",
       "\n",
       "    .dataframe tbody tr th {\n",
       "        vertical-align: top;\n",
       "    }\n",
       "\n",
       "    .dataframe thead th {\n",
       "        text-align: right;\n",
       "    }\n",
       "</style>\n",
       "<table border=\"1\" class=\"dataframe\">\n",
       "  <thead>\n",
       "    <tr style=\"text-align: right;\">\n",
       "      <th></th>\n",
       "      <th>SELIC</th>\n",
       "      <th>IPCA</th>\n",
       "      <th>IBC-Br</th>\n",
       "      <th>DESEMPREGO</th>\n",
       "      <th>Investimento Direto no País</th>\n",
       "      <th>VIX</th>\n",
       "      <th>PETROLEO_BRENT</th>\n",
       "      <th>DOW_JONES</th>\n",
       "      <th>COMM_AGRICOLA</th>\n",
       "      <th>CAMBIO_USDBRL</th>\n",
       "    </tr>\n",
       "    <tr>\n",
       "      <th>Date</th>\n",
       "      <th></th>\n",
       "      <th></th>\n",
       "      <th></th>\n",
       "      <th></th>\n",
       "      <th></th>\n",
       "      <th></th>\n",
       "      <th></th>\n",
       "      <th></th>\n",
       "      <th></th>\n",
       "      <th></th>\n",
       "    </tr>\n",
       "  </thead>\n",
       "  <tbody>\n",
       "    <tr>\n",
       "      <th>2025-05-31</th>\n",
       "      <td>14.55</td>\n",
       "      <td>0.26</td>\n",
       "      <td>6.2</td>\n",
       "      <td>6.2</td>\n",
       "      <td>11546.8</td>\n",
       "      <td>18.57</td>\n",
       "      <td>63.900002</td>\n",
       "      <td>42270.070312</td>\n",
       "      <td>26.700001</td>\n",
       "      <td>5.6651</td>\n",
       "    </tr>\n",
       "    <tr>\n",
       "      <th>2025-06-30</th>\n",
       "      <td>14.74</td>\n",
       "      <td>0.24</td>\n",
       "      <td>5.8</td>\n",
       "      <td>5.8</td>\n",
       "      <td>12960.0</td>\n",
       "      <td>16.73</td>\n",
       "      <td>67.610001</td>\n",
       "      <td>44094.769531</td>\n",
       "      <td>26.150000</td>\n",
       "      <td>5.4784</td>\n",
       "    </tr>\n",
       "    <tr>\n",
       "      <th>2025-07-31</th>\n",
       "      <td>14.90</td>\n",
       "      <td>0.26</td>\n",
       "      <td>5.6</td>\n",
       "      <td>5.6</td>\n",
       "      <td>17633.8</td>\n",
       "      <td>16.73</td>\n",
       "      <td>67.610001</td>\n",
       "      <td>44094.769531</td>\n",
       "      <td>26.150000</td>\n",
       "      <td>5.4784</td>\n",
       "    </tr>\n",
       "  </tbody>\n",
       "</table>\n",
       "</div>"
      ],
      "text/plain": [
       "            SELIC  IPCA  IBC-Br  DESEMPREGO  Investimento Direto no País  \\\n",
       "Date                                                                       \n",
       "2025-05-31  14.55  0.26     6.2         6.2                      11546.8   \n",
       "2025-06-30  14.74  0.24     5.8         5.8                      12960.0   \n",
       "2025-07-31  14.90  0.26     5.6         5.6                      17633.8   \n",
       "\n",
       "              VIX  PETROLEO_BRENT     DOW_JONES  COMM_AGRICOLA  CAMBIO_USDBRL  \n",
       "Date                                                                           \n",
       "2025-05-31  18.57       63.900002  42270.070312      26.700001         5.6651  \n",
       "2025-06-30  16.73       67.610001  44094.769531      26.150000         5.4784  \n",
       "2025-07-31  16.73       67.610001  44094.769531      26.150000         5.4784  "
      ]
     },
     "metadata": {},
     "output_type": "display_data"
    },
    {
     "data": {
      "text/html": [
       "<div>\n",
       "<style scoped>\n",
       "    .dataframe tbody tr th:only-of-type {\n",
       "        vertical-align: middle;\n",
       "    }\n",
       "\n",
       "    .dataframe tbody tr th {\n",
       "        vertical-align: top;\n",
       "    }\n",
       "\n",
       "    .dataframe thead th {\n",
       "        text-align: right;\n",
       "    }\n",
       "</style>\n",
       "<table border=\"1\" class=\"dataframe\">\n",
       "  <thead>\n",
       "    <tr style=\"text-align: right;\">\n",
       "      <th></th>\n",
       "      <th>SELIC_diff</th>\n",
       "      <th>IPCA_diff</th>\n",
       "      <th>IBC-Br_diff</th>\n",
       "      <th>DESEMPREGO_diff</th>\n",
       "      <th>Investimento Direto no País_diff</th>\n",
       "      <th>VIX_diff</th>\n",
       "      <th>PETROLEO_BRENT_diff</th>\n",
       "      <th>DOW_JONES_diff</th>\n",
       "      <th>COMM_AGRICOLA_diff</th>\n",
       "      <th>CAMBIO_USDBRL_diff</th>\n",
       "    </tr>\n",
       "    <tr>\n",
       "      <th>Date</th>\n",
       "      <th></th>\n",
       "      <th></th>\n",
       "      <th></th>\n",
       "      <th></th>\n",
       "      <th></th>\n",
       "      <th></th>\n",
       "      <th></th>\n",
       "      <th></th>\n",
       "      <th></th>\n",
       "      <th></th>\n",
       "    </tr>\n",
       "  </thead>\n",
       "  <tbody>\n",
       "    <tr>\n",
       "      <th>2025-05-31</th>\n",
       "      <td>0.028269</td>\n",
       "      <td>-0.395349</td>\n",
       "      <td>-0.060606</td>\n",
       "      <td>-0.060606</td>\n",
       "      <td>-0.196084</td>\n",
       "      <td>-0.248178</td>\n",
       "      <td>0.012357</td>\n",
       "      <td>0.039359</td>\n",
       "      <td>-0.004103</td>\n",
       "      <td>0.008025</td>\n",
       "    </tr>\n",
       "    <tr>\n",
       "      <th>2025-06-30</th>\n",
       "      <td>0.013058</td>\n",
       "      <td>-0.076923</td>\n",
       "      <td>-0.064516</td>\n",
       "      <td>-0.064516</td>\n",
       "      <td>0.122389</td>\n",
       "      <td>-0.099085</td>\n",
       "      <td>0.058059</td>\n",
       "      <td>0.043168</td>\n",
       "      <td>-0.020599</td>\n",
       "      <td>-0.032956</td>\n",
       "    </tr>\n",
       "    <tr>\n",
       "      <th>2025-07-31</th>\n",
       "      <td>0.010855</td>\n",
       "      <td>0.083333</td>\n",
       "      <td>-0.034483</td>\n",
       "      <td>-0.034483</td>\n",
       "      <td>0.360633</td>\n",
       "      <td>0.000000</td>\n",
       "      <td>0.000000</td>\n",
       "      <td>0.000000</td>\n",
       "      <td>0.000000</td>\n",
       "      <td>0.000000</td>\n",
       "    </tr>\n",
       "  </tbody>\n",
       "</table>\n",
       "</div>"
      ],
      "text/plain": [
       "            SELIC_diff  IPCA_diff  IBC-Br_diff  DESEMPREGO_diff  \\\n",
       "Date                                                              \n",
       "2025-05-31    0.028269  -0.395349    -0.060606        -0.060606   \n",
       "2025-06-30    0.013058  -0.076923    -0.064516        -0.064516   \n",
       "2025-07-31    0.010855   0.083333    -0.034483        -0.034483   \n",
       "\n",
       "            Investimento Direto no País_diff  VIX_diff  PETROLEO_BRENT_diff  \\\n",
       "Date                                                                          \n",
       "2025-05-31                         -0.196084 -0.248178             0.012357   \n",
       "2025-06-30                          0.122389 -0.099085             0.058059   \n",
       "2025-07-31                          0.360633  0.000000             0.000000   \n",
       "\n",
       "            DOW_JONES_diff  COMM_AGRICOLA_diff  CAMBIO_USDBRL_diff  \n",
       "Date                                                                \n",
       "2025-05-31        0.039359           -0.004103            0.008025  \n",
       "2025-06-30        0.043168           -0.020599           -0.032956  \n",
       "2025-07-31        0.000000            0.000000            0.000000  "
      ]
     },
     "metadata": {},
     "output_type": "display_data"
    }
   ],
   "source": [
    "# Criando um novo DataFrame para as features aprimoradas\n",
    "dados_macro_features = pd.DataFrame(index=dados_macro_combinados.index)\n",
    "\n",
    "# Calculando a variação mensal (a diferença) para cada indicador\n",
    "for coluna in dados_macro_combinados.columns:\n",
    "    dados_macro_features[f'{coluna}_diff'] = dados_macro_combinados[coluna].pct_change()\n",
    "\n",
    "# Removendo a primeira linha que terá valores NaN (vazios)\n",
    "dados_macro_features = dados_macro_features.dropna()\n",
    "\n",
    "print(\"Comparando os dados originais com as novas features (variações):\")\n",
    "display(dados_macro_combinados.head(3))\n",
    "display(dados_macro_combinados.tail(3))\n",
    "display(dados_macro_features.tail(3))\n",
    "\n",
    "dados_macro_combinados = dados_macro_features"
   ]
  },
  {
   "cell_type": "code",
   "execution_count": 10,
   "id": "6b6fccaf",
   "metadata": {},
   "outputs": [],
   "source": [
    "ativos = ['VALE3.SA', 'PETR4.SA', 'ITUB4.SA', 'BRFS3.SA', 'ABEV3.SA', 'WEGE3.SA',\n",
    "            'EGIE3.SA', 'LREN3.SA', 'BBAS3.SA', 'SLCE3.SA' ] \n",
    "\n",
    "n_ativos   = len(ativos)\n",
    "carteira = sorted(ativos)"
   ]
  },
  {
   "cell_type": "code",
   "execution_count": 12,
   "id": "24cdbb9a",
   "metadata": {},
   "outputs": [
    {
     "name": "stdout",
     "output_type": "stream",
     "text": [
      "            Taxa_Livre_Risco\n",
      "Date                        \n",
      "2012-01-01            0.0089\n",
      "2012-02-01            0.0075\n",
      "2012-03-01            0.0082\n",
      "2012-04-01            0.0071\n",
      "2012-05-01            0.0074\n",
      "...                      ...\n",
      "2025-03-01            0.0096\n",
      "2025-04-01            0.0106\n",
      "2025-05-01            0.0114\n",
      "2025-06-01            0.0110\n",
      "2025-07-01            0.0128\n",
      "\n",
      "[163 rows x 1 columns]\n",
      "2012-01-31    0.096654\n",
      "2012-02-29    0.035016\n",
      "2012-03-31   -0.028163\n",
      "2012-04-30   -0.049704\n",
      "2012-05-31   -0.133606\n",
      "                ...   \n",
      "2025-03-31    0.049379\n",
      "2025-04-30    0.025642\n",
      "2025-05-31    0.003004\n",
      "2025-06-30    0.002252\n",
      "2025-07-31   -0.055344\n",
      "Freq: ME, Length: 163, dtype: float64\n"
     ]
    }
   ],
   "source": [
    "# 1. Baixar dados base (Ibovespa e Selic)\n",
    "ibov_dados = tv.get_hist(\n",
    "    symbol='IBOV',\n",
    "    exchange='BMFBOVESPA',\n",
    "    interval=Interval.in_monthly,  # equivalente ao \"1mo\" do yfinance\n",
    "    n_bars=500                     # número máximo de candles (ajuste conforme necessário)\n",
    ")\n",
    "\n",
    "# mantém só o fechamento\n",
    "ibov_dados = ibov_dados['close']\n",
    "ibov_retornos_brutos = np.log(ibov_dados / ibov_dados.shift(1)).dropna()\n",
    "\n",
    "selic_mensal = sgs.get({'Selic': 4390}, start=data_inicio, end=data_fim)\n",
    "#selic_mensal = (selic_anual_pct / 100) / 12\n",
    "\n",
    "selic_mensal = selic_mensal / 100\n",
    "selic_mensal.rename(columns={'Selic': 'Taxa_Livre_Risco'}, inplace=True)\n",
    "print(selic_mensal)\n",
    "\n",
    "# 2. Padronizar índices para garantir alinhamento\n",
    "ibov_retornos_brutos.index = pd.to_datetime(ibov_retornos_brutos.index).to_period('M').to_timestamp('M')\n",
    "selic_mensal.index = pd.to_datetime(selic_mensal.index).to_period('M').to_timestamp('M')\n",
    "\n",
    "# 3. --- CORREÇÃO --- Calcular as métricas a partir dos RETORNOS EXCEDENTES\n",
    "\n",
    "# Para o Ibovespa\n",
    "ibov_retornos_excedentes = ibov_retornos_brutos.subtract(selic_mensal['Taxa_Livre_Risco'], axis=0).dropna()\n",
    "# ibov_retorno_excedente_medio = ibov_retornos_excedentes.mean()\n",
    "# ibov_volatilidade = ibov_retornos_excedentes.std() # Volatilidade do prêmio de risco\n",
    "# ibov_sharpe_correto = ibov_retorno_excedente_medio / ibov_volatilidade\n",
    "\n",
    "print(ibov_retornos_excedentes)"
   ]
  },
  {
   "cell_type": "code",
   "execution_count": 13,
   "id": "b2c2abd1",
   "metadata": {},
   "outputs": [],
   "source": [
    "def retornos_mensais(data_inicio, data_fim):\n",
    "\n",
    "    # Baixar dados diários com ajuste de dividendos\n",
    "    dados = yf.download( ativos, start= data_inicio, end=data_fim, interval=\"1mo\", auto_adjust=True)[\"Close\"]\n",
    "    #dadosF = yf.download( ativos, start=\"2019-06-01\", end=\"2024-06-01\", interval=\"1mo\", auto_adjust=False)[\"Close\"]\n",
    "\n",
    "\n",
    "    dados.columns = [ticker.replace('.SA', '') for ticker in dados.columns]\n",
    "    #dadosF.columns = [ticker.replace('.SA', '') for ticker in dados.columns]\n",
    "\n",
    "\n",
    "    # Remover colunas totalmente vazias\n",
    "    dados = dados.dropna(axis=1, how='all')\n",
    "    #dadosF = dados.dropna(axis=1, how='all')\n",
    "\n",
    "    # Calcular retorno logarítmico mensal\n",
    "    retornos_absolutos = np.log(dados / dados.shift(1)).dropna()\n",
    "    #retornos_mensaisF = np.log(dadosF / dadosF.shift(1)).dropna()\n",
    "\n",
    "\n",
    "    # Usamos o código 4189 do SGS, que é a Selic mensalizada\n",
    "    selic_anual_pct = sgs.get({'Selic': 4189}, start=data_inicio, end=data_fim)\n",
    "\n",
    "    # Converte a taxa de % anual para decimal mensal\n",
    "    selic_mensal = (selic_anual_pct / 100) / 12\n",
    "    print(selic_mensal)\n",
    "    selic_mensal.rename(columns={'Selic': 'Taxa_Livre_Risco'}, inplace=True)\n",
    "    print(\"Selic baixada e convertida para taxa mensal.\")\n",
    "\n",
    "\n",
    "    # --- PASSO 3: GARANTIR O ALINHAMENTO DAS DATAS ---\n",
    "    # Padroniza ambos os índices para o fim do mês para garantir a subtração correta\n",
    "    retornos_absolutos.index = pd.to_datetime(retornos_absolutos.index).to_period('M').to_timestamp('M')\n",
    "    selic_mensal.index = pd.to_datetime(selic_mensal.index).to_period('M').to_timestamp('M')\n",
    "\n",
    "\n",
    "    # --- PASSO 4: CALCULAR OS RETORNOS EXCEDENTES ---\n",
    "    print(\"Calculando os retornos excedentes (descontando a taxa livre de risco)...\")\n",
    "    # O método .subtract com axis=0 subtrai a série da Selic de cada coluna do DataFrame de retornos\n",
    "    retornos_excedentes_mensais = retornos_absolutos.subtract(selic_mensal['Taxa_Livre_Risco'], axis=0)\n",
    "    retornos_excedentes_mensais.dropna(inplace=True) # Remove possíveis NaNs da junção\n",
    "\n",
    "    print(\"\\n--- Amostra dos Retornos Excedentes Calculados ---\")\n",
    "    display(retornos_excedentes_mensais.head())\n",
    "    \n",
    "\n",
    "    return retornos_excedentes_mensais\n",
    "    #print(\"Retornos mensais false:\")\n",
    "    #display(retornos_mensaisF.tail())\n",
    "\n",
    "    # Calcular a volatilidade (desvio padrão) mensal de cada ativo\n",
    "def volatilidade_mensal (retornos_mensais):\n",
    "    #print(\"Volatilidade (Risco Mensal) de cada ativo:\")\n",
    "    #display(volatilidade_mensal)\n",
    "    return retornos_mensais.std()\n",
    "\n",
    "\n",
    "    # Calcular a matriz de covariância mensal dos retornos dos ativos\n",
    "def matriz_covarianca_mensal(retornos_mensais):\n",
    "    return retornos_mensais.cov()\n",
    "\n",
    "    #print(\"\\nMatriz de Covariância Mensal:\")\n",
    "    #display(matriz_covarianca_mensal)"
   ]
  },
  {
   "cell_type": "code",
   "execution_count": 14,
   "id": "af284426",
   "metadata": {},
   "outputs": [],
   "source": [
    "def capitalizacao():\n",
    "\n",
    "    capitalizacoes = {}\n",
    "\n",
    "    print(\"Buscando a taxa de câmbio USD/BRL...\")\n",
    "    try:\n",
    "        taxa_usd_brl = yf.Ticker('USDBRL=X').history(period='1d')['Close'].iloc[-1]\n",
    "        print(f\"Taxa de câmbio atual: R$ {taxa_usd_brl:.2f}\")\n",
    "    except Exception as e:\n",
    "        print(f\"Não foi possível buscar a taxa de câmbio. Usando um valor padrão. Erro: {e}\")\n",
    "        taxa_usd_brl = 5.44\n",
    "\n",
    "    print(\"\\nBuscando dados de capitalização/AUM para cada ativo...\")\n",
    "\n",
    "    for ativo in tqdm(ativos, desc=\"Processando Ativos\"):\n",
    "        cap = None\n",
    "        try:\n",
    "            ticker = yf.Ticker(ativo)\n",
    "            info = ticker.info\n",
    "            cap = info.get('marketCap', info.get('totalAssets'))\n",
    "\n",
    "            # Se 'cap' foi encontrado, verificar moeda\n",
    "            if cap is not None and info.get('currency') == 'USD':\n",
    "                cap = cap * taxa_usd_brl\n",
    "                \n",
    "        except Exception as e:\n",
    "            print(f\"INFO: Não foi possível processar {ativo} via API. Verificando fallback. Erro: {e}\")\n",
    "        \n",
    "        nome_ativo = ativo.replace('.SA', '')\n",
    "        capitalizacoes[nome_ativo] = cap\n",
    "\n",
    "    # Criar um Pandas Series com os resultados\n",
    "    capitalizacoes_series = pd.Series(capitalizacoes, name=\"Capitalizacao_BRL\").sort_index()\n",
    "\n",
    "\n",
    "    # Alinhar a ordem dos ativos com a matriz de covariância\n",
    "    ordem_retornos = sorted([c.replace('.SA', '') for c in ativos if c.replace('.SA', '') in capitalizacoes_series.index])\n",
    "    capitalizacoes_series = capitalizacoes_series.reindex(ordem_retornos)\n",
    "\n",
    "    print(\"\\n--- Capitalização de Mercado / AUM (em BRL) - COMPLETO ---\")\n",
    "    display(capitalizacoes_series.map('{:,.0f}'.format))\n",
    "\n",
    "    # Calcular os Pesos de Mercado (w_mkt)\n",
    "    w_mkt = capitalizacoes_series / capitalizacoes_series.sum()\n",
    "\n",
    "    print(\"\\n--- Pesos da Carteira de Mercado (w_mkt)\")\n",
    "    display(w_mkt.map('{:.2%}'.format))\n",
    "\n",
    "    # Verificação final para garantir que a soma dos pesos é 1 (ou 100%)\n",
    "    print(f\"\\nSoma dos pesos: {w_mkt.sum():.4f}\")\n",
    "    \n",
    "    return w_mkt "
   ]
  },
  {
   "cell_type": "code",
   "execution_count": 15,
   "id": "2663296a",
   "metadata": {},
   "outputs": [],
   "source": [
    "def delta (retornos, w_mkt):\n",
    "\n",
    "    retornos_alinhados = retornos[w_mkt.index]\n",
    "    retornos_mkt = retornos_alinhados @ w_mkt\n",
    "\n",
    "    print(\"Amostra dos retornos históricos do portfólio de mercado:\")\n",
    "    #display(retornos_mkt.head())\n",
    "\n",
    "    # Calcular o prêmio de risco \n",
    "    premio_risco_mkt = retornos_mkt.mean()\n",
    "    print(f\"\\nPrêmio de Risco Mensal Médio (Numerador): {premio_risco_mkt:.4%}\")\n",
    "\n",
    "    # Calcular a variância do mercado \n",
    "    variancia_mkt = retornos_mkt.var()\n",
    "    print(f\"Variância Mensal do Mercado (Denominador): {variancia_mkt:.6f}\")\n",
    "\n",
    "\n",
    "    # Calcular o coeficiente Delta (δ)\n",
    "    delta_calculado = premio_risco_mkt / variancia_mkt\n",
    "\n",
    "    print(f\"O coeficiente de aversão ao risco (δ) calculado é: {delta_calculado:.4f}\")\n",
    "\n",
    "    return delta_calculado\n",
    "\n",
    "def pi(delta_calculado, w_mkt, matriz_cov):\n",
    "\n",
    "    pi = delta_calculado * (matriz_cov @ w_mkt) \n",
    "\n",
    "    #display(pi)\n",
    "    return pi\n",
    "\n",
    "P = np.identity(len(ativos))\n"
   ]
  },
  {
   "cell_type": "code",
   "execution_count": 16,
   "id": "1e691acb",
   "metadata": {},
   "outputs": [],
   "source": [
    "def opinioes_RF(retornos_mensais, dados_macro_historicos ):\n",
    "    # Garante que ambos os DataFrames usem a mesma convenção de data (fim do mês)\n",
    "\n",
    "    print(\"Padronizando os índices de data...\")\n",
    "    retornos_mensais.index = pd.to_datetime(retornos_mensais.index)\n",
    "    retornos_mensais.index = retornos_mensais.index.to_period('M').to_timestamp('M')\n",
    "\n",
    "    dados_macro_historicos.index = pd.to_datetime(dados_macro_historicos.index)\n",
    "    dados_macro_historicos.index = dados_macro_historicos.index.to_period('M').to_timestamp('M')\n",
    "\n",
    "\n",
    "    previsoes_q = {}\n",
    "    ativos = retornos_mensais.columns\n",
    "\n",
    "    for ativo in ativos:\n",
    "        y = retornos_mensais[ativo]\n",
    "        X = dados_macro_historicos\n",
    "\n",
    "        X_lagged = X.shift(1)\n",
    "        \n",
    "        # Junta os alvos (y) e as var. com lag (X_lagged)\n",
    "        dados_completos = pd.concat([y, X_lagged], axis=1)\n",
    "        \n",
    "        # Remove apenas as linhas que ficaram com NaN\n",
    "        dados_completos.dropna(inplace=True)\n",
    "        \n",
    "        y_final = dados_completos[ativo]\n",
    "        X_final = dados_completos[X.columns]\n",
    "\n",
    "        if X_final.empty or y_final.empty:\n",
    "            print(f\" ERRO: Após o preparo, não restaram dados para o ativo {ativo}. Pulando.\")\n",
    "            continue\n",
    "\n",
    "        print(f\"\\n--- Treinando modelo para o ativo: {ativo} ({len(X_final)} amostras) ---\")\n",
    "\n",
    "        # Treinamento do Modelo\n",
    "        modelo_rf = RandomForestRegressor(\n",
    "            n_estimators=200,       # Número de árvores \n",
    "            max_depth=7,            # <-- Limita a profundidade da árvore\n",
    "            max_features='sqrt',    # <-- Usa um subconjunto aleatório de var. macro\n",
    "            min_samples_leaf=5,     # <-- Mais amostras nas folhas finais\n",
    "            random_state=42,\n",
    "            oob_score=True\n",
    "        )\n",
    "        # ----------------------------------------------\n",
    "        \n",
    "        modelo_rf.fit(X_final, y_final)\n",
    "        print(f\"Modelo treinado. OOB Score: {modelo_rf.oob_score_:.4f}\")\n",
    "        \n",
    "        # Geração da Previsão\n",
    "        dados_macro_recentes = dados_macro_historicos.iloc[[-1]]\n",
    "        previsao_retorno = modelo_rf.predict(dados_macro_recentes)\n",
    "        previsoes_q[ativo] = previsao_retorno[0]\n",
    "\n",
    "\n",
    "    if previsoes_q:\n",
    "        q = pd.Series(previsoes_q).reindex(ativos)\n",
    "        #P = np.identity(len(ativos)) P será global\n",
    "\n",
    "        print(\"\\n\\n--- Matrizes de Visão (P e Q) Geradas ---\")\n",
    "        print(\"\\nVetor Q (Previsões de Retorno Mensal %):\")\n",
    "        #display((q * 100).map('{:.4f}%'.format))\n",
    "        #print(\"\\nMatriz P (Visões Absolutas):\")\n",
    "        #display(pd.DataFrame(P, index=q.index, columns=ativos))\n",
    "    else:\n",
    "        print(\"\\nNenhuma previsão pôde ser gerada pois os modelos não foram treinados.\")\n",
    "\n",
    "    return q"
   ]
  },
  {
   "cell_type": "code",
   "execution_count": 17,
   "id": "3fba022f",
   "metadata": {},
   "outputs": [],
   "source": [
    "def opinioes_LR(retornos_mensais, dados_macro_historicos):\n",
    "    \"\"\"\n",
    "    Gera o vetor de visões (Q) usando um modelo de Regressão Linear para cada ativo.\n",
    "    \"\"\"\n",
    "    # Padronização de datas\n",
    "    retornos_mensais.index = pd.to_datetime(retornos_mensais.index).to_period('M').to_timestamp('M')\n",
    "    dados_macro_historicos.index = pd.to_datetime(dados_macro_historicos.index).to_period('M').to_timestamp('M')\n",
    "\n",
    "    previsoes_q = {}\n",
    "    ativos = retornos_mensais.columns\n",
    "\n",
    "    for ativo in ativos:\n",
    "\n",
    "        y = retornos_mensais[ativo]\n",
    "        X = dados_macro_historicos\n",
    "        X_lagged = X.shift(1)\n",
    "        dados_completos = pd.concat([y, X_lagged], axis=1).dropna()\n",
    "        y_final = dados_completos[ativo]\n",
    "        X_final = dados_completos[X.columns]\n",
    "\n",
    "        if X_final.empty or y_final.empty:\n",
    "            print(f\"ERRO: Não há dados suficientes para o ativo {ativo}. Pulando.\")\n",
    "            continue\n",
    "\n",
    "        modelo_lr = LinearRegression() \n",
    "\n",
    "        # Treinamento do Modelo\n",
    "        modelo_lr.fit(X_final, y_final)\n",
    "        \n",
    "        # Avaliação com R-quadrado (R²)\n",
    "        score_r2 = modelo_lr.score(X_final, y_final)\n",
    "        print(f\"Modelo para {ativo} treinado. R² (ajuste de treino): {score_r2:.4f}\")\n",
    "        \n",
    "        # Geração da Previsão\n",
    "        dados_macro_recentes = dados_macro_historicos.iloc[[-1]]\n",
    "        previsao_retorno = modelo_lr.predict(dados_macro_recentes)\n",
    "        previsoes_q[ativo] = previsao_retorno[0]\n",
    "\n",
    "    if not previsoes_q:\n",
    "        print(\"\\nNenhuma previsão pôde ser gerada.\")\n",
    "        return None\n",
    "\n",
    "    q = pd.Series(previsoes_q).reindex(ativos)\n",
    "\n",
    "    print(\"\\n--- Vetor Q (Regressão Linear) Gerado ---\")\n",
    "    #display((q * 100).map('{:.4f}%'.format))\n",
    "    \n",
    "    return q"
   ]
  },
  {
   "cell_type": "code",
   "execution_count": 18,
   "id": "b661e65c",
   "metadata": {},
   "outputs": [],
   "source": [
    "def opinioes_HIBRIDO(retornos_mensais, dados_macro_historicos):\n",
    "    \"\"\"\n",
    "    Gera o vetor de visões (Q) usando um modelo HÍBRIDO:\n",
    "    1. Random Forest é usado para selecionar as features mais importantes.\n",
    "    2. Regressão Ridge é usada para fazer a previsão final com as features selecionadas.\n",
    "    \"\"\"\n",
    "    # Padronização de datas\n",
    "    retornos_mensais.index = pd.to_datetime(retornos_mensais.index).to_period('M').to_timestamp('M')\n",
    "    dados_macro_historicos.index = pd.to_datetime(dados_macro_historicos.index).to_period('M').to_timestamp('M')\n",
    "\n",
    "    # Hiperparâmetro: Quantas features selecionar? \n",
    "    N_FEATURES_PARA_SELECIONAR = 2\n",
    "\n",
    "    previsoes_q = {}\n",
    "    ativos = retornos_mensais.columns\n",
    "\n",
    "    print(f\"--- Gerando Visões com Modelo HÍBRIDO (RF para Seleção, Ridge para Previsão) ---\")\n",
    "    print(f\"Selecionando as {N_FEATURES_PARA_SELECIONAR} features mais importantes para cada ativo.\")\n",
    "\n",
    "    for ativo in ativos:\n",
    "        y = retornos_mensais[ativo]\n",
    "        X = dados_macro_historicos\n",
    "        X_lagged = X.shift(1)\n",
    "        dados_completos = pd.concat([y, X_lagged], axis=1).dropna()\n",
    "        y_final = dados_completos[ativo]\n",
    "        X_final = dados_completos[X.columns]\n",
    "\n",
    "        if len(X_final) < 1:\n",
    "            print(f\"ERRO: Não há dados suficientes para o ativo {ativo}. Pulando.\")\n",
    "            continue\n",
    "\n",
    "        # RF para escolher ar variáveis macro\n",
    "        \n",
    "        seletor_rf = RandomForestRegressor(\n",
    "            n_estimators=200, max_depth=7, max_features='sqrt',\n",
    "            min_samples_leaf=5, random_state=42\n",
    "        )\n",
    "        seletor_rf.fit(X_final, y_final)\n",
    "\n",
    "        # Pega a importância de cada variável e seleciona as N melhores\n",
    "        importancia_features = pd.Series(seletor_rf.feature_importances_, index=X_final.columns)\n",
    "        melhores_features = importancia_features.nlargest(N_FEATURES_PARA_SELECIONAR).index.tolist()\n",
    "        \n",
    "        print(f\"\\nAtivo: {ativo} | Melhores Features: {melhores_features}\")\n",
    "\n",
    "        # Regressão só com as selecionadas\n",
    "        X_final_selecionado = X_final[melhores_features]\n",
    "        dados_macro_recentes_selecionado = dados_macro_historicos.iloc[[-1]][melhores_features]\n",
    "\n",
    "        modelo_final = Ridge(alpha=1.0)\n",
    "        modelo_final.fit(X_final_selecionado, y_final)\n",
    "        \n",
    "        score_r2 = modelo_final.score(X_final_selecionado, y_final)\n",
    "        print(f\"Modelo Ridge treinado com features selecionadas. R²: {score_r2:.4f}\")\n",
    "\n",
    "        # Faz a previsão final \n",
    "        previsao_retorno = modelo_final.predict(dados_macro_recentes_selecionado)\n",
    "        previsoes_q[ativo] = previsao_retorno[0]\n",
    "\n",
    "    if not previsoes_q:\n",
    "        print(\"\\nNenhuma previsão pôde ser gerada.\")\n",
    "        return None\n",
    "\n",
    "    q = pd.Series(previsoes_q).reindex(ativos)\n",
    "\n",
    "    print(\"\\n--- Vetor Q (Modelo Híbrido) Gerado ---\")\n",
    "    #display((q * 100).map('{:.4f}%'.format))\n",
    "    \n",
    "    return q"
   ]
  },
  {
   "cell_type": "code",
   "execution_count": 19,
   "id": "62eeac1b",
   "metadata": {},
   "outputs": [],
   "source": [
    "def black_litterman(pi, q, matriz_covarianca_mensal, dados_macro_historicos ):\n",
    "    # T é o número de observações no histórico disponível NESTE PONTO do backtest\n",
    "    T = len(dados_macro_historicos)\n",
    "    print(T)\n",
    "\n",
    "    tau =  1.0 / T\n",
    "\n",
    "    omega = np.zeros((n_ativos, n_ativos))\n",
    "\n",
    "    num_opinioes = n_ativos # Mudar se fizer tbm com visões relativas \n",
    "\n",
    "    for i in range(num_opinioes):\n",
    "        for j in range(num_opinioes):\n",
    "            if i == j:\n",
    "\n",
    "                omega[i][j] = np.dot( tau * np.dot(P[i], matriz_covarianca_mensal), P[i].T) #variância das visões do investidor multiplicada pelo escalar tau \n",
    "\n",
    "    if not isinstance(matriz_covarianca_mensal, np.ndarray):\n",
    "        matriz_covarianca_mensal = np.array(matriz_covarianca_mensal)\n",
    "\n",
    "\n",
    "    qpt = np.dot(matriz_covarianca_mensal, P.T)\n",
    "\n",
    "    pi = np.array(pi).reshape(-1, 1)          # (n, 1)\n",
    "    q = np.array(q).reshape(-1, 1)\n",
    "\n",
    "    retornos = np.array(pi) + np.array(tau * np.dot (qpt,\n",
    "                        np.dot(np.linalg.inv(np.array(np.dot(P, qpt)) + np.array(omega)),\n",
    "                        np.array(q)-np.array(np.dot(P,pi)))))\n",
    "\n",
    "    retornos = retornos.flatten().tolist()\n",
    "\n",
    "    print(\"Retornos previstos pelo modelo: \")\n",
    "    # resultado\n",
    "\n",
    "    print(n_ativos)\n",
    "    for i in range(n_ativos):\n",
    "        print(ativos[i] +': %.2f' %(retornos[i]*100)+'%')\n",
    "    \n",
    "    return retornos"
   ]
  },
  {
   "cell_type": "code",
   "execution_count": 20,
   "id": "55f4ca00",
   "metadata": {},
   "outputs": [],
   "source": [
    "def volatilidade(peso, cov_matrix):\n",
    "    \"\"\"Calcula a volatilidade da carteira.\"\"\"\n",
    "    return np.sqrt(np.dot(peso.T, np.dot(cov_matrix, peso)))\n",
    "\n",
    "def retorno_esperado(peso, retornos_modelo):\n",
    "    \"\"\"Calcula o retorno esperado da carteira.\"\"\"\n",
    "    return np.dot(retornos_modelo, peso)\n",
    "\n",
    "def neg_ratio(peso, retornos_modelo, cov_matrix):\n",
    "    \"\"\"\n",
    "    Calcula o negativo do Sharpe Ratio.\n",
    "    Esta é a nossa função objetivo para a minimização.\n",
    "    \"\"\"\n",
    "    vol = volatilidade(peso, cov_matrix)\n",
    "    if vol == 0:\n",
    "        return np.inf  # Retorna infinito se a volatilidade for zero para evitar divisão por zero\n",
    "\n",
    "    ret = retorno_esperado(peso, retornos_modelo)\n",
    "    sharpe = ret / vol\n",
    "    return -sharpe\n",
    "\n",
    "\n",
    "limites   = tuple((0.05,1) for x in range(n_ativos))    \n",
    "\n",
    "restricao = (\n",
    "    {'type': 'eq', 'fun': lambda x: np.sum(x) - 1},             \n",
    "    )     \n",
    "\n",
    "# Chute inicial: uma carteira com pesos iguais para todos os ativos\n",
    "chute_inicial = n_ativos * [1. / n_ativos]\n",
    "\n",
    "def otimizacao(retornos_modelo, matriz_covarianca_mes):\n",
    "    max_ratio = scpopt.minimize(neg_ratio,\n",
    "                            x0=chute_inicial,\n",
    "                            args=(retornos_modelo, matriz_covarianca_mes),  \n",
    "                            method='SLSQP',\n",
    "                            bounds=limites,\n",
    "                            constraints=restricao\n",
    "                           )\n",
    "    \n",
    "    vetor_otimizados = []\n",
    "\n",
    "    if max_ratio.success:\n",
    "        print(f\"Otimização bem-sucedida: {max_ratio.message}\")\n",
    "\n",
    "        pesos_otimizados = max_ratio.x\n",
    "\n",
    "        retorno_otimizado = retorno_esperado(pesos_otimizados, retornos_modelo)\n",
    "        vetor_otimizados.append(retorno_otimizado)\n",
    "\n",
    "        volatilidade_otimizada = volatilidade(pesos_otimizados,  matriz_covarianca_mes)\n",
    "        vetor_otimizados.append(volatilidade_otimizada)\n",
    "\n",
    "        sharpe_otimizado = retorno_otimizado / volatilidade_otimizada\n",
    "        vetor_otimizados.append(sharpe_otimizado)\n",
    "\n",
    "        print(f\"\\nRetorno Esperado da Carteira Otimizada: {retorno_otimizado*100:.2f}% (mensal)\")\n",
    "        print(f\"Volatilidade da Carteira Otimizada: {volatilidade_otimizada*100:.2f}% (mensal)\")\n",
    "        print(f\"Índice Sharpe Otimizado: {sharpe_otimizado:.4f}\")\n",
    "\n",
    "        print(\"\\nPesos da Carteira Otimizada:\")\n",
    "        pesos_df = pd.DataFrame({'Ativo': ativos, 'Peso (%)': pesos_otimizados * 100})\n",
    "        pesos_df.set_index('Ativo', inplace=True)\n",
    "        display(pesos_df)\n",
    "\n",
    "    else:\n",
    "        print(f\"A otimização falhou: {max_ratio.message}\")\n",
    "    \n",
    "    return vetor_otimizados\n",
    "\n",
    "def otimizar_pesos(retornos_modelo, matriz_cov):\n",
    "    \"\"\"\n",
    "    Executa a otimização e retorna APENAS o vetor de pesos da carteira.\n",
    "    Ideal para ser usada dentro de um loop de backtest.\n",
    "    \"\"\"\n",
    "    n_ativos = len(retornos_modelo)\n",
    "    limites = tuple((0.05, 1) for _ in range(n_ativos)) \n",
    "    restricao = ({'type': 'eq', 'fun': lambda x: np.sum(x) - 1})\n",
    "    chute_inicial = n_ativos * [1. / n_ativos]\n",
    "\n",
    "    max_ratio = scpopt.minimize(neg_ratio,\n",
    "                                x0=chute_inicial,\n",
    "                                args=(retornos_modelo, matriz_cov),\n",
    "                                method='SLSQP',\n",
    "                                bounds=limites,\n",
    "                                constraints=restricao)\n",
    "    \n",
    "    if max_ratio.success:\n",
    "        return max_ratio.x  # <-- RETORNA APENAS OS PESOS\n",
    "    else:\n",
    "        return None\n"
   ]
  },
  {
   "cell_type": "code",
   "execution_count": 21,
   "id": "324eb92f",
   "metadata": {},
   "outputs": [
    {
     "name": "stdout",
     "output_type": "stream",
     "text": [
      "Buscando a taxa de câmbio USD/BRL...\n",
      "Taxa de câmbio atual: R$ 5.33\n",
      "\n",
      "Buscando dados de capitalização/AUM para cada ativo...\n"
     ]
    },
    {
     "name": "stderr",
     "output_type": "stream",
     "text": [
      "Processando Ativos: 100%|██████████| 10/10 [00:06<00:00,  1.48it/s]"
     ]
    },
    {
     "name": "stdout",
     "output_type": "stream",
     "text": [
      "\n",
      "--- Capitalização de Mercado / AUM (em BRL) - COMPLETO ---\n"
     ]
    },
    {
     "name": "stderr",
     "output_type": "stream",
     "text": [
      "\n"
     ]
    },
    {
     "data": {
      "text/plain": [
       "ABEV3    185,080,430,592\n",
       "BBAS3    123,187,060,736\n",
       "BRFS3     28,579,856,384\n",
       "EGIE3     32,881,887,232\n",
       "ITUB4    387,382,444,032\n",
       "LREN3     14,575,734,784\n",
       "PETR4    414,956,126,208\n",
       "SLCE3      7,032,841,216\n",
       "VALE3    250,107,740,160\n",
       "WEGE3    152,723,341,312\n",
       "Name: Capitalizacao_BRL, dtype: object"
      ]
     },
     "metadata": {},
     "output_type": "display_data"
    },
    {
     "name": "stdout",
     "output_type": "stream",
     "text": [
      "\n",
      "--- Pesos da Carteira de Mercado (w_mkt)\n"
     ]
    },
    {
     "data": {
      "text/plain": [
       "ABEV3    11.59%\n",
       "BBAS3     7.72%\n",
       "BRFS3     1.79%\n",
       "EGIE3     2.06%\n",
       "ITUB4    24.26%\n",
       "LREN3     0.91%\n",
       "PETR4    25.99%\n",
       "SLCE3     0.44%\n",
       "VALE3    15.67%\n",
       "WEGE3     9.57%\n",
       "Name: Capitalizacao_BRL, dtype: object"
      ]
     },
     "metadata": {},
     "output_type": "display_data"
    },
    {
     "name": "stdout",
     "output_type": "stream",
     "text": [
      "\n",
      "Soma dos pesos: 1.0000\n"
     ]
    },
    {
     "name": "stderr",
     "output_type": "stream",
     "text": [
      "[*********************100%***********************]  10 of 10 completed\n"
     ]
    },
    {
     "name": "stdout",
     "output_type": "stream",
     "text": [
      "               Selic\n",
      "Date                \n",
      "2012-01-01  0.008917\n",
      "2012-02-01  0.008667\n",
      "2012-03-01  0.008183\n",
      "2012-04-01  0.007792\n",
      "2012-05-01  0.007392\n",
      "...              ...\n",
      "2025-03-01  0.011308\n",
      "2025-04-01  0.011792\n",
      "2025-05-01  0.012125\n",
      "2025-06-01  0.012283\n",
      "2025-07-01  0.012417\n",
      "\n",
      "[163 rows x 1 columns]\n",
      "Selic baixada e convertida para taxa mensal.\n",
      "Calculando os retornos excedentes (descontando a taxa livre de risco)...\n",
      "\n",
      "--- Amostra dos Retornos Excedentes Calculados ---\n"
     ]
    },
    {
     "data": {
      "text/html": [
       "<div>\n",
       "<style scoped>\n",
       "    .dataframe tbody tr th:only-of-type {\n",
       "        vertical-align: middle;\n",
       "    }\n",
       "\n",
       "    .dataframe tbody tr th {\n",
       "        vertical-align: top;\n",
       "    }\n",
       "\n",
       "    .dataframe thead th {\n",
       "        text-align: right;\n",
       "    }\n",
       "</style>\n",
       "<table border=\"1\" class=\"dataframe\">\n",
       "  <thead>\n",
       "    <tr style=\"text-align: right;\">\n",
       "      <th></th>\n",
       "      <th>ABEV3</th>\n",
       "      <th>BBAS3</th>\n",
       "      <th>BRFS3</th>\n",
       "      <th>EGIE3</th>\n",
       "      <th>ITUB4</th>\n",
       "      <th>LREN3</th>\n",
       "      <th>PETR4</th>\n",
       "      <th>SLCE3</th>\n",
       "      <th>VALE3</th>\n",
       "      <th>WEGE3</th>\n",
       "    </tr>\n",
       "    <tr>\n",
       "      <th>Date</th>\n",
       "      <th></th>\n",
       "      <th></th>\n",
       "      <th></th>\n",
       "      <th></th>\n",
       "      <th></th>\n",
       "      <th></th>\n",
       "      <th></th>\n",
       "      <th></th>\n",
       "      <th></th>\n",
       "      <th></th>\n",
       "    </tr>\n",
       "  </thead>\n",
       "  <tbody>\n",
       "    <tr>\n",
       "      <th>2012-02-29</th>\n",
       "      <td>0.102599</td>\n",
       "      <td>0.008110</td>\n",
       "      <td>0.028217</td>\n",
       "      <td>-0.007349</td>\n",
       "      <td>0.038414</td>\n",
       "      <td>0.094012</td>\n",
       "      <td>-0.011113</td>\n",
       "      <td>-0.014937</td>\n",
       "      <td>-0.034730</td>\n",
       "      <td>-0.028366</td>\n",
       "    </tr>\n",
       "    <tr>\n",
       "      <th>2012-03-31</th>\n",
       "      <td>0.071965</td>\n",
       "      <td>-0.066015</td>\n",
       "      <td>-0.005402</td>\n",
       "      <td>0.066019</td>\n",
       "      <td>-0.059994</td>\n",
       "      <td>-0.050039</td>\n",
       "      <td>-0.048474</td>\n",
       "      <td>0.195399</td>\n",
       "      <td>-0.023221</td>\n",
       "      <td>0.035163</td>\n",
       "    </tr>\n",
       "    <tr>\n",
       "      <th>2012-04-30</th>\n",
       "      <td>0.073974</td>\n",
       "      <td>-0.092739</td>\n",
       "      <td>-0.040257</td>\n",
       "      <td>-0.003827</td>\n",
       "      <td>-0.148148</td>\n",
       "      <td>-0.028355</td>\n",
       "      <td>-0.095029</td>\n",
       "      <td>-0.041711</td>\n",
       "      <td>-0.014809</td>\n",
       "      <td>0.012550</td>\n",
       "    </tr>\n",
       "    <tr>\n",
       "      <th>2012-05-31</th>\n",
       "      <td>-0.081579</td>\n",
       "      <td>-0.172058</td>\n",
       "      <td>-0.111955</td>\n",
       "      <td>0.022753</td>\n",
       "      <td>-0.030571</td>\n",
       "      <td>-0.035609</td>\n",
       "      <td>-0.114371</td>\n",
       "      <td>0.023959</td>\n",
       "      <td>-0.107652</td>\n",
       "      <td>0.024854</td>\n",
       "    </tr>\n",
       "    <tr>\n",
       "      <th>2012-06-30</th>\n",
       "      <td>0.002074</td>\n",
       "      <td>-0.027933</td>\n",
       "      <td>-0.039367</td>\n",
       "      <td>0.097920</td>\n",
       "      <td>-0.041570</td>\n",
       "      <td>-0.038435</td>\n",
       "      <td>-0.043791</td>\n",
       "      <td>0.055160</td>\n",
       "      <td>0.058395</td>\n",
       "      <td>-0.072043</td>\n",
       "    </tr>\n",
       "  </tbody>\n",
       "</table>\n",
       "</div>"
      ],
      "text/plain": [
       "               ABEV3     BBAS3     BRFS3     EGIE3     ITUB4     LREN3  \\\n",
       "Date                                                                     \n",
       "2012-02-29  0.102599  0.008110  0.028217 -0.007349  0.038414  0.094012   \n",
       "2012-03-31  0.071965 -0.066015 -0.005402  0.066019 -0.059994 -0.050039   \n",
       "2012-04-30  0.073974 -0.092739 -0.040257 -0.003827 -0.148148 -0.028355   \n",
       "2012-05-31 -0.081579 -0.172058 -0.111955  0.022753 -0.030571 -0.035609   \n",
       "2012-06-30  0.002074 -0.027933 -0.039367  0.097920 -0.041570 -0.038435   \n",
       "\n",
       "               PETR4     SLCE3     VALE3     WEGE3  \n",
       "Date                                                \n",
       "2012-02-29 -0.011113 -0.014937 -0.034730 -0.028366  \n",
       "2012-03-31 -0.048474  0.195399 -0.023221  0.035163  \n",
       "2012-04-30 -0.095029 -0.041711 -0.014809  0.012550  \n",
       "2012-05-31 -0.114371  0.023959 -0.107652  0.024854  \n",
       "2012-06-30 -0.043791  0.055160  0.058395 -0.072043  "
      ]
     },
     "metadata": {},
     "output_type": "display_data"
    }
   ],
   "source": [
    "w_mkt = capitalizacao()\n",
    "\n",
    "retornos_mes = retornos_mensais(data_inicio, data_fim )\n",
    "retornos_mes.index = pd.to_datetime(retornos_mes.index).to_period('M').to_timestamp('M')\n",
    "\n",
    "volatilidade_mes = volatilidade_mensal(retornos_mes)\n",
    "matriz_covarianca_mes = matriz_covarianca_mensal(retornos_mes)\n",
    "\n"
   ]
  },
  {
   "cell_type": "code",
   "execution_count": 22,
   "id": "2b2a875c",
   "metadata": {},
   "outputs": [],
   "source": [
    "def obter_pesos_resampled(retornos_historicos, n_simulacoes=100):\n",
    "    \"\"\"\n",
    "    Versão garantida que retorna um dicionário.\n",
    "    \"\"\"\n",
    "    n_ativos = retornos_historicos.shape[1]\n",
    "    lista_pesos_otimos = []\n",
    "    \n",
    "    # (O código do loop de simulação continua o mesmo)\n",
    "    for _ in range(n_simulacoes):\n",
    "        retornos_simulados = retornos_historicos.sample(n=len(retornos_historicos), replace=True)\n",
    "        mu_simulado = retornos_simulados.mean()\n",
    "        sigma_simulado = retornos_simulados.cov()\n",
    "        chute_inicial = n_ativos * [1. / n_ativos]\n",
    "        limites = tuple((0.05, 1.0) for _ in range(n_ativos))\n",
    "        restricao = ({'type': 'eq', 'fun': lambda x: np.sum(x) - 1})\n",
    "        res = scpopt.minimize(neg_ratio, x0=chute_inicial, args=(mu_simulado, sigma_simulado),\n",
    "                              method='SLSQP', bounds=limites, constraints=restricao)\n",
    "        if res.success:\n",
    "            lista_pesos_otimos.append(res.x)\n",
    "\n",
    "    if not lista_pesos_otimos:\n",
    "        return None\n",
    "\n",
    "    pesos_resampled = np.mean(lista_pesos_otimos, axis=0)\n",
    "    pesos_resampled /= pesos_resampled.sum()\n",
    "    \n",
    "    # Calculando as métricas para retornar no dicionário\n",
    "    retornos_esperados_para_analise = retornos_historicos.mean()\n",
    "    matriz_cov_para_analise = retornos_historicos.cov()\n",
    "    \n",
    "    # Monta o dicionário\n",
    "    resultados = {\n",
    "        \"pesos\": pesos_resampled,\n",
    "        \"retornos_bl\": retornos_esperados_para_analise, # Reutilizando a chave para consistência\n",
    "        \"matriz_cov\": matriz_cov_para_analise\n",
    "    }\n",
    "    \n",
    "    print(\"Dentro da função, prestes a retornar um dicionário.\")\n",
    "    return resultados"
   ]
  },
  {
   "cell_type": "code",
   "execution_count": 23,
   "id": "391ab24f",
   "metadata": {},
   "outputs": [],
   "source": [
    "def obter_pesos_otimizados(retornos_historicos, dados_macro_historicos, ml):\n",
    "\n",
    "    matriz_covarianca_mes = matriz_covarianca_mensal(retornos_historicos)\n",
    "\n",
    "    delta_calculado = delta(retornos_historicos , w_mkt)\n",
    "\n",
    "    vetor_pi = pi(delta_calculado, w_mkt, matriz_covarianca_mes)\n",
    "    \n",
    "    if ml == -2:\n",
    "        matriz_cov = retornos_historicos.cov()\n",
    "        # O input de retorno é a média histórica\n",
    "        retornos_esperados = retornos_historicos.mean()\n",
    "        \n",
    "        # Otimiza usando a média histórica como 'retornos_bl'\n",
    "        pesos_otimizados = otimizar_pesos(retornos_esperados, matriz_cov)\n",
    "        \n",
    "        if pesos_otimizados is not None:\n",
    "            # Retorna o dicionário no mesmo formato das outras estratégias\n",
    "            resultados = {\n",
    "                \"pesos\": pesos_otimizados,\n",
    "                \"retornos_bl\": retornos_esperados, # Guardamos a média histórica aqui\n",
    "                \"matriz_cov\": matriz_cov\n",
    "            }\n",
    "            return resultados\n",
    "        else:\n",
    "            return None\n",
    "\n",
    "\n",
    "    elif ml == 1:\n",
    "        q = opinioes_RF(retornos_historicos, dados_macro_historicos)\n",
    "    elif ml == 2:\n",
    "        q = opinioes_LR(retornos_historicos, dados_macro_historicos)\n",
    "    elif ml == 3:\n",
    "        q = opinioes_HIBRIDO(retornos_historicos, dados_macro_historicos)\n",
    "\n",
    "    # elif ml == 4:\n",
    "    #     q = opinioes_RF_com_fundamentos(retornos_historicos, dados_macro_historicos)\n",
    "    # elif ml == 5: \n",
    "    #     q = opinioes_RF_fundamentalista(retornos_historicos)\n",
    "\n",
    "    # elif ml == 7:\n",
    "    #     q = opinioes_LLM(retornos_historicos, dados_macro_historicos) \n",
    "\n",
    "    retornos_bl = black_litterman(vetor_pi, q, matriz_covarianca_mes, dados_macro_historicos )\n",
    "\n",
    "    pesos_otimizados = otimizar_pesos(retornos_bl, matriz_covarianca_mes)\n",
    "\n",
    "    if pesos_otimizados is not None:\n",
    "\n",
    "        resultados = {\n",
    "            \"pesos\": pesos_otimizados,\n",
    "            \"retornos_bl\": retornos_bl,\n",
    "            \"matriz_cov\": matriz_covarianca_mes\n",
    "        }\n",
    "        return resultados\n",
    "    else:\n",
    "        # Se a otimização falhar, retorne None\n",
    "        return None"
   ]
  },
  {
   "cell_type": "markdown",
   "id": "8ed1b7f1",
   "metadata": {},
   "source": [
    "Backtesting"
   ]
  },
  {
   "cell_type": "code",
   "execution_count": 24,
   "id": "93aa87e0",
   "metadata": {},
   "outputs": [],
   "source": [
    "from contextlib import redirect_stdout, redirect_stderr\n",
    "# Unir todos os seus dados em um único lugar para facilitar o fatiamento\n",
    "\n",
    "def backtesting(retornos_mes, ml):\n",
    "\n",
    "    dados_completos = retornos_mes.join(dados_macro_combinados)\n",
    "\n",
    "    # Definir o período de backtest\n",
    "    datas_backtest = dados_completos.index[dados_completos.index >= data_backtest]\n",
    "\n",
    "    # Lista para guardar os resultados\n",
    "    retornos_da_estrategia = []\n",
    "    datas_dos_retornos = []\n",
    "\n",
    "    for data in tqdm(datas_backtest, desc=\"Executando Backtest\",  disable=True):\n",
    "        # 1. Fatiar os dados: tudo o que aconteceu ATÉ a data atual\n",
    "        data_treino = dados_completos.loc[:data].iloc[:-1] # Pega tudo ATÉ o mês anterior\n",
    "        if data_treino.empty: continue\n",
    "        \n",
    "        retornos_treino = data_treino[retornos_mes.columns]\n",
    "        macro_treino = data_treino[dados_macro_combinados.columns]\n",
    "        \n",
    "        # 2. Rodar a estratégia para obter os pesos para o próx mês\n",
    "        with open(os.devnull, 'w') as fnull:\n",
    "            with redirect_stdout(fnull), redirect_stderr(fnull):\n",
    "                if (ml == -1):\n",
    "                    resultados_otimizacao = obter_pesos_resampled(retornos_treino)\n",
    "                else:\n",
    "                    resultados_otimizacao = obter_pesos_otimizados(retornos_treino, macro_treino, ml) \n",
    "        \n",
    "        # Verifica se a otimização funcionou e retornou o dicionário\n",
    "        if resultados_otimizacao is None:\n",
    "            print(f\"Não foi possível otimizar para a data {data}. Pulando.\")\n",
    "            continue\n",
    "            \n",
    "        pesos = resultados_otimizacao['pesos']\n",
    "            \n",
    "        #Calcular o retorno realizado no mês seguinte\n",
    "        # Pegamos os retornos que realmente aconteceram na data 'data'\n",
    "        retornos_reais_do_mes = dados_completos.loc[data, retornos_mes.columns]\n",
    "        retorno_realizado_portfolio = np.dot(pesos, retornos_reais_do_mes)\n",
    "        \n",
    "        # Guardar resultado\n",
    "        retornos_da_estrategia.append(retorno_realizado_portfolio)\n",
    "        datas_dos_retornos.append(data)\n",
    "\n",
    "    # Criar a série de retornos da sua estratégia\n",
    "    estrategia_retornos_realizados = pd.Series(retornos_da_estrategia, index=datas_dos_retornos)\n",
    "\n",
    "    return estrategia_retornos_realizados"
   ]
  },
  {
   "cell_type": "markdown",
   "id": "04c796ef",
   "metadata": {},
   "source": [
    "Comparação real com a ibov"
   ]
  },
  {
   "cell_type": "code",
   "execution_count": 25,
   "id": "2f0b32e4",
   "metadata": {},
   "outputs": [],
   "source": [
    "# Análise da sua estratégia\n",
    "def analise( estrategia_retornos_realizados, i):\n",
    "    media_log_retornos_estrategia = estrategia_retornos_realizados.mean()\n",
    "\n",
    "    estrategia_retorno_medio = np.exp(media_log_retornos_estrategia) - 1\n",
    "\n",
    "    estrategia_volatilidade = estrategia_retornos_realizados.std()\n",
    "    estrategia_sharpe = estrategia_retorno_medio / estrategia_volatilidade\n",
    "\n",
    "    print(\"\\nPadronizando o índice do Ibovespa para fim de mês para o benchmark...\")\n",
    "    # Garante que o índice do Ibovespa também use o fim do mês, como o da sua estratégia\n",
    "    ibov_retornos_excedentes.index = pd.to_datetime(ibov_retornos_excedentes.index).to_period('M').to_timestamp('M')\n",
    "    print(\"Índice do Ibovespa padronizado. \")\n",
    "\n",
    "    # Fatiar os retornos do IBOV para o mesmo período do backtest\n",
    "    ibov_retornos_backtest = ibov_retornos_excedentes.loc[estrategia_retornos_realizados.index]\n",
    "    media_log_retorno_medio_backtest = ibov_retornos_backtest.mean()\n",
    "\n",
    "    ibov_retorno_medio_backtest = np.exp(media_log_retorno_medio_backtest) - 1\n",
    "    \n",
    "    ibov_volatilidade_backtest = ibov_retornos_backtest.std()\n",
    "    ibov_sharpe_backtest = ibov_retorno_medio_backtest / ibov_volatilidade_backtest\n",
    "\n",
    "    print(f\"Média dos Log-Retornos:       {media_log_retornos_estrategia:.8f}\")\n",
    "    print(f\"Média Geométrica (Composta): {estrategia_retorno_medio:.8f}\")\n",
    "    print(f\"Diferença Absoluta:          {abs(media_log_retornos_estrategia - estrategia_retorno_medio):.8f}\")\n",
    "\n",
    "    metodo = \"\"\n",
    "    if (i == 1):\n",
    "        metodo = \"RF\"\n",
    "    elif (i == 2):\n",
    "        metodo = \"LR\"\n",
    "    elif (i == 3):\n",
    "        metodo = \"Hibrido\"\n",
    "    elif (i == 4):\n",
    "        metodo = \"RF com macro e análise fundamentalista\"\n",
    "    elif(i == 5):\n",
    "        metodo = \"RF apenas com análise fundamentalista\"\n",
    "    elif (i == 7):\n",
    "        metodo = \"LLM\"\n",
    "    elif (i == 6):\n",
    "        metodo = \"RF + Resampled Effiency\"\n",
    "    elif (i == -1):\n",
    "        metodo = \"Resampled Effiency\"\n",
    "    \n",
    "    coluna_nome = f'Sua Estratégia BL {metodo}'\n",
    "\n",
    "    # Tabela de comparação final\n",
    "    benchmark_final_df = pd.DataFrame({\n",
    "        'Métrica': ['Retorno Realizado Mensal', 'Volatilidade Mensal', 'Índice Sharpe'],\n",
    "        coluna_nome : [\n",
    "            estrategia_retorno_medio.item() * 100, \n",
    "            estrategia_volatilidade.item() * 100, \n",
    "            estrategia_sharpe.item()\n",
    "        ],\n",
    "        'Benchmark Ibovespa': [\n",
    "            ibov_retorno_medio_backtest.item() * 100, \n",
    "            ibov_volatilidade_backtest.item() * 100, \n",
    "            ibov_sharpe_backtest.item()\n",
    "        ]\n",
    "    })\n",
    "    benchmark_final_df.set_index('Métrica', inplace=True)\n",
    "\n",
    "    print(\"\\n--- Tabela de Benchmark Final (Backtest Realizado) ---\")\n",
    "\n",
    "    display(benchmark_final_df.style.format({\n",
    "            # Colunas com 4 casas decimais\n",
    "            coluna_nome : '{:.4f}',\n",
    "            'Benchmark Ibovespa': '{:.4f}'\n",
    "        }).set_caption(\"<b>Comparativo de Desempenho Realizado (Backtest)</b>\") \n",
    "        .background_gradient(cmap='viridis', subset=[coluna_nome , 'Benchmark Ibovespa']))\n"
   ]
  },
  {
   "cell_type": "markdown",
   "id": "e8ba625d",
   "metadata": {},
   "source": [
    "Código Principal"
   ]
  },
  {
   "cell_type": "code",
   "execution_count": 26,
   "id": "cf874eae",
   "metadata": {},
   "outputs": [
    {
     "name": "stderr",
     "output_type": "stream",
     "text": [
      "[*********************100%***********************]  10 of 10 completed\n"
     ]
    },
    {
     "name": "stdout",
     "output_type": "stream",
     "text": [
      "               Selic\n",
      "Date                \n",
      "2012-01-01  0.008917\n",
      "2012-02-01  0.008667\n",
      "2012-03-01  0.008183\n",
      "2012-04-01  0.007792\n",
      "2012-05-01  0.007392\n",
      "...              ...\n",
      "2025-03-01  0.011308\n",
      "2025-04-01  0.011792\n",
      "2025-05-01  0.012125\n",
      "2025-06-01  0.012283\n",
      "2025-07-01  0.012417\n",
      "\n",
      "[163 rows x 1 columns]\n",
      "Selic baixada e convertida para taxa mensal.\n",
      "Calculando os retornos excedentes (descontando a taxa livre de risco)...\n",
      "\n",
      "--- Amostra dos Retornos Excedentes Calculados ---\n"
     ]
    },
    {
     "data": {
      "text/html": [
       "<div>\n",
       "<style scoped>\n",
       "    .dataframe tbody tr th:only-of-type {\n",
       "        vertical-align: middle;\n",
       "    }\n",
       "\n",
       "    .dataframe tbody tr th {\n",
       "        vertical-align: top;\n",
       "    }\n",
       "\n",
       "    .dataframe thead th {\n",
       "        text-align: right;\n",
       "    }\n",
       "</style>\n",
       "<table border=\"1\" class=\"dataframe\">\n",
       "  <thead>\n",
       "    <tr style=\"text-align: right;\">\n",
       "      <th></th>\n",
       "      <th>ABEV3</th>\n",
       "      <th>BBAS3</th>\n",
       "      <th>BRFS3</th>\n",
       "      <th>EGIE3</th>\n",
       "      <th>ITUB4</th>\n",
       "      <th>LREN3</th>\n",
       "      <th>PETR4</th>\n",
       "      <th>SLCE3</th>\n",
       "      <th>VALE3</th>\n",
       "      <th>WEGE3</th>\n",
       "    </tr>\n",
       "    <tr>\n",
       "      <th>Date</th>\n",
       "      <th></th>\n",
       "      <th></th>\n",
       "      <th></th>\n",
       "      <th></th>\n",
       "      <th></th>\n",
       "      <th></th>\n",
       "      <th></th>\n",
       "      <th></th>\n",
       "      <th></th>\n",
       "      <th></th>\n",
       "    </tr>\n",
       "  </thead>\n",
       "  <tbody>\n",
       "    <tr>\n",
       "      <th>2012-02-29</th>\n",
       "      <td>0.102599</td>\n",
       "      <td>0.008110</td>\n",
       "      <td>0.028217</td>\n",
       "      <td>-0.007349</td>\n",
       "      <td>0.038414</td>\n",
       "      <td>0.094012</td>\n",
       "      <td>-0.011113</td>\n",
       "      <td>-0.014937</td>\n",
       "      <td>-0.034730</td>\n",
       "      <td>-0.028366</td>\n",
       "    </tr>\n",
       "    <tr>\n",
       "      <th>2012-03-31</th>\n",
       "      <td>0.071965</td>\n",
       "      <td>-0.066015</td>\n",
       "      <td>-0.005402</td>\n",
       "      <td>0.066019</td>\n",
       "      <td>-0.059994</td>\n",
       "      <td>-0.050039</td>\n",
       "      <td>-0.048474</td>\n",
       "      <td>0.195399</td>\n",
       "      <td>-0.023221</td>\n",
       "      <td>0.035163</td>\n",
       "    </tr>\n",
       "    <tr>\n",
       "      <th>2012-04-30</th>\n",
       "      <td>0.073974</td>\n",
       "      <td>-0.092739</td>\n",
       "      <td>-0.040257</td>\n",
       "      <td>-0.003827</td>\n",
       "      <td>-0.148148</td>\n",
       "      <td>-0.028355</td>\n",
       "      <td>-0.095029</td>\n",
       "      <td>-0.041711</td>\n",
       "      <td>-0.014809</td>\n",
       "      <td>0.012550</td>\n",
       "    </tr>\n",
       "    <tr>\n",
       "      <th>2012-05-31</th>\n",
       "      <td>-0.081579</td>\n",
       "      <td>-0.172058</td>\n",
       "      <td>-0.111955</td>\n",
       "      <td>0.022753</td>\n",
       "      <td>-0.030571</td>\n",
       "      <td>-0.035609</td>\n",
       "      <td>-0.114371</td>\n",
       "      <td>0.023959</td>\n",
       "      <td>-0.107652</td>\n",
       "      <td>0.024854</td>\n",
       "    </tr>\n",
       "    <tr>\n",
       "      <th>2012-06-30</th>\n",
       "      <td>0.002074</td>\n",
       "      <td>-0.027933</td>\n",
       "      <td>-0.039367</td>\n",
       "      <td>0.097920</td>\n",
       "      <td>-0.041570</td>\n",
       "      <td>-0.038435</td>\n",
       "      <td>-0.043791</td>\n",
       "      <td>0.055160</td>\n",
       "      <td>0.058395</td>\n",
       "      <td>-0.072043</td>\n",
       "    </tr>\n",
       "  </tbody>\n",
       "</table>\n",
       "</div>"
      ],
      "text/plain": [
       "               ABEV3     BBAS3     BRFS3     EGIE3     ITUB4     LREN3  \\\n",
       "Date                                                                     \n",
       "2012-02-29  0.102599  0.008110  0.028217 -0.007349  0.038414  0.094012   \n",
       "2012-03-31  0.071965 -0.066015 -0.005402  0.066019 -0.059994 -0.050039   \n",
       "2012-04-30  0.073974 -0.092739 -0.040257 -0.003827 -0.148148 -0.028355   \n",
       "2012-05-31 -0.081579 -0.172058 -0.111955  0.022753 -0.030571 -0.035609   \n",
       "2012-06-30  0.002074 -0.027933 -0.039367  0.097920 -0.041570 -0.038435   \n",
       "\n",
       "               PETR4     SLCE3     VALE3     WEGE3  \n",
       "Date                                                \n",
       "2012-02-29 -0.011113 -0.014937 -0.034730 -0.028366  \n",
       "2012-03-31 -0.048474  0.195399 -0.023221  0.035163  \n",
       "2012-04-30 -0.095029 -0.041711 -0.014809  0.012550  \n",
       "2012-05-31 -0.114371  0.023959 -0.107652  0.024854  \n",
       "2012-06-30 -0.043791  0.055160  0.058395 -0.072043  "
      ]
     },
     "metadata": {},
     "output_type": "display_data"
    },
    {
     "name": "stdout",
     "output_type": "stream",
     "text": [
      "Amostra dos retornos históricos do portfólio de mercado:\n",
      "\n",
      "Prêmio de Risco Mensal Médio (Numerador): 0.1368%\n",
      "Variância Mensal do Mercado (Denominador): 0.005076\n",
      "O coeficiente de aversão ao risco (δ) calculado é: 0.2695\n",
      "Padronizando os índices de data...\n",
      "\n",
      "--- Treinando modelo para o ativo: ABEV3 (158 amostras) ---\n",
      "Modelo treinado. OOB Score: 0.0148\n",
      "\n",
      "--- Treinando modelo para o ativo: BBAS3 (158 amostras) ---\n",
      "Modelo treinado. OOB Score: -0.0113\n",
      "\n",
      "--- Treinando modelo para o ativo: BRFS3 (158 amostras) ---\n",
      "Modelo treinado. OOB Score: -0.0757\n",
      "\n",
      "--- Treinando modelo para o ativo: EGIE3 (158 amostras) ---\n",
      "Modelo treinado. OOB Score: -0.0532\n",
      "\n",
      "--- Treinando modelo para o ativo: ITUB4 (158 amostras) ---\n",
      "Modelo treinado. OOB Score: -0.0304\n",
      "\n",
      "--- Treinando modelo para o ativo: LREN3 (158 amostras) ---\n",
      "Modelo treinado. OOB Score: -0.0906\n",
      "\n",
      "--- Treinando modelo para o ativo: PETR4 (158 amostras) ---\n",
      "Modelo treinado. OOB Score: 0.0473\n",
      "\n",
      "--- Treinando modelo para o ativo: SLCE3 (158 amostras) ---\n",
      "Modelo treinado. OOB Score: -0.0520\n",
      "\n",
      "--- Treinando modelo para o ativo: VALE3 (158 amostras) ---\n",
      "Modelo treinado. OOB Score: -0.0750\n",
      "\n",
      "--- Treinando modelo para o ativo: WEGE3 (158 amostras) ---\n",
      "Modelo treinado. OOB Score: -0.0090\n",
      "\n",
      "\n",
      "--- Matrizes de Visão (P e Q) Geradas ---\n",
      "\n",
      "Vetor Q (Previsões de Retorno Mensal %):\n",
      "160\n",
      "Retornos previstos pelo modelo: \n",
      "10\n",
      "VALE3.SA: 0.06%\n",
      "PETR4.SA: 0.18%\n",
      "ITUB4.SA: 0.12%\n",
      "BRFS3.SA: 0.05%\n",
      "ABEV3.SA: 0.14%\n",
      "WEGE3.SA: 0.12%\n",
      "EGIE3.SA: 0.23%\n",
      "LREN3.SA: 0.00%\n",
      "BBAS3.SA: 0.09%\n",
      "SLCE3.SA: 0.07%\n",
      "\n",
      "Pesos dos ativos após otimização\n",
      "VALE3.SA: 6.24%\n",
      "PETR4.SA: 5.00%\n",
      "ITUB4.SA: 5.00%\n",
      "BRFS3.SA: 5.00%\n",
      "ABEV3.SA: 20.55%\n",
      "WEGE3.SA: 5.00%\n",
      "EGIE3.SA: 26.19%\n",
      "LREN3.SA: 5.00%\n",
      "BBAS3.SA: 7.24%\n",
      "SLCE3.SA: 14.78%\n",
      "Resultados da otimização extraídos com sucesso.\n",
      "\n",
      "Padronizando o índice do Ibovespa para fim de mês para o benchmark...\n",
      "Índice do Ibovespa padronizado. \n",
      "Média dos Log-Retornos:       0.00155992\n",
      "Média Geométrica (Composta): 0.00156113\n",
      "Diferença Absoluta:          0.00000122\n",
      "\n",
      "--- Tabela de Benchmark Final (Backtest Realizado) ---\n"
     ]
    },
    {
     "data": {
      "text/html": [
       "<style type=\"text/css\">\n",
       "#T_2e6ed_row0_col0 {\n",
       "  background-color: #460b5e;\n",
       "  color: #f1f1f1;\n",
       "}\n",
       "#T_2e6ed_row0_col1, #T_2e6ed_row2_col0 {\n",
       "  background-color: #440154;\n",
       "  color: #f1f1f1;\n",
       "}\n",
       "#T_2e6ed_row1_col0, #T_2e6ed_row1_col1 {\n",
       "  background-color: #fde725;\n",
       "  color: #000000;\n",
       "}\n",
       "#T_2e6ed_row2_col1 {\n",
       "  background-color: #440256;\n",
       "  color: #f1f1f1;\n",
       "}\n",
       "</style>\n",
       "<table id=\"T_2e6ed\">\n",
       "  <caption><b>Comparativo de Desempenho Realizado (Backtest)</b></caption>\n",
       "  <thead>\n",
       "    <tr>\n",
       "      <th class=\"blank level0\" >&nbsp;</th>\n",
       "      <th id=\"T_2e6ed_level0_col0\" class=\"col_heading level0 col0\" >Sua Estratégia BL RF</th>\n",
       "      <th id=\"T_2e6ed_level0_col1\" class=\"col_heading level0 col1\" >Benchmark Ibovespa</th>\n",
       "    </tr>\n",
       "    <tr>\n",
       "      <th class=\"index_name level0\" >Métrica</th>\n",
       "      <th class=\"blank col0\" >&nbsp;</th>\n",
       "      <th class=\"blank col1\" >&nbsp;</th>\n",
       "    </tr>\n",
       "  </thead>\n",
       "  <tbody>\n",
       "    <tr>\n",
       "      <th id=\"T_2e6ed_level0_row0\" class=\"row_heading level0 row0\" >Retorno Realizado Mensal</th>\n",
       "      <td id=\"T_2e6ed_row0_col0\" class=\"data row0 col0\" >0.1561</td>\n",
       "      <td id=\"T_2e6ed_row0_col1\" class=\"data row0 col1\" >-0.0301</td>\n",
       "    </tr>\n",
       "    <tr>\n",
       "      <th id=\"T_2e6ed_level0_row1\" class=\"row_heading level0 row1\" >Volatilidade Mensal</th>\n",
       "      <td id=\"T_2e6ed_row1_col0\" class=\"data row1 col0\" >4.0205</td>\n",
       "      <td id=\"T_2e6ed_row1_col1\" class=\"data row1 col1\" >4.3586</td>\n",
       "    </tr>\n",
       "    <tr>\n",
       "      <th id=\"T_2e6ed_level0_row2\" class=\"row_heading level0 row2\" >Índice Sharpe</th>\n",
       "      <td id=\"T_2e6ed_row2_col0\" class=\"data row2 col0\" >0.0388</td>\n",
       "      <td id=\"T_2e6ed_row2_col1\" class=\"data row2 col1\" >-0.0069</td>\n",
       "    </tr>\n",
       "  </tbody>\n",
       "</table>\n"
      ],
      "text/plain": [
       "<pandas.io.formats.style.Styler at 0x7e9803439610>"
      ]
     },
     "metadata": {},
     "output_type": "display_data"
    },
    {
     "name": "stdout",
     "output_type": "stream",
     "text": [
      "Amostra dos retornos históricos do portfólio de mercado:\n",
      "\n",
      "Prêmio de Risco Mensal Médio (Numerador): 0.1368%\n",
      "Variância Mensal do Mercado (Denominador): 0.005076\n",
      "O coeficiente de aversão ao risco (δ) calculado é: 0.2695\n",
      "Modelo para ABEV3 treinado. R² (ajuste de treino): 0.0786\n",
      "Modelo para BBAS3 treinado. R² (ajuste de treino): 0.0962\n",
      "Modelo para BRFS3 treinado. R² (ajuste de treino): 0.0463\n",
      "Modelo para EGIE3 treinado. R² (ajuste de treino): 0.0686\n",
      "Modelo para ITUB4 treinado. R² (ajuste de treino): 0.0644\n",
      "Modelo para LREN3 treinado. R² (ajuste de treino): 0.0902\n",
      "Modelo para PETR4 treinado. R² (ajuste de treino): 0.1284\n",
      "Modelo para SLCE3 treinado. R² (ajuste de treino): 0.0494\n",
      "Modelo para VALE3 treinado. R² (ajuste de treino): 0.0318\n",
      "Modelo para WEGE3 treinado. R² (ajuste de treino): 0.1377\n",
      "\n",
      "--- Vetor Q (Regressão Linear) Gerado ---\n",
      "160\n",
      "Retornos previstos pelo modelo: \n",
      "10\n",
      "VALE3.SA: 0.06%\n",
      "PETR4.SA: 0.19%\n",
      "ITUB4.SA: 0.12%\n",
      "BRFS3.SA: 0.06%\n",
      "ABEV3.SA: 0.14%\n",
      "WEGE3.SA: 0.13%\n",
      "EGIE3.SA: 0.23%\n",
      "LREN3.SA: 0.01%\n",
      "BBAS3.SA: 0.10%\n",
      "SLCE3.SA: 0.07%\n",
      "\n",
      "Pesos dos ativos após otimização\n",
      "VALE3.SA: 5.91%\n",
      "PETR4.SA: 9.23%\n",
      "ITUB4.SA: 5.00%\n",
      "BRFS3.SA: 5.00%\n",
      "ABEV3.SA: 14.43%\n",
      "WEGE3.SA: 5.00%\n",
      "EGIE3.SA: 21.86%\n",
      "LREN3.SA: 5.00%\n",
      "BBAS3.SA: 11.96%\n",
      "SLCE3.SA: 16.61%\n",
      "Resultados da otimização extraídos com sucesso.\n",
      "\n",
      "Padronizando o índice do Ibovespa para fim de mês para o benchmark...\n",
      "Índice do Ibovespa padronizado. \n",
      "Média dos Log-Retornos:       -0.00044481\n",
      "Média Geométrica (Composta): -0.00044471\n",
      "Diferença Absoluta:          0.00000010\n",
      "\n",
      "--- Tabela de Benchmark Final (Backtest Realizado) ---\n"
     ]
    },
    {
     "data": {
      "text/html": [
       "<style type=\"text/css\">\n",
       "#T_53bfa_row0_col0, #T_53bfa_row0_col1 {\n",
       "  background-color: #440154;\n",
       "  color: #f1f1f1;\n",
       "}\n",
       "#T_53bfa_row1_col0, #T_53bfa_row1_col1 {\n",
       "  background-color: #fde725;\n",
       "  color: #000000;\n",
       "}\n",
       "#T_53bfa_row2_col0 {\n",
       "  background-color: #450457;\n",
       "  color: #f1f1f1;\n",
       "}\n",
       "#T_53bfa_row2_col1 {\n",
       "  background-color: #440256;\n",
       "  color: #f1f1f1;\n",
       "}\n",
       "</style>\n",
       "<table id=\"T_53bfa\">\n",
       "  <caption><b>Comparativo de Desempenho Realizado (Backtest)</b></caption>\n",
       "  <thead>\n",
       "    <tr>\n",
       "      <th class=\"blank level0\" >&nbsp;</th>\n",
       "      <th id=\"T_53bfa_level0_col0\" class=\"col_heading level0 col0\" >Sua Estratégia BL LR</th>\n",
       "      <th id=\"T_53bfa_level0_col1\" class=\"col_heading level0 col1\" >Benchmark Ibovespa</th>\n",
       "    </tr>\n",
       "    <tr>\n",
       "      <th class=\"index_name level0\" >Métrica</th>\n",
       "      <th class=\"blank col0\" >&nbsp;</th>\n",
       "      <th class=\"blank col1\" >&nbsp;</th>\n",
       "    </tr>\n",
       "  </thead>\n",
       "  <tbody>\n",
       "    <tr>\n",
       "      <th id=\"T_53bfa_level0_row0\" class=\"row_heading level0 row0\" >Retorno Realizado Mensal</th>\n",
       "      <td id=\"T_53bfa_row0_col0\" class=\"data row0 col0\" >-0.0445</td>\n",
       "      <td id=\"T_53bfa_row0_col1\" class=\"data row0 col1\" >-0.0301</td>\n",
       "    </tr>\n",
       "    <tr>\n",
       "      <th id=\"T_53bfa_level0_row1\" class=\"row_heading level0 row1\" >Volatilidade Mensal</th>\n",
       "      <td id=\"T_53bfa_row1_col0\" class=\"data row1 col0\" >4.1612</td>\n",
       "      <td id=\"T_53bfa_row1_col1\" class=\"data row1 col1\" >4.3586</td>\n",
       "    </tr>\n",
       "    <tr>\n",
       "      <th id=\"T_53bfa_level0_row2\" class=\"row_heading level0 row2\" >Índice Sharpe</th>\n",
       "      <td id=\"T_53bfa_row2_col0\" class=\"data row2 col0\" >-0.0107</td>\n",
       "      <td id=\"T_53bfa_row2_col1\" class=\"data row2 col1\" >-0.0069</td>\n",
       "    </tr>\n",
       "  </tbody>\n",
       "</table>\n"
      ],
      "text/plain": [
       "<pandas.io.formats.style.Styler at 0x7e9803439610>"
      ]
     },
     "metadata": {},
     "output_type": "display_data"
    },
    {
     "name": "stdout",
     "output_type": "stream",
     "text": [
      "Amostra dos retornos históricos do portfólio de mercado:\n",
      "\n",
      "Prêmio de Risco Mensal Médio (Numerador): 0.1368%\n",
      "Variância Mensal do Mercado (Denominador): 0.005076\n",
      "O coeficiente de aversão ao risco (δ) calculado é: 0.2695\n",
      "--- Gerando Visões com Modelo HÍBRIDO (RF para Seleção, Ridge para Previsão) ---\n",
      "Selecionando as 2 features mais importantes para cada ativo.\n",
      "\n",
      "Ativo: ABEV3 | Melhores Features: ['Investimento Direto no País_diff', 'DOW_JONES_diff']\n",
      "Modelo Ridge treinado com features selecionadas. R²: 0.0406\n",
      "\n",
      "Ativo: BBAS3 | Melhores Features: ['PETROLEO_BRENT_diff', 'CAMBIO_USDBRL_diff']\n",
      "Modelo Ridge treinado com features selecionadas. R²: 0.0111\n",
      "\n",
      "Ativo: BRFS3 | Melhores Features: ['PETROLEO_BRENT_diff', 'VIX_diff']\n",
      "Modelo Ridge treinado com features selecionadas. R²: 0.0127\n",
      "\n",
      "Ativo: EGIE3 | Melhores Features: ['DOW_JONES_diff', 'PETROLEO_BRENT_diff']\n",
      "Modelo Ridge treinado com features selecionadas. R²: 0.0079\n",
      "\n",
      "Ativo: ITUB4 | Melhores Features: ['PETROLEO_BRENT_diff', 'CAMBIO_USDBRL_diff']\n",
      "Modelo Ridge treinado com features selecionadas. R²: 0.0025\n",
      "\n",
      "Ativo: LREN3 | Melhores Features: ['VIX_diff', 'DOW_JONES_diff']\n",
      "Modelo Ridge treinado com features selecionadas. R²: 0.0201\n",
      "\n",
      "Ativo: PETR4 | Melhores Features: ['PETROLEO_BRENT_diff', 'CAMBIO_USDBRL_diff']\n",
      "Modelo Ridge treinado com features selecionadas. R²: 0.0087\n",
      "\n",
      "Ativo: SLCE3 | Melhores Features: ['CAMBIO_USDBRL_diff', 'DOW_JONES_diff']\n",
      "Modelo Ridge treinado com features selecionadas. R²: 0.0102\n",
      "\n",
      "Ativo: VALE3 | Melhores Features: ['PETROLEO_BRENT_diff', 'DOW_JONES_diff']\n",
      "Modelo Ridge treinado com features selecionadas. R²: 0.0108\n",
      "\n",
      "Ativo: WEGE3 | Melhores Features: ['Investimento Direto no País_diff', 'SELIC_diff']\n",
      "Modelo Ridge treinado com features selecionadas. R²: 0.0745\n",
      "\n",
      "--- Vetor Q (Modelo Híbrido) Gerado ---\n",
      "160\n",
      "Retornos previstos pelo modelo: \n",
      "10\n",
      "VALE3.SA: 0.06%\n",
      "PETR4.SA: 0.18%\n",
      "ITUB4.SA: 0.10%\n",
      "BRFS3.SA: 0.06%\n",
      "ABEV3.SA: 0.13%\n",
      "WEGE3.SA: 0.12%\n",
      "EGIE3.SA: 0.23%\n",
      "LREN3.SA: 0.02%\n",
      "BBAS3.SA: 0.10%\n",
      "SLCE3.SA: 0.07%\n",
      "\n",
      "Pesos dos ativos após otimização\n",
      "VALE3.SA: 6.95%\n",
      "PETR4.SA: 9.91%\n",
      "ITUB4.SA: 5.00%\n",
      "BRFS3.SA: 5.00%\n",
      "ABEV3.SA: 12.77%\n",
      "WEGE3.SA: 5.00%\n",
      "EGIE3.SA: 21.64%\n",
      "LREN3.SA: 5.00%\n",
      "BBAS3.SA: 13.75%\n",
      "SLCE3.SA: 14.97%\n",
      "Resultados da otimização extraídos com sucesso.\n",
      "\n",
      "Padronizando o índice do Ibovespa para fim de mês para o benchmark...\n",
      "Índice do Ibovespa padronizado. \n",
      "Média dos Log-Retornos:       0.00304923\n",
      "Média Geométrica (Composta): 0.00305389\n",
      "Diferença Absoluta:          0.00000465\n",
      "\n",
      "--- Tabela de Benchmark Final (Backtest Realizado) ---\n"
     ]
    },
    {
     "data": {
      "text/html": [
       "<style type=\"text/css\">\n",
       "#T_31e06_row0_col0 {\n",
       "  background-color: #481668;\n",
       "  color: #f1f1f1;\n",
       "}\n",
       "#T_31e06_row0_col1, #T_31e06_row2_col0 {\n",
       "  background-color: #440154;\n",
       "  color: #f1f1f1;\n",
       "}\n",
       "#T_31e06_row1_col0, #T_31e06_row1_col1 {\n",
       "  background-color: #fde725;\n",
       "  color: #000000;\n",
       "}\n",
       "#T_31e06_row2_col1 {\n",
       "  background-color: #440256;\n",
       "  color: #f1f1f1;\n",
       "}\n",
       "</style>\n",
       "<table id=\"T_31e06\">\n",
       "  <caption><b>Comparativo de Desempenho Realizado (Backtest)</b></caption>\n",
       "  <thead>\n",
       "    <tr>\n",
       "      <th class=\"blank level0\" >&nbsp;</th>\n",
       "      <th id=\"T_31e06_level0_col0\" class=\"col_heading level0 col0\" >Sua Estratégia BL Hibrido</th>\n",
       "      <th id=\"T_31e06_level0_col1\" class=\"col_heading level0 col1\" >Benchmark Ibovespa</th>\n",
       "    </tr>\n",
       "    <tr>\n",
       "      <th class=\"index_name level0\" >Métrica</th>\n",
       "      <th class=\"blank col0\" >&nbsp;</th>\n",
       "      <th class=\"blank col1\" >&nbsp;</th>\n",
       "    </tr>\n",
       "  </thead>\n",
       "  <tbody>\n",
       "    <tr>\n",
       "      <th id=\"T_31e06_level0_row0\" class=\"row_heading level0 row0\" >Retorno Realizado Mensal</th>\n",
       "      <td id=\"T_31e06_row0_col0\" class=\"data row0 col0\" >0.3054</td>\n",
       "      <td id=\"T_31e06_row0_col1\" class=\"data row0 col1\" >-0.0301</td>\n",
       "    </tr>\n",
       "    <tr>\n",
       "      <th id=\"T_31e06_level0_row1\" class=\"row_heading level0 row1\" >Volatilidade Mensal</th>\n",
       "      <td id=\"T_31e06_row1_col0\" class=\"data row1 col0\" >4.0028</td>\n",
       "      <td id=\"T_31e06_row1_col1\" class=\"data row1 col1\" >4.3586</td>\n",
       "    </tr>\n",
       "    <tr>\n",
       "      <th id=\"T_31e06_level0_row2\" class=\"row_heading level0 row2\" >Índice Sharpe</th>\n",
       "      <td id=\"T_31e06_row2_col0\" class=\"data row2 col0\" >0.0763</td>\n",
       "      <td id=\"T_31e06_row2_col1\" class=\"data row2 col1\" >-0.0069</td>\n",
       "    </tr>\n",
       "  </tbody>\n",
       "</table>\n"
      ],
      "text/plain": [
       "<pandas.io.formats.style.Styler at 0x7e98288500b0>"
      ]
     },
     "metadata": {},
     "output_type": "display_data"
    }
   ],
   "source": [
    "retornos_mes = retornos_mensais(data_inicio, data_fim )\n",
    "retornos_mes.index = pd.to_datetime(retornos_mes.index).to_period('M').to_timestamp('M')\n",
    "\n",
    "volatilidade_mes = volatilidade_mensal(retornos_mes)\n",
    "matriz_covarianca_mes = matriz_covarianca_mensal(retornos_mes)\n",
    "\n",
    "resultados_backtest = {}\n",
    "metodos_a_testar = {\n",
    "    -2: \"Markowitz Clássico\",\n",
    "    -1: \"Eficiência Reamostrada\",\n",
    "     1: \"BL com RF\",\n",
    "     2: \"BL com LR\",\n",
    "     3: \"BL Híbrido\"\n",
    "}\n",
    "\n",
    "for i in range(1, 4): # i = 1 : Só RF, i = 2 : Só LR, i = 3 : RF + LR, \n",
    "    # Foram testados -> i = 4 : RF + fundamentalista com macro , i = 5 : RF e fundamentalista, i = 6 : LLM (Chatgpt)\n",
    "    # Mas retirados, demorou muito para rodar, com pouca diferença de resultados \n",
    "\n",
    "    resultados = obter_pesos_otimizados(retornos_mes, dados_macro_combinados, i)\n",
    "\n",
    "    if resultados is not None:\n",
    "        \n",
    "        pesos_otimizados = resultados[\"pesos\"]\n",
    "        print(\"\\nPesos dos ativos após otimização\")\n",
    "        for j in range(n_ativos):\n",
    "            print(ativos[j] +': %.2f' %(pesos_otimizados[j]*100)+'%')\n",
    "\n",
    "        retornos_bl = resultados[\"retornos_bl\"]\n",
    "        matriz_cov = resultados[\"matriz_cov\"]\n",
    "        print(\"Resultados da otimização extraídos com sucesso.\")\n",
    "\n",
    "        retornos_estrategia = backtesting(retornos_mes, i)\n",
    "\n",
    "        resultados_backtest[i] = retornos_estrategia\n",
    "        \n",
    "        analise( retornos_estrategia, i)\n",
    "\n",
    "        \n",
    "\n",
    "    else:\n",
    "        print(\"Otimização falhou. Não é possível prosseguir com a análise.\")"
   ]
  },
  {
   "cell_type": "code",
   "execution_count": 27,
   "id": "fb2f3f6b",
   "metadata": {},
   "outputs": [
    {
     "name": "stdout",
     "output_type": "stream",
     "text": [
      "--- Iniciando Análise Completa da Estratégia Resampled Efficiency ---\n",
      "\n",
      "Calculando as métricas esperadas (Ex-Ante)...\n",
      "Dentro da função, prestes a retornar um dicionário.\n",
      "Métricas esperadas calculadas com sucesso.\n",
      "\n",
      "Iniciando o backtest da estratégia Resampled...\n",
      "Backtest concluído.\n"
     ]
    },
    {
     "data": {
      "text/html": [
       "<style type=\"text/css\">\n",
       "</style>\n",
       "<table id=\"T_9d1a3\">\n",
       "  <caption><b>Análise Completa: Resampled Efficiency</b></caption>\n",
       "  <thead>\n",
       "    <tr>\n",
       "      <th class=\"blank level0\" >&nbsp;</th>\n",
       "      <th id=\"T_9d1a3_level0_col0\" class=\"col_heading level0 col0\" >Promessa (Ex-Ante)</th>\n",
       "      <th id=\"T_9d1a3_level0_col1\" class=\"col_heading level0 col1\" >Realidade (Backtest)</th>\n",
       "    </tr>\n",
       "    <tr>\n",
       "      <th class=\"index_name level0\" >Métrica</th>\n",
       "      <th class=\"blank col0\" >&nbsp;</th>\n",
       "      <th class=\"blank col1\" >&nbsp;</th>\n",
       "    </tr>\n",
       "  </thead>\n",
       "  <tbody>\n",
       "    <tr>\n",
       "      <th id=\"T_9d1a3_level0_row0\" class=\"row_heading level0 row0\" >Retorno Mensal (%)</th>\n",
       "      <td id=\"T_9d1a3_row0_col0\" class=\"data row0 col0\" >0.3954</td>\n",
       "      <td id=\"T_9d1a3_row0_col1\" class=\"data row0 col1\" >-0.1587</td>\n",
       "    </tr>\n",
       "    <tr>\n",
       "      <th id=\"T_9d1a3_level0_row1\" class=\"row_heading level0 row1\" >Volatilidade Mensal (%)</th>\n",
       "      <td id=\"T_9d1a3_row1_col0\" class=\"data row1 col0\" >5.2887</td>\n",
       "      <td id=\"T_9d1a3_row1_col1\" class=\"data row1 col1\" >4.5036</td>\n",
       "    </tr>\n",
       "    <tr>\n",
       "      <th id=\"T_9d1a3_level0_row2\" class=\"row_heading level0 row2\" >Índice Sharpe</th>\n",
       "      <td id=\"T_9d1a3_row2_col0\" class=\"data row2 col0\" >0.0748</td>\n",
       "      <td id=\"T_9d1a3_row2_col1\" class=\"data row2 col1\" >-0.0352</td>\n",
       "    </tr>\n",
       "  </tbody>\n",
       "</table>\n"
      ],
      "text/plain": [
       "<pandas.io.formats.style.Styler at 0x7e9803439610>"
      ]
     },
     "metadata": {},
     "output_type": "display_data"
    }
   ],
   "source": [
    "def analisar_estrategia_resampled():\n",
    "    \"\"\"\n",
    "    Função completa para analisar a estratégia de Eficiência Reamostrada.\n",
    "    Ela calcula as métricas esperadas (ex-ante) e roda o backtest\n",
    "    para obter as métricas realizadas (ex-post).\n",
    "    \"\"\"\n",
    "    print(\"--- Iniciando Análise Completa da Estratégia Resampled Efficiency ---\")\n",
    "\n",
    "    # Supondo que 'retornos_mes' é seu DataFrame com o histórico completo (2012-2024)\n",
    "    # e está disponível no escopo do seu notebook.\n",
    "    retornos_historicos = retornos_mes\n",
    "\n",
    "    # --- 1. ANÁLISE EX-ANTE (A \"PROMESSA\" DO MODELO) ---\n",
    "\n",
    "    print(\"\\nCalculando as métricas esperadas (Ex-Ante)...\")\n",
    "    \n",
    "    # a. Calcule os inputs para a análise\n",
    "    # A \"melhor estimativa\" de retorno é a média histórica\n",
    "    retornos_esperados_para_analise = retornos_historicos.mean()\n",
    "    matriz_cov_para_analise = retornos_historicos.cov()\n",
    "\n",
    "    # b. Obtenha os pesos da estratégia Resampled usando o histórico completo\n",
    "    resultados_resampled = obter_pesos_resampled(retornos_historicos)\n",
    "    pesos_otimizados_resampled = resultados_resampled[\"pesos\"]\n",
    "    \n",
    "    #print(pesos_otimizados_resampled)\n",
    "    \n",
    "    if resultados_resampled is None:\n",
    "        print(\"Falha ao obter os pesos da estratégia Resampled. Análise abortada.\")\n",
    "        return\n",
    "\n",
    "    # c. Calcule as métricas esperadas da carteira\n",
    "    # Multiplicamos os pesos (resultado da estratégia) pelos retornos esperados (média histórica)\n",
    "    retorno_carteira_esperado = retorno_esperado(pesos_otimizados_resampled, retornos_esperados_para_analise)\n",
    "    volat_carteira_esperada = volatilidade(pesos_otimizados_resampled, matriz_cov_para_analise)\n",
    "    sharpe_carteira_esperado = retorno_carteira_esperado / volat_carteira_esperada\n",
    "\n",
    "    print(\"Métricas esperadas calculadas com sucesso.\")\n",
    "\n",
    "\n",
    "    # --- 2. ANÁLISE EX-POST (O BACKTEST) ---\n",
    "    \n",
    "    print(\"\\nIniciando o backtest da estratégia Resampled...\")\n",
    "    # Usamos o código -1 para o Resampled, como você sugeriu\n",
    "    retornos_estrategia_realizados = backtesting(retornos_historicos, -1) \n",
    "\n",
    "    resultados_backtest[-1] = retornos_estrategia_realizados \n",
    "    \n",
    "    # Métricas realizadas a partir do resultado do backtest\n",
    "    retorno_realizado_medio = retornos_estrategia_realizados.mean()\n",
    "    volat_realizada = retornos_estrategia_realizados.std()\n",
    "    sharpe_realizado = retorno_realizado_medio / volat_realizada\n",
    "    print(\"Backtest concluído.\")\n",
    "\n",
    "    # --- 3. EXIBIÇÃO DOS RESULTADOS ---\n",
    "\n",
    "    tabela_final = pd.DataFrame({\n",
    "        'Métrica': ['Retorno Mensal (%)', 'Volatilidade Mensal (%)', 'Índice Sharpe'],\n",
    "        'Promessa (Ex-Ante)': [retorno_carteira_esperado * 100, volat_carteira_esperada * 100, sharpe_carteira_esperado],\n",
    "        'Realidade (Backtest)': [retorno_realizado_medio * 100, volat_realizada * 100, sharpe_realizado]\n",
    "        #'Benchmark Ibovespa': [ibov_retorno_medio * 100, ibov_volatilidade * 100, ibov_sharpe]\n",
    "    })\n",
    "    tabela_final.set_index('Métrica', inplace=True)\n",
    "    \n",
    "    display(tabela_final.style.format('{:.4f}').set_caption(\"<b>Análise Completa: Resampled Efficiency</b>\"))\n",
    "\n",
    "# --- Para executar a sua análise ---\n",
    "# Lembre-se de ter as funções auxiliares (retorno_esperado, volatilidade, etc.) definidas\n",
    "# e a variável 'retornos_mes' carregada.\n",
    "analisar_estrategia_resampled()"
   ]
  },
  {
   "cell_type": "code",
   "execution_count": 28,
   "id": "b6df4e00",
   "metadata": {},
   "outputs": [
    {
     "name": "stdout",
     "output_type": "stream",
     "text": [
      "--- Iniciando Análise Completa da Estratégia Markowitz Clássico ---\n",
      "\n",
      "Calculando as métricas esperadas (Ex-Ante)...\n",
      "Amostra dos retornos históricos do portfólio de mercado:\n",
      "\n",
      "Prêmio de Risco Mensal Médio (Numerador): 0.1368%\n",
      "Variância Mensal do Mercado (Denominador): 0.005076\n",
      "O coeficiente de aversão ao risco (δ) calculado é: 0.2695\n",
      "Métricas esperadas calculadas com sucesso.\n",
      "\n",
      "Iniciando o backtest da estratégia Markowitz...\n"
     ]
    },
    {
     "data": {
      "text/html": [
       "<style type=\"text/css\">\n",
       "</style>\n",
       "<table id=\"T_81bc6\">\n",
       "  <caption><b>Análise Completa: Modelo Markowitz</b></caption>\n",
       "  <thead>\n",
       "    <tr>\n",
       "      <th class=\"blank level0\" >&nbsp;</th>\n",
       "      <th id=\"T_81bc6_level0_col0\" class=\"col_heading level0 col0\" >Promessa (Ex-Ante)</th>\n",
       "      <th id=\"T_81bc6_level0_col1\" class=\"col_heading level0 col1\" >Realidade (Backtest)</th>\n",
       "    </tr>\n",
       "    <tr>\n",
       "      <th class=\"index_name level0\" >Métrica</th>\n",
       "      <th class=\"blank col0\" >&nbsp;</th>\n",
       "      <th class=\"blank col1\" >&nbsp;</th>\n",
       "    </tr>\n",
       "  </thead>\n",
       "  <tbody>\n",
       "    <tr>\n",
       "      <th id=\"T_81bc6_level0_row0\" class=\"row_heading level0 row0\" >Retorno Mensal (%)</th>\n",
       "      <td id=\"T_81bc6_row0_col0\" class=\"data row0 col0\" >0.5306</td>\n",
       "      <td id=\"T_81bc6_row0_col1\" class=\"data row0 col1\" >-0.0863</td>\n",
       "    </tr>\n",
       "    <tr>\n",
       "      <th id=\"T_81bc6_level0_row1\" class=\"row_heading level0 row1\" >Volatilidade Mensal (%)</th>\n",
       "      <td id=\"T_81bc6_row1_col0\" class=\"data row1 col0\" >5.5416</td>\n",
       "      <td id=\"T_81bc6_row1_col1\" class=\"data row1 col1\" >4.9480</td>\n",
       "    </tr>\n",
       "    <tr>\n",
       "      <th id=\"T_81bc6_level0_row2\" class=\"row_heading level0 row2\" >Índice Sharpe</th>\n",
       "      <td id=\"T_81bc6_row2_col0\" class=\"data row2 col0\" >0.0958</td>\n",
       "      <td id=\"T_81bc6_row2_col1\" class=\"data row2 col1\" >-0.0174</td>\n",
       "    </tr>\n",
       "  </tbody>\n",
       "</table>\n"
      ],
      "text/plain": [
       "<pandas.io.formats.style.Styler at 0x7e980337a630>"
      ]
     },
     "metadata": {},
     "output_type": "display_data"
    }
   ],
   "source": [
    "def analisar_estrategia_markowitz():\n",
    "    \"\"\"\n",
    "    Função completa para analisar a estratégia de Markowitz Clássico.\n",
    "    Calcula as métricas esperadas (ex-ante) e roda o backtest (ex-post).\n",
    "    \"\"\"\n",
    "    print(\"--- Iniciando Análise Completa da Estratégia Markowitz Clássico ---\")\n",
    "\n",
    "    # Supondo que 'retornos_mes' é o DataFrame com o histórico completo\n",
    "    retornos_historicos = retornos_mes\n",
    "\n",
    "    # --- 1. ANÁLISE EX-ANTE (A \"PROMESSA\" DO MODELO) ---\n",
    "    print(\"\\nCalculando as métricas esperadas (Ex-Ante)...\")\n",
    "    \n",
    "    # Inputs para a análise: média e covariância de todo o período\n",
    "    retornos_esperados_para_analise = retornos_historicos.mean()\n",
    "    matriz_cov_para_analise = retornos_historicos.cov()\n",
    "\n",
    "    # Obter os pesos da estratégia Markowitz usando o histórico completo\n",
    "    pesos_otimizados_markowitz = obter_pesos_otimizados(retornos_historicos, dados_macro_combinados, -2 )['pesos']\n",
    "    \n",
    "    if pesos_otimizados_markowitz is None:\n",
    "        print(\"Falha ao obter os pesos da estratégia Markowitz. Análise abortada.\")\n",
    "        return\n",
    "\n",
    "    # Calcular as métricas esperadas da carteira\n",
    "    retorno_carteira_esperado = retorno_esperado(pesos_otimizados_markowitz, retornos_esperados_para_analise)\n",
    "    volat_carteira_esperada = volatilidade(pesos_otimizados_markowitz, matriz_cov_para_analise)\n",
    "    sharpe_carteira_esperado = retorno_carteira_esperado / volat_carteira_esperada\n",
    "\n",
    "    print(\"Métricas esperadas calculadas com sucesso.\")\n",
    "\n",
    "    # --- 2. ANÁLISE EX-POST (O BACKTEST) ---\n",
    "    print(\"\\nIniciando o backtest da estratégia Markowitz...\")\n",
    "    # Usamos o código -2 para Markowitz\n",
    "    retornos_estrategia_realizados = backtesting(retornos_historicos, -2)\n",
    "\n",
    "\n",
    "    resultados_backtest[-2] = retornos_estrategia_realizados \n",
    "\n",
    "    retorno_realizado_medio = retornos_estrategia_realizados.mean()\n",
    "    volat_realizada = retornos_estrategia_realizados.std()\n",
    "    sharpe_realizado = retorno_realizado_medio / volat_realizada\n",
    "    \n",
    "    tabela_final = pd.DataFrame({\n",
    "        'Métrica': ['Retorno Mensal (%)', 'Volatilidade Mensal (%)', 'Índice Sharpe'],\n",
    "        'Promessa (Ex-Ante)': [retorno_carteira_esperado * 100, volat_carteira_esperada * 100, sharpe_carteira_esperado],\n",
    "        'Realidade (Backtest)': [retorno_realizado_medio * 100, volat_realizada * 100, sharpe_realizado]\n",
    "        #'Benchmark Ibovespa': [ibov_retorno_medio * 100, ibov_volatilidade * 100, ibov_sharpe]\n",
    "    })\n",
    "    tabela_final.set_index('Métrica', inplace=True)\n",
    "    \n",
    "    display(tabela_final.style.format('{:.4f}').set_caption(\"<b>Análise Completa: Modelo Markowitz</b>\"))\n",
    "\n",
    "\n",
    "analisar_estrategia_markowitz()"
   ]
  },
  {
   "cell_type": "code",
   "execution_count": 29,
   "id": "af298c71",
   "metadata": {},
   "outputs": [],
   "source": [
    "#pip install nbformat"
   ]
  },
  {
   "cell_type": "code",
   "execution_count": 30,
   "id": "76249bde",
   "metadata": {},
   "outputs": [
    {
     "name": "stdout",
     "output_type": "stream",
     "text": [
      "\n",
      "Gerando gráfico de retorno acumulado...\n"
     ]
    },
    {
     "data": {
      "application/vnd.plotly.v1+json": {
       "config": {
        "plotlyServerURL": "https://plot.ly"
       },
       "data": [
        {
         "mode": "lines",
         "name": "1",
         "type": "scatter",
         "x": [
          "2022-07-31T00:00:00",
          "2022-08-31T00:00:00",
          "2022-09-30T00:00:00",
          "2022-10-31T00:00:00",
          "2022-11-30T00:00:00",
          "2022-12-31T00:00:00",
          "2023-01-31T00:00:00",
          "2023-02-28T00:00:00",
          "2023-03-31T00:00:00",
          "2023-04-30T00:00:00",
          "2023-05-31T00:00:00",
          "2023-06-30T00:00:00",
          "2023-07-31T00:00:00",
          "2023-08-31T00:00:00",
          "2023-09-30T00:00:00",
          "2023-10-31T00:00:00",
          "2023-11-30T00:00:00",
          "2023-12-31T00:00:00",
          "2024-01-31T00:00:00",
          "2024-02-29T00:00:00",
          "2024-03-31T00:00:00",
          "2024-04-30T00:00:00",
          "2024-05-31T00:00:00",
          "2024-06-30T00:00:00",
          "2024-07-31T00:00:00",
          "2024-08-31T00:00:00",
          "2024-09-30T00:00:00",
          "2024-10-31T00:00:00",
          "2024-11-30T00:00:00",
          "2024-12-31T00:00:00",
          "2025-01-31T00:00:00",
          "2025-02-28T00:00:00",
          "2025-03-31T00:00:00",
          "2025-04-30T00:00:00",
          "2025-05-31T00:00:00",
          "2025-06-30T00:00:00"
         ],
         "y": {
          "bdata": "KsHw/31b8D9igwrrtmvwP/To62OYG/E/C3MBJUON8T+bG3PLZ5nwP5z89E8/DPA/DQOVEmWa8D9f0AvFkXTvP+hcAXk3iO4/RudIwgOz7j9rVFoisC/wP8Dq84f73fA/xd9MR+Bs8T+NhjseTFLwP9lV2qRYgvA/GCJSeR0Y8D8ZlfP/uJzxP8rB83DFV/I/dPEtZ/PL8T8UXz9GW/zxPw7CQ39Gk/E/B1zjHz3X8T/+1lvXmGPxP5nxuoDFs/E/QmG9zRA98j9XWlskA17zP3Sb9kJs4vI/dmZ3QGOH8j+1SYiSLKnxP/Zu2Zvwo/A/XTYEE6Rt8T9YCMnH5VbwP68e0QOEMfE/cqiIxrrO8D8Z9nqdFpvwPxk2SjkwdPA/",
          "dtype": "f8"
         }
        },
        {
         "mode": "lines",
         "name": "2",
         "type": "scatter",
         "x": [
          "2022-07-31T00:00:00",
          "2022-08-31T00:00:00",
          "2022-09-30T00:00:00",
          "2022-10-31T00:00:00",
          "2022-11-30T00:00:00",
          "2022-12-31T00:00:00",
          "2023-01-31T00:00:00",
          "2023-02-28T00:00:00",
          "2023-03-31T00:00:00",
          "2023-04-30T00:00:00",
          "2023-05-31T00:00:00",
          "2023-06-30T00:00:00",
          "2023-07-31T00:00:00",
          "2023-08-31T00:00:00",
          "2023-09-30T00:00:00",
          "2023-10-31T00:00:00",
          "2023-11-30T00:00:00",
          "2023-12-31T00:00:00",
          "2024-01-31T00:00:00",
          "2024-02-29T00:00:00",
          "2024-03-31T00:00:00",
          "2024-04-30T00:00:00",
          "2024-05-31T00:00:00",
          "2024-06-30T00:00:00",
          "2024-07-31T00:00:00",
          "2024-08-31T00:00:00",
          "2024-09-30T00:00:00",
          "2024-10-31T00:00:00",
          "2024-11-30T00:00:00",
          "2024-12-31T00:00:00",
          "2025-01-31T00:00:00",
          "2025-02-28T00:00:00",
          "2025-03-31T00:00:00",
          "2025-04-30T00:00:00",
          "2025-05-31T00:00:00",
          "2025-06-30T00:00:00"
         ],
         "y": {
          "bdata": "uqSPP6fP8D8P++UNmYbxP0BKATNDw/E/KyRGBsUL8j8sdCPHLv/wP3LQvxXih/A/1StYcbcr8T9xnctEQEzwP13P6zobCO8/js4rzZNe7z+LWGuthBLwP9FXQEnwB/E/x92YT/2X8T/qrtWT/YPwPyYa0yfdmfA/pDplmE8z8D8dl3rrfrvxP+3ek4V9bPI/vEFZw9O18T+LhYzqHPHxP5qkVocelPE/aaFxXgRl8T95V3KXa7/wPx4SfXZ5GfE/+13b9xp18T8KpfBd6GTyPyI5TKxPHfI/0N5aDvCx8T+kvNgzmNjwP7xtsg52yu8/SW0O8RfB8D9ucoSWrrjvP1m0VF02rfA/WcvfgCwF8D+5LGlBAdHuP9rOmm8mju4/",
          "dtype": "f8"
         }
        },
        {
         "mode": "lines",
         "name": "3",
         "type": "scatter",
         "x": [
          "2022-07-31T00:00:00",
          "2022-08-31T00:00:00",
          "2022-09-30T00:00:00",
          "2022-10-31T00:00:00",
          "2022-11-30T00:00:00",
          "2022-12-31T00:00:00",
          "2023-01-31T00:00:00",
          "2023-02-28T00:00:00",
          "2023-03-31T00:00:00",
          "2023-04-30T00:00:00",
          "2023-05-31T00:00:00",
          "2023-06-30T00:00:00",
          "2023-07-31T00:00:00",
          "2023-08-31T00:00:00",
          "2023-09-30T00:00:00",
          "2023-10-31T00:00:00",
          "2023-11-30T00:00:00",
          "2023-12-31T00:00:00",
          "2024-01-31T00:00:00",
          "2024-02-29T00:00:00",
          "2024-03-31T00:00:00",
          "2024-04-30T00:00:00",
          "2024-05-31T00:00:00",
          "2024-06-30T00:00:00",
          "2024-07-31T00:00:00",
          "2024-08-31T00:00:00",
          "2024-09-30T00:00:00",
          "2024-10-31T00:00:00",
          "2024-11-30T00:00:00",
          "2024-12-31T00:00:00",
          "2025-01-31T00:00:00",
          "2025-02-28T00:00:00",
          "2025-03-31T00:00:00",
          "2025-04-30T00:00:00",
          "2025-05-31T00:00:00",
          "2025-06-30T00:00:00"
         ],
         "y": {
          "bdata": "4feOn+aw8D/HjNbePCTxP6brs93lrfE/vA7Wpx0K8j/7PCXKUi3xP66WeHwCpPA/aY8dX6Z08T9UIzqiiYvwP5NG/sU09+8/9UzU1Evq7z8eYm4L/5LwP+uePEuHovE/cfojXxI38j+Id9xsbx7xP5ElSwK5cfE/SQ6CGmoX8T/iM8NqdaryP235nkKgdvM/B2ET+gn28j/IGdcPhC3zP5NfVYQ8xvI/roTId7gB8z+tJOG0BVXyP/m9D2f4w/I//cx9zpE48z9/pAwd4Uz0P+JbzvCWCPQ/XI549n2L8z/g2HTL/djyP4075jeSvvE/UEuNDnTG8j+HYl5FvrHxPyo6i5YTUPI/qaVHN4gN8j/0Xp7hToLxP1xfHA4dXfE/",
          "dtype": "f8"
         }
        },
        {
         "mode": "lines",
         "name": "-1",
         "type": "scatter",
         "x": [
          "2022-07-31T00:00:00",
          "2022-08-31T00:00:00",
          "2022-09-30T00:00:00",
          "2022-10-31T00:00:00",
          "2022-11-30T00:00:00",
          "2022-12-31T00:00:00",
          "2023-01-31T00:00:00",
          "2023-02-28T00:00:00",
          "2023-03-31T00:00:00",
          "2023-04-30T00:00:00",
          "2023-05-31T00:00:00",
          "2023-06-30T00:00:00",
          "2023-07-31T00:00:00",
          "2023-08-31T00:00:00",
          "2023-09-30T00:00:00",
          "2023-10-31T00:00:00",
          "2023-11-30T00:00:00",
          "2023-12-31T00:00:00",
          "2024-01-31T00:00:00",
          "2024-02-29T00:00:00",
          "2024-03-31T00:00:00",
          "2024-04-30T00:00:00",
          "2024-05-31T00:00:00",
          "2024-06-30T00:00:00",
          "2024-07-31T00:00:00",
          "2024-08-31T00:00:00",
          "2024-09-30T00:00:00",
          "2024-10-31T00:00:00",
          "2024-11-30T00:00:00",
          "2024-12-31T00:00:00",
          "2025-01-31T00:00:00",
          "2025-02-28T00:00:00",
          "2025-03-31T00:00:00",
          "2025-04-30T00:00:00",
          "2025-05-31T00:00:00",
          "2025-06-30T00:00:00"
         ],
         "y": {
          "bdata": "/df0/Qu38D8eX8pGXRDxP0Ans2/PIvE/aTwGYx6f8j95vyLEZ3LxPwhGGeh0A/E/OAbQW5N/8T8o/00lMrLwP46NU2ApOvA/IkjikLkT8D9GbVv9YPbuP/3z4ddBZvA/pUw4L7sc8T9Vx3dyhDbvP/KUdy2iCO8/ryOWEHxN7T/abcKrsWDvP4q5m7zCN/A/HZ00dmFe7j+OtzRZpn3vP84dw7Sag+8/CsPSpRRy7z/C/lSzG/DtP4DUQbneVO8/3wVVAuGv8D8s0BluVZPxP5p5BxZ/gfE/diT9AjQk8T8Qu6ygkJPwP9AdXHfAxe8/cO/Z2iJX8D/hXuZ20k3uPzE2wxuPSe4/n6NykHnR7j8A4FIsCGDtP+ykYAzYKe0/",
          "dtype": "f8"
         }
        },
        {
         "mode": "lines",
         "name": "-2",
         "type": "scatter",
         "x": [
          "2022-07-31T00:00:00",
          "2022-08-31T00:00:00",
          "2022-09-30T00:00:00",
          "2022-10-31T00:00:00",
          "2022-11-30T00:00:00",
          "2022-12-31T00:00:00",
          "2023-01-31T00:00:00",
          "2023-02-28T00:00:00",
          "2023-03-31T00:00:00",
          "2023-04-30T00:00:00",
          "2023-05-31T00:00:00",
          "2023-06-30T00:00:00",
          "2023-07-31T00:00:00",
          "2023-08-31T00:00:00",
          "2023-09-30T00:00:00",
          "2023-10-31T00:00:00",
          "2023-11-30T00:00:00",
          "2023-12-31T00:00:00",
          "2024-01-31T00:00:00",
          "2024-02-29T00:00:00",
          "2024-03-31T00:00:00",
          "2024-04-30T00:00:00",
          "2024-05-31T00:00:00",
          "2024-06-30T00:00:00",
          "2024-07-31T00:00:00",
          "2024-08-31T00:00:00",
          "2024-09-30T00:00:00",
          "2024-10-31T00:00:00",
          "2024-11-30T00:00:00",
          "2024-12-31T00:00:00",
          "2025-01-31T00:00:00",
          "2025-02-28T00:00:00",
          "2025-03-31T00:00:00",
          "2025-04-30T00:00:00",
          "2025-05-31T00:00:00",
          "2025-06-30T00:00:00"
         ],
         "y": {
          "bdata": "gDhWtEi48D+U782ffhPxPzH3DHb8Q/E/irqeJ1z38j8BFOW2zsbxP7wXvPjFRfE/eSTofqOs8T9anOyLwv3wP3s59nuNrfA/SwVL4mSO8D9AoJlrNs/vP7rEqsyHivA/IhjMFd1C8T8/2kcN1F3vP8LDLd2hM+8/1brzyscu7T+gIEmyayLvP018Rg6rKvA/s9ahWWLi7T9/LVrzaHnvP09qzSUa2O8/gOXUEnPp7z9RDsQvxFzuP5vZOG+iGvA/8bs0CA+F8T9rf4k/9ZzyPx6jH/vygfI//bWzEN0y8j8AyhOSe57xPym7wYa83PA/XgHxllhp8T+RH17bw3DvP/8uzqqS6e4/DtCJpvtT7z/T7e7VJuLtPyifGYfstu0/",
          "dtype": "f8"
         }
        },
        {
         "mode": "lines",
         "name": "Ibovespa",
         "type": "scatter",
         "x": [
          "2022-07-31T00:00:00",
          "2022-08-31T00:00:00",
          "2022-09-30T00:00:00",
          "2022-10-31T00:00:00",
          "2022-11-30T00:00:00",
          "2022-12-31T00:00:00",
          "2023-01-31T00:00:00",
          "2023-02-28T00:00:00",
          "2023-03-31T00:00:00",
          "2023-04-30T00:00:00",
          "2023-05-31T00:00:00",
          "2023-06-30T00:00:00",
          "2023-07-31T00:00:00",
          "2023-08-31T00:00:00",
          "2023-09-30T00:00:00",
          "2023-10-31T00:00:00",
          "2023-11-30T00:00:00",
          "2023-12-31T00:00:00",
          "2024-01-31T00:00:00",
          "2024-02-29T00:00:00",
          "2024-03-31T00:00:00",
          "2024-04-30T00:00:00",
          "2024-05-31T00:00:00",
          "2024-06-30T00:00:00",
          "2024-07-31T00:00:00",
          "2024-08-31T00:00:00",
          "2024-09-30T00:00:00",
          "2024-10-31T00:00:00",
          "2024-11-30T00:00:00",
          "2024-12-31T00:00:00",
          "2025-01-31T00:00:00",
          "2025-02-28T00:00:00",
          "2025-03-31T00:00:00",
          "2025-04-30T00:00:00",
          "2025-05-31T00:00:00",
          "2025-06-30T00:00:00"
         ],
         "y": {
          "bdata": "swSJ3ZaR8D9V9yaFo13xPxB+6LjhQvE/egsTB24A8j9MMtGCMELxP7LmsQpLo/A/oL6voa4A8T89lq6/TwvvP4TjgdTsw+0/ZmJfpSY67j9EfCQEcv/uP+Z8FMFBq/A/bUmEXLYG8T9fch3LEePvPyqdjZfAze8/kppCZcaJ7j/tyF9Cse7wP8QbF+5hq/E/QrSO1keh8D/NBXHMQqnwPx9zm96JZ/A/JvxfHgr07z8ayfpYv7PuP/RmvnU36e4/AQT799mM7z+FVIo/PaPwP6wml/yD9O8/LTh1ld0k7z8vXRgUQ+ntP9ojSey5Uuw/BmMmXOph7T+lUBNM103sPw3d9Luis+0/WMAYTZt27j+qy0iVCY7uPwZN/lann+4/",
          "dtype": "f8"
         }
        }
       ],
       "layout": {
        "legend": {
         "title": {
          "text": "Estratégia"
         }
        },
        "template": {
         "data": {
          "bar": [
           {
            "error_x": {
             "color": "#2a3f5f"
            },
            "error_y": {
             "color": "#2a3f5f"
            },
            "marker": {
             "line": {
              "color": "#E5ECF6",
              "width": 0.5
             },
             "pattern": {
              "fillmode": "overlay",
              "size": 10,
              "solidity": 0.2
             }
            },
            "type": "bar"
           }
          ],
          "barpolar": [
           {
            "marker": {
             "line": {
              "color": "#E5ECF6",
              "width": 0.5
             },
             "pattern": {
              "fillmode": "overlay",
              "size": 10,
              "solidity": 0.2
             }
            },
            "type": "barpolar"
           }
          ],
          "carpet": [
           {
            "aaxis": {
             "endlinecolor": "#2a3f5f",
             "gridcolor": "white",
             "linecolor": "white",
             "minorgridcolor": "white",
             "startlinecolor": "#2a3f5f"
            },
            "baxis": {
             "endlinecolor": "#2a3f5f",
             "gridcolor": "white",
             "linecolor": "white",
             "minorgridcolor": "white",
             "startlinecolor": "#2a3f5f"
            },
            "type": "carpet"
           }
          ],
          "choropleth": [
           {
            "colorbar": {
             "outlinewidth": 0,
             "ticks": ""
            },
            "type": "choropleth"
           }
          ],
          "contour": [
           {
            "colorbar": {
             "outlinewidth": 0,
             "ticks": ""
            },
            "colorscale": [
             [
              0,
              "#0d0887"
             ],
             [
              0.1111111111111111,
              "#46039f"
             ],
             [
              0.2222222222222222,
              "#7201a8"
             ],
             [
              0.3333333333333333,
              "#9c179e"
             ],
             [
              0.4444444444444444,
              "#bd3786"
             ],
             [
              0.5555555555555556,
              "#d8576b"
             ],
             [
              0.6666666666666666,
              "#ed7953"
             ],
             [
              0.7777777777777778,
              "#fb9f3a"
             ],
             [
              0.8888888888888888,
              "#fdca26"
             ],
             [
              1,
              "#f0f921"
             ]
            ],
            "type": "contour"
           }
          ],
          "contourcarpet": [
           {
            "colorbar": {
             "outlinewidth": 0,
             "ticks": ""
            },
            "type": "contourcarpet"
           }
          ],
          "heatmap": [
           {
            "colorbar": {
             "outlinewidth": 0,
             "ticks": ""
            },
            "colorscale": [
             [
              0,
              "#0d0887"
             ],
             [
              0.1111111111111111,
              "#46039f"
             ],
             [
              0.2222222222222222,
              "#7201a8"
             ],
             [
              0.3333333333333333,
              "#9c179e"
             ],
             [
              0.4444444444444444,
              "#bd3786"
             ],
             [
              0.5555555555555556,
              "#d8576b"
             ],
             [
              0.6666666666666666,
              "#ed7953"
             ],
             [
              0.7777777777777778,
              "#fb9f3a"
             ],
             [
              0.8888888888888888,
              "#fdca26"
             ],
             [
              1,
              "#f0f921"
             ]
            ],
            "type": "heatmap"
           }
          ],
          "histogram": [
           {
            "marker": {
             "pattern": {
              "fillmode": "overlay",
              "size": 10,
              "solidity": 0.2
             }
            },
            "type": "histogram"
           }
          ],
          "histogram2d": [
           {
            "colorbar": {
             "outlinewidth": 0,
             "ticks": ""
            },
            "colorscale": [
             [
              0,
              "#0d0887"
             ],
             [
              0.1111111111111111,
              "#46039f"
             ],
             [
              0.2222222222222222,
              "#7201a8"
             ],
             [
              0.3333333333333333,
              "#9c179e"
             ],
             [
              0.4444444444444444,
              "#bd3786"
             ],
             [
              0.5555555555555556,
              "#d8576b"
             ],
             [
              0.6666666666666666,
              "#ed7953"
             ],
             [
              0.7777777777777778,
              "#fb9f3a"
             ],
             [
              0.8888888888888888,
              "#fdca26"
             ],
             [
              1,
              "#f0f921"
             ]
            ],
            "type": "histogram2d"
           }
          ],
          "histogram2dcontour": [
           {
            "colorbar": {
             "outlinewidth": 0,
             "ticks": ""
            },
            "colorscale": [
             [
              0,
              "#0d0887"
             ],
             [
              0.1111111111111111,
              "#46039f"
             ],
             [
              0.2222222222222222,
              "#7201a8"
             ],
             [
              0.3333333333333333,
              "#9c179e"
             ],
             [
              0.4444444444444444,
              "#bd3786"
             ],
             [
              0.5555555555555556,
              "#d8576b"
             ],
             [
              0.6666666666666666,
              "#ed7953"
             ],
             [
              0.7777777777777778,
              "#fb9f3a"
             ],
             [
              0.8888888888888888,
              "#fdca26"
             ],
             [
              1,
              "#f0f921"
             ]
            ],
            "type": "histogram2dcontour"
           }
          ],
          "mesh3d": [
           {
            "colorbar": {
             "outlinewidth": 0,
             "ticks": ""
            },
            "type": "mesh3d"
           }
          ],
          "parcoords": [
           {
            "line": {
             "colorbar": {
              "outlinewidth": 0,
              "ticks": ""
             }
            },
            "type": "parcoords"
           }
          ],
          "pie": [
           {
            "automargin": true,
            "type": "pie"
           }
          ],
          "scatter": [
           {
            "fillpattern": {
             "fillmode": "overlay",
             "size": 10,
             "solidity": 0.2
            },
            "type": "scatter"
           }
          ],
          "scatter3d": [
           {
            "line": {
             "colorbar": {
              "outlinewidth": 0,
              "ticks": ""
             }
            },
            "marker": {
             "colorbar": {
              "outlinewidth": 0,
              "ticks": ""
             }
            },
            "type": "scatter3d"
           }
          ],
          "scattercarpet": [
           {
            "marker": {
             "colorbar": {
              "outlinewidth": 0,
              "ticks": ""
             }
            },
            "type": "scattercarpet"
           }
          ],
          "scattergeo": [
           {
            "marker": {
             "colorbar": {
              "outlinewidth": 0,
              "ticks": ""
             }
            },
            "type": "scattergeo"
           }
          ],
          "scattergl": [
           {
            "marker": {
             "colorbar": {
              "outlinewidth": 0,
              "ticks": ""
             }
            },
            "type": "scattergl"
           }
          ],
          "scattermap": [
           {
            "marker": {
             "colorbar": {
              "outlinewidth": 0,
              "ticks": ""
             }
            },
            "type": "scattermap"
           }
          ],
          "scattermapbox": [
           {
            "marker": {
             "colorbar": {
              "outlinewidth": 0,
              "ticks": ""
             }
            },
            "type": "scattermapbox"
           }
          ],
          "scatterpolar": [
           {
            "marker": {
             "colorbar": {
              "outlinewidth": 0,
              "ticks": ""
             }
            },
            "type": "scatterpolar"
           }
          ],
          "scatterpolargl": [
           {
            "marker": {
             "colorbar": {
              "outlinewidth": 0,
              "ticks": ""
             }
            },
            "type": "scatterpolargl"
           }
          ],
          "scatterternary": [
           {
            "marker": {
             "colorbar": {
              "outlinewidth": 0,
              "ticks": ""
             }
            },
            "type": "scatterternary"
           }
          ],
          "surface": [
           {
            "colorbar": {
             "outlinewidth": 0,
             "ticks": ""
            },
            "colorscale": [
             [
              0,
              "#0d0887"
             ],
             [
              0.1111111111111111,
              "#46039f"
             ],
             [
              0.2222222222222222,
              "#7201a8"
             ],
             [
              0.3333333333333333,
              "#9c179e"
             ],
             [
              0.4444444444444444,
              "#bd3786"
             ],
             [
              0.5555555555555556,
              "#d8576b"
             ],
             [
              0.6666666666666666,
              "#ed7953"
             ],
             [
              0.7777777777777778,
              "#fb9f3a"
             ],
             [
              0.8888888888888888,
              "#fdca26"
             ],
             [
              1,
              "#f0f921"
             ]
            ],
            "type": "surface"
           }
          ],
          "table": [
           {
            "cells": {
             "fill": {
              "color": "#EBF0F8"
             },
             "line": {
              "color": "white"
             }
            },
            "header": {
             "fill": {
              "color": "#C8D4E3"
             },
             "line": {
              "color": "white"
             }
            },
            "type": "table"
           }
          ]
         },
         "layout": {
          "annotationdefaults": {
           "arrowcolor": "#2a3f5f",
           "arrowhead": 0,
           "arrowwidth": 1
          },
          "autotypenumbers": "strict",
          "coloraxis": {
           "colorbar": {
            "outlinewidth": 0,
            "ticks": ""
           }
          },
          "colorscale": {
           "diverging": [
            [
             0,
             "#8e0152"
            ],
            [
             0.1,
             "#c51b7d"
            ],
            [
             0.2,
             "#de77ae"
            ],
            [
             0.3,
             "#f1b6da"
            ],
            [
             0.4,
             "#fde0ef"
            ],
            [
             0.5,
             "#f7f7f7"
            ],
            [
             0.6,
             "#e6f5d0"
            ],
            [
             0.7,
             "#b8e186"
            ],
            [
             0.8,
             "#7fbc41"
            ],
            [
             0.9,
             "#4d9221"
            ],
            [
             1,
             "#276419"
            ]
           ],
           "sequential": [
            [
             0,
             "#0d0887"
            ],
            [
             0.1111111111111111,
             "#46039f"
            ],
            [
             0.2222222222222222,
             "#7201a8"
            ],
            [
             0.3333333333333333,
             "#9c179e"
            ],
            [
             0.4444444444444444,
             "#bd3786"
            ],
            [
             0.5555555555555556,
             "#d8576b"
            ],
            [
             0.6666666666666666,
             "#ed7953"
            ],
            [
             0.7777777777777778,
             "#fb9f3a"
            ],
            [
             0.8888888888888888,
             "#fdca26"
            ],
            [
             1,
             "#f0f921"
            ]
           ],
           "sequentialminus": [
            [
             0,
             "#0d0887"
            ],
            [
             0.1111111111111111,
             "#46039f"
            ],
            [
             0.2222222222222222,
             "#7201a8"
            ],
            [
             0.3333333333333333,
             "#9c179e"
            ],
            [
             0.4444444444444444,
             "#bd3786"
            ],
            [
             0.5555555555555556,
             "#d8576b"
            ],
            [
             0.6666666666666666,
             "#ed7953"
            ],
            [
             0.7777777777777778,
             "#fb9f3a"
            ],
            [
             0.8888888888888888,
             "#fdca26"
            ],
            [
             1,
             "#f0f921"
            ]
           ]
          },
          "colorway": [
           "#636efa",
           "#EF553B",
           "#00cc96",
           "#ab63fa",
           "#FFA15A",
           "#19d3f3",
           "#FF6692",
           "#B6E880",
           "#FF97FF",
           "#FECB52"
          ],
          "font": {
           "color": "#2a3f5f"
          },
          "geo": {
           "bgcolor": "white",
           "lakecolor": "white",
           "landcolor": "#E5ECF6",
           "showlakes": true,
           "showland": true,
           "subunitcolor": "white"
          },
          "hoverlabel": {
           "align": "left"
          },
          "hovermode": "closest",
          "mapbox": {
           "style": "light"
          },
          "paper_bgcolor": "white",
          "plot_bgcolor": "#E5ECF6",
          "polar": {
           "angularaxis": {
            "gridcolor": "white",
            "linecolor": "white",
            "ticks": ""
           },
           "bgcolor": "#E5ECF6",
           "radialaxis": {
            "gridcolor": "white",
            "linecolor": "white",
            "ticks": ""
           }
          },
          "scene": {
           "xaxis": {
            "backgroundcolor": "#E5ECF6",
            "gridcolor": "white",
            "gridwidth": 2,
            "linecolor": "white",
            "showbackground": true,
            "ticks": "",
            "zerolinecolor": "white"
           },
           "yaxis": {
            "backgroundcolor": "#E5ECF6",
            "gridcolor": "white",
            "gridwidth": 2,
            "linecolor": "white",
            "showbackground": true,
            "ticks": "",
            "zerolinecolor": "white"
           },
           "zaxis": {
            "backgroundcolor": "#E5ECF6",
            "gridcolor": "white",
            "gridwidth": 2,
            "linecolor": "white",
            "showbackground": true,
            "ticks": "",
            "zerolinecolor": "white"
           }
          },
          "shapedefaults": {
           "line": {
            "color": "#2a3f5f"
           }
          },
          "ternary": {
           "aaxis": {
            "gridcolor": "white",
            "linecolor": "white",
            "ticks": ""
           },
           "baxis": {
            "gridcolor": "white",
            "linecolor": "white",
            "ticks": ""
           },
           "bgcolor": "#E5ECF6",
           "caxis": {
            "gridcolor": "white",
            "linecolor": "white",
            "ticks": ""
           }
          },
          "title": {
           "x": 0.05
          },
          "xaxis": {
           "automargin": true,
           "gridcolor": "white",
           "linecolor": "white",
           "ticks": "",
           "title": {
            "standoff": 15
           },
           "zerolinecolor": "white",
           "zerolinewidth": 2
          },
          "yaxis": {
           "automargin": true,
           "gridcolor": "white",
           "linecolor": "white",
           "ticks": "",
           "title": {
            "standoff": 15
           },
           "zerolinecolor": "white",
           "zerolinewidth": 2
          }
         }
        },
        "title": {
         "text": "<b>Prêmio de risco acumulado: Comparativo de Estratégias</b>"
        },
        "xaxis": {
         "title": {
          "text": "Data"
         }
        },
        "yaxis": {
         "title": {
          "text": "Prêmio de risco acumulado"
         }
        }
       }
      }
     },
     "metadata": {},
     "output_type": "display_data"
    }
   ],
   "source": [
    "# --- 3. ANÁLISE DE DESEMPENHO AO LONGO DO TEMPO ---\n",
    "\n",
    "# Converte o dicionário de resultados em um único DataFrame\n",
    "df_retornos = pd.DataFrame(resultados_backtest)\n",
    "\n",
    "# Fatia o benchmark para o mesmo período dos resultados do backtest\n",
    "# (Usamos o índice do primeiro resultado como referência)\n",
    "primeira_estrategia = list(resultados_backtest.keys())[0]\n",
    "indice_backtest = resultados_backtest[primeira_estrategia].index\n",
    "ibov_retornos_backtest = ibov_retornos_excedentes.loc[indice_backtest]\n",
    "\n",
    "# Adiciona o Ibovespa ao DataFrame para comparação completa\n",
    "df_retornos['Ibovespa'] = ibov_retornos_backtest\n",
    "\n",
    "# Agora o 'df_retornos' está exatamente no formato que você precisa\n",
    "# para a análise de curva de patrimônio.\n",
    "\n",
    "# --- Gráfico de Retorno Acumulado (Curva de Patrimônio) ---\n",
    "print(\"\\nGerando gráfico de retorno acumulado...\")\n",
    "\n",
    "# Calcula o crescimento de R$ 1,00 (retorno acumulado)\n",
    "# Lembre-se que estes são retornos EXCEDENTES. Para o patrimônio real, \n",
    "# teríamos que somar a Selic de volta, mas para comparar as estratégias, isso é o ideal.\n",
    "df_acumulado = (1 + df_retornos).cumprod()\n",
    "\n",
    "# Plotando com Plotly\n",
    "import plotly.graph_objects as go\n",
    "fig = go.Figure()\n",
    "for col in df_acumulado.columns:\n",
    "    fig.add_trace(go.Scatter(x=df_acumulado.index, y=df_acumulado[col], mode='lines', name=col))\n",
    "\n",
    "fig.update_layout(title_text='<b>Prêmio de risco acumulado: Comparativo de Estratégias</b>',\n",
    "                  yaxis_title='Prêmio de risco acumulado',\n",
    "                  xaxis_title='Data',\n",
    "                  legend_title='Estratégia')\n",
    "fig.show()"
   ]
  },
  {
   "cell_type": "code",
   "execution_count": 31,
   "id": "564f1843",
   "metadata": {},
   "outputs": [
    {
     "name": "stdout",
     "output_type": "stream",
     "text": [
      "\n",
      "--- Gráfico 1: Curva de Patrimônio Real (Baseado nos Retornos Brutos) ---\n"
     ]
    },
    {
     "data": {
      "application/vnd.plotly.v1+json": {
       "config": {
        "plotlyServerURL": "https://plot.ly"
       },
       "data": [
        {
         "mode": "lines",
         "name": "1",
         "type": "scatter",
         "x": [
          "2022-07-31T00:00:00",
          "2022-08-31T00:00:00",
          "2022-09-30T00:00:00",
          "2022-10-31T00:00:00",
          "2022-11-30T00:00:00",
          "2022-12-31T00:00:00",
          "2023-01-31T00:00:00",
          "2023-02-28T00:00:00",
          "2023-03-31T00:00:00",
          "2023-04-30T00:00:00",
          "2023-05-31T00:00:00",
          "2023-06-30T00:00:00",
          "2023-07-31T00:00:00",
          "2023-08-31T00:00:00",
          "2023-09-30T00:00:00",
          "2023-10-31T00:00:00",
          "2023-11-30T00:00:00",
          "2023-12-31T00:00:00",
          "2024-01-31T00:00:00",
          "2024-02-29T00:00:00",
          "2024-03-31T00:00:00",
          "2024-04-30T00:00:00",
          "2024-05-31T00:00:00",
          "2024-06-30T00:00:00",
          "2024-07-31T00:00:00",
          "2024-08-31T00:00:00",
          "2024-09-30T00:00:00",
          "2024-10-31T00:00:00",
          "2024-11-30T00:00:00",
          "2024-12-31T00:00:00",
          "2025-01-31T00:00:00",
          "2025-02-28T00:00:00",
          "2025-03-31T00:00:00",
          "2025-04-30T00:00:00",
          "2025-05-31T00:00:00",
          "2025-06-30T00:00:00"
         ],
         "y": {
          "bdata": "piIjVa6F8D+ZxfbUjcfwPzlzDl49qfE/956DF7NM8j/5EsKvPH7xPxrUDT+iG/E/tl5XKTnk8T9Y1lpD3BzxP0jQyGqIz/A/xt67hbAO8T9Oszwomy3yP5k7mockI/M/adieb7D58z/r60qrDfDyPyz+85TUVvM/WaF9t+UL8z9511fupQT1P72a7tbBE/Y/8cDHIkui9T+K6ipWcQn2P10tQ1yEt/U/ek20uvk89j9I/BD+FNz1P9zbNfcTbfY/QsKtw0BP9z8UYzYWdPT4P+YdWsXeivg//hqJk/1O+D9uINuin1z3P3+L75CuOvY/Q7wgIZqB9z/FXgc4OUX2P3tyTKTtpfc/rf4DSDpe9z+5CRhjoFr3P43ULvauZfc/",
          "dtype": "f8"
         }
        },
        {
         "mode": "lines",
         "name": "2",
         "type": "scatter",
         "x": [
          "2022-07-31T00:00:00",
          "2022-08-31T00:00:00",
          "2022-09-30T00:00:00",
          "2022-10-31T00:00:00",
          "2022-11-30T00:00:00",
          "2022-12-31T00:00:00",
          "2023-01-31T00:00:00",
          "2023-02-28T00:00:00",
          "2023-03-31T00:00:00",
          "2023-04-30T00:00:00",
          "2023-05-31T00:00:00",
          "2023-06-30T00:00:00",
          "2023-07-31T00:00:00",
          "2023-08-31T00:00:00",
          "2023-09-30T00:00:00",
          "2023-10-31T00:00:00",
          "2023-11-30T00:00:00",
          "2023-12-31T00:00:00",
          "2024-01-31T00:00:00",
          "2024-02-29T00:00:00",
          "2024-03-31T00:00:00",
          "2024-04-30T00:00:00",
          "2024-05-31T00:00:00",
          "2024-06-30T00:00:00",
          "2024-07-31T00:00:00",
          "2024-08-31T00:00:00",
          "2024-09-30T00:00:00",
          "2024-10-31T00:00:00",
          "2024-11-30T00:00:00",
          "2024-12-31T00:00:00",
          "2025-01-31T00:00:00",
          "2025-02-28T00:00:00",
          "2025-03-31T00:00:00",
          "2025-04-30T00:00:00",
          "2025-05-31T00:00:00",
          "2025-06-30T00:00:00"
         ],
         "y": {
          "bdata": "NgbClNf58D/ql4cqbeXxP46PuP9kVPI/utXPBxTP8j9tvl0LQOjxPx6LUG3nnfE/0HPR/QJ/8j+lQVMH3LnxP0eaUCY2FfE/WnkgEQxt8T8DDpynQQ3yP/UJVJFZUvM/6FX6lrMq9D87BD86MSnzP5kJ/0QmcvM/OqB9yM0r8z+ydDk0Din1P+b5l1B6LPY/5kgEkbKH9T88egoi3fv1Pwg8LKehuPU/J0IaLOuv9T93QB2OiQ/1PzaLDDdgq/U/vREMBfpR9j/vWruhSbb3P9iZFYb7jPc/wrcjl3Q59z+fW01zKkv2P3io8nQuPvU/wP4ibu+a9j/D1JGUlp/1P624Wpp98fY/1dup25BI9j+MzAykrK/1P3eONRCyvfU/",
          "dtype": "f8"
         }
        },
        {
         "mode": "lines",
         "name": "3",
         "type": "scatter",
         "x": [
          "2022-07-31T00:00:00",
          "2022-08-31T00:00:00",
          "2022-09-30T00:00:00",
          "2022-10-31T00:00:00",
          "2022-11-30T00:00:00",
          "2022-12-31T00:00:00",
          "2023-01-31T00:00:00",
          "2023-02-28T00:00:00",
          "2023-03-31T00:00:00",
          "2023-04-30T00:00:00",
          "2023-05-31T00:00:00",
          "2023-06-30T00:00:00",
          "2023-07-31T00:00:00",
          "2023-08-31T00:00:00",
          "2023-09-30T00:00:00",
          "2023-10-31T00:00:00",
          "2023-11-30T00:00:00",
          "2023-12-31T00:00:00",
          "2024-01-31T00:00:00",
          "2024-02-29T00:00:00",
          "2024-03-31T00:00:00",
          "2024-04-30T00:00:00",
          "2024-05-31T00:00:00",
          "2024-06-30T00:00:00",
          "2024-07-31T00:00:00",
          "2024-08-31T00:00:00",
          "2024-09-30T00:00:00",
          "2024-10-31T00:00:00",
          "2024-11-30T00:00:00",
          "2024-12-31T00:00:00",
          "2025-01-31T00:00:00",
          "2025-02-28T00:00:00",
          "2025-03-31T00:00:00",
          "2025-04-30T00:00:00",
          "2025-05-31T00:00:00",
          "2025-06-30T00:00:00"
         ],
         "y": {
          "bdata": "XVnB9Bbb8D8fABdKDYLxP8N5OuycPvI/QIQreWvN8j9RH40CYxjyP1EbgZWdu/E/8h5FJcvM8j/1iPaeAf7xP7D/EWBfl/E/K5RJ8rK58T8XdkoS25vyP93TQJ+x//M/RNPICO7e9D+9dpB3SdrzP2i2dVQsbPQ/XK2jXbo29D8ZzzVMAkP2P2gWGsE6afc/pM0jMbII9z/NyaFYQ3v3PzQ5TzizLvc/mBCPL/is9z+BxNaJJwj3P15Ajhsgwvc/hKD0OhiN+D85QP9VtST6P/18Sjv7BPo/gD/j2HOg+T9YtzYLPOr4P/MJ+1s3sPc/EFttpL1N+T+uxSCD8Rj4P6Xg2ZzLK/k/Ky2oQKIU+T8BekYxaJz4P5sh3Blurfg/",
          "dtype": "f8"
         }
        },
        {
         "mode": "lines",
         "name": "-1",
         "type": "scatter",
         "x": [
          "2022-07-31T00:00:00",
          "2022-08-31T00:00:00",
          "2022-09-30T00:00:00",
          "2022-10-31T00:00:00",
          "2022-11-30T00:00:00",
          "2022-12-31T00:00:00",
          "2023-01-31T00:00:00",
          "2023-02-28T00:00:00",
          "2023-03-31T00:00:00",
          "2023-04-30T00:00:00",
          "2023-05-31T00:00:00",
          "2023-06-30T00:00:00",
          "2023-07-31T00:00:00",
          "2023-08-31T00:00:00",
          "2023-09-30T00:00:00",
          "2023-10-31T00:00:00",
          "2023-11-30T00:00:00",
          "2023-12-31T00:00:00",
          "2024-01-31T00:00:00",
          "2024-02-29T00:00:00",
          "2024-03-31T00:00:00",
          "2024-04-30T00:00:00",
          "2024-05-31T00:00:00",
          "2024-06-30T00:00:00",
          "2024-07-31T00:00:00",
          "2024-08-31T00:00:00",
          "2024-09-30T00:00:00",
          "2024-10-31T00:00:00",
          "2024-11-30T00:00:00",
          "2024-12-31T00:00:00",
          "2025-01-31T00:00:00",
          "2025-02-28T00:00:00",
          "2025-03-31T00:00:00",
          "2025-04-30T00:00:00",
          "2025-05-31T00:00:00",
          "2025-06-30T00:00:00"
         ],
         "y": {
          "bdata": "eTknUzzh8D+TzhoD/m3xP2TqAKyTsPE/Kcps8l1n8z8doS5fsGDyP1zai3+DIPI/Dz0r0LrY8j8ovkay6SfyPzqR/pDD2/E/onzkA4bb8T9a8MXmS2XxP76pM4oVnfI/SJOQZC6f8z9f6kQqcR7yP8hqmbbMMPI/AJ6r7Zxb8T+7l/bvKb/yP7F3Oueui/M/RnUJJ1x98j+qK53DIFLzPxdiUIzVfvM/p9ZLeGmg8z/P+YFMNtnyP9j7DoHx3/M/9/4qbe5Z9T9tiwhDhKz2P8X5MVRDxvY/zawyAx2D9j9Fx/mKr/L1PwwycaD+PPU/qPM8FVYP9j8F2waYiKz0P3dMBvtu3PQ/u4dgOahy9T8vCw9MI7D0P7FDp307xPQ/",
          "dtype": "f8"
         }
        },
        {
         "mode": "lines",
         "name": "-2",
         "type": "scatter",
         "x": [
          "2022-07-31T00:00:00",
          "2022-08-31T00:00:00",
          "2022-09-30T00:00:00",
          "2022-10-31T00:00:00",
          "2022-11-30T00:00:00",
          "2022-12-31T00:00:00",
          "2023-01-31T00:00:00",
          "2023-02-28T00:00:00",
          "2023-03-31T00:00:00",
          "2023-04-30T00:00:00",
          "2023-05-31T00:00:00",
          "2023-06-30T00:00:00",
          "2023-07-31T00:00:00",
          "2023-08-31T00:00:00",
          "2023-09-30T00:00:00",
          "2023-10-31T00:00:00",
          "2023-11-30T00:00:00",
          "2023-12-31T00:00:00",
          "2024-01-31T00:00:00",
          "2024-02-29T00:00:00",
          "2024-03-31T00:00:00",
          "2024-04-30T00:00:00",
          "2024-05-31T00:00:00",
          "2024-06-30T00:00:00",
          "2024-07-31T00:00:00",
          "2024-08-31T00:00:00",
          "2024-09-30T00:00:00",
          "2024-10-31T00:00:00",
          "2024-11-30T00:00:00",
          "2024-12-31T00:00:00",
          "2025-01-31T00:00:00",
          "2025-02-28T00:00:00",
          "2025-03-31T00:00:00",
          "2025-04-30T00:00:00",
          "2025-05-31T00:00:00",
          "2025-06-30T00:00:00"
         ],
         "y": {
          "bdata": "/JmICXni8D81PezGJ3HxP0iNyIl20vE/2x18eWjC8z8YvVkVt7jyP6suxxaAZvI/QWABDdcI8z+kLblXVXnyP8TFLs11WfI/TvxqOGVi8j9U6GwR593xP8ah9eXdxfI/DO3CV37K8z8RK0tiGTXyP4QVNnLRSfI/Nw3sM7FJ8T+PvWNEZZryPwOjHmoqfPM/1R7oKbsy8j8vfgJj3E/zPw5XegD/svM/O1S0LZzq8z8lQrcXWx3zP/5PdGF6bfQ/AfQ2Rsto9j+Y2TJ1uAD4P9tk5quBEfg/u8wFA/bj9z++exYqfVH3P6rZ6XiWiPY/bU5bYcB+9z9J4J1CDnL1Pwn8ArmLSvU/YHjnzJzN9T+mewub2gv1PyGh/QOtKPU/",
          "dtype": "f8"
         }
        },
        {
         "mode": "lines",
         "name": "Ibovespa",
         "type": "scatter",
         "x": [
          "2022-07-31T00:00:00",
          "2022-08-31T00:00:00",
          "2022-09-30T00:00:00",
          "2022-10-31T00:00:00",
          "2022-11-30T00:00:00",
          "2022-12-31T00:00:00",
          "2023-01-31T00:00:00",
          "2023-02-28T00:00:00",
          "2023-03-31T00:00:00",
          "2023-04-30T00:00:00",
          "2023-05-31T00:00:00",
          "2023-06-30T00:00:00",
          "2023-07-31T00:00:00",
          "2023-08-31T00:00:00",
          "2023-09-30T00:00:00",
          "2023-10-31T00:00:00",
          "2023-11-30T00:00:00",
          "2023-12-31T00:00:00",
          "2024-01-31T00:00:00",
          "2024-02-29T00:00:00",
          "2024-03-31T00:00:00",
          "2024-04-30T00:00:00",
          "2024-05-31T00:00:00",
          "2024-06-30T00:00:00",
          "2024-07-31T00:00:00",
          "2024-08-31T00:00:00",
          "2024-09-30T00:00:00",
          "2024-10-31T00:00:00",
          "2024-11-30T00:00:00",
          "2024-12-31T00:00:00",
          "2025-01-31T00:00:00",
          "2025-02-28T00:00:00",
          "2025-03-31T00:00:00",
          "2025-04-30T00:00:00",
          "2025-05-31T00:00:00",
          "2025-06-30T00:00:00"
         ],
         "y": {
          "bdata": "L2a7Mse78D8L6Ogx+rvxP7xicfI60fE/lgsur2jD8j9AVSVOHS7yP3ScnP7buvE/fUdonjZR8j/6I1PiBeTwP+qkINR8ZPA/HjETjjTM8D8Te23MAWrxP5IhEzhB6vI/WHZLf9iF8z+C4KEAAIHyP0kXXyCUovI/BFiG/3MU8j9bYMtROTf0P52DxuGPRvU/UMGfnvs69D/tikFwH270P3OveXDxSPQ/HRkxGbzv8z9YCvLjQVLzP4ICJVb7mvM/ovVGvXAw9D8LZ1elAXj1P3nHWLEfzPQ/Edl0Sn529D++5WBhg9DzP3kVTE1h8vI/5baI/MfY8z9GfZNGmlDzP3+jUV87dPQ/m/eFnwAy9T/rEV5EKYD1P1VntmEayfU/",
          "dtype": "f8"
         }
        }
       ],
       "layout": {
        "legend": {
         "title": {
          "text": "Estratégia"
         }
        },
        "template": {
         "data": {
          "bar": [
           {
            "error_x": {
             "color": "#2a3f5f"
            },
            "error_y": {
             "color": "#2a3f5f"
            },
            "marker": {
             "line": {
              "color": "#E5ECF6",
              "width": 0.5
             },
             "pattern": {
              "fillmode": "overlay",
              "size": 10,
              "solidity": 0.2
             }
            },
            "type": "bar"
           }
          ],
          "barpolar": [
           {
            "marker": {
             "line": {
              "color": "#E5ECF6",
              "width": 0.5
             },
             "pattern": {
              "fillmode": "overlay",
              "size": 10,
              "solidity": 0.2
             }
            },
            "type": "barpolar"
           }
          ],
          "carpet": [
           {
            "aaxis": {
             "endlinecolor": "#2a3f5f",
             "gridcolor": "white",
             "linecolor": "white",
             "minorgridcolor": "white",
             "startlinecolor": "#2a3f5f"
            },
            "baxis": {
             "endlinecolor": "#2a3f5f",
             "gridcolor": "white",
             "linecolor": "white",
             "minorgridcolor": "white",
             "startlinecolor": "#2a3f5f"
            },
            "type": "carpet"
           }
          ],
          "choropleth": [
           {
            "colorbar": {
             "outlinewidth": 0,
             "ticks": ""
            },
            "type": "choropleth"
           }
          ],
          "contour": [
           {
            "colorbar": {
             "outlinewidth": 0,
             "ticks": ""
            },
            "colorscale": [
             [
              0,
              "#0d0887"
             ],
             [
              0.1111111111111111,
              "#46039f"
             ],
             [
              0.2222222222222222,
              "#7201a8"
             ],
             [
              0.3333333333333333,
              "#9c179e"
             ],
             [
              0.4444444444444444,
              "#bd3786"
             ],
             [
              0.5555555555555556,
              "#d8576b"
             ],
             [
              0.6666666666666666,
              "#ed7953"
             ],
             [
              0.7777777777777778,
              "#fb9f3a"
             ],
             [
              0.8888888888888888,
              "#fdca26"
             ],
             [
              1,
              "#f0f921"
             ]
            ],
            "type": "contour"
           }
          ],
          "contourcarpet": [
           {
            "colorbar": {
             "outlinewidth": 0,
             "ticks": ""
            },
            "type": "contourcarpet"
           }
          ],
          "heatmap": [
           {
            "colorbar": {
             "outlinewidth": 0,
             "ticks": ""
            },
            "colorscale": [
             [
              0,
              "#0d0887"
             ],
             [
              0.1111111111111111,
              "#46039f"
             ],
             [
              0.2222222222222222,
              "#7201a8"
             ],
             [
              0.3333333333333333,
              "#9c179e"
             ],
             [
              0.4444444444444444,
              "#bd3786"
             ],
             [
              0.5555555555555556,
              "#d8576b"
             ],
             [
              0.6666666666666666,
              "#ed7953"
             ],
             [
              0.7777777777777778,
              "#fb9f3a"
             ],
             [
              0.8888888888888888,
              "#fdca26"
             ],
             [
              1,
              "#f0f921"
             ]
            ],
            "type": "heatmap"
           }
          ],
          "histogram": [
           {
            "marker": {
             "pattern": {
              "fillmode": "overlay",
              "size": 10,
              "solidity": 0.2
             }
            },
            "type": "histogram"
           }
          ],
          "histogram2d": [
           {
            "colorbar": {
             "outlinewidth": 0,
             "ticks": ""
            },
            "colorscale": [
             [
              0,
              "#0d0887"
             ],
             [
              0.1111111111111111,
              "#46039f"
             ],
             [
              0.2222222222222222,
              "#7201a8"
             ],
             [
              0.3333333333333333,
              "#9c179e"
             ],
             [
              0.4444444444444444,
              "#bd3786"
             ],
             [
              0.5555555555555556,
              "#d8576b"
             ],
             [
              0.6666666666666666,
              "#ed7953"
             ],
             [
              0.7777777777777778,
              "#fb9f3a"
             ],
             [
              0.8888888888888888,
              "#fdca26"
             ],
             [
              1,
              "#f0f921"
             ]
            ],
            "type": "histogram2d"
           }
          ],
          "histogram2dcontour": [
           {
            "colorbar": {
             "outlinewidth": 0,
             "ticks": ""
            },
            "colorscale": [
             [
              0,
              "#0d0887"
             ],
             [
              0.1111111111111111,
              "#46039f"
             ],
             [
              0.2222222222222222,
              "#7201a8"
             ],
             [
              0.3333333333333333,
              "#9c179e"
             ],
             [
              0.4444444444444444,
              "#bd3786"
             ],
             [
              0.5555555555555556,
              "#d8576b"
             ],
             [
              0.6666666666666666,
              "#ed7953"
             ],
             [
              0.7777777777777778,
              "#fb9f3a"
             ],
             [
              0.8888888888888888,
              "#fdca26"
             ],
             [
              1,
              "#f0f921"
             ]
            ],
            "type": "histogram2dcontour"
           }
          ],
          "mesh3d": [
           {
            "colorbar": {
             "outlinewidth": 0,
             "ticks": ""
            },
            "type": "mesh3d"
           }
          ],
          "parcoords": [
           {
            "line": {
             "colorbar": {
              "outlinewidth": 0,
              "ticks": ""
             }
            },
            "type": "parcoords"
           }
          ],
          "pie": [
           {
            "automargin": true,
            "type": "pie"
           }
          ],
          "scatter": [
           {
            "fillpattern": {
             "fillmode": "overlay",
             "size": 10,
             "solidity": 0.2
            },
            "type": "scatter"
           }
          ],
          "scatter3d": [
           {
            "line": {
             "colorbar": {
              "outlinewidth": 0,
              "ticks": ""
             }
            },
            "marker": {
             "colorbar": {
              "outlinewidth": 0,
              "ticks": ""
             }
            },
            "type": "scatter3d"
           }
          ],
          "scattercarpet": [
           {
            "marker": {
             "colorbar": {
              "outlinewidth": 0,
              "ticks": ""
             }
            },
            "type": "scattercarpet"
           }
          ],
          "scattergeo": [
           {
            "marker": {
             "colorbar": {
              "outlinewidth": 0,
              "ticks": ""
             }
            },
            "type": "scattergeo"
           }
          ],
          "scattergl": [
           {
            "marker": {
             "colorbar": {
              "outlinewidth": 0,
              "ticks": ""
             }
            },
            "type": "scattergl"
           }
          ],
          "scattermap": [
           {
            "marker": {
             "colorbar": {
              "outlinewidth": 0,
              "ticks": ""
             }
            },
            "type": "scattermap"
           }
          ],
          "scattermapbox": [
           {
            "marker": {
             "colorbar": {
              "outlinewidth": 0,
              "ticks": ""
             }
            },
            "type": "scattermapbox"
           }
          ],
          "scatterpolar": [
           {
            "marker": {
             "colorbar": {
              "outlinewidth": 0,
              "ticks": ""
             }
            },
            "type": "scatterpolar"
           }
          ],
          "scatterpolargl": [
           {
            "marker": {
             "colorbar": {
              "outlinewidth": 0,
              "ticks": ""
             }
            },
            "type": "scatterpolargl"
           }
          ],
          "scatterternary": [
           {
            "marker": {
             "colorbar": {
              "outlinewidth": 0,
              "ticks": ""
             }
            },
            "type": "scatterternary"
           }
          ],
          "surface": [
           {
            "colorbar": {
             "outlinewidth": 0,
             "ticks": ""
            },
            "colorscale": [
             [
              0,
              "#0d0887"
             ],
             [
              0.1111111111111111,
              "#46039f"
             ],
             [
              0.2222222222222222,
              "#7201a8"
             ],
             [
              0.3333333333333333,
              "#9c179e"
             ],
             [
              0.4444444444444444,
              "#bd3786"
             ],
             [
              0.5555555555555556,
              "#d8576b"
             ],
             [
              0.6666666666666666,
              "#ed7953"
             ],
             [
              0.7777777777777778,
              "#fb9f3a"
             ],
             [
              0.8888888888888888,
              "#fdca26"
             ],
             [
              1,
              "#f0f921"
             ]
            ],
            "type": "surface"
           }
          ],
          "table": [
           {
            "cells": {
             "fill": {
              "color": "#EBF0F8"
             },
             "line": {
              "color": "white"
             }
            },
            "header": {
             "fill": {
              "color": "#C8D4E3"
             },
             "line": {
              "color": "white"
             }
            },
            "type": "table"
           }
          ]
         },
         "layout": {
          "annotationdefaults": {
           "arrowcolor": "#2a3f5f",
           "arrowhead": 0,
           "arrowwidth": 1
          },
          "autotypenumbers": "strict",
          "coloraxis": {
           "colorbar": {
            "outlinewidth": 0,
            "ticks": ""
           }
          },
          "colorscale": {
           "diverging": [
            [
             0,
             "#8e0152"
            ],
            [
             0.1,
             "#c51b7d"
            ],
            [
             0.2,
             "#de77ae"
            ],
            [
             0.3,
             "#f1b6da"
            ],
            [
             0.4,
             "#fde0ef"
            ],
            [
             0.5,
             "#f7f7f7"
            ],
            [
             0.6,
             "#e6f5d0"
            ],
            [
             0.7,
             "#b8e186"
            ],
            [
             0.8,
             "#7fbc41"
            ],
            [
             0.9,
             "#4d9221"
            ],
            [
             1,
             "#276419"
            ]
           ],
           "sequential": [
            [
             0,
             "#0d0887"
            ],
            [
             0.1111111111111111,
             "#46039f"
            ],
            [
             0.2222222222222222,
             "#7201a8"
            ],
            [
             0.3333333333333333,
             "#9c179e"
            ],
            [
             0.4444444444444444,
             "#bd3786"
            ],
            [
             0.5555555555555556,
             "#d8576b"
            ],
            [
             0.6666666666666666,
             "#ed7953"
            ],
            [
             0.7777777777777778,
             "#fb9f3a"
            ],
            [
             0.8888888888888888,
             "#fdca26"
            ],
            [
             1,
             "#f0f921"
            ]
           ],
           "sequentialminus": [
            [
             0,
             "#0d0887"
            ],
            [
             0.1111111111111111,
             "#46039f"
            ],
            [
             0.2222222222222222,
             "#7201a8"
            ],
            [
             0.3333333333333333,
             "#9c179e"
            ],
            [
             0.4444444444444444,
             "#bd3786"
            ],
            [
             0.5555555555555556,
             "#d8576b"
            ],
            [
             0.6666666666666666,
             "#ed7953"
            ],
            [
             0.7777777777777778,
             "#fb9f3a"
            ],
            [
             0.8888888888888888,
             "#fdca26"
            ],
            [
             1,
             "#f0f921"
            ]
           ]
          },
          "colorway": [
           "#636efa",
           "#EF553B",
           "#00cc96",
           "#ab63fa",
           "#FFA15A",
           "#19d3f3",
           "#FF6692",
           "#B6E880",
           "#FF97FF",
           "#FECB52"
          ],
          "font": {
           "color": "#2a3f5f"
          },
          "geo": {
           "bgcolor": "white",
           "lakecolor": "white",
           "landcolor": "#E5ECF6",
           "showlakes": true,
           "showland": true,
           "subunitcolor": "white"
          },
          "hoverlabel": {
           "align": "left"
          },
          "hovermode": "closest",
          "mapbox": {
           "style": "light"
          },
          "paper_bgcolor": "white",
          "plot_bgcolor": "#E5ECF6",
          "polar": {
           "angularaxis": {
            "gridcolor": "white",
            "linecolor": "white",
            "ticks": ""
           },
           "bgcolor": "#E5ECF6",
           "radialaxis": {
            "gridcolor": "white",
            "linecolor": "white",
            "ticks": ""
           }
          },
          "scene": {
           "xaxis": {
            "backgroundcolor": "#E5ECF6",
            "gridcolor": "white",
            "gridwidth": 2,
            "linecolor": "white",
            "showbackground": true,
            "ticks": "",
            "zerolinecolor": "white"
           },
           "yaxis": {
            "backgroundcolor": "#E5ECF6",
            "gridcolor": "white",
            "gridwidth": 2,
            "linecolor": "white",
            "showbackground": true,
            "ticks": "",
            "zerolinecolor": "white"
           },
           "zaxis": {
            "backgroundcolor": "#E5ECF6",
            "gridcolor": "white",
            "gridwidth": 2,
            "linecolor": "white",
            "showbackground": true,
            "ticks": "",
            "zerolinecolor": "white"
           }
          },
          "shapedefaults": {
           "line": {
            "color": "#2a3f5f"
           }
          },
          "ternary": {
           "aaxis": {
            "gridcolor": "white",
            "linecolor": "white",
            "ticks": ""
           },
           "baxis": {
            "gridcolor": "white",
            "linecolor": "white",
            "ticks": ""
           },
           "bgcolor": "#E5ECF6",
           "caxis": {
            "gridcolor": "white",
            "linecolor": "white",
            "ticks": ""
           }
          },
          "title": {
           "x": 0.05
          },
          "xaxis": {
           "automargin": true,
           "gridcolor": "white",
           "linecolor": "white",
           "ticks": "",
           "title": {
            "standoff": 15
           },
           "zerolinecolor": "white",
           "zerolinewidth": 2
          },
          "yaxis": {
           "automargin": true,
           "gridcolor": "white",
           "linecolor": "white",
           "ticks": "",
           "title": {
            "standoff": 15
           },
           "zerolinecolor": "white",
           "zerolinewidth": 2
          }
         }
        },
        "title": {
         "text": "<b>Crescimento de R$ 1,00 (Patrimônio Real)</b>"
        },
        "xaxis": {
         "tickangle": 0,
         "tickformat": "%b %Y"
        },
        "yaxis": {
         "title": {
          "text": "Patrimônio Acumulado (R$)"
         }
        }
       }
      }
     },
     "metadata": {},
     "output_type": "display_data"
    },
    {
     "data": {
      "image/png": "[encoded data removed]",
      "text/plain": [
       "<IPython.core.display.Image object>"
      ]
     },
     "metadata": {},
     "output_type": "display_data"
    }
   ],
   "source": [
    "# Supondo que 'df_retornos' (com os retornos excedentes das estratégias),\n",
    "# 'selic_mensal', 'ibov_retornos_brutos' (brutos) e 'indice_backtest' já existem.\n",
    "\n",
    "import plotly.io as pio\n",
    "from IPython.display import Image, display\n",
    "\n",
    "# Fatia a Selic para o período do backtest\n",
    "selic_fatiada = selic_mensal.loc[indice_backtest]\n",
    "\n",
    "# Adiciona a Selic de volta aos retornos excedentes para obter os retornos brutos das estratégias\n",
    "df_retornos_brutos = df_retornos.add(selic_fatiada['Taxa_Livre_Risco'], axis=0)\n",
    "\n",
    "# Fatia os retornos brutos do Ibovespa para o mesmo período\n",
    "ibov_retornos_brutos_fatiado = ibov_retornos_brutos.loc[indice_backtest]\n",
    "\n",
    "\n",
    "# --- A CORREÇÃO ESTÁ AQUI ---\n",
    "# Adicionamos a série de retornos do Ibovespa como uma nova coluna\n",
    "# ao DataFrame que será usado para o gráfico.\n",
    "df_retornos_brutos['Ibovespa'] = ibov_retornos_brutos_fatiado\n",
    "# ---------------------------\n",
    "\n",
    "\n",
    "print(\"\\n--- Gráfico 1: Curva de Patrimônio Real (Baseado nos Retornos Brutos) ---\")\n",
    "df_acumulado_bruto = (1 + df_retornos_brutos).cumprod()\n",
    "\n",
    "# ✅ Força o índice a ser datetime\n",
    "df_acumulado_bruto = (1 + df_retornos_brutos).cumprod()\n",
    "\n",
    "# Converte o índice para datetime (caso ainda não seja)\n",
    "df_acumulado_bruto.index = pd.to_datetime(df_acumulado_bruto.index)\n",
    "\n",
    "# Cria lista de datas explícitas\n",
    "datas = df_acumulado_bruto.index.tolist()\n",
    "\n",
    "fig_bruto = go.Figure()\n",
    "for col in df_acumulado_bruto.columns:\n",
    "    fig_bruto.add_trace(\n",
    "        go.Scatter(\n",
    "            x=datas,  # usa lista explícita de datas\n",
    "            y=df_acumulado_bruto[col],\n",
    "            mode='lines',\n",
    "            name=col\n",
    "        )\n",
    "    )\n",
    "\n",
    "fig_bruto.update_layout(\n",
    "    title_text='<b>Crescimento de R$ 1,00 (Patrimônio Real)</b>',\n",
    "    yaxis_title='Patrimônio Acumulado (R$)',\n",
    "    legend_title='Estratégia',\n",
    "    xaxis=dict(\n",
    "        tickformat=\"%b %Y\",  # exibe mês abreviado + ano\n",
    "        tickangle=0\n",
    "    )\n",
    ")\n",
    "\n",
    "# Gráfico interativo\n",
    "fig_bruto.show()\n",
    "\n",
    "# Salva o PNG\n",
    "png_path = \"grafico_patrimonio_real.png\"\n",
    "pio.write_image(fig_bruto, png_path, width=1200, height=800)\n",
    "\n",
    "# Exibe o PNG no notebook\n",
    "display(Image(filename=png_path))\n"
   ]
  },
  {
   "cell_type": "code",
   "execution_count": 32,
   "id": "41a47fdd",
   "metadata": {},
   "outputs": [
    {
     "name": "stdout",
     "output_type": "stream",
     "text": [
      "\n",
      "--- Gráfico de Índice Sharpe Móvel (Janela de 12 Meses) ---\n"
     ]
    },
    {
     "data": {
      "application/vnd.plotly.v1+json": {
       "config": {
        "plotlyServerURL": "https://plot.ly"
       },
       "data": [
        {
         "mode": "lines",
         "name": "1",
         "type": "scatter",
         "x": [
          "2023-06-30T00:00:00",
          "2023-07-31T00:00:00",
          "2023-08-31T00:00:00",
          "2023-09-30T00:00:00",
          "2023-10-31T00:00:00",
          "2023-11-30T00:00:00",
          "2023-12-31T00:00:00",
          "2024-01-31T00:00:00",
          "2024-02-29T00:00:00",
          "2024-03-31T00:00:00",
          "2024-04-30T00:00:00",
          "2024-05-31T00:00:00",
          "2024-06-30T00:00:00",
          "2024-07-31T00:00:00",
          "2024-08-31T00:00:00",
          "2024-09-30T00:00:00",
          "2024-10-31T00:00:00",
          "2024-11-30T00:00:00",
          "2024-12-31T00:00:00",
          "2025-01-31T00:00:00",
          "2025-02-28T00:00:00",
          "2025-03-31T00:00:00",
          "2025-04-30T00:00:00",
          "2025-05-31T00:00:00",
          "2025-06-30T00:00:00"
         ],
         "y": {
          "bdata": "FELolitU3T/AOHkY3f/gP3Ok2uVbF58/d2gGTc+Qxr9ba4UGWg7hv6Wa3mvfyds/fBfX263I7D/C99tyQK3fP7q5zTWbfu4/qiIm8Vkf8D+cX9Y1fyrxP6EyKS/treE/1NEgXcC32T/UgrHL/pHYP4xbiG8QuvU/yphbdPuX8D81rLfbp4nxP1AwdZU+mbM/QRDQThYF6L8ELJb8ZEK6v7S7BUZ0dOO/ktkGxZTrsr+HOOu9cnLUvyDsdWXIBc6/u4IF3e/K2r8=",
          "dtype": "f8"
         }
        },
        {
         "mode": "lines",
         "name": "2",
         "type": "scatter",
         "x": [
          "2023-06-30T00:00:00",
          "2023-07-31T00:00:00",
          "2023-08-31T00:00:00",
          "2023-09-30T00:00:00",
          "2023-10-31T00:00:00",
          "2023-11-30T00:00:00",
          "2023-12-31T00:00:00",
          "2024-01-31T00:00:00",
          "2024-02-29T00:00:00",
          "2024-03-31T00:00:00",
          "2024-04-30T00:00:00",
          "2024-05-31T00:00:00",
          "2024-06-30T00:00:00",
          "2024-07-31T00:00:00",
          "2024-08-31T00:00:00",
          "2024-09-30T00:00:00",
          "2024-10-31T00:00:00",
          "2024-11-30T00:00:00",
          "2024-12-31T00:00:00",
          "2025-01-31T00:00:00",
          "2025-02-28T00:00:00",
          "2025-03-31T00:00:00",
          "2025-04-30T00:00:00",
          "2025-05-31T00:00:00",
          "2025-06-30T00:00:00"
         ],
         "y": {
          "bdata": "npGkGUz33z+EKRlf5QLZP7m4EgewX9W/jsLGYacl2b/nbHnaZm/lv4b68coeHNU/4854zstf5z+9Z76uo5rQP7yHCpe4tuU/Jd7MDJzc7D8daemLrhHoP53vSDaURtU/VojP2jv7tz+s/SJ8TwWIP5Pt52JUMes/qqiqSDgV5j+0CVYKhFjmP6YKJx9knNm/HEDmuZ27878S4X+hZCbYvzQxY3ZKNeu/ktm32YOb0r84uMLOJlLev0ROi+IMtN6/WUT5UgUC5r8=",
          "dtype": "f8"
         }
        },
        {
         "mode": "lines",
         "name": "3",
         "type": "scatter",
         "x": [
          "2023-06-30T00:00:00",
          "2023-07-31T00:00:00",
          "2023-08-31T00:00:00",
          "2023-09-30T00:00:00",
          "2023-10-31T00:00:00",
          "2023-11-30T00:00:00",
          "2023-12-31T00:00:00",
          "2024-01-31T00:00:00",
          "2024-02-29T00:00:00",
          "2024-03-31T00:00:00",
          "2024-04-30T00:00:00",
          "2024-05-31T00:00:00",
          "2024-06-30T00:00:00",
          "2024-07-31T00:00:00",
          "2024-08-31T00:00:00",
          "2024-09-30T00:00:00",
          "2024-10-31T00:00:00",
          "2024-11-30T00:00:00",
          "2024-12-31T00:00:00",
          "2025-01-31T00:00:00",
          "2025-02-28T00:00:00",
          "2025-03-31T00:00:00",
          "2025-04-30T00:00:00",
          "2025-05-31T00:00:00",
          "2025-06-30T00:00:00"
         ],
         "y": {
          "bdata": "W1xmzONE6D8S9LQW2k7mPyoULBrYV68/4iSiOrvVlL9dYPNZ1bTSv46sVQaFSOI/KaNNbE9q8D+kje1am2/iP07YnwKTufA/VTbQ212P8j/rCvT+CzP0P4RxHpf0Xec/CtmqK4wQ4D8pRZ15B47cP5wy+McnJfY/GV9S747H8T+uMWkteB/xP7n9fpyOwME/iVvvXiBQ6L911wkQJmSSv7PBubmVVeC/cUHAsNcuu795scH0n5/Sv5Z9oyDNX9C/WxBcsPFY378=",
          "dtype": "f8"
         }
        },
        {
         "mode": "lines",
         "name": "-1",
         "type": "scatter",
         "x": [
          "2023-06-30T00:00:00",
          "2023-07-31T00:00:00",
          "2023-08-31T00:00:00",
          "2023-09-30T00:00:00",
          "2023-10-31T00:00:00",
          "2023-11-30T00:00:00",
          "2023-12-31T00:00:00",
          "2024-01-31T00:00:00",
          "2024-02-29T00:00:00",
          "2024-03-31T00:00:00",
          "2024-04-30T00:00:00",
          "2024-05-31T00:00:00",
          "2024-06-30T00:00:00",
          "2024-07-31T00:00:00",
          "2024-08-31T00:00:00",
          "2024-09-30T00:00:00",
          "2024-10-31T00:00:00",
          "2024-11-30T00:00:00",
          "2024-12-31T00:00:00",
          "2025-01-31T00:00:00",
          "2025-02-28T00:00:00",
          "2025-03-31T00:00:00",
          "2025-04-30T00:00:00",
          "2025-05-31T00:00:00",
          "2025-06-30T00:00:00"
         ],
         "y": {
          "bdata": "uWsWqLUazT9Jumz7wy3MP3fCjraxLNq/isV3JyPC3b9pR+5YK4D3v7g3Vbjoc+G/KqUV98IWyb+YHL7zFH/mv/DH0NVdts6/ru5hjCXXtL9VHlKC8m6lvzGXlGid67m/Hj0qyKB/xr+b61E2nBeqv+ldquNPouk/SZuVrGUC6j+v+7lY8rrxPyrJaPN7lNw/WPNPLv8rsr/n7a0J+YfjP166KrRurse/tq+7PivHyL+zAVc08Pavv2ZxjlXTRKy/o1uMM3nZ278=",
          "dtype": "f8"
         }
        },
        {
         "mode": "lines",
         "name": "-2",
         "type": "scatter",
         "x": [
          "2023-06-30T00:00:00",
          "2023-07-31T00:00:00",
          "2023-08-31T00:00:00",
          "2023-09-30T00:00:00",
          "2023-10-31T00:00:00",
          "2023-11-30T00:00:00",
          "2023-12-31T00:00:00",
          "2024-01-31T00:00:00",
          "2024-02-29T00:00:00",
          "2024-03-31T00:00:00",
          "2024-04-30T00:00:00",
          "2024-05-31T00:00:00",
          "2024-06-30T00:00:00",
          "2024-07-31T00:00:00",
          "2024-08-31T00:00:00",
          "2024-09-30T00:00:00",
          "2024-10-31T00:00:00",
          "2024-11-30T00:00:00",
          "2024-12-31T00:00:00",
          "2025-01-31T00:00:00",
          "2025-02-28T00:00:00",
          "2025-03-31T00:00:00",
          "2025-04-30T00:00:00",
          "2025-05-31T00:00:00",
          "2025-06-30T00:00:00"
         ],
         "y": {
          "bdata": "IVjnWusi0j/KQyyO+JXRP8G91gSatdi/lJp3atmm3r9ZUwA+uEn7vz9vayCBoOe/jQ6vMI8z1L87ir/2tTTrv2Hs/4DfgNS/jpdf0s9jxL8bI6guluu7v51lSZ4tAcS/MTWrE6M5p7+hx4/+LYHFP8UOlzYkqO8/huLYK1aU7z/k3upq37L1Pyk/r66ge+k/qcEiuotP1D87EHaRV9DwP71hykhoUbQ/OxMAiH8Vs78lyYye5MOLvzksEKOp/zy/nQw7e7+P2L8=",
          "dtype": "f8"
         }
        },
        {
         "mode": "lines",
         "name": "Ibovespa",
         "type": "scatter",
         "x": [
          "2023-06-30T00:00:00",
          "2023-07-31T00:00:00",
          "2023-08-31T00:00:00",
          "2023-09-30T00:00:00",
          "2023-10-31T00:00:00",
          "2023-11-30T00:00:00",
          "2023-12-31T00:00:00",
          "2024-01-31T00:00:00",
          "2024-02-29T00:00:00",
          "2024-03-31T00:00:00",
          "2024-04-30T00:00:00",
          "2024-05-31T00:00:00",
          "2024-06-30T00:00:00",
          "2024-07-31T00:00:00",
          "2024-08-31T00:00:00",
          "2024-09-30T00:00:00",
          "2024-10-31T00:00:00",
          "2024-11-30T00:00:00",
          "2024-12-31T00:00:00",
          "2025-01-31T00:00:00",
          "2025-02-28T00:00:00",
          "2025-03-31T00:00:00",
          "2025-04-30T00:00:00",
          "2025-05-31T00:00:00",
          "2025-06-30T00:00:00"
         ],
         "y": {
          "bdata": "QGMPQ5Pk1D/6ez8FAjLPP54taI+S4tu/X+xA2wqR2r/JIeMT8Eruv1SfxOuW4n2/eOxXbp9Q2T89/g8FnbiKvy536huQBt4/02uIvGwf5D8QxyjV7NnYP8FOBB0/BKA/3vNih+kj2L+b+IUzzHLYv82eu0c2ZNU/iPXD2LuNuj8MBhXB16TIP7RFfTAGQu6/fc6oxeGR/b9Lw9CR77Dvv/y5+SqSsvS/uBtjhqd15b+/wYNqOSrSv8s9xXVWe5g/4pV263fKhb8=",
          "dtype": "f8"
         }
        }
       ],
       "layout": {
        "legend": {
         "title": {
          "text": "Estratégia"
         }
        },
        "shapes": [
         {
          "line": {
           "color": "grey",
           "dash": "dash",
           "width": 1
          },
          "type": "line",
          "x0": 0,
          "x1": 1,
          "xref": "x domain",
          "y0": 0,
          "y1": 0,
          "yref": "y"
         }
        ],
        "template": {
         "data": {
          "bar": [
           {
            "error_x": {
             "color": "#2a3f5f"
            },
            "error_y": {
             "color": "#2a3f5f"
            },
            "marker": {
             "line": {
              "color": "#E5ECF6",
              "width": 0.5
             },
             "pattern": {
              "fillmode": "overlay",
              "size": 10,
              "solidity": 0.2
             }
            },
            "type": "bar"
           }
          ],
          "barpolar": [
           {
            "marker": {
             "line": {
              "color": "#E5ECF6",
              "width": 0.5
             },
             "pattern": {
              "fillmode": "overlay",
              "size": 10,
              "solidity": 0.2
             }
            },
            "type": "barpolar"
           }
          ],
          "carpet": [
           {
            "aaxis": {
             "endlinecolor": "#2a3f5f",
             "gridcolor": "white",
             "linecolor": "white",
             "minorgridcolor": "white",
             "startlinecolor": "#2a3f5f"
            },
            "baxis": {
             "endlinecolor": "#2a3f5f",
             "gridcolor": "white",
             "linecolor": "white",
             "minorgridcolor": "white",
             "startlinecolor": "#2a3f5f"
            },
            "type": "carpet"
           }
          ],
          "choropleth": [
           {
            "colorbar": {
             "outlinewidth": 0,
             "ticks": ""
            },
            "type": "choropleth"
           }
          ],
          "contour": [
           {
            "colorbar": {
             "outlinewidth": 0,
             "ticks": ""
            },
            "colorscale": [
             [
              0,
              "#0d0887"
             ],
             [
              0.1111111111111111,
              "#46039f"
             ],
             [
              0.2222222222222222,
              "#7201a8"
             ],
             [
              0.3333333333333333,
              "#9c179e"
             ],
             [
              0.4444444444444444,
              "#bd3786"
             ],
             [
              0.5555555555555556,
              "#d8576b"
             ],
             [
              0.6666666666666666,
              "#ed7953"
             ],
             [
              0.7777777777777778,
              "#fb9f3a"
             ],
             [
              0.8888888888888888,
              "#fdca26"
             ],
             [
              1,
              "#f0f921"
             ]
            ],
            "type": "contour"
           }
          ],
          "contourcarpet": [
           {
            "colorbar": {
             "outlinewidth": 0,
             "ticks": ""
            },
            "type": "contourcarpet"
           }
          ],
          "heatmap": [
           {
            "colorbar": {
             "outlinewidth": 0,
             "ticks": ""
            },
            "colorscale": [
             [
              0,
              "#0d0887"
             ],
             [
              0.1111111111111111,
              "#46039f"
             ],
             [
              0.2222222222222222,
              "#7201a8"
             ],
             [
              0.3333333333333333,
              "#9c179e"
             ],
             [
              0.4444444444444444,
              "#bd3786"
             ],
             [
              0.5555555555555556,
              "#d8576b"
             ],
             [
              0.6666666666666666,
              "#ed7953"
             ],
             [
              0.7777777777777778,
              "#fb9f3a"
             ],
             [
              0.8888888888888888,
              "#fdca26"
             ],
             [
              1,
              "#f0f921"
             ]
            ],
            "type": "heatmap"
           }
          ],
          "histogram": [
           {
            "marker": {
             "pattern": {
              "fillmode": "overlay",
              "size": 10,
              "solidity": 0.2
             }
            },
            "type": "histogram"
           }
          ],
          "histogram2d": [
           {
            "colorbar": {
             "outlinewidth": 0,
             "ticks": ""
            },
            "colorscale": [
             [
              0,
              "#0d0887"
             ],
             [
              0.1111111111111111,
              "#46039f"
             ],
             [
              0.2222222222222222,
              "#7201a8"
             ],
             [
              0.3333333333333333,
              "#9c179e"
             ],
             [
              0.4444444444444444,
              "#bd3786"
             ],
             [
              0.5555555555555556,
              "#d8576b"
             ],
             [
              0.6666666666666666,
              "#ed7953"
             ],
             [
              0.7777777777777778,
              "#fb9f3a"
             ],
             [
              0.8888888888888888,
              "#fdca26"
             ],
             [
              1,
              "#f0f921"
             ]
            ],
            "type": "histogram2d"
           }
          ],
          "histogram2dcontour": [
           {
            "colorbar": {
             "outlinewidth": 0,
             "ticks": ""
            },
            "colorscale": [
             [
              0,
              "#0d0887"
             ],
             [
              0.1111111111111111,
              "#46039f"
             ],
             [
              0.2222222222222222,
              "#7201a8"
             ],
             [
              0.3333333333333333,
              "#9c179e"
             ],
             [
              0.4444444444444444,
              "#bd3786"
             ],
             [
              0.5555555555555556,
              "#d8576b"
             ],
             [
              0.6666666666666666,
              "#ed7953"
             ],
             [
              0.7777777777777778,
              "#fb9f3a"
             ],
             [
              0.8888888888888888,
              "#fdca26"
             ],
             [
              1,
              "#f0f921"
             ]
            ],
            "type": "histogram2dcontour"
           }
          ],
          "mesh3d": [
           {
            "colorbar": {
             "outlinewidth": 0,
             "ticks": ""
            },
            "type": "mesh3d"
           }
          ],
          "parcoords": [
           {
            "line": {
             "colorbar": {
              "outlinewidth": 0,
              "ticks": ""
             }
            },
            "type": "parcoords"
           }
          ],
          "pie": [
           {
            "automargin": true,
            "type": "pie"
           }
          ],
          "scatter": [
           {
            "fillpattern": {
             "fillmode": "overlay",
             "size": 10,
             "solidity": 0.2
            },
            "type": "scatter"
           }
          ],
          "scatter3d": [
           {
            "line": {
             "colorbar": {
              "outlinewidth": 0,
              "ticks": ""
             }
            },
            "marker": {
             "colorbar": {
              "outlinewidth": 0,
              "ticks": ""
             }
            },
            "type": "scatter3d"
           }
          ],
          "scattercarpet": [
           {
            "marker": {
             "colorbar": {
              "outlinewidth": 0,
              "ticks": ""
             }
            },
            "type": "scattercarpet"
           }
          ],
          "scattergeo": [
           {
            "marker": {
             "colorbar": {
              "outlinewidth": 0,
              "ticks": ""
             }
            },
            "type": "scattergeo"
           }
          ],
          "scattergl": [
           {
            "marker": {
             "colorbar": {
              "outlinewidth": 0,
              "ticks": ""
             }
            },
            "type": "scattergl"
           }
          ],
          "scattermap": [
           {
            "marker": {
             "colorbar": {
              "outlinewidth": 0,
              "ticks": ""
             }
            },
            "type": "scattermap"
           }
          ],
          "scattermapbox": [
           {
            "marker": {
             "colorbar": {
              "outlinewidth": 0,
              "ticks": ""
             }
            },
            "type": "scattermapbox"
           }
          ],
          "scatterpolar": [
           {
            "marker": {
             "colorbar": {
              "outlinewidth": 0,
              "ticks": ""
             }
            },
            "type": "scatterpolar"
           }
          ],
          "scatterpolargl": [
           {
            "marker": {
             "colorbar": {
              "outlinewidth": 0,
              "ticks": ""
             }
            },
            "type": "scatterpolargl"
           }
          ],
          "scatterternary": [
           {
            "marker": {
             "colorbar": {
              "outlinewidth": 0,
              "ticks": ""
             }
            },
            "type": "scatterternary"
           }
          ],
          "surface": [
           {
            "colorbar": {
             "outlinewidth": 0,
             "ticks": ""
            },
            "colorscale": [
             [
              0,
              "#0d0887"
             ],
             [
              0.1111111111111111,
              "#46039f"
             ],
             [
              0.2222222222222222,
              "#7201a8"
             ],
             [
              0.3333333333333333,
              "#9c179e"
             ],
             [
              0.4444444444444444,
              "#bd3786"
             ],
             [
              0.5555555555555556,
              "#d8576b"
             ],
             [
              0.6666666666666666,
              "#ed7953"
             ],
             [
              0.7777777777777778,
              "#fb9f3a"
             ],
             [
              0.8888888888888888,
              "#fdca26"
             ],
             [
              1,
              "#f0f921"
             ]
            ],
            "type": "surface"
           }
          ],
          "table": [
           {
            "cells": {
             "fill": {
              "color": "#EBF0F8"
             },
             "line": {
              "color": "white"
             }
            },
            "header": {
             "fill": {
              "color": "#C8D4E3"
             },
             "line": {
              "color": "white"
             }
            },
            "type": "table"
           }
          ]
         },
         "layout": {
          "annotationdefaults": {
           "arrowcolor": "#2a3f5f",
           "arrowhead": 0,
           "arrowwidth": 1
          },
          "autotypenumbers": "strict",
          "coloraxis": {
           "colorbar": {
            "outlinewidth": 0,
            "ticks": ""
           }
          },
          "colorscale": {
           "diverging": [
            [
             0,
             "#8e0152"
            ],
            [
             0.1,
             "#c51b7d"
            ],
            [
             0.2,
             "#de77ae"
            ],
            [
             0.3,
             "#f1b6da"
            ],
            [
             0.4,
             "#fde0ef"
            ],
            [
             0.5,
             "#f7f7f7"
            ],
            [
             0.6,
             "#e6f5d0"
            ],
            [
             0.7,
             "#b8e186"
            ],
            [
             0.8,
             "#7fbc41"
            ],
            [
             0.9,
             "#4d9221"
            ],
            [
             1,
             "#276419"
            ]
           ],
           "sequential": [
            [
             0,
             "#0d0887"
            ],
            [
             0.1111111111111111,
             "#46039f"
            ],
            [
             0.2222222222222222,
             "#7201a8"
            ],
            [
             0.3333333333333333,
             "#9c179e"
            ],
            [
             0.4444444444444444,
             "#bd3786"
            ],
            [
             0.5555555555555556,
             "#d8576b"
            ],
            [
             0.6666666666666666,
             "#ed7953"
            ],
            [
             0.7777777777777778,
             "#fb9f3a"
            ],
            [
             0.8888888888888888,
             "#fdca26"
            ],
            [
             1,
             "#f0f921"
            ]
           ],
           "sequentialminus": [
            [
             0,
             "#0d0887"
            ],
            [
             0.1111111111111111,
             "#46039f"
            ],
            [
             0.2222222222222222,
             "#7201a8"
            ],
            [
             0.3333333333333333,
             "#9c179e"
            ],
            [
             0.4444444444444444,
             "#bd3786"
            ],
            [
             0.5555555555555556,
             "#d8576b"
            ],
            [
             0.6666666666666666,
             "#ed7953"
            ],
            [
             0.7777777777777778,
             "#fb9f3a"
            ],
            [
             0.8888888888888888,
             "#fdca26"
            ],
            [
             1,
             "#f0f921"
            ]
           ]
          },
          "colorway": [
           "#636efa",
           "#EF553B",
           "#00cc96",
           "#ab63fa",
           "#FFA15A",
           "#19d3f3",
           "#FF6692",
           "#B6E880",
           "#FF97FF",
           "#FECB52"
          ],
          "font": {
           "color": "#2a3f5f"
          },
          "geo": {
           "bgcolor": "white",
           "lakecolor": "white",
           "landcolor": "#E5ECF6",
           "showlakes": true,
           "showland": true,
           "subunitcolor": "white"
          },
          "hoverlabel": {
           "align": "left"
          },
          "hovermode": "closest",
          "mapbox": {
           "style": "light"
          },
          "paper_bgcolor": "white",
          "plot_bgcolor": "#E5ECF6",
          "polar": {
           "angularaxis": {
            "gridcolor": "white",
            "linecolor": "white",
            "ticks": ""
           },
           "bgcolor": "#E5ECF6",
           "radialaxis": {
            "gridcolor": "white",
            "linecolor": "white",
            "ticks": ""
           }
          },
          "scene": {
           "xaxis": {
            "backgroundcolor": "#E5ECF6",
            "gridcolor": "white",
            "gridwidth": 2,
            "linecolor": "white",
            "showbackground": true,
            "ticks": "",
            "zerolinecolor": "white"
           },
           "yaxis": {
            "backgroundcolor": "#E5ECF6",
            "gridcolor": "white",
            "gridwidth": 2,
            "linecolor": "white",
            "showbackground": true,
            "ticks": "",
            "zerolinecolor": "white"
           },
           "zaxis": {
            "backgroundcolor": "#E5ECF6",
            "gridcolor": "white",
            "gridwidth": 2,
            "linecolor": "white",
            "showbackground": true,
            "ticks": "",
            "zerolinecolor": "white"
           }
          },
          "shapedefaults": {
           "line": {
            "color": "#2a3f5f"
           }
          },
          "ternary": {
           "aaxis": {
            "gridcolor": "white",
            "linecolor": "white",
            "ticks": ""
           },
           "baxis": {
            "gridcolor": "white",
            "linecolor": "white",
            "ticks": ""
           },
           "bgcolor": "#E5ECF6",
           "caxis": {
            "gridcolor": "white",
            "linecolor": "white",
            "ticks": ""
           }
          },
          "title": {
           "x": 0.05
          },
          "xaxis": {
           "automargin": true,
           "gridcolor": "white",
           "linecolor": "white",
           "ticks": "",
           "title": {
            "standoff": 15
           },
           "zerolinecolor": "white",
           "zerolinewidth": 2
          },
          "yaxis": {
           "automargin": true,
           "gridcolor": "white",
           "linecolor": "white",
           "ticks": "",
           "title": {
            "standoff": 15
           },
           "zerolinecolor": "white",
           "zerolinewidth": 2
          }
         }
        },
        "title": {
         "text": "<b>Índice Sharpe Móvel Anualizado (Janela de 12 Meses)</b>"
        },
        "xaxis": {
         "title": {
          "text": "Data"
         }
        },
        "yaxis": {
         "title": {
          "text": "Índice Sharpe Anualizado"
         }
        }
       }
      }
     },
     "metadata": {},
     "output_type": "display_data"
    }
   ],
   "source": [
    "# --- 1. CÁLCULO DO SHARPE MÓVEL ---\n",
    "\n",
    "# Define a janela de cálculo. 12 meses (1 ano) é um padrão comum.\n",
    "janela_movel = 12\n",
    "\n",
    "# Calcula a média móvel dos retornos\n",
    "retornos_moveis = df_retornos.rolling(window=janela_movel).mean()\n",
    "\n",
    "# Calcula o desvio padrão móvel (volatilidade) dos retornos\n",
    "volatilidade_movel = df_retornos.rolling(window=janela_movel).std()\n",
    "\n",
    "# Calcula o Sharpe Ratio Móvel e o anualiza para melhor interpretação\n",
    "# (Multiplicamos pela raiz quadrada de 12 para anualizar)\n",
    "sharpe_movel_anualizado = (retornos_moveis / volatilidade_movel) * np.sqrt(12)\n",
    "\n",
    "# Remove os NaNs iniciais (os 11 primeiros meses não têm dados suficientes)\n",
    "sharpe_movel_anualizado = sharpe_movel_anualizado.dropna()\n",
    "\n",
    "\n",
    "# --- 2. PLOTAGEM DO GRÁFICO ---\n",
    "\n",
    "print(\"\\n--- Gráfico de Índice Sharpe Móvel (Janela de 12 Meses) ---\")\n",
    "\n",
    "fig = go.Figure()\n",
    "\n",
    "# Adiciona uma linha para cada estratégia no DataFrame\n",
    "for estrategia in sharpe_movel_anualizado.columns:\n",
    "    fig.add_trace(go.Scatter(\n",
    "        x=sharpe_movel_anualizado.index,    # Eixo X = Datas\n",
    "        y=sharpe_movel_anualizado[estrategia], # Eixo Y = Valores do Sharpe\n",
    "        mode='lines',\n",
    "        name=estrategia\n",
    "    ))\n",
    "\n",
    "# Adiciona uma linha horizontal em y=0 para referência\n",
    "fig.add_hline(y=0, line_width=1, line_dash=\"dash\", line_color=\"grey\")\n",
    "\n",
    "fig.update_layout(\n",
    "    title_text=\"<b>Índice Sharpe Móvel Anualizado (Janela de 12 Meses)</b>\",\n",
    "    yaxis_title=\"Índice Sharpe Anualizado\",\n",
    "    xaxis_title=\"Data\",\n",
    "    legend_title=\"Estratégia\"\n",
    ")\n",
    "\n",
    "fig.show()"
   ]
  },
  {
   "cell_type": "code",
   "execution_count": 33,
   "id": "9263f250",
   "metadata": {},
   "outputs": [
    {
     "name": "stdout",
     "output_type": "stream",
     "text": [
      "Requirement already satisfied: statsmodels in ./.venv/lib/python3.12/site-packages (0.14.5)\n",
      "Requirement already satisfied: numpy<3,>=1.22.3 in ./.venv/lib/python3.12/site-packages (from statsmodels) (2.3.3)\n",
      "Requirement already satisfied: scipy!=1.9.2,>=1.8 in ./.venv/lib/python3.12/site-packages (from statsmodels) (1.16.2)\n",
      "Requirement already satisfied: pandas!=2.1.0,>=1.4 in ./.venv/lib/python3.12/site-packages (from statsmodels) (2.3.2)\n",
      "Requirement already satisfied: patsy>=0.5.6 in ./.venv/lib/python3.12/site-packages (from statsmodels) (1.0.1)\n",
      "Requirement already satisfied: packaging>=21.3 in ./.venv/lib/python3.12/site-packages (from statsmodels) (25.0)\n",
      "Requirement already satisfied: python-dateutil>=2.8.2 in ./.venv/lib/python3.12/site-packages (from pandas!=2.1.0,>=1.4->statsmodels) (2.9.0.post0)\n",
      "Requirement already satisfied: pytz>=2020.1 in ./.venv/lib/python3.12/site-packages (from pandas!=2.1.0,>=1.4->statsmodels) (2025.2)\n",
      "Requirement already satisfied: tzdata>=2022.7 in ./.venv/lib/python3.12/site-packages (from pandas!=2.1.0,>=1.4->statsmodels) (2025.2)\n",
      "Requirement already satisfied: six>=1.5 in ./.venv/lib/python3.12/site-packages (from python-dateutil>=2.8.2->pandas!=2.1.0,>=1.4->statsmodels) (1.17.0)\n",
      "Note: you may need to restart the kernel to use updated packages.\n"
     ]
    }
   ],
   "source": [
    "pip install statsmodels\n"
   ]
  },
  {
   "cell_type": "code",
   "execution_count": 35,
   "id": "2aa0c89f",
   "metadata": {},
   "outputs": [
    {
     "name": "stdout",
     "output_type": "stream",
     "text": [
      "\n",
      "--- Análise de Regressão para a Estratégia: BL com RF ---\n",
      "                            OLS Regression Results                            \n",
      "==============================================================================\n",
      "Dep. Variable:                      y   R-squared:                       0.762\n",
      "Model:                            OLS   Adj. R-squared:                  0.755\n",
      "Method:                 Least Squares   F-statistic:                     109.0\n",
      "Date:                Sat, 04 Oct 2025   Prob (F-statistic):           3.84e-12\n",
      "Time:                        15:53:12   Log-Likelihood:                 90.972\n",
      "No. Observations:                  36   AIC:                            -177.9\n",
      "Df Residuals:                      34   BIC:                            -174.8\n",
      "Df Model:                           1                                         \n",
      "Covariance Type:            nonrobust                                         \n",
      "==============================================================================\n",
      "                 coef    std err          t      P>|t|      [0.025      0.975]\n",
      "------------------------------------------------------------------------------\n",
      "const          0.0018      0.003      0.544      0.590      -0.005       0.009\n",
      "0              0.8053      0.077     10.438      0.000       0.649       0.962\n",
      "==============================================================================\n",
      "Omnibus:                        0.338   Durbin-Watson:                   2.416\n",
      "Prob(Omnibus):                  0.845   Jarque-Bera (JB):                0.094\n",
      "Skew:                          -0.125   Prob(JB):                        0.954\n",
      "Kurtosis:                       2.989   Cond. No.                         23.3\n",
      "==============================================================================\n",
      "\n",
      "Notes:\n",
      "[1] Standard Errors assume that the covariance matrix of the errors is correctly specified.\n",
      "\n",
      "Alfa Mensal (habilidade do gestor): 0.1803%\n",
      "Beta (exposição ao mercado): 0.8053\n",
      "-> O Alfa não é estatisticamente significante (p >= 0.05), indicando que o desempenho pode ser atribuído ao acaso. ❌\n",
      "\n",
      "--- Análise de Regressão para a Estratégia: BL com LR ---\n",
      "                            OLS Regression Results                            \n",
      "==============================================================================\n",
      "Dep. Variable:                      y   R-squared:                       0.813\n",
      "Model:                            OLS   Adj. R-squared:                  0.808\n",
      "Method:                 Least Squares   F-statistic:                     148.1\n",
      "Date:                Sat, 04 Oct 2025   Prob (F-statistic):           6.07e-14\n",
      "Time:                        15:53:12   Log-Likelihood:                 94.094\n",
      "No. Observations:                  36   AIC:                            -184.2\n",
      "Df Residuals:                      34   BIC:                            -181.0\n",
      "Df Model:                           1                                         \n",
      "Covariance Type:            nonrobust                                         \n",
      "==============================================================================\n",
      "                 coef    std err          t      P>|t|      [0.025      0.975]\n",
      "------------------------------------------------------------------------------\n",
      "const         -0.0002      0.003     -0.061      0.952      -0.006       0.006\n",
      "0              0.8610      0.071     12.172      0.000       0.717       1.005\n",
      "==============================================================================\n",
      "Omnibus:                       15.716   Durbin-Watson:                   1.624\n",
      "Prob(Omnibus):                  0.000   Jarque-Bera (JB):               18.495\n",
      "Skew:                          -1.319   Prob(JB):                     9.64e-05\n",
      "Kurtosis:                       5.317   Cond. No.                         23.3\n",
      "==============================================================================\n",
      "\n",
      "Notes:\n",
      "[1] Standard Errors assume that the covariance matrix of the errors is correctly specified.\n",
      "\n",
      "Alfa Mensal (habilidade do gestor): -0.0185%\n",
      "Beta (exposição ao mercado): 0.8610\n",
      "-> O Alfa não é estatisticamente significante (p >= 0.05), indicando que o desempenho pode ser atribuído ao acaso. ❌\n",
      "\n",
      "--- Análise de Regressão para a Estratégia: BL Híbrido ---\n",
      "                            OLS Regression Results                            \n",
      "==============================================================================\n",
      "Dep. Variable:                      y   R-squared:                       0.797\n",
      "Model:                            OLS   Adj. R-squared:                  0.791\n",
      "Method:                 Least Squares   F-statistic:                     133.2\n",
      "Date:                Sat, 04 Oct 2025   Prob (F-statistic):           2.64e-13\n",
      "Time:                        15:53:12   Log-Likelihood:                 93.947\n",
      "No. Observations:                  36   AIC:                            -183.9\n",
      "Df Residuals:                      34   BIC:                            -180.7\n",
      "Df Model:                           1                                         \n",
      "Covariance Type:            nonrobust                                         \n",
      "==============================================================================\n",
      "                 coef    std err          t      P>|t|      [0.025      0.975]\n",
      "------------------------------------------------------------------------------\n",
      "const          0.0033      0.003      1.080      0.288      -0.003       0.010\n",
      "0              0.8197      0.071     11.540      0.000       0.675       0.964\n",
      "==============================================================================\n",
      "Omnibus:                        0.542   Durbin-Watson:                   1.978\n",
      "Prob(Omnibus):                  0.762   Jarque-Bera (JB):                0.665\n",
      "Skew:                          -0.172   Prob(JB):                        0.717\n",
      "Kurtosis:                       2.430   Cond. No.                         23.3\n",
      "==============================================================================\n",
      "\n",
      "Notes:\n",
      "[1] Standard Errors assume that the covariance matrix of the errors is correctly specified.\n",
      "\n",
      "Alfa Mensal (habilidade do gestor): 0.3296%\n",
      "Beta (exposição ao mercado): 0.8197\n",
      "-> O Alfa não é estatisticamente significante (p >= 0.05), indicando que o desempenho pode ser atribuído ao acaso. ❌\n",
      "\n",
      "--- Análise de Regressão para a Estratégia: Eficiência Reamostrada ---\n",
      "                            OLS Regression Results                            \n",
      "==============================================================================\n",
      "Dep. Variable:                      y   R-squared:                       0.650\n",
      "Model:                            OLS   Adj. R-squared:                  0.640\n",
      "Method:                 Least Squares   F-statistic:                     63.17\n",
      "Date:                Sat, 04 Oct 2025   Prob (F-statistic):           2.93e-09\n",
      "Time:                        15:53:12   Log-Likelihood:                 79.937\n",
      "No. Observations:                  36   AIC:                            -155.9\n",
      "Df Residuals:                      34   BIC:                            -152.7\n",
      "Df Model:                           1                                         \n",
      "Covariance Type:            nonrobust                                         \n",
      "==============================================================================\n",
      "                 coef    std err          t      P>|t|      [0.025      0.975]\n",
      "------------------------------------------------------------------------------\n",
      "const         -0.0013      0.005     -0.297      0.769      -0.010       0.008\n",
      "0              0.8331      0.105      7.948      0.000       0.620       1.046\n",
      "==============================================================================\n",
      "Omnibus:                        0.079   Durbin-Watson:                   1.628\n",
      "Prob(Omnibus):                  0.961   Jarque-Bera (JB):                0.271\n",
      "Skew:                          -0.070   Prob(JB):                        0.873\n",
      "Kurtosis:                       2.598   Cond. No.                         23.3\n",
      "==============================================================================\n",
      "\n",
      "Notes:\n",
      "[1] Standard Errors assume that the covariance matrix of the errors is correctly specified.\n",
      "\n",
      "Alfa Mensal (habilidade do gestor): -0.1336%\n",
      "Beta (exposição ao mercado): 0.8331\n",
      "-> O Alfa não é estatisticamente significante (p >= 0.05), indicando que o desempenho pode ser atribuído ao acaso. ❌\n",
      "\n",
      "--- Análise de Regressão para a Estratégia: Markowitz Clássico ---\n",
      "                            OLS Regression Results                            \n",
      "==============================================================================\n",
      "Dep. Variable:                      y   R-squared:                       0.539\n",
      "Model:                            OLS   Adj. R-squared:                  0.525\n",
      "Method:                 Least Squares   F-statistic:                     39.76\n",
      "Date:                Sat, 04 Oct 2025   Prob (F-statistic):           3.46e-07\n",
      "Time:                        15:53:12   Log-Likelihood:                 71.589\n",
      "No. Observations:                  36   AIC:                            -139.2\n",
      "Df Residuals:                      34   BIC:                            -136.0\n",
      "Df Model:                           1                                         \n",
      "Covariance Type:            nonrobust                                         \n",
      "==============================================================================\n",
      "                 coef    std err          t      P>|t|      [0.025      0.975]\n",
      "------------------------------------------------------------------------------\n",
      "const         -0.0006      0.006     -0.108      0.915      -0.012       0.011\n",
      "0              0.8335      0.132      6.306      0.000       0.565       1.102\n",
      "==============================================================================\n",
      "Omnibus:                        0.049   Durbin-Watson:                   1.448\n",
      "Prob(Omnibus):                  0.976   Jarque-Bera (JB):                0.202\n",
      "Skew:                           0.074   Prob(JB):                        0.904\n",
      "Kurtosis:                       2.665   Cond. No.                         23.3\n",
      "==============================================================================\n",
      "\n",
      "Notes:\n",
      "[1] Standard Errors assume that the covariance matrix of the errors is correctly specified.\n",
      "\n",
      "Alfa Mensal (habilidade do gestor): -0.0611%\n",
      "Beta (exposição ao mercado): 0.8335\n",
      "-> O Alfa não é estatisticamente significante (p >= 0.05), indicando que o desempenho pode ser atribuído ao acaso. ❌\n"
     ]
    }
   ],
   "source": [
    "import statsmodels.api as sm\n",
    "\n",
    "# Supondo que 'resultados_backtest' e 'ibov_retornos_excedentes' já existem\n",
    "# e que 'metodos_a_testar' é o dicionário com os nomes das estratégias\n",
    "\n",
    "# É melhor iterar pelas chaves do dicionário de resultados,\n",
    "# para garantir que só analisamos as estratégias que rodaram com sucesso.\n",
    "for i in resultados_backtest.keys():\n",
    "    print(f\"\\n--- Análise de Regressão para a Estratégia: {metodos_a_testar.get(i, i)} ---\")\n",
    "    \n",
    "    y = resultados_backtest[i]\n",
    "    \n",
    "    # --- A CORREÇÃO ESTÁ AQUI ---\n",
    "    # Alinhamos o X (Ibovespa) para ter exatamente o mesmo índice (datas) que o y (estratégia)\n",
    "    X = ibov_retornos_excedentes.loc[y.index]\n",
    "    # ---------------------------\n",
    "\n",
    "    # Adiciona a constante (para o alfa) ao X já alinhado\n",
    "    X = sm.add_constant(X)\n",
    "    \n",
    "    # Agora a regressão funcionará, pois os índices de y e X são idênticos\n",
    "    modelo = sm.OLS(y, X).fit()\n",
    "\n",
    "    print(modelo.summary()) # Exibe a tabela completa da regressão\n",
    "\n",
    "    # Extrai os parâmetros\n",
    "    alfa_mensal = modelo.params['const']\n",
    "    beta = modelo.params.get(X.columns[1], modelo.params.iloc[1])\n",
    "    \n",
    "    print(f\"\\nAlfa Mensal (habilidade do gestor): {alfa_mensal*100:.4f}%\")\n",
    "    print(f\"Beta (exposição ao mercado): {beta:.4f}\")\n",
    "    \n",
    "    # Interpretação do Alfa\n",
    "    p_valor_alfa = modelo.pvalues['const']\n",
    "    if p_valor_alfa < 0.05:\n",
    "        print(\"-> O Alfa é estatisticamente significante (p < 0.05), indicando que a estratégia gerou um retorno que não é explicado pelo mercado. ✅\")\n",
    "    else:\n",
    "        print(\"-> O Alfa não é estatisticamente significante (p >= 0.05), indicando que o desempenho pode ser atribuído ao acaso. ❌\")"
   ]
  }
 ],
 "metadata": {
  "kernelspec": {
   "display_name": ".venv (3.12.3)",
   "language": "python",
   "name": "python3"
  },
  "language_info": {
   "codemirror_mode": {
    "name": "ipython",
    "version": 3
   },
   "file_extension": ".py",
   "mimetype": "text/x-python",
   "name": "python",
   "nbconvert_exporter": "python",
   "pygments_lexer": "ipython3",
   "version": "3.12.3"
  }
 },
 "nbformat": 4,
 "nbformat_minor": 5
}
